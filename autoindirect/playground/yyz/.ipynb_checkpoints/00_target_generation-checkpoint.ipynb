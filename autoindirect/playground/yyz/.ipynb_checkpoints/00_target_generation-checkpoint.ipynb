{
 "cells": [
  {
   "cell_type": "code",
   "execution_count": 202,
   "metadata": {},
   "outputs": [
    {
     "name": "stderr",
     "output_type": "stream",
     "text": [
      "Columns (21,42,60,61,71,72,122) have mixed types. Specify dtype option on import or set low_memory=False.\n"
     ]
    }
   ],
   "source": [
    "import hashlib\n",
    "\n",
    "df_raw = pd.read_csv('/d/shared/silver_projects_v2/penfed/autoindirectv1/shared_data/equifax/raw/client/data_3rd_party_refi_f_sent_20250523183131.csv')\n",
    "def hash_row(row):\n",
    "    row_string = str(row['Application_Number'])\n",
    "    return hashlib.sha256(row_string.encode()).hexdigest()\n",
    "\n",
    "df_raw['Application_Number_hashed'] = df_raw.apply(hash_row, axis=1)\n",
    "df_raw.to_csv('/d/shared/silver_projects_v2/penfed/autoindirectv1/shared_data/equifax/raw/client/data_3rd_party_refi_f_sent_20250523183131_withhasedappId.csv', index=False)\n"
   ]
  },
  {
   "cell_type": "code",
   "execution_count": 128,
   "metadata": {},
   "outputs": [
    {
     "data": {
      "text/html": [
       "<div>\n",
       "<style scoped>\n",
       "    .dataframe tbody tr th:only-of-type {\n",
       "        vertical-align: middle;\n",
       "    }\n",
       "\n",
       "    .dataframe tbody tr th {\n",
       "        vertical-align: top;\n",
       "    }\n",
       "\n",
       "    .dataframe thead th {\n",
       "        text-align: right;\n",
       "    }\n",
       "</style>\n",
       "<table border=\"1\" class=\"dataframe\">\n",
       "  <thead>\n",
       "    <tr style=\"text-align: right;\">\n",
       "      <th></th>\n",
       "      <th>Feature</th>\n",
       "      <th>Source</th>\n",
       "      <th>Description</th>\n",
       "    </tr>\n",
       "  </thead>\n",
       "  <tbody>\n",
       "    <tr>\n",
       "      <th>0</th>\n",
       "      <td>application_APPMNTHSATADDR</td>\n",
       "      <td>application</td>\n",
       "      <td>APPMNTHSATADDR</td>\n",
       "    </tr>\n",
       "    <tr>\n",
       "      <th>1</th>\n",
       "      <td>application_APPMNTHSATADDRPRV</td>\n",
       "      <td>application</td>\n",
       "      <td>APPMNTHSATADDRPRV</td>\n",
       "    </tr>\n",
       "    <tr>\n",
       "      <th>2</th>\n",
       "      <td>application_APPMNTHSATJOB</td>\n",
       "      <td>application</td>\n",
       "      <td>APPMNTHSATJOB</td>\n",
       "    </tr>\n",
       "    <tr>\n",
       "      <th>3</th>\n",
       "      <td>application_APPMNTHSATJOBPRV</td>\n",
       "      <td>application</td>\n",
       "      <td>APPMNTHSATJOBPRV</td>\n",
       "    </tr>\n",
       "    <tr>\n",
       "      <th>4</th>\n",
       "      <td>application_BUYORRENT</td>\n",
       "      <td>application</td>\n",
       "      <td>BUYORRENT</td>\n",
       "    </tr>\n",
       "    <tr>\n",
       "      <th>...</th>\n",
       "      <td>...</td>\n",
       "      <td>...</td>\n",
       "      <td>...</td>\n",
       "    </tr>\n",
       "    <tr>\n",
       "      <th>167</th>\n",
       "      <td>alternative_attributes_TUAltAttr0148</td>\n",
       "      <td>alternative_attributes</td>\n",
       "      <td>TUAltAttr0148</td>\n",
       "    </tr>\n",
       "    <tr>\n",
       "      <th>168</th>\n",
       "      <td>alternative_attributes_TUAltAttr0240</td>\n",
       "      <td>alternative_attributes</td>\n",
       "      <td>TUAltAttr0240</td>\n",
       "    </tr>\n",
       "    <tr>\n",
       "      <th>169</th>\n",
       "      <td>alternative_attributes_TUAltAttr0248</td>\n",
       "      <td>alternative_attributes</td>\n",
       "      <td>TUAltAttr0248</td>\n",
       "    </tr>\n",
       "    <tr>\n",
       "      <th>170</th>\n",
       "      <td>alternative_attributes_TUAltAttr0258</td>\n",
       "      <td>alternative_attributes</td>\n",
       "      <td>TUAltAttr0258</td>\n",
       "    </tr>\n",
       "    <tr>\n",
       "      <th>171</th>\n",
       "      <td>alternative_attributes_TUAltAttr0320</td>\n",
       "      <td>alternative_attributes</td>\n",
       "      <td>TUAltAttr0320</td>\n",
       "    </tr>\n",
       "  </tbody>\n",
       "</table>\n",
       "<p>172 rows × 3 columns</p>\n",
       "</div>"
      ],
      "text/plain": [
       "                                  Feature                  Source  \\\n",
       "0              application_APPMNTHSATADDR             application   \n",
       "1           application_APPMNTHSATADDRPRV             application   \n",
       "2               application_APPMNTHSATJOB             application   \n",
       "3            application_APPMNTHSATJOBPRV             application   \n",
       "4                   application_BUYORRENT             application   \n",
       "..                                    ...                     ...   \n",
       "167  alternative_attributes_TUAltAttr0148  alternative_attributes   \n",
       "168  alternative_attributes_TUAltAttr0240  alternative_attributes   \n",
       "169  alternative_attributes_TUAltAttr0248  alternative_attributes   \n",
       "170  alternative_attributes_TUAltAttr0258  alternative_attributes   \n",
       "171  alternative_attributes_TUAltAttr0320  alternative_attributes   \n",
       "\n",
       "           Description  \n",
       "0       APPMNTHSATADDR  \n",
       "1    APPMNTHSATADDRPRV  \n",
       "2        APPMNTHSATJOB  \n",
       "3     APPMNTHSATJOBPRV  \n",
       "4            BUYORRENT  \n",
       "..                 ...  \n",
       "167      TUAltAttr0148  \n",
       "168      TUAltAttr0240  \n",
       "169      TUAltAttr0248  \n",
       "170      TUAltAttr0258  \n",
       "171      TUAltAttr0320  \n",
       "\n",
       "[172 rows x 3 columns]"
      ]
     },
     "execution_count": 128,
     "metadata": {},
     "output_type": "execute_result"
    }
   ],
   "source": [
    "import pandas as pd\n",
    "temp = pd.read_feather('/d/shared/silver_projects_v2/reliable/autoloanv1/modeling/model_artifacts/autoloan/exp23/feature_definition.feather')\n",
    "temp"
   ]
  },
  {
   "cell_type": "code",
   "execution_count": 2,
   "metadata": {},
   "outputs": [
    {
     "name": "stderr",
     "output_type": "stream",
     "text": [
      "/tmp/ipykernel_190/3690073898.py:2: DtypeWarning: Columns (21,42,60,61,71,72,122) have mixed types. Specify dtype option on import or set low_memory=False.\n",
      "  df_raw = pd.read_csv('/d/shared/silver_projects_v2/penfed/autoindirectv1/shared_data/equifax/raw/client/data_3rd_party_refi_f_sent_20250523183131.csv')\n"
     ]
    },
    {
     "data": {
      "text/plain": [
       "['First_Name',\n",
       " 'Middle_Name',\n",
       " 'Last_Name',\n",
       " 'Addr1_Line1',\n",
       " 'Addr1_Line2',\n",
       " 'Addr1_City',\n",
       " 'Addr1_State',\n",
       " 'Addr1_Zip5',\n",
       " 'SSN',\n",
       " 'Age',\n",
       " 'DOB',\n",
       " 'Application_Number',\n",
       " 'Application_Date',\n",
       " 'Role_Code',\n",
       " 'Seller_Name',\n",
       " 'Product',\n",
       " 'Application_Status',\n",
       " 'Referral_Reasons',\n",
       " 'Approved Term',\n",
       " 'Funded_Rate',\n",
       " 'Application_Stage',\n",
       " 'Adverse_Action_Reasons',\n",
       " 'Initial_Decision_Status',\n",
       " 'All_in_LTV',\n",
       " 'Front_End_LTV',\n",
       " 'Back_End_LTV',\n",
       " 'LTV_Financed_Amt_Less_Paper',\n",
       " 'LTV_Requested_Amt_Less_Paper_Initial',\n",
       " 'LTV_Requested_Amt_Less_Paper_Current',\n",
       " 'Requested_Amount_Vehicle_Value_Curr',\n",
       " 'LTV_Amt_Financed_Vehicle_Value',\n",
       " 'LTV_Amt_Financed_Less_Paper_Add_Ons_Vehicle_Value',\n",
       " 'Vehicle_Value',\n",
       " 'Amount_Financed',\n",
       " 'Requested_Amount',\n",
       " 'Lenders_Protection_Ordered',\n",
       " 'Loan_Amount',\n",
       " 'Credit_Risk_Score',\n",
       " 'Max_Credit_Risk_Score',\n",
       " 'Employment_Type',\n",
       " 'Combined_Gross_Monthly_Income',\n",
       " 'Gross_Monthly_Income',\n",
       " 'App_Housing_Type',\n",
       " 'App_Housing_Expense',\n",
       " 'Total_Est_Monthly_Pmt',\n",
       " 'Payment_Saving',\n",
       " 'Joint_Same_Address_Flag',\n",
       " 'DTI',\n",
       " 'App_DTI_With_New_Loan_Current',\n",
       " 'Combined_PTI_Funded',\n",
       " 'Combined_PTI_Current',\n",
       " 'App_PTI_Current',\n",
       " 'App_PTI_Funded',\n",
       " 'Current_Decision_Rate',\n",
       " 'Initial_Decision_Rate',\n",
       " 'Initial_Decision_Term',\n",
       " 'Requested_Term',\n",
       " 'Trade_In_Monthly_Payment',\n",
       " 'Vehicle_Mileage',\n",
       " 'Vehicle_Year',\n",
       " 'Lenders_Protection_Status',\n",
       " 'Authorized_Officer',\n",
       " 'Gap_Amt',\n",
       " 'Service_Contract_Amt',\n",
       " 'Trade_In_Financial_Inst',\n",
       " 'Combined_DTI_With_New_Loan_Current',\n",
       " 'Combined_Housing_Expense',\n",
       " 'Final_Payment',\n",
       " 'PenFed_Funded',\n",
       " 'ils_account_nbr',\n",
       " 'Funded_Date',\n",
       " 'Lendpro_Cert_no',\n",
       " 'il_lntypcd',\n",
       " 'fraud_3rd_party',\n",
       " 'cancelled_flag',\n",
       " 'fraud_dcc_1st_party',\n",
       " 'never_cash_flag',\n",
       " 'CO_Amount',\n",
       " 'CO_MOB',\n",
       " 'il_loan_amt',\n",
       " 'fpd_mob_3',\n",
       " 'fpd_mob_6',\n",
       " 'mob_2_17',\n",
       " 'mob_3_30',\n",
       " 'mob_4_60',\n",
       " 'mob_5_60',\n",
       " 'mob_6_60',\n",
       " 'mob_6_60_bal_first',\n",
       " 'mob_6_60_bal',\n",
       " 'mob_6_90',\n",
       " 'mob_12_90',\n",
       " 'mob_12_90_bal_first',\n",
       " 'mob_12_90_bal',\n",
       " 'mob_12_120',\n",
       " 'mob_12_120_bal_first',\n",
       " 'mob_12_120_bal',\n",
       " 'mob_18_90',\n",
       " 'mob_18_90_bal_first',\n",
       " 'mob_18_90_bal',\n",
       " 'mob_18_120',\n",
       " 'mob_18_120_bal_first',\n",
       " 'mob_18_120_bal',\n",
       " 'mob_24_90',\n",
       " 'mob_24_90_bal_first',\n",
       " 'mob_24_90_bal',\n",
       " 'mob_24_120',\n",
       " 'mob_24_120_bal_first',\n",
       " 'mob_24_120_bal',\n",
       " 'mob_12_120_nobnk',\n",
       " 'mob_12_120_nobnk_bal_first',\n",
       " 'mob_12_CO',\n",
       " 'mob_12_CO_bal_first',\n",
       " 'mob_18_CO',\n",
       " 'mob_18_CO_bal_first',\n",
       " 'mob_24_CO',\n",
       " 'mob_24_CO_bal_first',\n",
       " 'il_curr_bal_3',\n",
       " 'il_curr_bal_6',\n",
       " 'il_curr_bal_9',\n",
       " 'il_curr_bal_12',\n",
       " 'il_curr_bal_18',\n",
       " 'il_curr_bal_24',\n",
       " 'kl_title_stat',\n",
       " 'title_pm',\n",
       " 'title_miss',\n",
       " 'Member_Date']"
      ]
     },
     "execution_count": 2,
     "metadata": {},
     "output_type": "execute_result"
    }
   ],
   "source": [
    "import pandas as pd\n",
    "df_raw = pd.read_csv('/d/shared/silver_projects_v2/penfed/autoindirectv1/shared_data/equifax/raw/client/data_3rd_party_refi_f_sent_20250523183131.csv')\n",
    "df_raw.columns.tolist()"
   ]
  },
  {
   "cell_type": "code",
   "execution_count": 4,
   "metadata": {},
   "outputs": [
    {
     "data": {
      "text/plain": [
       "14980"
      ]
     },
     "execution_count": 4,
     "metadata": {},
     "output_type": "execute_result"
    }
   ],
   "source": [
    "df_raw['Front_End_LTV'].isnull().sum()"
   ]
  },
  {
   "cell_type": "code",
   "execution_count": 35,
   "metadata": {},
   "outputs": [],
   "source": [
    "import pandas as pd\n",
    "\n",
    "final_model_path = '/d/shared/silver_projects_v2/origencepoc/autoloanv4/modeling/model_artifacts/autoloan/model1Ensemble'\n",
    "scores_df = pd.read_parquet(os.path.join(final_model_path, 'penfed_autoindirectv1_scores.parquet'))\n",
    "ana_vs40 = pd.read_parquet('/d/shared/silver_projects_v2/penfed/autoindirectv1/shared_data/equifax/processed/supporting_artifacts/raw_analysis_data_with _VS40.parquet')\n",
    "ana_raw = pd.read_parquet('/d/shared/silver_projects_v2/penfed/autoindirectv1/shared_data/equifax/processed/supporting_artifacts/analysis_data.parquet')\n",
    "ana = ana_raw.merge(ana_vs40[['ZEST_KEY', 'EFX_VS40']].set_index('ZEST_KEY'), how='left', left_index=True, right_index=True)\n",
    "\n",
    "ana = ana.merge(scores_df[['final_model_predictions']], how='left', left_index=True, right_index=True)\n",
    "# ana.to_parquet('./final_merged_data.parquet')"
   ]
  },
  {
   "cell_type": "code",
   "execution_count": 36,
   "metadata": {},
   "outputs": [],
   "source": [
    "df_book = ana[ana['flgFunded']==1]\n",
    "df_unbook = ana[ana['flgFunded']==0]"
   ]
  },
  {
   "cell_type": "code",
   "execution_count": 20,
   "metadata": {},
   "outputs": [
    {
     "data": {
      "text/plain": [
       "mob_24_120\n",
       "0.0    102005\n",
       "1.0      6672\n",
       "Name: count, dtype: int64"
      ]
     },
     "execution_count": 20,
     "metadata": {},
     "output_type": "execute_result"
    }
   ],
   "source": [
    "proxy_loans_df['mob_24_120'].value_counts()"
   ]
  },
  {
   "cell_type": "code",
   "execution_count": 146,
   "metadata": {},
   "outputs": [],
   "source": [
    "proxy_loans_df = pd.read_parquet('./auto_proxy_targets.parquet')\n",
    "\n",
    "df_unbook_proxy = df_unbook.drop(columns=['appId', 'flgFunded', 'flgApproved','Funded_Date','appDate','mob_3_30',\n",
    " 'mob_4_60',\n",
    " 'mob_5_60',\n",
    " 'mob_6_60',\n",
    " 'mob_6_90',\n",
    " 'mob_12_90',\n",
    " 'mob_12_120',\n",
    " 'mob_18_90',\n",
    " 'mob_18_120',\n",
    " 'mob_24_90',\n",
    " 'mob_24_120']).merge(proxy_loans_df.set_index('ZEST_KEY'), left_index = True, \n",
    "                                  right_index = True,\n",
    "                                  how = 'left').reset_index(drop = False)\n",
    "df_unbook_proxy['abs_appdate_minus_opendate'] = (df_unbook_proxy['Funded_Date'] - df_unbook_proxy['appDate']).abs().dt.days\n",
    "df_unbook_w_targets = df_unbook_proxy.sort_values(['ZEST_KEY', 'abs_appdate_minus_opendate', 'mob_6_60'],\n",
    "                                   ascending = [True, True, False]).drop_duplicates(['ZEST_KEY'],keep='first')"
   ]
  },
  {
   "cell_type": "code",
   "execution_count": 142,
   "metadata": {},
   "outputs": [],
   "source": [
    "proxy_target_all_merge = pd.read_csv('/d/shared/users/yyz/penfed/proxy_target_part1.csv')"
   ]
  },
  {
   "cell_type": "code",
   "execution_count": 144,
   "metadata": {},
   "outputs": [
    {
     "data": {
      "text/plain": [
       "((497471, 181), (166029, 219), (518565, 384), (497471, 384))"
      ]
     },
     "execution_count": 144,
     "metadata": {},
     "output_type": "execute_result"
    }
   ],
   "source": [
    "df_unbook.shape, proxy_loans_df.shape, df_unbook_proxy.shape,df_unbook_w_targets.shape"
   ]
  },
  {
   "cell_type": "code",
   "execution_count": null,
   "metadata": {},
   "outputs": [],
   "source": [
    "df_unbook_w_targets['DATE_REPORTED']"
   ]
  },
  {
   "cell_type": "code",
   "execution_count": 60,
   "metadata": {},
   "outputs": [],
   "source": [
    "import pandas as pd\n"
   ]
  },
  {
   "cell_type": "code",
   "execution_count": 51,
   "metadata": {},
   "outputs": [
    {
     "name": "stderr",
     "output_type": "stream",
     "text": [
      "/tmp/ipykernel_220/1885037264.py:1: DtypeWarning: Columns (21,42,60,61,71,72,122) have mixed types. Specify dtype option on import or set low_memory=False.\n",
      "  df_raw = pd.read_csv('/d/shared/silver_projects_v2/penfed/autoindirectv1/shared_data/equifax/raw/client/data_3rd_party_refi_f_sent_20250523183131.csv')\n"
     ]
    }
   ],
   "source": [
    "df_raw = pd.read_csv('/d/shared/silver_projects_v2/penfed/autoindirectv1/shared_data/equifax/raw/client/data_3rd_party_refi_f_sent_20250523183131.csv')\n",
    "\n"
   ]
  },
  {
   "cell_type": "code",
   "execution_count": 39,
   "metadata": {
    "collapsed": true,
    "jupyter": {
     "outputs_hidden": true
    },
    "scrolled": true
   },
   "outputs": [
    {
     "name": "stdout",
     "output_type": "stream",
     "text": [
      "(631588, 126)\n",
      "(606073, 126)\n"
     ]
    },
    {
     "data": {
      "text/plain": [
       "Decision\n",
       "Withdraw    258114\n",
       "Decline     197700\n",
       "Funded      125847\n",
       "Name: count, dtype: int64"
      ]
     },
     "execution_count": 39,
     "metadata": {},
     "output_type": "execute_result"
    }
   ],
   "source": [
    "import numpy as np\n",
    "df = df_raw.copy()\n",
    "df = df[df['Application_Status'].isin(['Refer', 'Processing', 'Exception'])==False]\n",
    "print(df.shape) # 561,137\n",
    "df = df[df['Max_Credit_Risk_Score']>=610] # 537656\n",
    "print(df.shape) # 537, 652\n",
    "\n",
    "df = df[~((df['PenFed_Funded']==1) & (df['Lendpro_Cert_no'].notnull()))] # exclude insured\n",
    "df = df[~((df['PenFed_Funded']==1) & (df['cancelled_flag']==1))] # exclude cancelled\n",
    "df = df[~((df['PenFed_Funded']==1) & (df['never_cash_flag']==1))] # exclude never cash the check\n",
    "df = df[~((df['PenFed_Funded']==1) & (df['fraud_3rd_party']==1))] # exclude 3rd party fraud\n",
    "\n",
    "\n",
    "df['Decision'] = None\n",
    "df['Decision'] = np.where(df['PenFed_Funded']==1, 'Funded', df['Decision'])\n",
    "df['Decision'] = np.where((df['PenFed_Funded']==0) & \n",
    "                          ((df['Application_Status']=='Approve')|((df['Application_Status']=='Counter')&(df['Adverse_Action_Reasons'].isnull()))), 'Withdraw', df['Decision'])\n",
    "df['Decision'] = np.where((df['PenFed_Funded']==0) & \n",
    "                          ((df['Application_Status']=='Decline')|((df['Application_Status']=='Counter')&(df['Adverse_Action_Reasons'].notnull()))), 'Decline', df['Decision'])\n",
    "\n",
    "\n",
    "df['Decision'].value_counts(dropna=False)\n"
   ]
  },
  {
   "cell_type": "code",
   "execution_count": 156,
   "metadata": {},
   "outputs": [
    {
     "name": "stderr",
     "output_type": "stream",
     "text": [
      "Columns (21,42,60,61,71,72,122) have mixed types. Specify dtype option on import or set low_memory=False.\n"
     ]
    }
   ],
   "source": [
    "df_raw = pd.read_csv('/d/shared/silver_projects_v2/penfed/autoindirectv1/shared_data/equifax/raw/client/data_3rd_party_refi_f_sent_20250523183131.csv')\n",
    "df_raw['Decision'] = None\n",
    "df_raw['Decision'] = np.where(df_raw['PenFed_Funded']==1, 'Funded', df_raw['Decision'])\n",
    "df_raw['Decision'] = np.where((df_raw['PenFed_Funded']==0) & \n",
    "                          ((df_raw['Application_Status']=='Approve')|((df_raw['Application_Status']=='Counter')&(df_raw['Adverse_Action_Reasons'].isnull()))), 'Withdraw', df_raw['Decision'])\n",
    "df_raw['Decision'] = np.where((df_raw['PenFed_Funded']==0) & \n",
    "                          ((df_raw['Application_Status']=='Decline')|((df_raw['Application_Status']=='Counter')&(df_raw['Adverse_Action_Reasons'].notnull()))), 'Decline', df_raw['Decision'])\n",
    "\n",
    "df_raw['flgBorrower'] = df_raw['Role_Code'].map({'PRIMARY': 1, 'JOINTOWN': 2})\n",
    "df_raw['ZEST_KEY'] = df_raw['Application_Number'].astype(str)+'_'+df_raw['flgBorrower'].astype(str)+'_229_22'"
   ]
  },
  {
   "cell_type": "code",
   "execution_count": 256,
   "metadata": {
    "scrolled": true
   },
   "outputs": [
    {
     "data": {
      "text/plain": [
       "((154338, 181), (497471, 384))"
      ]
     },
     "execution_count": 256,
     "metadata": {},
     "output_type": "execute_result"
    }
   ],
   "source": [
    "df_book.shape, df_unbook_w_targets.shape"
   ]
  },
  {
   "cell_type": "code",
   "execution_count": 157,
   "metadata": {},
   "outputs": [],
   "source": [
    "common_cols = [\n",
    "               'ZEST_KEY', 'Funded_Date','mob_6_60', 'mob_12_90', 'mob_12_120','mob_18_90','mob_18_120','mob_24_120',\n",
    "               'final_model_predictions', 'EFX_VS40'\n",
    "              ]\n",
    "\n",
    "df_all = pd.concat([df_book.reset_index(drop=False)[common_cols], df_unbook_w_targets[common_cols]]).reset_index(drop=False)\n",
    "\n",
    "drop_common_cols = list(set(df_all.columns)&set(df_raw.columns)-set(['ZEST_KEY', 'Decision']))\n",
    "\n",
    "df_merged = df_raw.drop(columns=drop_common_cols).merge(df_all, how='left', on=['ZEST_KEY'])\n"
   ]
  },
  {
   "cell_type": "code",
   "execution_count": 150,
   "metadata": {},
   "outputs": [],
   "source": [
    "penfed_new = pd.read_csv('./data_3rd_party_refi_addvar_sent_20250613210112.csv')"
   ]
  },
  {
   "cell_type": "code",
   "execution_count": 158,
   "metadata": {},
   "outputs": [],
   "source": [
    "full_merged = penfed_new.merge(df_merged, how='inner', on=['Application_Number', 'Application_Date', 'Role_Code']).drop(columns=['index'])\n",
    "full_merged = full_merged.drop_duplicates()\n",
    "full_merged.to_csv('/d/shared/users/yyz/penfed/data_3rd_party_refi_f_sent_withunfundedtarget_zestscore_vs4_20250618.csv', index=False)"
   ]
  },
  {
   "cell_type": "code",
   "execution_count": 81,
   "metadata": {},
   "outputs": [
    {
     "data": {
      "text/html": [
       "<div>\n",
       "<style scoped>\n",
       "    .dataframe tbody tr th:only-of-type {\n",
       "        vertical-align: middle;\n",
       "    }\n",
       "\n",
       "    .dataframe tbody tr th {\n",
       "        vertical-align: top;\n",
       "    }\n",
       "\n",
       "    .dataframe thead th {\n",
       "        text-align: right;\n",
       "    }\n",
       "</style>\n",
       "<table border=\"1\" class=\"dataframe\">\n",
       "  <thead>\n",
       "    <tr style=\"text-align: right;\">\n",
       "      <th></th>\n",
       "      <th>Application_Number</th>\n",
       "    </tr>\n",
       "  </thead>\n",
       "  <tbody>\n",
       "    <tr>\n",
       "      <th>458991</th>\n",
       "      <td>88800617</td>\n",
       "    </tr>\n",
       "    <tr>\n",
       "      <th>459697</th>\n",
       "      <td>88766767</td>\n",
       "    </tr>\n",
       "    <tr>\n",
       "      <th>500542</th>\n",
       "      <td>89236327</td>\n",
       "    </tr>\n",
       "  </tbody>\n",
       "</table>\n",
       "</div>"
      ],
      "text/plain": [
       "        Application_Number\n",
       "458991            88800617\n",
       "459697            88766767\n",
       "500542            89236327"
      ]
     },
     "execution_count": 81,
     "metadata": {},
     "output_type": "execute_result"
    }
   ],
   "source": [
    "df_raw[df_raw.duplicated(['Application_Number','Application_Date','Role_Code'])][['Application_Number']]"
   ]
  },
  {
   "cell_type": "code",
   "execution_count": 105,
   "metadata": {},
   "outputs": [
    {
     "data": {
      "text/plain": [
       "(651816, 142)"
      ]
     },
     "execution_count": 105,
     "metadata": {},
     "output_type": "execute_result"
    }
   ],
   "source": [
    "full_merged.shape"
   ]
  },
  {
   "cell_type": "code",
   "execution_count": 283,
   "metadata": {},
   "outputs": [],
   "source": [
    "df_merged.to_csv('/d/shared/users/yyz/penfed/data_3rd_party_refi_f_sent_withunfundedtarget_zestscore_vs4.csv', index=False)"
   ]
  },
  {
   "cell_type": "code",
   "execution_count": 102,
   "metadata": {
    "scrolled": true
   },
   "outputs": [
    {
     "data": {
      "text/plain": [
       "appmonth\n",
       "2021-01      79.0\n",
       "2021-02     108.0\n",
       "2021-03     149.0\n",
       "2021-04     189.0\n",
       "2021-05     213.0\n",
       "2021-06     346.0\n",
       "2021-07     400.0\n",
       "2021-08     460.0\n",
       "2021-09     518.0\n",
       "2021-10     646.0\n",
       "2021-11     859.0\n",
       "2021-12     928.0\n",
       "2022-01     982.0\n",
       "2022-02     935.0\n",
       "2022-03    1341.0\n",
       "2022-04    1241.0\n",
       "2022-05    1268.0\n",
       "2022-06    1245.0\n",
       "2022-07     555.0\n",
       "2022-08     303.0\n",
       "2022-09     192.0\n",
       "2022-10     237.0\n",
       "2022-11     219.0\n",
       "2022-12     220.0\n",
       "2023-01     235.0\n",
       "2023-02     245.0\n",
       "2023-03     250.0\n",
       "2023-04      39.0\n",
       "2023-05      10.0\n",
       "2023-06       1.0\n",
       "2023-07       0.0\n",
       "2023-08       0.0\n",
       "2023-09       0.0\n",
       "2023-10       0.0\n",
       "2023-11       0.0\n",
       "2023-12       0.0\n",
       "2024-01       0.0\n",
       "2024-02       0.0\n",
       "2024-03       0.0\n",
       "2024-04       0.0\n",
       "2024-05       0.0\n",
       "2024-06       0.0\n",
       "2024-07       0.0\n",
       "2024-08       0.0\n",
       "2024-09       0.0\n",
       "2024-10       0.0\n",
       "2024-11       0.0\n",
       "2024-12       0.0\n",
       "2025-01       0.0\n",
       "2025-02       0.0\n",
       "2025-03       0.0\n",
       "2025-04       0.0\n",
       "Name: mob_24_120, dtype: float64"
      ]
     },
     "execution_count": 102,
     "metadata": {},
     "output_type": "execute_result"
    }
   ],
   "source": [
    "full_merged['mob_24_120'] = full_merged['mob_24_120'].astype(float)\n",
    "full_merged['appmonth'] = full_merged['Application_Date'].str[:7]\n",
    "full_merged.groupby('appmonth')['mob_24_120'].sum()"
   ]
  },
  {
   "cell_type": "code",
   "execution_count": null,
   "metadata": {},
   "outputs": [],
   "source": []
  },
  {
   "cell_type": "code",
   "execution_count": null,
   "metadata": {},
   "outputs": [],
   "source": []
  },
  {
   "cell_type": "code",
   "execution_count": null,
   "metadata": {},
   "outputs": [],
   "source": []
  },
  {
   "cell_type": "markdown",
   "metadata": {},
   "source": [
    "# Proxy Target Generation"
   ]
  },
  {
   "cell_type": "code",
   "execution_count": 124,
   "metadata": {},
   "outputs": [
    {
     "data": {
      "text/plain": [
       "('1.2.1', 'v1.13.0')"
      ]
     },
     "execution_count": 124,
     "metadata": {},
     "output_type": "execute_result"
    }
   ],
   "source": [
    "import pandas as pd\n",
    "import ztarget\n",
    "import model_engine\n",
    "import json\n",
    "\n",
    "ztarget.__version__, model_engine.__version__"
   ]
  },
  {
   "cell_type": "code",
   "execution_count": 2,
   "metadata": {},
   "outputs": [
    {
     "data": {
      "text/plain": [
       "(651809, 179)"
      ]
     },
     "execution_count": 2,
     "metadata": {},
     "output_type": "execute_result"
    }
   ],
   "source": [
    "# Zest analysis data \n",
    "ana = pd.read_parquet('/d/shared/silver_projects_v2/penfed/autoindirectv1/shared_data/equifax/processed/supporting_artifacts/analysis_data.parquet')\n",
    "ana.shape"
   ]
  },
  {
   "cell_type": "code",
   "execution_count": 3,
   "metadata": {},
   "outputs": [
    {
     "name": "stderr",
     "output_type": "stream",
     "text": [
      "/tmp/ipykernel_1938/4184390068.py:2: DtypeWarning: Columns (21,42,60,61,71,72,122) have mixed types. Specify dtype option on import or set low_memory=False.\n",
      "  df_raw = pd.read_csv('/d/shared/silver_projects_v2/penfed/autoindirectv1/shared_data/equifax/raw/client/data_3rd_party_refi_f_sent_20250523183131.csv')\n"
     ]
    },
    {
     "data": {
      "text/plain": [
       "(651816, 126)"
      ]
     },
     "execution_count": 3,
     "metadata": {},
     "output_type": "execute_result"
    }
   ],
   "source": [
    "# PenFed Sent Data\n",
    "df_raw = pd.read_csv('/d/shared/silver_projects_v2/penfed/autoindirectv1/shared_data/equifax/raw/client/data_3rd_party_refi_f_sent_20250523183131.csv')\n",
    "df_raw.shape"
   ]
  },
  {
   "cell_type": "markdown",
   "metadata": {},
   "source": [
    "## Unfunded Proxy Target"
   ]
  },
  {
   "cell_type": "code",
   "execution_count": 4,
   "metadata": {},
   "outputs": [
    {
     "name": "stderr",
     "output_type": "stream",
     "text": [
      "/home/lyt/.conda/envs/penfed_psp/lib/python3.10/site-packages/zamlexplain/utils_compile.py:23: NumbaPendingDeprecationWarning: The 'pycc' module is pending deprecation. Replacement technology is being developed.\n",
      "\n",
      "Pending Deprecation in Numba 0.57.0. For more information please see: https://numba.readthedocs.io/en/stable/reference/deprecation.html#deprecation-of-the-numba-pycc-module\n",
      "  from numba.pycc import CC\n",
      "/home/lyt/.conda/envs/penfed_psp/lib/python3.10/site-packages/shap/utils/_clustering.py:35: NumbaDeprecationWarning: The 'nopython' keyword argument was not supplied to the 'numba.jit' decorator. The implicit default value for this argument is currently False, but it will be changed to True in Numba 0.59.0. See https://numba.readthedocs.io/en/stable/reference/deprecation.html#deprecation-of-object-mode-fall-back-behaviour-when-using-jit for details.\n",
      "  def _pt_shuffle_rec(i, indexes, index_mask, partition_tree, M, pos):\n",
      "/home/lyt/.conda/envs/penfed_psp/lib/python3.10/site-packages/shap/utils/_clustering.py:54: NumbaDeprecationWarning: The 'nopython' keyword argument was not supplied to the 'numba.jit' decorator. The implicit default value for this argument is currently False, but it will be changed to True in Numba 0.59.0. See https://numba.readthedocs.io/en/stable/reference/deprecation.html#deprecation-of-object-mode-fall-back-behaviour-when-using-jit for details.\n",
      "  def delta_minimization_order(all_masks, max_swap_size=100, num_passes=2):\n",
      "/home/lyt/.conda/envs/penfed_psp/lib/python3.10/site-packages/shap/utils/_clustering.py:63: NumbaDeprecationWarning: The 'nopython' keyword argument was not supplied to the 'numba.jit' decorator. The implicit default value for this argument is currently False, but it will be changed to True in Numba 0.59.0. See https://numba.readthedocs.io/en/stable/reference/deprecation.html#deprecation-of-object-mode-fall-back-behaviour-when-using-jit for details.\n",
      "  def _reverse_window(order, start, length):\n",
      "/home/lyt/.conda/envs/penfed_psp/lib/python3.10/site-packages/shap/utils/_clustering.py:69: NumbaDeprecationWarning: The 'nopython' keyword argument was not supplied to the 'numba.jit' decorator. The implicit default value for this argument is currently False, but it will be changed to True in Numba 0.59.0. See https://numba.readthedocs.io/en/stable/reference/deprecation.html#deprecation-of-object-mode-fall-back-behaviour-when-using-jit for details.\n",
      "  def _reverse_window_score_gain(masks, order, start, length):\n",
      "/home/lyt/.conda/envs/penfed_psp/lib/python3.10/site-packages/shap/utils/_clustering.py:77: NumbaDeprecationWarning: The 'nopython' keyword argument was not supplied to the 'numba.jit' decorator. The implicit default value for this argument is currently False, but it will be changed to True in Numba 0.59.0. See https://numba.readthedocs.io/en/stable/reference/deprecation.html#deprecation-of-object-mode-fall-back-behaviour-when-using-jit for details.\n",
      "  def _mask_delta_score(m1, m2):\n",
      "/home/lyt/.conda/envs/penfed_psp/lib/python3.10/site-packages/shap/links.py:5: NumbaDeprecationWarning: The 'nopython' keyword argument was not supplied to the 'numba.jit' decorator. The implicit default value for this argument is currently False, but it will be changed to True in Numba 0.59.0. See https://numba.readthedocs.io/en/stable/reference/deprecation.html#deprecation-of-object-mode-fall-back-behaviour-when-using-jit for details.\n",
      "  def identity(x):\n",
      "/home/lyt/.conda/envs/penfed_psp/lib/python3.10/site-packages/shap/links.py:10: NumbaDeprecationWarning: The 'nopython' keyword argument was not supplied to the 'numba.jit' decorator. The implicit default value for this argument is currently False, but it will be changed to True in Numba 0.59.0. See https://numba.readthedocs.io/en/stable/reference/deprecation.html#deprecation-of-object-mode-fall-back-behaviour-when-using-jit for details.\n",
      "  def _identity_inverse(x):\n",
      "/home/lyt/.conda/envs/penfed_psp/lib/python3.10/site-packages/shap/links.py:15: NumbaDeprecationWarning: The 'nopython' keyword argument was not supplied to the 'numba.jit' decorator. The implicit default value for this argument is currently False, but it will be changed to True in Numba 0.59.0. See https://numba.readthedocs.io/en/stable/reference/deprecation.html#deprecation-of-object-mode-fall-back-behaviour-when-using-jit for details.\n",
      "  def logit(x):\n",
      "/home/lyt/.conda/envs/penfed_psp/lib/python3.10/site-packages/shap/links.py:20: NumbaDeprecationWarning: The 'nopython' keyword argument was not supplied to the 'numba.jit' decorator. The implicit default value for this argument is currently False, but it will be changed to True in Numba 0.59.0. See https://numba.readthedocs.io/en/stable/reference/deprecation.html#deprecation-of-object-mode-fall-back-behaviour-when-using-jit for details.\n",
      "  def _logit_inverse(x):\n",
      "/home/lyt/.conda/envs/penfed_psp/lib/python3.10/site-packages/shap/utils/_masked_model.py:363: NumbaDeprecationWarning: The 'nopython' keyword argument was not supplied to the 'numba.jit' decorator. The implicit default value for this argument is currently False, but it will be changed to True in Numba 0.59.0. See https://numba.readthedocs.io/en/stable/reference/deprecation.html#deprecation-of-object-mode-fall-back-behaviour-when-using-jit for details.\n",
      "  def _build_fixed_single_output(averaged_outs, last_outs, outputs, batch_positions, varying_rows, num_varying_rows, link, linearizing_weights):\n",
      "/home/lyt/.conda/envs/penfed_psp/lib/python3.10/site-packages/shap/utils/_masked_model.py:385: NumbaDeprecationWarning: The 'nopython' keyword argument was not supplied to the 'numba.jit' decorator. The implicit default value for this argument is currently False, but it will be changed to True in Numba 0.59.0. See https://numba.readthedocs.io/en/stable/reference/deprecation.html#deprecation-of-object-mode-fall-back-behaviour-when-using-jit for details.\n",
      "  def _build_fixed_multi_output(averaged_outs, last_outs, outputs, batch_positions, varying_rows, num_varying_rows, link, linearizing_weights):\n",
      "/home/lyt/.conda/envs/penfed_psp/lib/python3.10/site-packages/shap/utils/_masked_model.py:428: NumbaDeprecationWarning: The 'nopython' keyword argument was not supplied to the 'numba.jit' decorator. The implicit default value for this argument is currently False, but it will be changed to True in Numba 0.59.0. See https://numba.readthedocs.io/en/stable/reference/deprecation.html#deprecation-of-object-mode-fall-back-behaviour-when-using-jit for details.\n",
      "  def _init_masks(cluster_matrix, M, indices_row_pos, indptr):\n",
      "/home/lyt/.conda/envs/penfed_psp/lib/python3.10/site-packages/shap/utils/_masked_model.py:439: NumbaDeprecationWarning: The 'nopython' keyword argument was not supplied to the 'numba.jit' decorator. The implicit default value for this argument is currently False, but it will be changed to True in Numba 0.59.0. See https://numba.readthedocs.io/en/stable/reference/deprecation.html#deprecation-of-object-mode-fall-back-behaviour-when-using-jit for details.\n",
      "  def _rec_fill_masks(cluster_matrix, indices_row_pos, indptr, indices, M, ind):\n",
      "/home/lyt/.conda/envs/penfed_psp/lib/python3.10/site-packages/shap/maskers/_tabular.py:186: NumbaDeprecationWarning: The 'nopython' keyword argument was not supplied to the 'numba.jit' decorator. The implicit default value for this argument is currently False, but it will be changed to True in Numba 0.59.0. See https://numba.readthedocs.io/en/stable/reference/deprecation.html#deprecation-of-object-mode-fall-back-behaviour-when-using-jit for details.\n",
      "  def _single_delta_mask(dind, masked_inputs, last_mask, data, x, noop_code):\n",
      "/home/lyt/.conda/envs/penfed_psp/lib/python3.10/site-packages/shap/maskers/_tabular.py:197: NumbaDeprecationWarning: The 'nopython' keyword argument was not supplied to the 'numba.jit' decorator. The implicit default value for this argument is currently False, but it will be changed to True in Numba 0.59.0. See https://numba.readthedocs.io/en/stable/reference/deprecation.html#deprecation-of-object-mode-fall-back-behaviour-when-using-jit for details.\n",
      "  def _delta_masking(masks, x, curr_delta_inds, varying_rows_out,\n",
      "/home/lyt/.conda/envs/penfed_psp/lib/python3.10/site-packages/shap/maskers/_image.py:175: NumbaDeprecationWarning: The 'nopython' keyword argument was not supplied to the 'numba.jit' decorator. The implicit default value for this argument is currently False, but it will be changed to True in Numba 0.59.0. See https://numba.readthedocs.io/en/stable/reference/deprecation.html#deprecation-of-object-mode-fall-back-behaviour-when-using-jit for details.\n",
      "  def _jit_build_partition_tree(xmin, xmax, ymin, ymax, zmin, zmax, total_ywidth, total_zwidth, M, clustering, q):\n",
      "/home/lyt/.conda/envs/penfed_psp/lib/python3.10/site-packages/shap/explainers/_partition.py:676: NumbaDeprecationWarning: The 'nopython' keyword argument was not supplied to the 'numba.jit' decorator. The implicit default value for this argument is currently False, but it will be changed to True in Numba 0.59.0. See https://numba.readthedocs.io/en/stable/reference/deprecation.html#deprecation-of-object-mode-fall-back-behaviour-when-using-jit for details.\n",
      "  def lower_credit(i, value, M, values, clustering):\n",
      "The 'nopython' keyword argument was not supplied to the 'numba.jit' decorator. The implicit default value for this argument is currently False, but it will be changed to True in Numba 0.59.0. See https://numba.readthedocs.io/en/stable/reference/deprecation.html#deprecation-of-object-mode-fall-back-behaviour-when-using-jit for details.\n",
      "The 'nopython' keyword argument was not supplied to the 'numba.jit' decorator. The implicit default value for this argument is currently False, but it will be changed to True in Numba 0.59.0. See https://numba.readthedocs.io/en/stable/reference/deprecation.html#deprecation-of-object-mode-fall-back-behaviour-when-using-jit for details.\n"
     ]
    }
   ],
   "source": [
    "from ztarget import EQTargetGenerator, TUTargetGenerator, EXPTargetGenerator\n",
    "from ztarget.target_generator import final_target\n",
    "from model_engine.assets.utils import load_asset\n",
    "from itertools import product\n",
    "\n",
    "pd.options.display.max_columns = None\n",
    "pd.options.display.float_format = '{:.4f}'.format"
   ]
  },
  {
   "cell_type": "code",
   "execution_count": 5,
   "metadata": {},
   "outputs": [
    {
     "name": "stderr",
     "output_type": "stream",
     "text": [
      "Your installed version of s3fs is very old and known to cause\n",
      "severe performance issues, see also https://github.com/dask/dask/issues/10276\n",
      "\n",
      "To fix, you should specify a lower version bound on s3fs, or\n",
      "update the current installation.\n",
      "\n"
     ]
    }
   ],
   "source": [
    "path = 's3://power-client-data-staging/CLIENT/PARSED/DATA/BUREAU%3Dequifax/FORMAT%3Dcms_6/TABLE%3Dtrade/PULL_NAME%3D20250529_penfed/ARCHIVE_DATE%3D2025-04-30/'.replace('%3D', '=')\n",
    "perf_trade = pd.read_parquet(path)"
   ]
  },
  {
   "cell_type": "code",
   "execution_count": 6,
   "metadata": {},
   "outputs": [
    {
     "data": {
      "text/plain": [
       "(497471, 179)"
      ]
     },
     "execution_count": 6,
     "metadata": {},
     "output_type": "execute_result"
    }
   ],
   "source": [
    "unfunded_ana = ana[ana.flgFunded == 0]\n",
    "unfunded_ana.shape"
   ]
  },
  {
   "cell_type": "code",
   "execution_count": 7,
   "metadata": {},
   "outputs": [
    {
     "data": {
      "text/plain": [
       "489882"
      ]
     },
     "execution_count": 7,
     "metadata": {},
     "output_type": "execute_result"
    }
   ],
   "source": [
    "unfunded_trade = perf_trade[perf_trade.ZEST_KEY.isin(unfunded_ana.index)]\n",
    "unfunded_trade.ZEST_KEY.nunique()"
   ]
  },
  {
   "cell_type": "markdown",
   "metadata": {},
   "source": [
    "### Auto Part 1 – Auto Loan Proxy\n",
    "\n",
    "Return a record for all Auto Loans (exclude leases) opened within -1/+3 months from app month\n",
    "\n",
    "Fields returned for each proxy trade:\n",
    "- MOB6 Ever 60+DPD/BNK/Repossession/Charged-off\n",
    "- MOB12 Ever 90+DPD/BNK/Repossession/Charged-off (General Bad PenFed used for model development)\n",
    "- MOB12 Ever 120+DPD/Repossession/Charged-off (Simulate PenFed current Charge off Policy. Does not include BNK)\n",
    "- MOB18 Ever 90+DPD/BNK/Repossession/Charged-off\n",
    "- MOB18 Ever 120+DPD/Repossession/Charged-off\n",
    "- MOB24 Ever 120+DPD/Repossession/Charged-off\n",
    "- Payment history grid (pulled from current archive)\n",
    "\t\n",
    "If there are multiple proxy trades for an individual application, we want to keep all of them as reference.\n"
   ]
  },
  {
   "cell_type": "code",
   "execution_count": 8,
   "metadata": {},
   "outputs": [],
   "source": [
    "eq_trade_json = load_asset('equifax/cms_6/trade.json')\n",
    "eq_trade_json_nobnk = load_asset('equifax/cms_6/trade.json') # remove 7 (Included in Chapter 13) from Charge-off\n",
    "eq_trade_json_nobnk['info']['payment_patterns'] = {'patterns': ['PAYMENT_HISTORY_1_24',\n",
    "  'PAYMENT_HISTORY_25_36',\n",
    "  'PAYMENT_HISTORY_37_48'],\n",
    " 'rate': {'paid_as_agreed': ['0', '1'],\n",
    "  'DQ30': ['2'],\n",
    "  'DQ60': ['3'],\n",
    "  'DQ90': ['4'],\n",
    "  'DQ120': ['5'],\n",
    "  'CO': ['5', '6', '8', '9', 'G', 'H', 'K', 'L']},\n",
    " 'trim': 48,\n",
    " 'placeholder': '/',\n",
    " 'keep': ['DQ30', 'DQ60', 'DQ90', 'DQ120', 'CO']}\n"
   ]
  },
  {
   "cell_type": "code",
   "execution_count": null,
   "metadata": {},
   "outputs": [],
   "source": [
    "eq_trade_json_nobnk['info']['CO_codes']['RATE_STATUS_CODE'] = ['5', '6', '8', '9', 'G', '#']\n",
    "\n",
    "eq_trade_json_nobnk['info']['CO_codes']['NARRATIVE_CODE_1'] = [\"AM\",\"AN\",\"BG\",\"BK\",\"BQ\",\"BR\",\n",
    "                                                               \"BS\",\"BZ\",\"CA\",\"CB\",\"CY\",\"CZ\",\n",
    "                                                               \"DB\",\"DJ\",\"DN\",\"EB\",\"ER\",\"FD\",\n",
    "                                                               \"GL\",\"HX\",\"IZ\",\"JK\",\"JM\",\"JL\"]\n",
    "eq_trade_json_nobnk['info']['CO_codes']['NARRATIVE_CODE_2'] =  [\"AM\",\"AN\",\"BG\",\"BK\",\"BQ\",\"BR\",\n",
    "                                                               \"BS\",\"BZ\",\"CA\",\"CB\",\"CY\",\"CZ\",\n",
    "                                                               \"DB\",\"DJ\",\"DN\",\"EB\",\"ER\",\"FD\",\n",
    "                                                               \"GL\",\"HX\",\"IZ\",\"JK\",\"JM\",\"JL\"]\n",
    "eq_trade_json_nobnk['info']['CO_codes']['NARRATIVE_CODE_3'] =  [\"AM\",\"AN\",\"BG\",\"BK\",\"BQ\",\"BR\",\n",
    "                                                               \"BS\",\"BZ\",\"CA\",\"CB\",\"CY\",\"CZ\",\n",
    "                                                               \"DB\",\"DJ\",\"DN\",\"EB\",\"ER\",\"FD\",\n",
    "                                                               \"GL\",\"HX\",\"IZ\",\"JK\",\"JM\",\"JL\"]\n",
    "eq_trade_json_nobnk['info']['CO_codes']['NARRATIVE_CODE_4'] =  [\"AM\",\"AN\",\"BG\",\"BK\",\"BQ\",\"BR\",\n",
    "                                                               \"BS\",\"BZ\",\"CA\",\"CB\",\"CY\",\"CZ\",\n",
    "                                                               \"DB\",\"DJ\",\"DN\",\"EB\",\"ER\",\"FD\",\n",
    "                                                               \"GL\",\"HX\",\"IZ\",\"JK\",\"JM\",\"JL\"]"
   ]
  },
  {
   "cell_type": "code",
   "execution_count": 60,
   "metadata": {},
   "outputs": [
    {
     "data": {
      "text/plain": [
       "['00']"
      ]
     },
     "execution_count": 60,
     "metadata": {},
     "output_type": "execute_result"
    }
   ],
   "source": [
    "dqs = [\"DQ30\", \"DQ60\", \"DQ90\", \"DQ120\", \"CO\"]\n",
    "time_window = [3, 6, 9, 12, 15, 18, 24, 30, 36]\n",
    "default_proxy_time_window = [-30, 90]\n",
    "\n",
    "# exclude 3A: Auto Lease \n",
    "# exclude 11: recreational merchandise\n",
    "\n",
    "proxy_account_type = ['00']\n",
    "target_generator = EQTargetGenerator(join_key='ZEST_KEY', app_id='appId', app_date='appDate', \n",
    "                                      proxy_time_window = default_proxy_time_window, \n",
    "                                      proxy_account_type = proxy_account_type,\n",
    "                                      **eq_trade_json['info'],\n",
    "                                     proxy = True)\n",
    "target_generator.proxy_account_type\n",
    "\n",
    "target_generator_nobnk = EQTargetGenerator(join_key='ZEST_KEY', app_id='appId', app_date='appDate', \n",
    "                                      proxy_time_window = default_proxy_time_window, \n",
    "                                      proxy_account_type = proxy_account_type,\n",
    "                                      **eq_trade_json_nobnk['info'],\n",
    "                                     proxy = True)\n",
    "target_generator.proxy_account_type"
   ]
  },
  {
   "cell_type": "code",
   "execution_count": 66,
   "metadata": {
    "collapsed": true,
    "jupyter": {
     "outputs_hidden": true
    }
   },
   "outputs": [
    {
     "data": {
      "text/plain": [
       "{'table_type': 'many_to_one',\n",
       " 'validator': 'trade',\n",
       " 'feature_engineering': 'trade',\n",
       " 'etl_format': 'EFXCMS',\n",
       " 'table_name': 'trade',\n",
       " 'prod_etl': {'format': 'EFXTV6', 'section_name': 'PT'},\n",
       " 'info': {'key': 'ZEST_KEY',\n",
       "  'numerics': ['HIGH_CREDIT',\n",
       "   'CREDIT_LIMIT',\n",
       "   'BALANCE',\n",
       "   'PAST_DUE_AMOUNT',\n",
       "   'MONTHS_REVIEWED',\n",
       "   'ACTUAL_PAYMENT_AMOUNT',\n",
       "   'SCHEDULED_PAYMENT_AMOUNT',\n",
       "   'TERMS_DURATION',\n",
       "   'ORIGINAL_CHARGE_OFF_AMOUNT',\n",
       "   'BALLOON_PAYMENT_AMOUNT'],\n",
       "  'feature_definitions': {'TERMS_DURATION': 'loan duration',\n",
       "   'DFD_DLA': 'date of first delinquency else date of last activity',\n",
       "   'NARRATIVE_CODE_1X': 'narrative code',\n",
       "   'DMD_REPORTED': 'data of first major delinquency',\n",
       "   'DATE_OPENED': 'opened date',\n",
       "   '90+_DAY_COUNTERS': 'count of >=90 day delinquencies on account',\n",
       "   'NARRATIVE_CODE_4': 'narrative code',\n",
       "   'PAYMENT_HISTORY_25_36': 'payment history 25-36 months',\n",
       "   'ACTIVITY_DESIGNATOR': 'final state of the account',\n",
       "   'QUALIFYING_FLAG': 'qualifying flag',\n",
       "   'PREVIOUS_HIGH_RATE_2': 'account rating on second most recent high credit date',\n",
       "   'RATE_STATUS_CODE': 'current rating',\n",
       "   'NARRATIVE_CODE_2': 'narrative code',\n",
       "   'BALLOON_PAYMENT_AMOUNT': 'amount of the balloon payment',\n",
       "   'PAYMENT_HISTORY_1_24': 'payment history 1-24 months',\n",
       "   'MORTGAGE_ID_NUMBER': 'number assigned to a mortgage loan that remains constant throughout the life of the loan',\n",
       "   'TERMS_FREQUENCY': 'frequency of payment',\n",
       "   'ORIGINAL_CHARGE_OFF_AMOUNT': 'original charge off amount',\n",
       "   'PAYMENT_HISTORY_37_48': 'payment history 37-48 months',\n",
       "   'BALLOON_PAYMENT_DUE_DATE': 'balloon payment due date',\n",
       "   'CLOSED_DATE': 'date closed',\n",
       "   'NAME': 'Purchased From/Sold To/Original Creditor Name',\n",
       "   'PREVIOUS_HIGH_RATE_BEFORE_HISTORY': 'highest rate that occurred outside of the payment history being returned',\n",
       "   'NARRATIVE_CODE_3X': 'narrative code',\n",
       "   '30_DAY_COUNTERS': 'count of 30 day delinquencies on account',\n",
       "   'INDICATOR': 'Purchased From/Sold To/Original Creditor Indicator**',\n",
       "   'SCHEDULED_PAYMENT_AMOUNT': 'the contractual amount due for a payment period',\n",
       "   'CREDIT_LIMIT': 'credit limit',\n",
       "   'PREVIOUS_HIGH_DATE_3': 'third most recent date of high credit',\n",
       "   'PAST_DUE_AMOUNT': 'amount past due',\n",
       "   'MONTHS_REVIEWED': 'number of months account has been reviewed',\n",
       "   'ECOA_DESIGNATOR': 'ECOA Designation',\n",
       "   'NARRATIVE_CODE_3': 'narrative code',\n",
       "   'ACCOUNT_NUMBER': 'account number',\n",
       "   'DEFERRED_PAYMENT_START_DATE': 'date the first payment is due for deferred loans',\n",
       "   'NARRATIVE_CODE_2X': 'narrative code',\n",
       "   'HIGH_CREDIT': 'high credit on account',\n",
       "   'PREVIOUS_HIGH_DATE_1': 'most recent date of high credit',\n",
       "   'CUSTOMER_NUMBER': 'industry code',\n",
       "   'PREVIOUS_HIGH_RATE_3': 'account rating on third most recent high credit date',\n",
       "   'PREVIOUS_HIGH_DATE_BEFORE_HISTORY': 'date that the highest Rate occurred outside of the payment history being returned',\n",
       "   'LAST_PAYMENT_DATE': 'date of last payment',\n",
       "   'BALANCE': 'balance',\n",
       "   'NARRATIVE_CODE_4X': 'narrative code',\n",
       "   'PORTFOLIO_TYPE': 'account type',\n",
       "   'CREDITOR_CLASSIFICATION': 'general type of business',\n",
       "   'ACCOUNT_TYPE': 'type of loan',\n",
       "   'NARRATIVE_CODE_1': 'narrative code',\n",
       "   '60_DAY_COUNTERS': 'count of 60 day delinquencies on account',\n",
       "   'PREVIOUS_HIGH_RATE_1': 'account rating on most recent high credit date',\n",
       "   'DATE_REPORTED': 'last reported data on tradeline',\n",
       "   'PREVIOUS_HIGH_DATE_2': 'second most recent date of high credit',\n",
       "   'key': 'ZEST_KEY',\n",
       "   'RECENT_TRADE_FLAG': 'flag if trade is recent',\n",
       "   'ACTUAL_PAYMENT_AMOUNT': 'actual payment amount'},\n",
       "  'reference_date': 'DATE_OF_REQUEST',\n",
       "  'placeholders': {'encoding_type': 'one-hot',\n",
       "   'placeholders': {'SCHEDULED_PAYMENT_AMOUNT': {'': {'flag': False, 'val': 0},\n",
       "     'NaN': {'flag': False, 'val': 0},\n",
       "     'null': {'flag': False, 'val': 0}},\n",
       "    'PAST_DUE_AMOUNT': {'': {'flag': False, 'val': 0},\n",
       "     'NaN': {'flag': False, 'val': 0},\n",
       "     'null': {'flag': False, 'val': 0}},\n",
       "    'ACTUAL_PAYMENT_AMOUNT': {'': {'flag': False, 'val': 0},\n",
       "     'NaN': {'flag': False, 'val': 0},\n",
       "     'null': {'flag': False, 'val': 0}},\n",
       "    'PAYMENT_HISTORY_1_24': {'NaN': {'flag': False,\n",
       "      'val': '************/************'}},\n",
       "    'PAYMENT_HISTORY_25_36': {'NaN': {'flag': False, 'val': '/************'}},\n",
       "    'PAYMENT_HISTORY_37_48': {'NaN': {'flag': False,\n",
       "      'val': '/************'}}}},\n",
       "  'report_date': 'DATE_REPORTED',\n",
       "  'open_date': 'DATE_OPENED',\n",
       "  'closed_date': 'CLOSED_DATE',\n",
       "  'balance': 'BALANCE',\n",
       "  'high_credit': 'HIGH_CREDIT',\n",
       "  'credit_limit': 'CREDIT_LIMIT',\n",
       "  'last_payment_date': 'LAST_PAYMENT_DATE',\n",
       "  'delinquency_date': 'PREVIOUS_HIGH_DATE_1',\n",
       "  'past_due_amount': 'PAST_DUE_AMOUNT',\n",
       "  'actual_payment_amount': 'ACTUAL_PAYMENT_AMOUNT',\n",
       "  'scheduled_payment_amount': 'SCHEDULED_PAYMENT_AMOUNT',\n",
       "  'original_charge_off_amount': 'ORIGINAL_CHARGE_OFF_AMOUNT',\n",
       "  'first_delinquency_date': 'DFD_DLA',\n",
       "  'major_delinquency_date': 'DMD_REPORTED',\n",
       "  'CO_codes': {'NARRATIVE_CODE_1': ['AM',\n",
       "    'AN',\n",
       "    'BG',\n",
       "    'BK',\n",
       "    'BQ',\n",
       "    'BR',\n",
       "    'BS',\n",
       "    'BZ',\n",
       "    'CA',\n",
       "    'CB',\n",
       "    'CY',\n",
       "    'CZ',\n",
       "    'DB',\n",
       "    'DJ',\n",
       "    'DN',\n",
       "    'EB',\n",
       "    'ER',\n",
       "    'FD',\n",
       "    'GL',\n",
       "    'HX',\n",
       "    'IZ',\n",
       "    'JK',\n",
       "    'JM',\n",
       "    'JL'],\n",
       "   'NARRATIVE_CODE_2': ['AM',\n",
       "    'AN',\n",
       "    'BG',\n",
       "    'BK',\n",
       "    'BQ',\n",
       "    'BR',\n",
       "    'BS',\n",
       "    'BZ',\n",
       "    'CA',\n",
       "    'CB',\n",
       "    'CY',\n",
       "    'CZ',\n",
       "    'DB',\n",
       "    'DJ',\n",
       "    'DN',\n",
       "    'EB',\n",
       "    'ER',\n",
       "    'FD',\n",
       "    'GL',\n",
       "    'HX',\n",
       "    'IZ',\n",
       "    'JK',\n",
       "    'JM',\n",
       "    'JL'],\n",
       "   'NARRATIVE_CODE_3': ['AM',\n",
       "    'AN',\n",
       "    'BG',\n",
       "    'BK',\n",
       "    'BQ',\n",
       "    'BR',\n",
       "    'BS',\n",
       "    'BZ',\n",
       "    'CA',\n",
       "    'CB',\n",
       "    'CY',\n",
       "    'CZ',\n",
       "    'DB',\n",
       "    'DJ',\n",
       "    'DN',\n",
       "    'EB',\n",
       "    'ER',\n",
       "    'FD',\n",
       "    'GL',\n",
       "    'HX',\n",
       "    'IZ',\n",
       "    'JK',\n",
       "    'JM',\n",
       "    'JL'],\n",
       "   'NARRATIVE_CODE_4': ['AM',\n",
       "    'AN',\n",
       "    'BG',\n",
       "    'BK',\n",
       "    'BQ',\n",
       "    'BR',\n",
       "    'BS',\n",
       "    'BZ',\n",
       "    'CA',\n",
       "    'CB',\n",
       "    'CY',\n",
       "    'CZ',\n",
       "    'DB',\n",
       "    'DJ',\n",
       "    'DN',\n",
       "    'EB',\n",
       "    'ER',\n",
       "    'FD',\n",
       "    'GL',\n",
       "    'HX',\n",
       "    'IZ',\n",
       "    'JK',\n",
       "    'JM',\n",
       "    'JL'],\n",
       "   'RATE_STATUS_CODE': ['5', '6', '8', '9', 'G', '#']},\n",
       "  'code_date': {'PREVIOUS_HIGH_RATE_1': 'PREVIOUS_HIGH_DATE_1',\n",
       "   'PREVIOUS_HIGH_RATE_2': 'PREVIOUS_HIGH_DATE_2',\n",
       "   'PREVIOUS_HIGH_RATE_3': 'PREVIOUS_HIGH_DATE_3',\n",
       "   'PREVIOUS_HIGH_RATE_BEFORE_HISTORY': 'PREVIOUS_HIGH_DATE_BEFORE_HISTORY'},\n",
       "  'deferred_codes': {'NARRATIVE_CODE_1': ['DQ', 'II', 'IJ'],\n",
       "   'NARRATIVE_CODE_2': ['DQ', 'II', 'IJ'],\n",
       "   'TERMS_FREQUENCY': ['D']},\n",
       "  'current_rating': {'RATE_STATUS_CODE': {'new_name': 'crntRating',\n",
       "    'new_levels': {'non_derogatory': ['1', '2'],\n",
       "     'derogatory': ['6', '8', '3', '9', '4', 'G', 'M', '#', '7', 'Z', '5']}}},\n",
       "  'payment_patterns': {'patterns': ['PAYMENT_HISTORY_1_24',\n",
       "    'PAYMENT_HISTORY_25_36',\n",
       "    'PAYMENT_HISTORY_37_48'],\n",
       "   'rate': {'paid_as_agreed': ['0', '1'],\n",
       "    'DQ30': ['2'],\n",
       "    'DQ60': ['3'],\n",
       "    'DQ90': ['4'],\n",
       "    'DQ120': ['5'],\n",
       "    'CO': ['5', '6', '8', '9', 'G', 'H', 'K', 'L']},\n",
       "   'trim': 48,\n",
       "   'placeholder': '/',\n",
       "   'keep': ['DQ30', 'DQ60', 'DQ90', 'DQ120', 'CO']},\n",
       "  'bureau_date': 'DATE_REPORTED',\n",
       "  'counts': ['30_DAY_COUNTERS', '60_DAY_COUNTERS', '90+_DAY_COUNTERS'],\n",
       "  'portfolio_types': {'PORTFOLIO_TYPE': {'new_name': 'prtfType',\n",
       "    'new_levels': {'line_of_credit': 'C',\n",
       "     'installment': 'I',\n",
       "     'mortgage': 'M',\n",
       "     'open': 'O',\n",
       "     'revolving': 'R'},\n",
       "    'keep': ['installment', 'mortgage', 'revolving']}},\n",
       "  'ecoa_codes': {'ECOA_DESIGNATOR': {'new_name': 'ecoa',\n",
       "    'new_levels': {'individual': 'I',\n",
       "     'joint': 'J',\n",
       "     'authorized': 'A',\n",
       "     'undesignated': 'U'},\n",
       "    'keep': ['individual', 'joint', 'authorized']}},\n",
       "  'account_types': {'ACCOUNT_TYPE': {'new_name': 'acctType',\n",
       "    'new_levels': {'credit_card': '18',\n",
       "     'charge_card': '07',\n",
       "     'auto': '00',\n",
       "     'secure': '02',\n",
       "     'unsecure': '01',\n",
       "     'education': '12',\n",
       "     'utility': '92'},\n",
       "    'keep': ['credit_card',\n",
       "     'charge_card',\n",
       "     'auto',\n",
       "     'secure',\n",
       "     'unsecure',\n",
       "     'education',\n",
       "     'utility']}},\n",
       "  'exclusion_list': {'ARCHIVE_DATA': 'Parsing column',\n",
       "   'NARRATIVE_CODE_4': 'to be handled',\n",
       "   'NARRATIVE_CODE_2': 'to be handled',\n",
       "   'INDICATOR': 'not useful for modeling',\n",
       "   'ACCOUNT_NUMBER': 'Missing',\n",
       "   'NARRATIVE_CODE_3': 'to be handled',\n",
       "   'NARRATIVE_CODE_1X': 'to be handled',\n",
       "   'SEGMENT_TYPE': 'Parsing column',\n",
       "   'NAME': 'not useful for modeling',\n",
       "   'NARRATIVE_CODE_3X': 'to be handled',\n",
       "   'MORTGAGE_ID_NUMBER': 'not useful for modeling',\n",
       "   'NARRATIVE_CODE_4X': 'to be handled',\n",
       "   'SEG_SEQ': 'Parsing column',\n",
       "   'AUTOMATED_UPDATE_INDICATOR': 'Missing',\n",
       "   'NARRATIVE_CODE_2X': 'to be handled',\n",
       "   'SEG_PARENT': 'Parsing column',\n",
       "   'NARRATIVE_CODE_1': 'to be handled',\n",
       "   'ABBREVIATION': 'Data definition does not match data',\n",
       "   'CUSTOMER_NAME': 'PII',\n",
       "   'SEG_PARENT_SEQ': 'Parsing column',\n",
       "   'TERMS_DURATION': 'normalization',\n",
       "   'ORIGINAL_CHARGE_OFF_AMOUNT': 'normalization',\n",
       "   'BALLOON_PAYMENT_AMOUNT': 'normalization',\n",
       "   'ACTIVITY_DESIGNATOR': 'normalization',\n",
       "   'PREVIOUS_HIGH_RATE_BEFORE_HISTORY': 'normalization',\n",
       "   'PREVIOUS_HIGH_RATE_1': 'normalization',\n",
       "   'PREVIOUS_HIGH_RATE_2': 'normalization',\n",
       "   'PREVIOUS_HIGH_RATE_3': 'normalization',\n",
       "   'RECENT_TRADE_FLAG': 'normalization',\n",
       "   'QUALIFYING_FLAG': 'normalization',\n",
       "   'CREDITOR_CLASSIFICATION': 'normalization',\n",
       "   'TERMS_FREQUENCY': 'normalization',\n",
       "   'PREVIOUS_HIGH_DATE_2': 'normalization',\n",
       "   'PREVIOUS_HIGH_DATE_3': 'normalization',\n",
       "   'DEFERRED_PAYMENT_START_DATE': 'normalization',\n",
       "   'PREVIOUS_HIGH_DATE_BEFORE_HISTORY': 'normalization',\n",
       "   'DMD_REPORTED': 'normalization',\n",
       "   'DFD_DLA': 'normalization',\n",
       "   'CLOSED_DATE': 'normalizing',\n",
       "   'MONTHS_REVIEWED': 'normalization',\n",
       "   '30_DAY_COUNTERS': 'normalization',\n",
       "   '60_DAY_COUNTERS': 'normalization',\n",
       "   '90+_DAY_COUNTERS': 'normalization',\n",
       "   'ACTUAL_PAYMENT_AMOUNT': 'normalization',\n",
       "   'SCHEDULED_PAYMENT_AMOUNT': 'normalization'},\n",
       "  'categoricals': {'PREVIOUS_HIGH_RATE_2': {'6': 'Collection account',\n",
       "    '5': 'At least 120 days or more than four payments past due ',\n",
       "    '4': 'Not more than four payments past due',\n",
       "    '1': 'Pays account as agreed',\n",
       "    '3': 'Not more than three payments past due',\n",
       "    '9': 'Charge-off',\n",
       "    '2': 'Not more than two payments past due',\n",
       "    '7': 'Included in Chapter 13',\n",
       "    '8': 'Repossession (for future use may be Foreclosure)',\n",
       "    '0': 'Too new to rate; Approved but not used'},\n",
       "   'PREVIOUS_HIGH_RATE_3': {'6': 'Collection account',\n",
       "    '5': 'At least 120 days or more than four payments past due ',\n",
       "    '4': 'Not more than four payments past due',\n",
       "    '1': 'Pays account as agreed',\n",
       "    '3': 'Not more than three payments past due',\n",
       "    '9': 'Charge-off',\n",
       "    '2': 'Not more than two payments past due',\n",
       "    '7': 'Included in Chapter 13',\n",
       "    '8': 'Repossession (for future use may be Foreclosure)',\n",
       "    '0': 'Too new to rate; Approved but not used'},\n",
       "   'PREVIOUS_HIGH_RATE_1': {'6': 'Collection account',\n",
       "    '5': 'At least 120 days or more than four payments past due ',\n",
       "    '4': 'Not more than four payments past due',\n",
       "    '1': 'Pays account as agreed',\n",
       "    '3': 'Not more than three payments past due',\n",
       "    '9': 'Charge-off',\n",
       "    '2': 'Not more than two payments past due',\n",
       "    '7': 'Included in Chapter 13',\n",
       "    '8': 'Repossession (for future use may be Foreclosure)',\n",
       "    '0': 'Too new to rate; Approved but not used'},\n",
       "   'PORTFOLIO_TYPE': {'*': 'No Portfolio Type available',\n",
       "    'R': 'Revolving (payment amounts based on the outstanding balance)',\n",
       "    'I': 'Installment (fixed number of payments)',\n",
       "    'O': 'Open Account (entire balance is due upon demand)',\n",
       "    'C': 'Line of Credit (payment amounts based on the outstanding balance)',\n",
       "    'M': 'Mortgage (fixed number of payments – usually for real estate)'},\n",
       "   'CREDITOR_CLASSIFICATION': {'08': 'BANKING',\n",
       "    '09': 'RENTAL/LEASING',\n",
       "    '03': 'OIL COMPANY',\n",
       "    '11': 'CABLE/CELLULAR',\n",
       "    '01': 'RETAIL',\n",
       "    '07': 'EDUCATIONAL',\n",
       "    '15': 'CHECK GUARANTEE',\n",
       "    '04': 'GOVERNMENT',\n",
       "    '12': 'FINANCIAL',\n",
       "    '10': 'UTILITIES',\n",
       "    '02': 'MEDICAL/HEALTH CARE',\n",
       "    '06': 'INSURANCE',\n",
       "    '14': 'AUTOMOTIVE',\n",
       "    '13': 'CREDIT UNION',\n",
       "    '05': 'PERSONAL SERVICES'},\n",
       "   'ACCOUNT_TYPE': {},\n",
       "   'ECOA_DESIGNATOR': {'T': 'The subject’s relationship to this account has ended, although other parties who once shared the account                 may continue to maintain the account.',\n",
       "    'B': 'On behalf of another person – The subject has financial responsibility for an account             , which is used exclusively by another person.',\n",
       "    'S': 'Shared, but otherwise undesignated – This code is an indication that the credit grantor               knows that the subject and at least one other person share the account, but not enough information               is available to designate the account as “J” or “A”.',\n",
       "    'I': 'Individual Account – The subject of the report has contractual responsibility for this                 account and is primarily responsible for its payment.',\n",
       "    'U': 'Undesignated',\n",
       "    'X': 'Deceased',\n",
       "    'A': 'Authorized User – This is an authorized user of this account; another individual              has contractual responsibility.',\n",
       "    'J': 'Joint Account - The subject and another person (or persons) are jointly responsible for             payment on this account.',\n",
       "    'C': 'Co-maker – The subject has co-signed for a loan, and will be responsible for payment                 if the borrower should default.',\n",
       "    'M': 'Maker – The subject is responsible for payment of a loan, but a co-maker will be               responsible for payment if maker defaults.'},\n",
       "   'TERMS_FREQUENCY': {'L': 'Bi-monthly (due every 2 months)',\n",
       "    'W': 'Weekly (due every week)',\n",
       "    'Q': 'Quarterly (due every 3 months)',\n",
       "    'B': 'Biweekly (due every 2 weeks)',\n",
       "    'S': 'Semi-annually (due twice a year)',\n",
       "    'Y': 'Annually (due every year)',\n",
       "    'P': 'Single Payment Loan',\n",
       "    'E': 'Semi-monthly (due twice a month)',\n",
       "    'T': 'Tri-annually (due every 4 months)',\n",
       "    'D': 'Deferred',\n",
       "    'M': 'Monthly (due every month)'},\n",
       "   'RATE_STATUS_CODE': {'6': 'Collection account',\n",
       "    '5': 'At least 120 days or more than four payments past due',\n",
       "    'S': 'Dispute - resolution pending',\n",
       "    '1': 'Pays account as agreed',\n",
       "    '#': 'In BK of Another Person',\n",
       "    'C': 'Contact member for status D = Refinanced or Renewed',\n",
       "    '0': 'Too new to rate; Approved but not used',\n",
       "    '$': 'Assigned to US Dept of ED',\n",
       "    '9': 'Charge-off',\n",
       "    'M': 'Included in Chapter 13',\n",
       "    '8': 'Repossession (for future use may be Foreclosure)',\n",
       "    'E': 'Consumer Deceased',\n",
       "    'G': 'Foreclosure Process Started H = In WEP of other party',\n",
       "    '2': 'Not more than two payments past due',\n",
       "    '7': 'Included in Chapter 13',\n",
       "    'J': 'Adjustment Pending',\n",
       "    'B': 'Lost or stolen card',\n",
       "    '4': 'Not more than four payments past due',\n",
       "    '3': 'Not more than three payments past due',\n",
       "    'F': 'In Financial Counseling',\n",
       "    'Z': 'Included in Bankruptcy',\n",
       "    'A': 'Account is Inactive'},\n",
       "   'ACTIVITY_DESIGNATOR': {'L': 'Lost/Stolen',\n",
       "    'T': 'Transfer/Sold',\n",
       "    'B': 'Paid and Closed',\n",
       "    'R': 'Refinanced',\n",
       "    'P': 'Paid',\n",
       "    'C': 'Closed',\n",
       "    'D': 'Transfer/Sold/Paid'},\n",
       "   'RECENT_TRADE_FLAG': {'N': 'No', 'Y': 'Yes'},\n",
       "   'PREVIOUS_HIGH_RATE_BEFORE_HISTORY': {'6': 'Collection account',\n",
       "    '5': 'At least 120 days or more than four payments past due ',\n",
       "    '4': 'Not more than four payments past due',\n",
       "    '1': 'Pays account as agreed',\n",
       "    '3': 'Not more than three payments past due',\n",
       "    '9': 'Charge-off',\n",
       "    '2': 'Not more than two payments past due',\n",
       "    '7': 'Included in Chapter 13',\n",
       "    '8': 'Repossession (for future use may be Foreclosure)',\n",
       "    '0': 'Too new to rate; Approved but not used'},\n",
       "   'QUALIFYING_FLAG': {'N': 'No', 'Y': 'Yes'}},\n",
       "  'dates': {'CLOSED_DATE': '%m%d%Y',\n",
       "   'PREVIOUS_HIGH_DATE_BEFORE_HISTORY': '%m%Y',\n",
       "   'LAST_PAYMENT_DATE': '%m%d%Y',\n",
       "   'DFD_DLA': '%m%d%Y',\n",
       "   'PREVIOUS_HIGH_DATE_3': '%m%Y',\n",
       "   'DMD_REPORTED': '%m%d%Y',\n",
       "   'DATE_OPENED': '%m%d%Y',\n",
       "   'DEFERRED_PAYMENT_START_DATE': '%m%d%Y',\n",
       "   'DATE_REPORTED': '%m%d%Y',\n",
       "   'PREVIOUS_HIGH_DATE_2': '%m%Y',\n",
       "   'PREVIOUS_HIGH_DATE_1': '%m%Y'}}}"
      ]
     },
     "execution_count": 66,
     "metadata": {},
     "output_type": "execute_result"
    }
   ],
   "source": [
    "eq_trade_json_nobnk"
   ]
  },
  {
   "cell_type": "code",
   "execution_count": 68,
   "metadata": {},
   "outputs": [
    {
     "data": {
      "text/plain": [
       "{'ARCHIVE_DATA': 'Parsing column',\n",
       " 'NARRATIVE_CODE_4': 'to be handled',\n",
       " 'NARRATIVE_CODE_2': 'to be handled',\n",
       " 'INDICATOR': 'not useful for modeling',\n",
       " 'ACCOUNT_NUMBER': 'Missing',\n",
       " 'NARRATIVE_CODE_3': 'to be handled',\n",
       " 'NARRATIVE_CODE_1X': 'to be handled',\n",
       " 'SEGMENT_TYPE': 'Parsing column',\n",
       " 'NAME': 'not useful for modeling',\n",
       " 'NARRATIVE_CODE_3X': 'to be handled',\n",
       " 'MORTGAGE_ID_NUMBER': 'not useful for modeling',\n",
       " 'NARRATIVE_CODE_4X': 'to be handled',\n",
       " 'SEG_SEQ': 'Parsing column',\n",
       " 'AUTOMATED_UPDATE_INDICATOR': 'Missing',\n",
       " 'NARRATIVE_CODE_2X': 'to be handled',\n",
       " 'SEG_PARENT': 'Parsing column',\n",
       " 'NARRATIVE_CODE_1': 'to be handled',\n",
       " 'ABBREVIATION': 'Data definition does not match data',\n",
       " 'CUSTOMER_NAME': 'PII',\n",
       " 'SEG_PARENT_SEQ': 'Parsing column',\n",
       " 'TERMS_DURATION': 'normalization',\n",
       " 'ORIGINAL_CHARGE_OFF_AMOUNT': 'normalization',\n",
       " 'BALLOON_PAYMENT_AMOUNT': 'normalization',\n",
       " 'ACTIVITY_DESIGNATOR': 'normalization',\n",
       " 'PREVIOUS_HIGH_RATE_BEFORE_HISTORY': 'normalization',\n",
       " 'PREVIOUS_HIGH_RATE_1': 'normalization',\n",
       " 'PREVIOUS_HIGH_RATE_2': 'normalization',\n",
       " 'PREVIOUS_HIGH_RATE_3': 'normalization',\n",
       " 'RECENT_TRADE_FLAG': 'normalization',\n",
       " 'QUALIFYING_FLAG': 'normalization',\n",
       " 'CREDITOR_CLASSIFICATION': 'normalization',\n",
       " 'TERMS_FREQUENCY': 'normalization',\n",
       " 'PREVIOUS_HIGH_DATE_2': 'normalization',\n",
       " 'PREVIOUS_HIGH_DATE_3': 'normalization',\n",
       " 'DEFERRED_PAYMENT_START_DATE': 'normalization',\n",
       " 'PREVIOUS_HIGH_DATE_BEFORE_HISTORY': 'normalization',\n",
       " 'DMD_REPORTED': 'normalization',\n",
       " 'DFD_DLA': 'normalization',\n",
       " 'CLOSED_DATE': 'normalizing',\n",
       " 'MONTHS_REVIEWED': 'normalization',\n",
       " '30_DAY_COUNTERS': 'normalization',\n",
       " '60_DAY_COUNTERS': 'normalization',\n",
       " '90+_DAY_COUNTERS': 'normalization',\n",
       " 'ACTUAL_PAYMENT_AMOUNT': 'normalization',\n",
       " 'SCHEDULED_PAYMENT_AMOUNT': 'normalization'}"
      ]
     },
     "execution_count": 68,
     "metadata": {},
     "output_type": "execute_result"
    }
   ],
   "source": [
    "eq_trade_json_nobnk['info']['exclusion_list'] = {'ARCHIVE_DATA': 'Parsing column',\n",
    " 'INDICATOR': 'not useful for modeling',\n",
    " 'ACCOUNT_NUMBER': 'Missing',\n",
    " 'NARRATIVE_CODE_1X': 'to be handled',\n",
    " 'SEGMENT_TYPE': 'Parsing column',\n",
    " 'NAME': 'not useful for modeling',\n",
    " 'NARRATIVE_CODE_3X': 'to be handled',\n",
    " 'MORTGAGE_ID_NUMBER': 'not useful for modeling',\n",
    " 'NARRATIVE_CODE_4X': 'to be handled',\n",
    " 'SEG_SEQ': 'Parsing column',\n",
    " 'AUTOMATED_UPDATE_INDICATOR': 'Missing',\n",
    " 'NARRATIVE_CODE_2X': 'to be handled',\n",
    " 'SEG_PARENT': 'Parsing column',\n",
    " 'NARRATIVE_CODE_1': 'to be handled',\n",
    " 'ABBREVIATION': 'Data definition does not match data',\n",
    " 'CUSTOMER_NAME': 'PII',\n",
    " 'SEG_PARENT_SEQ': 'Parsing column',\n",
    " 'TERMS_DURATION': 'normalization',\n",
    " 'ORIGINAL_CHARGE_OFF_AMOUNT': 'normalization',\n",
    " 'BALLOON_PAYMENT_AMOUNT': 'normalization',\n",
    " 'ACTIVITY_DESIGNATOR': 'normalization',\n",
    " 'PREVIOUS_HIGH_RATE_BEFORE_HISTORY': 'normalization',\n",
    " 'PREVIOUS_HIGH_RATE_1': 'normalization',\n",
    " 'PREVIOUS_HIGH_RATE_2': 'normalization',\n",
    " 'PREVIOUS_HIGH_RATE_3': 'normalization',\n",
    " 'RECENT_TRADE_FLAG': 'normalization',\n",
    " 'QUALIFYING_FLAG': 'normalization',\n",
    " 'CREDITOR_CLASSIFICATION': 'normalization',\n",
    " 'TERMS_FREQUENCY': 'normalization',\n",
    " 'PREVIOUS_HIGH_DATE_2': 'normalization',\n",
    " 'PREVIOUS_HIGH_DATE_3': 'normalization',\n",
    " 'DEFERRED_PAYMENT_START_DATE': 'normalization',\n",
    " 'PREVIOUS_HIGH_DATE_BEFORE_HISTORY': 'normalization',\n",
    " 'DMD_REPORTED': 'normalization',\n",
    " 'DFD_DLA': 'normalization',\n",
    " 'CLOSED_DATE': 'normalizing',\n",
    " 'MONTHS_REVIEWED': 'normalization',\n",
    " '30_DAY_COUNTERS': 'normalization',\n",
    " '60_DAY_COUNTERS': 'normalization',\n",
    " '90+_DAY_COUNTERS': 'normalization',\n",
    " 'ACTUAL_PAYMENT_AMOUNT': 'normalization',\n",
    " 'SCHEDULED_PAYMENT_AMOUNT': 'normalization'}"
   ]
  },
  {
   "cell_type": "code",
   "execution_count": 23,
   "metadata": {
    "collapsed": true,
    "jupyter": {
     "outputs_hidden": true
    }
   },
   "outputs": [
    {
     "ename": "KeyboardInterrupt",
     "evalue": "",
     "output_type": "error",
     "traceback": [
      "\u001b[0;31m---------------------------------------------------------------------------\u001b[0m",
      "\u001b[0;31mKeyboardInterrupt\u001b[0m                         Traceback (most recent call last)",
      "    \u001b[0;31m[... skipping hidden 1 frame]\u001b[0m\n",
      "Cell \u001b[0;32mIn[23], line 2\u001b[0m\n\u001b[1;32m      1\u001b[0m cols \u001b[38;5;241m=\u001b[39m [\u001b[38;5;124m'\u001b[39m\u001b[38;5;124mappId\u001b[39m\u001b[38;5;124m'\u001b[39m, \u001b[38;5;124m'\u001b[39m\u001b[38;5;124mappDate\u001b[39m\u001b[38;5;124m'\u001b[39m, \u001b[38;5;124m'\u001b[39m\u001b[38;5;124mflgFunded\u001b[39m\u001b[38;5;124m'\u001b[39m, \u001b[38;5;124m'\u001b[39m\u001b[38;5;124mflgApproved\u001b[39m\u001b[38;5;124m'\u001b[39m,]\n\u001b[0;32m----> 2\u001b[0m unfunded_trade \u001b[38;5;241m=\u001b[39m \u001b[43munfunded_trade\u001b[49m\u001b[38;5;241;43m.\u001b[39;49m\u001b[43mmerge\u001b[49m\u001b[43m(\u001b[49m\u001b[43munfunded_ana\u001b[49m\u001b[43m[\u001b[49m\u001b[43mcols\u001b[49m\u001b[43m]\u001b[49m\u001b[43m,\u001b[49m\u001b[43m \u001b[49m\u001b[43mleft_on\u001b[49m\u001b[43m \u001b[49m\u001b[38;5;241;43m=\u001b[39;49m\u001b[43m \u001b[49m\u001b[38;5;124;43m'\u001b[39;49m\u001b[38;5;124;43mZEST_KEY\u001b[39;49m\u001b[38;5;124;43m'\u001b[39;49m\u001b[43m,\u001b[49m\u001b[43m \u001b[49m\n\u001b[1;32m      3\u001b[0m \u001b[43m                       \u001b[49m\u001b[43mright_index\u001b[49m\u001b[43m \u001b[49m\u001b[38;5;241;43m=\u001b[39;49m\u001b[43m \u001b[49m\u001b[38;5;28;43;01mTrue\u001b[39;49;00m\u001b[43m)\u001b[49m\n",
      "File \u001b[0;32m~/.conda/envs/penfed_psp/lib/python3.10/site-packages/pandas/core/frame.py:9843\u001b[0m, in \u001b[0;36mDataFrame.merge\u001b[0;34m(self, right, how, on, left_on, right_on, left_index, right_index, sort, suffixes, copy, indicator, validate)\u001b[0m\n\u001b[1;32m   9841\u001b[0m \u001b[38;5;28;01mfrom\u001b[39;00m\u001b[38;5;250m \u001b[39m\u001b[38;5;21;01mpandas\u001b[39;00m\u001b[38;5;21;01m.\u001b[39;00m\u001b[38;5;21;01mcore\u001b[39;00m\u001b[38;5;21;01m.\u001b[39;00m\u001b[38;5;21;01mreshape\u001b[39;00m\u001b[38;5;21;01m.\u001b[39;00m\u001b[38;5;21;01mmerge\u001b[39;00m\u001b[38;5;250m \u001b[39m\u001b[38;5;28;01mimport\u001b[39;00m merge\n\u001b[0;32m-> 9843\u001b[0m \u001b[38;5;28;01mreturn\u001b[39;00m \u001b[43mmerge\u001b[49m\u001b[43m(\u001b[49m\n\u001b[1;32m   9844\u001b[0m \u001b[43m    \u001b[49m\u001b[38;5;28;43mself\u001b[39;49m\u001b[43m,\u001b[49m\n\u001b[1;32m   9845\u001b[0m \u001b[43m    \u001b[49m\u001b[43mright\u001b[49m\u001b[43m,\u001b[49m\n\u001b[1;32m   9846\u001b[0m \u001b[43m    \u001b[49m\u001b[43mhow\u001b[49m\u001b[38;5;241;43m=\u001b[39;49m\u001b[43mhow\u001b[49m\u001b[43m,\u001b[49m\n\u001b[1;32m   9847\u001b[0m \u001b[43m    \u001b[49m\u001b[43mon\u001b[49m\u001b[38;5;241;43m=\u001b[39;49m\u001b[43mon\u001b[49m\u001b[43m,\u001b[49m\n\u001b[1;32m   9848\u001b[0m \u001b[43m    \u001b[49m\u001b[43mleft_on\u001b[49m\u001b[38;5;241;43m=\u001b[39;49m\u001b[43mleft_on\u001b[49m\u001b[43m,\u001b[49m\n\u001b[1;32m   9849\u001b[0m \u001b[43m    \u001b[49m\u001b[43mright_on\u001b[49m\u001b[38;5;241;43m=\u001b[39;49m\u001b[43mright_on\u001b[49m\u001b[43m,\u001b[49m\n\u001b[1;32m   9850\u001b[0m \u001b[43m    \u001b[49m\u001b[43mleft_index\u001b[49m\u001b[38;5;241;43m=\u001b[39;49m\u001b[43mleft_index\u001b[49m\u001b[43m,\u001b[49m\n\u001b[1;32m   9851\u001b[0m \u001b[43m    \u001b[49m\u001b[43mright_index\u001b[49m\u001b[38;5;241;43m=\u001b[39;49m\u001b[43mright_index\u001b[49m\u001b[43m,\u001b[49m\n\u001b[1;32m   9852\u001b[0m \u001b[43m    \u001b[49m\u001b[43msort\u001b[49m\u001b[38;5;241;43m=\u001b[39;49m\u001b[43msort\u001b[49m\u001b[43m,\u001b[49m\n\u001b[1;32m   9853\u001b[0m \u001b[43m    \u001b[49m\u001b[43msuffixes\u001b[49m\u001b[38;5;241;43m=\u001b[39;49m\u001b[43msuffixes\u001b[49m\u001b[43m,\u001b[49m\n\u001b[1;32m   9854\u001b[0m \u001b[43m    \u001b[49m\u001b[43mcopy\u001b[49m\u001b[38;5;241;43m=\u001b[39;49m\u001b[43mcopy\u001b[49m\u001b[43m,\u001b[49m\n\u001b[1;32m   9855\u001b[0m \u001b[43m    \u001b[49m\u001b[43mindicator\u001b[49m\u001b[38;5;241;43m=\u001b[39;49m\u001b[43mindicator\u001b[49m\u001b[43m,\u001b[49m\n\u001b[1;32m   9856\u001b[0m \u001b[43m    \u001b[49m\u001b[43mvalidate\u001b[49m\u001b[38;5;241;43m=\u001b[39;49m\u001b[43mvalidate\u001b[49m\u001b[43m,\u001b[49m\n\u001b[1;32m   9857\u001b[0m \u001b[43m\u001b[49m\u001b[43m)\u001b[49m\n",
      "File \u001b[0;32m~/.conda/envs/penfed_psp/lib/python3.10/site-packages/pandas/core/reshape/merge.py:162\u001b[0m, in \u001b[0;36mmerge\u001b[0;34m(left, right, how, on, left_on, right_on, left_index, right_index, sort, suffixes, copy, indicator, validate)\u001b[0m\n\u001b[1;32m    148\u001b[0m op \u001b[38;5;241m=\u001b[39m _MergeOperation(\n\u001b[1;32m    149\u001b[0m     left,\n\u001b[1;32m    150\u001b[0m     right,\n\u001b[0;32m   (...)\u001b[0m\n\u001b[1;32m    160\u001b[0m     validate\u001b[38;5;241m=\u001b[39mvalidate,\n\u001b[1;32m    161\u001b[0m )\n\u001b[0;32m--> 162\u001b[0m \u001b[38;5;28;01mreturn\u001b[39;00m \u001b[43mop\u001b[49m\u001b[38;5;241;43m.\u001b[39;49m\u001b[43mget_result\u001b[49m\u001b[43m(\u001b[49m\u001b[43mcopy\u001b[49m\u001b[38;5;241;43m=\u001b[39;49m\u001b[43mcopy\u001b[49m\u001b[43m)\u001b[49m\n",
      "File \u001b[0;32m~/.conda/envs/penfed_psp/lib/python3.10/site-packages/pandas/core/reshape/merge.py:811\u001b[0m, in \u001b[0;36m_MergeOperation.get_result\u001b[0;34m(self, copy)\u001b[0m\n\u001b[1;32m    809\u001b[0m join_index, left_indexer, right_indexer \u001b[38;5;241m=\u001b[39m \u001b[38;5;28mself\u001b[39m\u001b[38;5;241m.\u001b[39m_get_join_info()\n\u001b[0;32m--> 811\u001b[0m result \u001b[38;5;241m=\u001b[39m \u001b[38;5;28;43mself\u001b[39;49m\u001b[38;5;241;43m.\u001b[39;49m\u001b[43m_reindex_and_concat\u001b[49m\u001b[43m(\u001b[49m\n\u001b[1;32m    812\u001b[0m \u001b[43m    \u001b[49m\u001b[43mjoin_index\u001b[49m\u001b[43m,\u001b[49m\u001b[43m \u001b[49m\u001b[43mleft_indexer\u001b[49m\u001b[43m,\u001b[49m\u001b[43m \u001b[49m\u001b[43mright_indexer\u001b[49m\u001b[43m,\u001b[49m\u001b[43m \u001b[49m\u001b[43mcopy\u001b[49m\u001b[38;5;241;43m=\u001b[39;49m\u001b[43mcopy\u001b[49m\n\u001b[1;32m    813\u001b[0m \u001b[43m\u001b[49m\u001b[43m)\u001b[49m\n\u001b[1;32m    814\u001b[0m result \u001b[38;5;241m=\u001b[39m result\u001b[38;5;241m.\u001b[39m__finalize__(\u001b[38;5;28mself\u001b[39m, method\u001b[38;5;241m=\u001b[39m\u001b[38;5;28mself\u001b[39m\u001b[38;5;241m.\u001b[39m_merge_type)\n",
      "File \u001b[0;32m~/.conda/envs/penfed_psp/lib/python3.10/site-packages/pandas/core/reshape/merge.py:802\u001b[0m, in \u001b[0;36m_MergeOperation._reindex_and_concat\u001b[0;34m(self, join_index, left_indexer, right_indexer, copy)\u001b[0m\n\u001b[1;32m    801\u001b[0m right\u001b[38;5;241m.\u001b[39mcolumns \u001b[38;5;241m=\u001b[39m rlabels\n\u001b[0;32m--> 802\u001b[0m result \u001b[38;5;241m=\u001b[39m \u001b[43mconcat\u001b[49m\u001b[43m(\u001b[49m\u001b[43m[\u001b[49m\u001b[43mleft\u001b[49m\u001b[43m,\u001b[49m\u001b[43m \u001b[49m\u001b[43mright\u001b[49m\u001b[43m]\u001b[49m\u001b[43m,\u001b[49m\u001b[43m \u001b[49m\u001b[43maxis\u001b[49m\u001b[38;5;241;43m=\u001b[39;49m\u001b[38;5;241;43m1\u001b[39;49m\u001b[43m,\u001b[49m\u001b[43m \u001b[49m\u001b[43mcopy\u001b[49m\u001b[38;5;241;43m=\u001b[39;49m\u001b[43mcopy\u001b[49m\u001b[43m)\u001b[49m\n\u001b[1;32m    803\u001b[0m \u001b[38;5;28;01mreturn\u001b[39;00m result\n",
      "File \u001b[0;32m~/.conda/envs/penfed_psp/lib/python3.10/site-packages/pandas/core/reshape/concat.py:385\u001b[0m, in \u001b[0;36mconcat\u001b[0;34m(objs, axis, join, ignore_index, keys, levels, names, verify_integrity, sort, copy)\u001b[0m\n\u001b[1;32m    372\u001b[0m op \u001b[38;5;241m=\u001b[39m _Concatenator(\n\u001b[1;32m    373\u001b[0m     objs,\n\u001b[1;32m    374\u001b[0m     axis\u001b[38;5;241m=\u001b[39maxis,\n\u001b[0;32m   (...)\u001b[0m\n\u001b[1;32m    382\u001b[0m     sort\u001b[38;5;241m=\u001b[39msort,\n\u001b[1;32m    383\u001b[0m )\n\u001b[0;32m--> 385\u001b[0m \u001b[38;5;28;01mreturn\u001b[39;00m \u001b[43mop\u001b[49m\u001b[38;5;241;43m.\u001b[39;49m\u001b[43mget_result\u001b[49m\u001b[43m(\u001b[49m\u001b[43m)\u001b[49m\n",
      "File \u001b[0;32m~/.conda/envs/penfed_psp/lib/python3.10/site-packages/pandas/core/reshape/concat.py:616\u001b[0m, in \u001b[0;36m_Concatenator.get_result\u001b[0;34m(self)\u001b[0m\n\u001b[1;32m    614\u001b[0m     mgrs_indexers\u001b[38;5;241m.\u001b[39mappend((obj\u001b[38;5;241m.\u001b[39m_mgr, indexers))\n\u001b[0;32m--> 616\u001b[0m new_data \u001b[38;5;241m=\u001b[39m \u001b[43mconcatenate_managers\u001b[49m\u001b[43m(\u001b[49m\n\u001b[1;32m    617\u001b[0m \u001b[43m    \u001b[49m\u001b[43mmgrs_indexers\u001b[49m\u001b[43m,\u001b[49m\u001b[43m \u001b[49m\u001b[38;5;28;43mself\u001b[39;49m\u001b[38;5;241;43m.\u001b[39;49m\u001b[43mnew_axes\u001b[49m\u001b[43m,\u001b[49m\u001b[43m \u001b[49m\u001b[43mconcat_axis\u001b[49m\u001b[38;5;241;43m=\u001b[39;49m\u001b[38;5;28;43mself\u001b[39;49m\u001b[38;5;241;43m.\u001b[39;49m\u001b[43mbm_axis\u001b[49m\u001b[43m,\u001b[49m\u001b[43m \u001b[49m\u001b[43mcopy\u001b[49m\u001b[38;5;241;43m=\u001b[39;49m\u001b[38;5;28;43mself\u001b[39;49m\u001b[38;5;241;43m.\u001b[39;49m\u001b[43mcopy\u001b[49m\n\u001b[1;32m    618\u001b[0m \u001b[43m\u001b[49m\u001b[43m)\u001b[49m\n\u001b[1;32m    619\u001b[0m \u001b[38;5;28;01mif\u001b[39;00m \u001b[38;5;129;01mnot\u001b[39;00m \u001b[38;5;28mself\u001b[39m\u001b[38;5;241m.\u001b[39mcopy \u001b[38;5;129;01mand\u001b[39;00m \u001b[38;5;129;01mnot\u001b[39;00m using_copy_on_write():\n",
      "File \u001b[0;32m~/.conda/envs/penfed_psp/lib/python3.10/site-packages/pandas/core/internals/concat.py:204\u001b[0m, in \u001b[0;36mconcatenate_managers\u001b[0;34m(mgrs_indexers, axes, concat_axis, copy)\u001b[0m\n\u001b[1;32m    203\u001b[0m \u001b[38;5;28;01mif\u001b[39;00m concat_axis \u001b[38;5;241m==\u001b[39m \u001b[38;5;241m0\u001b[39m:\n\u001b[0;32m--> 204\u001b[0m     \u001b[38;5;28;01mreturn\u001b[39;00m \u001b[43m_concat_managers_axis0\u001b[49m\u001b[43m(\u001b[49m\u001b[43mmgrs_indexers\u001b[49m\u001b[43m,\u001b[49m\u001b[43m \u001b[49m\u001b[43maxes\u001b[49m\u001b[43m,\u001b[49m\u001b[43m \u001b[49m\u001b[43mcopy\u001b[49m\u001b[43m)\u001b[49m\n\u001b[1;32m    206\u001b[0m mgrs_indexers \u001b[38;5;241m=\u001b[39m _maybe_reindex_columns_na_proxy(axes, mgrs_indexers)\n",
      "File \u001b[0;32m~/.conda/envs/penfed_psp/lib/python3.10/site-packages/pandas/core/internals/concat.py:279\u001b[0m, in \u001b[0;36m_concat_managers_axis0\u001b[0;34m(mgrs_indexers, axes, copy)\u001b[0m\n\u001b[1;32m    278\u001b[0m \u001b[38;5;28;01melif\u001b[39;00m copy:\n\u001b[0;32m--> 279\u001b[0m     nb \u001b[38;5;241m=\u001b[39m \u001b[43mblk\u001b[49m\u001b[38;5;241;43m.\u001b[39;49m\u001b[43mcopy\u001b[49m\u001b[43m(\u001b[49m\u001b[43m)\u001b[49m\n\u001b[1;32m    280\u001b[0m \u001b[38;5;28;01melse\u001b[39;00m:\n\u001b[1;32m    281\u001b[0m     \u001b[38;5;66;03m# by slicing instead of copy(deep=False), we get a new array\u001b[39;00m\n\u001b[1;32m    282\u001b[0m     \u001b[38;5;66;03m#  object, see test_concat_copy\u001b[39;00m\n",
      "File \u001b[0;32m~/.conda/envs/penfed_psp/lib/python3.10/site-packages/pandas/core/internals/blocks.py:540\u001b[0m, in \u001b[0;36mBlock.copy\u001b[0;34m(self, deep)\u001b[0m\n\u001b[1;32m    539\u001b[0m \u001b[38;5;28;01mif\u001b[39;00m deep:\n\u001b[0;32m--> 540\u001b[0m     values \u001b[38;5;241m=\u001b[39m \u001b[43mvalues\u001b[49m\u001b[38;5;241;43m.\u001b[39;49m\u001b[43mcopy\u001b[49m\u001b[43m(\u001b[49m\u001b[43m)\u001b[49m\n\u001b[1;32m    541\u001b[0m     refs \u001b[38;5;241m=\u001b[39m \u001b[38;5;28;01mNone\u001b[39;00m\n",
      "\u001b[0;31mKeyboardInterrupt\u001b[0m: ",
      "\nDuring handling of the above exception, another exception occurred:\n",
      "\u001b[0;31mKeyboardInterrupt\u001b[0m                         Traceback (most recent call last)",
      "\u001b[0;31mKeyboardInterrupt\u001b[0m: "
     ]
    }
   ],
   "source": [
    "cols = ['appId', 'appDate', 'flgFunded', 'flgApproved',]\n",
    "unfunded_trade = unfunded_trade.merge(unfunded_ana[cols], left_on = 'ZEST_KEY', \n",
    "                       right_index = True)"
   ]
  },
  {
   "cell_type": "code",
   "execution_count": 36,
   "metadata": {},
   "outputs": [
    {
     "data": {
      "text/plain": [
       "Series([], Name: count, dtype: int64)"
      ]
     },
     "execution_count": 36,
     "metadata": {},
     "output_type": "execute_result"
    }
   ],
   "source": [
    "unfunded_trade[unfunded_trade['PREVIOUS_HIGH_RATE_1'] ==7].ACCOUNT_TYPE.value_counts()"
   ]
  },
  {
   "cell_type": "code",
   "execution_count": 31,
   "metadata": {},
   "outputs": [
    {
     "data": {
      "text/plain": [
       "RATE_STATUS_CODE\n",
       "1    10612139\n",
       "9      390272\n",
       "6      150296\n",
       "5       88698\n",
       "Z       75898\n",
       "2       71652\n",
       "4       46560\n",
       "3       37233\n",
       "*       36707\n",
       "7       27726\n",
       "E       11547\n",
       "B        7202\n",
       "8        4339\n",
       "0        1405\n",
       "C        1002\n",
       "S          99\n",
       "G           1\n",
       "Name: count, dtype: int64"
      ]
     },
     "execution_count": 31,
     "metadata": {},
     "output_type": "execute_result"
    }
   ],
   "source": [
    "unfunded_trade['RATE_STATUS_CODE'].value_counts()"
   ]
  },
  {
   "cell_type": "code",
   "execution_count": 84,
   "metadata": {},
   "outputs": [
    {
     "data": {
      "text/plain": [
       "RATE_STATUS_CODE\n",
       "7    27040\n",
       "Name: count, dtype: int64"
      ]
     },
     "execution_count": 84,
     "metadata": {},
     "output_type": "execute_result"
    }
   ],
   "source": [
    "unfunded_trade[unfunded_trade['NARRATIVE_CODE_1'] == 'DO']['RATE_STATUS_CODE'].value_counts()"
   ]
  },
  {
   "cell_type": "code",
   "execution_count": 86,
   "metadata": {},
   "outputs": [
    {
     "data": {
      "text/plain": [
       "NARRATIVE_CODE_1\n",
       "DO    27040\n",
       "IR      303\n",
       "IP      180\n",
       "IQ      156\n",
       "GS       25\n",
       "FW        9\n",
       "GF        4\n",
       "EP        1\n",
       "Name: count, dtype: int64"
      ]
     },
     "execution_count": 86,
     "metadata": {},
     "output_type": "execute_result"
    }
   ],
   "source": [
    "unfunded_trade[unfunded_trade['RATE_STATUS_CODE'] == '7']['NARRATIVE_CODE_1'].value_counts()"
   ]
  },
  {
   "cell_type": "code",
   "execution_count": null,
   "metadata": {
    "scrolled": true
   },
   "outputs": [],
   "source": [
    "proxy_date_df = target_generator.get_dqDates(unfunded_trade)"
   ]
  },
  {
   "cell_type": "code",
   "execution_count": 63,
   "metadata": {},
   "outputs": [
    {
     "name": "stdout",
     "output_type": "stream",
     "text": [
      "--- Transforming date formats ---\n",
      "Warning! Cannot covert CLOSED_DATE to datetime using %m%d%Y format! Please check the asset dates format!\n",
      "Trying to convert datetime using inferred datetime format...\n",
      "Warning! Cannot covert PREVIOUS_HIGH_DATE_BEFORE_HISTORY to datetime using %m%Y format! Please check the asset dates format!\n",
      "Trying to convert datetime using inferred datetime format...\n",
      "Warning! Cannot covert LAST_PAYMENT_DATE to datetime using %m%d%Y format! Please check the asset dates format!\n",
      "Trying to convert datetime using inferred datetime format...\n",
      "Warning! Cannot covert DFD_DLA to datetime using %m%d%Y format! Please check the asset dates format!\n",
      "Trying to convert datetime using inferred datetime format...\n",
      "Warning! Cannot covert PREVIOUS_HIGH_DATE_3 to datetime using %m%Y format! Please check the asset dates format!\n",
      "Trying to convert datetime using inferred datetime format...\n",
      "Warning! Cannot covert DMD_REPORTED to datetime using %m%d%Y format! Please check the asset dates format!\n",
      "Trying to convert datetime using inferred datetime format...\n",
      "Warning! Cannot covert DEFERRED_PAYMENT_START_DATE to datetime using %m%d%Y format! Please check the asset dates format!\n",
      "Trying to convert datetime using inferred datetime format...\n",
      "Warning! Cannot covert PREVIOUS_HIGH_DATE_2 to datetime using %m%Y format! Please check the asset dates format!\n",
      "Trying to convert datetime using inferred datetime format...\n",
      "Warning! Cannot covert PREVIOUS_HIGH_DATE_1 to datetime using %m%Y format! Please check the asset dates format!\n",
      "Trying to convert datetime using inferred datetime format...\n",
      "--- Selecting loan types in ['00'] ---\n",
      "--- Selecting loan periods within [-30, 90] days ---\n",
      "--- Implementing additional data preprocess ---\n",
      "--- Getting DQ/CO dates from: ---\n",
      "    get_coAmt_dq_date\n",
      "    get_code_dq_date\n",
      "    get_dmd_dq_date\n",
      "    get_highRate_dq_date\n",
      "    get_pattern_dq_date\n",
      "--- Implementing additional proxy date postprocess ---\n"
     ]
    }
   ],
   "source": [
    "temp = target_generator_nobnk.get_dqDates(unfunded_trade)"
   ]
  },
  {
   "cell_type": "code",
   "execution_count": 12,
   "metadata": {
    "scrolled": true
   },
   "outputs": [
    {
     "name": "stdout",
     "output_type": "stream",
     "text": [
      "--- Transforming date formats ---\n",
      "Warning! Cannot covert CLOSED_DATE to datetime using %m%d%Y format! Please check the asset dates format!\n",
      "Trying to convert datetime using inferred datetime format...\n",
      "Warning! Cannot covert PREVIOUS_HIGH_DATE_BEFORE_HISTORY to datetime using %m%Y format! Please check the asset dates format!\n",
      "Trying to convert datetime using inferred datetime format...\n",
      "Warning! Cannot covert LAST_PAYMENT_DATE to datetime using %m%d%Y format! Please check the asset dates format!\n",
      "Trying to convert datetime using inferred datetime format...\n",
      "Warning! Cannot covert DFD_DLA to datetime using %m%d%Y format! Please check the asset dates format!\n",
      "Trying to convert datetime using inferred datetime format...\n",
      "Warning! Cannot covert PREVIOUS_HIGH_DATE_3 to datetime using %m%Y format! Please check the asset dates format!\n",
      "Trying to convert datetime using inferred datetime format...\n",
      "Warning! Cannot covert DMD_REPORTED to datetime using %m%d%Y format! Please check the asset dates format!\n",
      "Trying to convert datetime using inferred datetime format...\n",
      "Warning! Cannot covert DEFERRED_PAYMENT_START_DATE to datetime using %m%d%Y format! Please check the asset dates format!\n",
      "Trying to convert datetime using inferred datetime format...\n",
      "Warning! Cannot covert PREVIOUS_HIGH_DATE_2 to datetime using %m%Y format! Please check the asset dates format!\n",
      "Trying to convert datetime using inferred datetime format...\n",
      "Warning! Cannot covert PREVIOUS_HIGH_DATE_1 to datetime using %m%Y format! Please check the asset dates format!\n",
      "Trying to convert datetime using inferred datetime format...\n",
      "--- Selecting loan types in ['00'] ---\n",
      "--- Selecting loan periods within [-30, 90] days ---\n",
      "--- Implementing additional data preprocess ---\n",
      "--- Getting DQ/CO dates from: ---\n",
      "    get_coAmt_dq_date\n",
      "    get_code_dq_date\n",
      "    get_dmd_dq_date\n",
      "    get_highRate_dq_date\n",
      "    get_pattern_dq_date\n",
      "--- Implementing additional proxy date postprocess ---\n"
     ]
    }
   ],
   "source": [
    "proxy_date_df_nobnk = target_generator_nobnk.get_dqDates(unfunded_trade)"
   ]
  },
  {
   "cell_type": "code",
   "execution_count": 64,
   "metadata": {},
   "outputs": [
    {
     "data": {
      "text/plain": [
       "(166029, 105)"
      ]
     },
     "execution_count": 64,
     "metadata": {},
     "output_type": "execute_result"
    }
   ],
   "source": [
    "temp.shape"
   ]
  },
  {
   "cell_type": "code",
   "execution_count": 65,
   "metadata": {},
   "outputs": [
    {
     "data": {
      "text/plain": [
       "144935"
      ]
     },
     "execution_count": 65,
     "metadata": {},
     "output_type": "execute_result"
    }
   ],
   "source": [
    "temp.ZEST_KEY.nunique()"
   ]
  },
  {
   "cell_type": "code",
   "execution_count": 80,
   "metadata": {},
   "outputs": [
    {
     "data": {
      "text/plain": [
       "DateCO_source\n",
       "dmd         693\n",
       "highRate     41\n",
       "pattern      35\n",
       "Name: count, dtype: int64"
      ]
     },
     "execution_count": 80,
     "metadata": {},
     "output_type": "execute_result"
    }
   ],
   "source": [
    "temp[temp['NARRATIVE_CODE_1'] == 'DO']['DateCO_source'].value_counts()"
   ]
  },
  {
   "cell_type": "code",
   "execution_count": 85,
   "metadata": {},
   "outputs": [
    {
     "data": {
      "text/html": [
       "<div>\n",
       "<style scoped>\n",
       "    .dataframe tbody tr th:only-of-type {\n",
       "        vertical-align: middle;\n",
       "    }\n",
       "\n",
       "    .dataframe tbody tr th {\n",
       "        vertical-align: top;\n",
       "    }\n",
       "\n",
       "    .dataframe thead th {\n",
       "        text-align: right;\n",
       "    }\n",
       "</style>\n",
       "<table border=\"1\" class=\"dataframe\">\n",
       "  <thead>\n",
       "    <tr style=\"text-align: right;\">\n",
       "      <th></th>\n",
       "      <th>ZEST_KEY</th>\n",
       "      <th>SEG_SEQ</th>\n",
       "      <th>SEG_PARENT</th>\n",
       "      <th>SEG_PARENT_SEQ</th>\n",
       "      <th>SEGMENT_TYPE</th>\n",
       "      <th>CUSTOMER_NAME</th>\n",
       "      <th>CUSTOMER_NUMBER</th>\n",
       "      <th>DATE_REPORTED</th>\n",
       "      <th>DATE_OPENED</th>\n",
       "      <th>HIGH_CREDIT</th>\n",
       "      <th>CREDIT_LIMIT</th>\n",
       "      <th>BALANCE</th>\n",
       "      <th>PAST_DUE_AMOUNT</th>\n",
       "      <th>PORTFOLIO_TYPE</th>\n",
       "      <th>AUTOMATED_UPDATE_INDICATOR</th>\n",
       "      <th>MONTHS_REVIEWED</th>\n",
       "      <th>ECOA_DESIGNATOR</th>\n",
       "      <th>ACCOUNT_NUMBER</th>\n",
       "      <th>30_DAY_COUNTERS</th>\n",
       "      <th>60_DAY_COUNTERS</th>\n",
       "      <th>90+_DAY_COUNTERS</th>\n",
       "      <th>PREVIOUS_HIGH_RATE_1</th>\n",
       "      <th>PREVIOUS_HIGH_DATE_1</th>\n",
       "      <th>PREVIOUS_HIGH_RATE_2</th>\n",
       "      <th>PREVIOUS_HIGH_DATE_2</th>\n",
       "      <th>PREVIOUS_HIGH_RATE_3</th>\n",
       "      <th>PREVIOUS_HIGH_DATE_3</th>\n",
       "      <th>DFD_DLA</th>\n",
       "      <th>NARRATIVE_CODE_1</th>\n",
       "      <th>NARRATIVE_CODE_2</th>\n",
       "      <th>NARRATIVE_CODE_3</th>\n",
       "      <th>NARRATIVE_CODE_4</th>\n",
       "      <th>ACCOUNT_TYPE</th>\n",
       "      <th>LAST_PAYMENT_DATE</th>\n",
       "      <th>CLOSED_DATE</th>\n",
       "      <th>DMD_REPORTED</th>\n",
       "      <th>ACTUAL_PAYMENT_AMOUNT</th>\n",
       "      <th>SCHEDULED_PAYMENT_AMOUNT</th>\n",
       "      <th>TERMS_FREQUENCY</th>\n",
       "      <th>TERMS_DURATION</th>\n",
       "      <th>INDICATOR</th>\n",
       "      <th>NAME</th>\n",
       "      <th>CREDITOR_CLASSIFICATION</th>\n",
       "      <th>ACTIVITY_DESIGNATOR</th>\n",
       "      <th>ORIGINAL_CHARGE_OFF_AMOUNT</th>\n",
       "      <th>DEFERRED_PAYMENT_START_DATE</th>\n",
       "      <th>BALLOON_PAYMENT_AMOUNT</th>\n",
       "      <th>BALLOON_PAYMENT_DUE_DATE</th>\n",
       "      <th>MORTGAGE_ID_NUMBER</th>\n",
       "      <th>PAYMENT_HISTORY_1_24</th>\n",
       "      <th>PAYMENT_HISTORY_25_36</th>\n",
       "      <th>PAYMENT_HISTORY_37_48</th>\n",
       "      <th>PREVIOUS_HIGH_RATE_BEFORE_HISTORY</th>\n",
       "      <th>PREVIOUS_HIGH_DATE_BEFORE_HISTORY</th>\n",
       "      <th>NARRATIVE_CODE_1X</th>\n",
       "      <th>NARRATIVE_CODE_2X</th>\n",
       "      <th>NARRATIVE_CODE_3X</th>\n",
       "      <th>NARRATIVE_CODE_4X</th>\n",
       "      <th>RECENT_TRADE_FLAG</th>\n",
       "      <th>QUALIFYING_FLAG</th>\n",
       "      <th>ARCHIVE_DATA</th>\n",
       "      <th>appId</th>\n",
       "      <th>appDate</th>\n",
       "      <th>flgFunded</th>\n",
       "      <th>flgApproved</th>\n",
       "      <th>DateCO_coAmt_1</th>\n",
       "      <th>DateCO_coAmt_2</th>\n",
       "      <th>DateCO_coAmt_3</th>\n",
       "      <th>DateCO_coAmt_4</th>\n",
       "      <th>DateCO_code_1</th>\n",
       "      <th>DateCO_code_2</th>\n",
       "      <th>DateCO_code_3</th>\n",
       "      <th>DateCO_code_4</th>\n",
       "      <th>DateCO_code_5</th>\n",
       "      <th>DateCO_code_6</th>\n",
       "      <th>DateCO_code_7</th>\n",
       "      <th>DateCO_code_8</th>\n",
       "      <th>DateCO_code_9</th>\n",
       "      <th>DateCO_code_10</th>\n",
       "      <th>DateCO_code_11</th>\n",
       "      <th>DateCO_code_12</th>\n",
       "      <th>DateCO_code_13</th>\n",
       "      <th>DateCO_code_14</th>\n",
       "      <th>DateCO_code_15</th>\n",
       "      <th>DateCO_dmd</th>\n",
       "      <th>DateDQ30_highRate</th>\n",
       "      <th>DateDQ60_highRate</th>\n",
       "      <th>DateDQ90_highRate</th>\n",
       "      <th>DateDQ120_highRate</th>\n",
       "      <th>DateCO_highRate</th>\n",
       "      <th>DateDQ30_pattern</th>\n",
       "      <th>DateDQ60_pattern</th>\n",
       "      <th>DateDQ90_pattern</th>\n",
       "      <th>DateDQ120_pattern</th>\n",
       "      <th>DateCO_pattern</th>\n",
       "      <th>DateDQ30</th>\n",
       "      <th>DateDQ30_source</th>\n",
       "      <th>DateDQ60</th>\n",
       "      <th>DateDQ60_source</th>\n",
       "      <th>DateDQ90</th>\n",
       "      <th>DateDQ90_source</th>\n",
       "      <th>DateDQ120</th>\n",
       "      <th>DateDQ120_source</th>\n",
       "      <th>DateCO</th>\n",
       "      <th>DateCO_source</th>\n",
       "    </tr>\n",
       "  </thead>\n",
       "  <tbody>\n",
       "    <tr>\n",
       "      <th>39462</th>\n",
       "      <td>71236224_1_229_22</td>\n",
       "      <td>9</td>\n",
       "      <td>FULL-Header</td>\n",
       "      <td>9</td>\n",
       "      <td>PT</td>\n",
       "      <td>None</td>\n",
       "      <td>FC</td>\n",
       "      <td>2024-10-31</td>\n",
       "      <td>2021-03-31</td>\n",
       "      <td>None</td>\n",
       "      <td>None</td>\n",
       "      <td>None</td>\n",
       "      <td>None</td>\n",
       "      <td>*</td>\n",
       "      <td>*</td>\n",
       "      <td>43</td>\n",
       "      <td>I</td>\n",
       "      <td>None</td>\n",
       "      <td>02</td>\n",
       "      <td>00</td>\n",
       "      <td>00</td>\n",
       "      <td>2</td>\n",
       "      <td>2024-07-01</td>\n",
       "      <td>2</td>\n",
       "      <td>2023-10-01</td>\n",
       "      <td>None</td>\n",
       "      <td>NaT</td>\n",
       "      <td>2024-10-01</td>\n",
       "      <td>DO</td>\n",
       "      <td>KB</td>\n",
       "      <td>None</td>\n",
       "      <td>None</td>\n",
       "      <td>00</td>\n",
       "      <td>2024-08-01</td>\n",
       "      <td>NaT</td>\n",
       "      <td>2024-10-01</td>\n",
       "      <td>None</td>\n",
       "      <td>None</td>\n",
       "      <td>None</td>\n",
       "      <td>None</td>\n",
       "      <td>None</td>\n",
       "      <td>None</td>\n",
       "      <td>None</td>\n",
       "      <td>None</td>\n",
       "      <td>NaN</td>\n",
       "      <td>NaT</td>\n",
       "      <td>None</td>\n",
       "      <td>None</td>\n",
       "      <td>None</td>\n",
       "      <td>112111111112/111111111111</td>\n",
       "      <td>/1111111111*1</td>\n",
       "      <td>/111111******</td>\n",
       "      <td>*</td>\n",
       "      <td>NaT</td>\n",
       "      <td>086</td>\n",
       "      <td>279</td>\n",
       "      <td>None</td>\n",
       "      <td>None</td>\n",
       "      <td>Y</td>\n",
       "      <td>Y</td>\n",
       "      <td>None</td>\n",
       "      <td>71236224</td>\n",
       "      <td>2021-03-22</td>\n",
       "      <td>0</td>\n",
       "      <td>0</td>\n",
       "      <td>NaT</td>\n",
       "      <td>NaT</td>\n",
       "      <td>NaT</td>\n",
       "      <td>NaT</td>\n",
       "      <td>NaT</td>\n",
       "      <td>NaT</td>\n",
       "      <td>NaT</td>\n",
       "      <td>NaT</td>\n",
       "      <td>NaT</td>\n",
       "      <td>NaT</td>\n",
       "      <td>NaT</td>\n",
       "      <td>NaT</td>\n",
       "      <td>NaT</td>\n",
       "      <td>NaT</td>\n",
       "      <td>NaT</td>\n",
       "      <td>NaT</td>\n",
       "      <td>NaT</td>\n",
       "      <td>NaT</td>\n",
       "      <td>NaT</td>\n",
       "      <td>2024-10-01</td>\n",
       "      <td>2023-10-01</td>\n",
       "      <td>NaT</td>\n",
       "      <td>NaT</td>\n",
       "      <td>NaT</td>\n",
       "      <td>NaT</td>\n",
       "      <td>2023-11-01</td>\n",
       "      <td>NaT</td>\n",
       "      <td>NaT</td>\n",
       "      <td>NaT</td>\n",
       "      <td>NaT</td>\n",
       "      <td>2023-10-01</td>\n",
       "      <td>highRate</td>\n",
       "      <td>NaT</td>\n",
       "      <td>NaN</td>\n",
       "      <td>NaT</td>\n",
       "      <td>NaN</td>\n",
       "      <td>NaT</td>\n",
       "      <td>NaN</td>\n",
       "      <td>2024-10-01</td>\n",
       "      <td>dmd</td>\n",
       "    </tr>\n",
       "    <tr>\n",
       "      <th>64437</th>\n",
       "      <td>81328290_1_229_22</td>\n",
       "      <td>3</td>\n",
       "      <td>FULL-Header</td>\n",
       "      <td>3</td>\n",
       "      <td>PT</td>\n",
       "      <td>None</td>\n",
       "      <td>FC</td>\n",
       "      <td>2025-03-31</td>\n",
       "      <td>2022-06-28</td>\n",
       "      <td>None</td>\n",
       "      <td>None</td>\n",
       "      <td>None</td>\n",
       "      <td>None</td>\n",
       "      <td>*</td>\n",
       "      <td>*</td>\n",
       "      <td>33</td>\n",
       "      <td>J</td>\n",
       "      <td>None</td>\n",
       "      <td>00</td>\n",
       "      <td>00</td>\n",
       "      <td>00</td>\n",
       "      <td>None</td>\n",
       "      <td>NaT</td>\n",
       "      <td>None</td>\n",
       "      <td>NaT</td>\n",
       "      <td>None</td>\n",
       "      <td>NaT</td>\n",
       "      <td>2023-11-01</td>\n",
       "      <td>DO</td>\n",
       "      <td>KB</td>\n",
       "      <td>None</td>\n",
       "      <td>None</td>\n",
       "      <td>00</td>\n",
       "      <td>2025-03-01</td>\n",
       "      <td>NaT</td>\n",
       "      <td>2023-05-01</td>\n",
       "      <td>None</td>\n",
       "      <td>None</td>\n",
       "      <td>None</td>\n",
       "      <td>None</td>\n",
       "      <td>None</td>\n",
       "      <td>None</td>\n",
       "      <td>None</td>\n",
       "      <td>None</td>\n",
       "      <td>NaN</td>\n",
       "      <td>NaT</td>\n",
       "      <td>None</td>\n",
       "      <td>None</td>\n",
       "      <td>None</td>\n",
       "      <td>************/*********111</td>\n",
       "      <td>/11111111****</td>\n",
       "      <td>/************</td>\n",
       "      <td>*</td>\n",
       "      <td>NaT</td>\n",
       "      <td>086</td>\n",
       "      <td>279</td>\n",
       "      <td>None</td>\n",
       "      <td>None</td>\n",
       "      <td>Y</td>\n",
       "      <td>Y</td>\n",
       "      <td>None</td>\n",
       "      <td>81328290</td>\n",
       "      <td>2022-05-04</td>\n",
       "      <td>0</td>\n",
       "      <td>0</td>\n",
       "      <td>NaT</td>\n",
       "      <td>NaT</td>\n",
       "      <td>NaT</td>\n",
       "      <td>NaT</td>\n",
       "      <td>NaT</td>\n",
       "      <td>NaT</td>\n",
       "      <td>NaT</td>\n",
       "      <td>NaT</td>\n",
       "      <td>NaT</td>\n",
       "      <td>NaT</td>\n",
       "      <td>NaT</td>\n",
       "      <td>NaT</td>\n",
       "      <td>NaT</td>\n",
       "      <td>NaT</td>\n",
       "      <td>NaT</td>\n",
       "      <td>NaT</td>\n",
       "      <td>NaT</td>\n",
       "      <td>NaT</td>\n",
       "      <td>NaT</td>\n",
       "      <td>2023-05-01</td>\n",
       "      <td>NaT</td>\n",
       "      <td>NaT</td>\n",
       "      <td>NaT</td>\n",
       "      <td>NaT</td>\n",
       "      <td>NaT</td>\n",
       "      <td>NaT</td>\n",
       "      <td>NaT</td>\n",
       "      <td>NaT</td>\n",
       "      <td>NaT</td>\n",
       "      <td>NaT</td>\n",
       "      <td>NaT</td>\n",
       "      <td>NaN</td>\n",
       "      <td>NaT</td>\n",
       "      <td>NaN</td>\n",
       "      <td>NaT</td>\n",
       "      <td>NaN</td>\n",
       "      <td>NaT</td>\n",
       "      <td>NaN</td>\n",
       "      <td>2023-05-01</td>\n",
       "      <td>dmd</td>\n",
       "    </tr>\n",
       "    <tr>\n",
       "      <th>64440</th>\n",
       "      <td>81328290_1_229_22</td>\n",
       "      <td>6</td>\n",
       "      <td>FULL-Header</td>\n",
       "      <td>6</td>\n",
       "      <td>PT</td>\n",
       "      <td>None</td>\n",
       "      <td>FC</td>\n",
       "      <td>2025-03-31</td>\n",
       "      <td>2022-05-06</td>\n",
       "      <td>None</td>\n",
       "      <td>None</td>\n",
       "      <td>None</td>\n",
       "      <td>None</td>\n",
       "      <td>*</td>\n",
       "      <td>*</td>\n",
       "      <td>34</td>\n",
       "      <td>J</td>\n",
       "      <td>None</td>\n",
       "      <td>00</td>\n",
       "      <td>00</td>\n",
       "      <td>00</td>\n",
       "      <td>None</td>\n",
       "      <td>NaT</td>\n",
       "      <td>None</td>\n",
       "      <td>NaT</td>\n",
       "      <td>None</td>\n",
       "      <td>NaT</td>\n",
       "      <td>2023-06-01</td>\n",
       "      <td>DO</td>\n",
       "      <td>KB</td>\n",
       "      <td>EP</td>\n",
       "      <td>None</td>\n",
       "      <td>00</td>\n",
       "      <td>2025-03-01</td>\n",
       "      <td>NaT</td>\n",
       "      <td>2023-05-01</td>\n",
       "      <td>None</td>\n",
       "      <td>None</td>\n",
       "      <td>None</td>\n",
       "      <td>None</td>\n",
       "      <td>None</td>\n",
       "      <td>None</td>\n",
       "      <td>None</td>\n",
       "      <td>None</td>\n",
       "      <td>NaN</td>\n",
       "      <td>NaT</td>\n",
       "      <td>None</td>\n",
       "      <td>None</td>\n",
       "      <td>None</td>\n",
       "      <td>************/*********111</td>\n",
       "      <td>/111111111***</td>\n",
       "      <td>/************</td>\n",
       "      <td>*</td>\n",
       "      <td>NaT</td>\n",
       "      <td>086</td>\n",
       "      <td>279</td>\n",
       "      <td>132</td>\n",
       "      <td>None</td>\n",
       "      <td>Y</td>\n",
       "      <td>Y</td>\n",
       "      <td>None</td>\n",
       "      <td>81328290</td>\n",
       "      <td>2022-05-04</td>\n",
       "      <td>0</td>\n",
       "      <td>0</td>\n",
       "      <td>NaT</td>\n",
       "      <td>NaT</td>\n",
       "      <td>NaT</td>\n",
       "      <td>NaT</td>\n",
       "      <td>NaT</td>\n",
       "      <td>NaT</td>\n",
       "      <td>NaT</td>\n",
       "      <td>NaT</td>\n",
       "      <td>NaT</td>\n",
       "      <td>NaT</td>\n",
       "      <td>NaT</td>\n",
       "      <td>NaT</td>\n",
       "      <td>NaT</td>\n",
       "      <td>NaT</td>\n",
       "      <td>NaT</td>\n",
       "      <td>NaT</td>\n",
       "      <td>NaT</td>\n",
       "      <td>NaT</td>\n",
       "      <td>NaT</td>\n",
       "      <td>2023-05-01</td>\n",
       "      <td>NaT</td>\n",
       "      <td>NaT</td>\n",
       "      <td>NaT</td>\n",
       "      <td>NaT</td>\n",
       "      <td>NaT</td>\n",
       "      <td>NaT</td>\n",
       "      <td>NaT</td>\n",
       "      <td>NaT</td>\n",
       "      <td>NaT</td>\n",
       "      <td>NaT</td>\n",
       "      <td>NaT</td>\n",
       "      <td>NaN</td>\n",
       "      <td>NaT</td>\n",
       "      <td>NaN</td>\n",
       "      <td>NaT</td>\n",
       "      <td>NaN</td>\n",
       "      <td>NaT</td>\n",
       "      <td>NaN</td>\n",
       "      <td>2023-05-01</td>\n",
       "      <td>dmd</td>\n",
       "    </tr>\n",
       "    <tr>\n",
       "      <th>121705</th>\n",
       "      <td>81220064_1_229_22</td>\n",
       "      <td>10</td>\n",
       "      <td>FULL-Header</td>\n",
       "      <td>10</td>\n",
       "      <td>PT</td>\n",
       "      <td>None</td>\n",
       "      <td>FC</td>\n",
       "      <td>2023-12-31</td>\n",
       "      <td>2022-05-02</td>\n",
       "      <td>None</td>\n",
       "      <td>None</td>\n",
       "      <td>None</td>\n",
       "      <td>None</td>\n",
       "      <td>*</td>\n",
       "      <td>*</td>\n",
       "      <td>19</td>\n",
       "      <td>M</td>\n",
       "      <td>None</td>\n",
       "      <td>00</td>\n",
       "      <td>00</td>\n",
       "      <td>00</td>\n",
       "      <td>None</td>\n",
       "      <td>NaT</td>\n",
       "      <td>None</td>\n",
       "      <td>NaT</td>\n",
       "      <td>None</td>\n",
       "      <td>NaT</td>\n",
       "      <td>2023-06-01</td>\n",
       "      <td>DO</td>\n",
       "      <td>KB</td>\n",
       "      <td>None</td>\n",
       "      <td>None</td>\n",
       "      <td>00</td>\n",
       "      <td>2023-07-01</td>\n",
       "      <td>NaT</td>\n",
       "      <td>2023-06-01</td>\n",
       "      <td>None</td>\n",
       "      <td>None</td>\n",
       "      <td>None</td>\n",
       "      <td>None</td>\n",
       "      <td>None</td>\n",
       "      <td>None</td>\n",
       "      <td>None</td>\n",
       "      <td>None</td>\n",
       "      <td>NaN</td>\n",
       "      <td>NaT</td>\n",
       "      <td>None</td>\n",
       "      <td>None</td>\n",
       "      <td>None</td>\n",
       "      <td>******111111/111111******</td>\n",
       "      <td>/************</td>\n",
       "      <td>/************</td>\n",
       "      <td>*</td>\n",
       "      <td>NaT</td>\n",
       "      <td>086</td>\n",
       "      <td>279</td>\n",
       "      <td>None</td>\n",
       "      <td>None</td>\n",
       "      <td>Y</td>\n",
       "      <td>Y</td>\n",
       "      <td>None</td>\n",
       "      <td>81220064</td>\n",
       "      <td>2022-04-30</td>\n",
       "      <td>0</td>\n",
       "      <td>1</td>\n",
       "      <td>NaT</td>\n",
       "      <td>NaT</td>\n",
       "      <td>NaT</td>\n",
       "      <td>NaT</td>\n",
       "      <td>NaT</td>\n",
       "      <td>NaT</td>\n",
       "      <td>NaT</td>\n",
       "      <td>NaT</td>\n",
       "      <td>NaT</td>\n",
       "      <td>NaT</td>\n",
       "      <td>NaT</td>\n",
       "      <td>NaT</td>\n",
       "      <td>NaT</td>\n",
       "      <td>NaT</td>\n",
       "      <td>NaT</td>\n",
       "      <td>NaT</td>\n",
       "      <td>NaT</td>\n",
       "      <td>NaT</td>\n",
       "      <td>NaT</td>\n",
       "      <td>2023-06-01</td>\n",
       "      <td>NaT</td>\n",
       "      <td>NaT</td>\n",
       "      <td>NaT</td>\n",
       "      <td>NaT</td>\n",
       "      <td>NaT</td>\n",
       "      <td>NaT</td>\n",
       "      <td>NaT</td>\n",
       "      <td>NaT</td>\n",
       "      <td>NaT</td>\n",
       "      <td>NaT</td>\n",
       "      <td>NaT</td>\n",
       "      <td>NaN</td>\n",
       "      <td>NaT</td>\n",
       "      <td>NaN</td>\n",
       "      <td>NaT</td>\n",
       "      <td>NaN</td>\n",
       "      <td>NaT</td>\n",
       "      <td>NaN</td>\n",
       "      <td>2023-06-01</td>\n",
       "      <td>dmd</td>\n",
       "    </tr>\n",
       "    <tr>\n",
       "      <th>180637</th>\n",
       "      <td>80834990_1_229_22</td>\n",
       "      <td>10</td>\n",
       "      <td>FULL-Header</td>\n",
       "      <td>10</td>\n",
       "      <td>PT</td>\n",
       "      <td>None</td>\n",
       "      <td>FC</td>\n",
       "      <td>2025-03-31</td>\n",
       "      <td>2022-05-03</td>\n",
       "      <td>None</td>\n",
       "      <td>None</td>\n",
       "      <td>None</td>\n",
       "      <td>None</td>\n",
       "      <td>*</td>\n",
       "      <td>*</td>\n",
       "      <td>34</td>\n",
       "      <td>I</td>\n",
       "      <td>None</td>\n",
       "      <td>01</td>\n",
       "      <td>01</td>\n",
       "      <td>00</td>\n",
       "      <td>3</td>\n",
       "      <td>2023-11-01</td>\n",
       "      <td>2</td>\n",
       "      <td>2023-10-01</td>\n",
       "      <td>None</td>\n",
       "      <td>NaT</td>\n",
       "      <td>2024-02-01</td>\n",
       "      <td>DO</td>\n",
       "      <td>KB</td>\n",
       "      <td>None</td>\n",
       "      <td>None</td>\n",
       "      <td>00</td>\n",
       "      <td>2024-01-01</td>\n",
       "      <td>NaT</td>\n",
       "      <td>2024-02-01</td>\n",
       "      <td>None</td>\n",
       "      <td>None</td>\n",
       "      <td>None</td>\n",
       "      <td>None</td>\n",
       "      <td>None</td>\n",
       "      <td>None</td>\n",
       "      <td>None</td>\n",
       "      <td>None</td>\n",
       "      <td>NaN</td>\n",
       "      <td>NaT</td>\n",
       "      <td>None</td>\n",
       "      <td>None</td>\n",
       "      <td>None</td>\n",
       "      <td>************/*11321111111</td>\n",
       "      <td>/111111111***</td>\n",
       "      <td>/************</td>\n",
       "      <td>*</td>\n",
       "      <td>NaT</td>\n",
       "      <td>086</td>\n",
       "      <td>279</td>\n",
       "      <td>None</td>\n",
       "      <td>None</td>\n",
       "      <td>Y</td>\n",
       "      <td>Y</td>\n",
       "      <td>None</td>\n",
       "      <td>80834990</td>\n",
       "      <td>2022-04-18</td>\n",
       "      <td>0</td>\n",
       "      <td>1</td>\n",
       "      <td>NaT</td>\n",
       "      <td>NaT</td>\n",
       "      <td>NaT</td>\n",
       "      <td>NaT</td>\n",
       "      <td>NaT</td>\n",
       "      <td>NaT</td>\n",
       "      <td>NaT</td>\n",
       "      <td>NaT</td>\n",
       "      <td>NaT</td>\n",
       "      <td>NaT</td>\n",
       "      <td>NaT</td>\n",
       "      <td>NaT</td>\n",
       "      <td>NaT</td>\n",
       "      <td>NaT</td>\n",
       "      <td>NaT</td>\n",
       "      <td>NaT</td>\n",
       "      <td>NaT</td>\n",
       "      <td>NaT</td>\n",
       "      <td>NaT</td>\n",
       "      <td>2024-02-01</td>\n",
       "      <td>2023-10-01</td>\n",
       "      <td>2023-11-01</td>\n",
       "      <td>NaT</td>\n",
       "      <td>NaT</td>\n",
       "      <td>NaT</td>\n",
       "      <td>2023-11-01</td>\n",
       "      <td>2023-12-02</td>\n",
       "      <td>NaT</td>\n",
       "      <td>NaT</td>\n",
       "      <td>NaT</td>\n",
       "      <td>2023-10-01</td>\n",
       "      <td>highRate</td>\n",
       "      <td>2023-11-01</td>\n",
       "      <td>highRate</td>\n",
       "      <td>NaT</td>\n",
       "      <td>NaN</td>\n",
       "      <td>NaT</td>\n",
       "      <td>NaN</td>\n",
       "      <td>2024-02-01</td>\n",
       "      <td>dmd</td>\n",
       "    </tr>\n",
       "    <tr>\n",
       "      <th>...</th>\n",
       "      <td>...</td>\n",
       "      <td>...</td>\n",
       "      <td>...</td>\n",
       "      <td>...</td>\n",
       "      <td>...</td>\n",
       "      <td>...</td>\n",
       "      <td>...</td>\n",
       "      <td>...</td>\n",
       "      <td>...</td>\n",
       "      <td>...</td>\n",
       "      <td>...</td>\n",
       "      <td>...</td>\n",
       "      <td>...</td>\n",
       "      <td>...</td>\n",
       "      <td>...</td>\n",
       "      <td>...</td>\n",
       "      <td>...</td>\n",
       "      <td>...</td>\n",
       "      <td>...</td>\n",
       "      <td>...</td>\n",
       "      <td>...</td>\n",
       "      <td>...</td>\n",
       "      <td>...</td>\n",
       "      <td>...</td>\n",
       "      <td>...</td>\n",
       "      <td>...</td>\n",
       "      <td>...</td>\n",
       "      <td>...</td>\n",
       "      <td>...</td>\n",
       "      <td>...</td>\n",
       "      <td>...</td>\n",
       "      <td>...</td>\n",
       "      <td>...</td>\n",
       "      <td>...</td>\n",
       "      <td>...</td>\n",
       "      <td>...</td>\n",
       "      <td>...</td>\n",
       "      <td>...</td>\n",
       "      <td>...</td>\n",
       "      <td>...</td>\n",
       "      <td>...</td>\n",
       "      <td>...</td>\n",
       "      <td>...</td>\n",
       "      <td>...</td>\n",
       "      <td>...</td>\n",
       "      <td>...</td>\n",
       "      <td>...</td>\n",
       "      <td>...</td>\n",
       "      <td>...</td>\n",
       "      <td>...</td>\n",
       "      <td>...</td>\n",
       "      <td>...</td>\n",
       "      <td>...</td>\n",
       "      <td>...</td>\n",
       "      <td>...</td>\n",
       "      <td>...</td>\n",
       "      <td>...</td>\n",
       "      <td>...</td>\n",
       "      <td>...</td>\n",
       "      <td>...</td>\n",
       "      <td>...</td>\n",
       "      <td>...</td>\n",
       "      <td>...</td>\n",
       "      <td>...</td>\n",
       "      <td>...</td>\n",
       "      <td>...</td>\n",
       "      <td>...</td>\n",
       "      <td>...</td>\n",
       "      <td>...</td>\n",
       "      <td>...</td>\n",
       "      <td>...</td>\n",
       "      <td>...</td>\n",
       "      <td>...</td>\n",
       "      <td>...</td>\n",
       "      <td>...</td>\n",
       "      <td>...</td>\n",
       "      <td>...</td>\n",
       "      <td>...</td>\n",
       "      <td>...</td>\n",
       "      <td>...</td>\n",
       "      <td>...</td>\n",
       "      <td>...</td>\n",
       "      <td>...</td>\n",
       "      <td>...</td>\n",
       "      <td>...</td>\n",
       "      <td>...</td>\n",
       "      <td>...</td>\n",
       "      <td>...</td>\n",
       "      <td>...</td>\n",
       "      <td>...</td>\n",
       "      <td>...</td>\n",
       "      <td>...</td>\n",
       "      <td>...</td>\n",
       "      <td>...</td>\n",
       "      <td>...</td>\n",
       "      <td>...</td>\n",
       "      <td>...</td>\n",
       "      <td>...</td>\n",
       "      <td>...</td>\n",
       "      <td>...</td>\n",
       "      <td>...</td>\n",
       "      <td>...</td>\n",
       "      <td>...</td>\n",
       "      <td>...</td>\n",
       "      <td>...</td>\n",
       "    </tr>\n",
       "    <tr>\n",
       "      <th>19154358</th>\n",
       "      <td>76695490_1_229_22</td>\n",
       "      <td>13</td>\n",
       "      <td>FULL-Header</td>\n",
       "      <td>13</td>\n",
       "      <td>PT</td>\n",
       "      <td>None</td>\n",
       "      <td>FC</td>\n",
       "      <td>2024-02-26</td>\n",
       "      <td>2021-10-25</td>\n",
       "      <td>None</td>\n",
       "      <td>None</td>\n",
       "      <td>None</td>\n",
       "      <td>None</td>\n",
       "      <td>*</td>\n",
       "      <td>None</td>\n",
       "      <td>23</td>\n",
       "      <td>I</td>\n",
       "      <td>None</td>\n",
       "      <td>00</td>\n",
       "      <td>00</td>\n",
       "      <td>13</td>\n",
       "      <td>9</td>\n",
       "      <td>2023-12-01</td>\n",
       "      <td>9</td>\n",
       "      <td>2023-11-01</td>\n",
       "      <td>9</td>\n",
       "      <td>2023-10-01</td>\n",
       "      <td>2022-07-01</td>\n",
       "      <td>DO</td>\n",
       "      <td>KB</td>\n",
       "      <td>None</td>\n",
       "      <td>None</td>\n",
       "      <td>00</td>\n",
       "      <td>2024-01-01</td>\n",
       "      <td>NaT</td>\n",
       "      <td>2024-02-01</td>\n",
       "      <td>None</td>\n",
       "      <td>None</td>\n",
       "      <td>None</td>\n",
       "      <td>None</td>\n",
       "      <td>None</td>\n",
       "      <td>None</td>\n",
       "      <td>None</td>\n",
       "      <td>T</td>\n",
       "      <td>NaN</td>\n",
       "      <td>NaT</td>\n",
       "      <td>None</td>\n",
       "      <td>None</td>\n",
       "      <td>None</td>\n",
       "      <td>*99999955555/551****111*1</td>\n",
       "      <td>/111*********</td>\n",
       "      <td>/************</td>\n",
       "      <td>*</td>\n",
       "      <td>NaT</td>\n",
       "      <td>086</td>\n",
       "      <td>279</td>\n",
       "      <td>None</td>\n",
       "      <td>None</td>\n",
       "      <td>Y</td>\n",
       "      <td>Y</td>\n",
       "      <td>None</td>\n",
       "      <td>76695490</td>\n",
       "      <td>2021-11-05</td>\n",
       "      <td>0</td>\n",
       "      <td>0</td>\n",
       "      <td>NaT</td>\n",
       "      <td>NaT</td>\n",
       "      <td>NaT</td>\n",
       "      <td>NaT</td>\n",
       "      <td>NaT</td>\n",
       "      <td>NaT</td>\n",
       "      <td>NaT</td>\n",
       "      <td>NaT</td>\n",
       "      <td>NaT</td>\n",
       "      <td>NaT</td>\n",
       "      <td>NaT</td>\n",
       "      <td>NaT</td>\n",
       "      <td>NaT</td>\n",
       "      <td>NaT</td>\n",
       "      <td>NaT</td>\n",
       "      <td>NaT</td>\n",
       "      <td>NaT</td>\n",
       "      <td>NaT</td>\n",
       "      <td>NaT</td>\n",
       "      <td>2024-02-01</td>\n",
       "      <td>NaT</td>\n",
       "      <td>NaT</td>\n",
       "      <td>NaT</td>\n",
       "      <td>NaT</td>\n",
       "      <td>2023-10-01</td>\n",
       "      <td>2022-09-30</td>\n",
       "      <td>2022-10-30</td>\n",
       "      <td>2022-11-29</td>\n",
       "      <td>2022-12-29</td>\n",
       "      <td>2022-12-29</td>\n",
       "      <td>2022-09-30</td>\n",
       "      <td>pattern</td>\n",
       "      <td>2022-10-30</td>\n",
       "      <td>pattern</td>\n",
       "      <td>2022-11-29</td>\n",
       "      <td>pattern</td>\n",
       "      <td>2022-12-29</td>\n",
       "      <td>pattern</td>\n",
       "      <td>2022-12-29</td>\n",
       "      <td>pattern</td>\n",
       "    </tr>\n",
       "    <tr>\n",
       "      <th>19161472</th>\n",
       "      <td>78579669_1_229_22</td>\n",
       "      <td>1</td>\n",
       "      <td>FULL-Header</td>\n",
       "      <td>1</td>\n",
       "      <td>PT</td>\n",
       "      <td>None</td>\n",
       "      <td>FC</td>\n",
       "      <td>2025-03-31</td>\n",
       "      <td>2022-04-29</td>\n",
       "      <td>None</td>\n",
       "      <td>None</td>\n",
       "      <td>None</td>\n",
       "      <td>None</td>\n",
       "      <td>*</td>\n",
       "      <td>*</td>\n",
       "      <td>10</td>\n",
       "      <td>I</td>\n",
       "      <td>None</td>\n",
       "      <td>00</td>\n",
       "      <td>00</td>\n",
       "      <td>00</td>\n",
       "      <td>None</td>\n",
       "      <td>NaT</td>\n",
       "      <td>None</td>\n",
       "      <td>NaT</td>\n",
       "      <td>None</td>\n",
       "      <td>NaT</td>\n",
       "      <td>2024-06-01</td>\n",
       "      <td>DO</td>\n",
       "      <td>KB</td>\n",
       "      <td>EP</td>\n",
       "      <td>None</td>\n",
       "      <td>00</td>\n",
       "      <td>2025-02-01</td>\n",
       "      <td>NaT</td>\n",
       "      <td>2024-05-01</td>\n",
       "      <td>None</td>\n",
       "      <td>None</td>\n",
       "      <td>None</td>\n",
       "      <td>None</td>\n",
       "      <td>None</td>\n",
       "      <td>None</td>\n",
       "      <td>None</td>\n",
       "      <td>None</td>\n",
       "      <td>NaN</td>\n",
       "      <td>NaT</td>\n",
       "      <td>None</td>\n",
       "      <td>None</td>\n",
       "      <td>None</td>\n",
       "      <td>************/************</td>\n",
       "      <td>/************</td>\n",
       "      <td>/************</td>\n",
       "      <td>*</td>\n",
       "      <td>NaT</td>\n",
       "      <td>086</td>\n",
       "      <td>279</td>\n",
       "      <td>132</td>\n",
       "      <td>None</td>\n",
       "      <td>Y</td>\n",
       "      <td>Y</td>\n",
       "      <td>None</td>\n",
       "      <td>78579669</td>\n",
       "      <td>2022-01-29</td>\n",
       "      <td>0</td>\n",
       "      <td>1</td>\n",
       "      <td>NaT</td>\n",
       "      <td>NaT</td>\n",
       "      <td>NaT</td>\n",
       "      <td>NaT</td>\n",
       "      <td>NaT</td>\n",
       "      <td>NaT</td>\n",
       "      <td>NaT</td>\n",
       "      <td>NaT</td>\n",
       "      <td>NaT</td>\n",
       "      <td>NaT</td>\n",
       "      <td>NaT</td>\n",
       "      <td>NaT</td>\n",
       "      <td>NaT</td>\n",
       "      <td>NaT</td>\n",
       "      <td>NaT</td>\n",
       "      <td>NaT</td>\n",
       "      <td>NaT</td>\n",
       "      <td>NaT</td>\n",
       "      <td>NaT</td>\n",
       "      <td>2024-05-01</td>\n",
       "      <td>NaT</td>\n",
       "      <td>NaT</td>\n",
       "      <td>NaT</td>\n",
       "      <td>NaT</td>\n",
       "      <td>NaT</td>\n",
       "      <td>NaT</td>\n",
       "      <td>NaT</td>\n",
       "      <td>NaT</td>\n",
       "      <td>NaT</td>\n",
       "      <td>NaT</td>\n",
       "      <td>NaT</td>\n",
       "      <td>NaN</td>\n",
       "      <td>NaT</td>\n",
       "      <td>NaN</td>\n",
       "      <td>NaT</td>\n",
       "      <td>NaN</td>\n",
       "      <td>NaT</td>\n",
       "      <td>NaN</td>\n",
       "      <td>2024-05-01</td>\n",
       "      <td>dmd</td>\n",
       "    </tr>\n",
       "    <tr>\n",
       "      <th>19186618</th>\n",
       "      <td>77551610_1_229_22</td>\n",
       "      <td>11</td>\n",
       "      <td>FULL-Header</td>\n",
       "      <td>11</td>\n",
       "      <td>PT</td>\n",
       "      <td>None</td>\n",
       "      <td>FS</td>\n",
       "      <td>2025-03-31</td>\n",
       "      <td>2022-03-01</td>\n",
       "      <td>None</td>\n",
       "      <td>None</td>\n",
       "      <td>None</td>\n",
       "      <td>None</td>\n",
       "      <td>*</td>\n",
       "      <td>*</td>\n",
       "      <td>36</td>\n",
       "      <td>I</td>\n",
       "      <td>None</td>\n",
       "      <td>00</td>\n",
       "      <td>00</td>\n",
       "      <td>00</td>\n",
       "      <td>None</td>\n",
       "      <td>NaT</td>\n",
       "      <td>None</td>\n",
       "      <td>NaT</td>\n",
       "      <td>None</td>\n",
       "      <td>NaT</td>\n",
       "      <td>2024-10-01</td>\n",
       "      <td>DO</td>\n",
       "      <td>KB</td>\n",
       "      <td>EP</td>\n",
       "      <td>None</td>\n",
       "      <td>00</td>\n",
       "      <td>2025-03-01</td>\n",
       "      <td>NaT</td>\n",
       "      <td>2024-09-01</td>\n",
       "      <td>None</td>\n",
       "      <td>None</td>\n",
       "      <td>None</td>\n",
       "      <td>None</td>\n",
       "      <td>None</td>\n",
       "      <td>None</td>\n",
       "      <td>None</td>\n",
       "      <td>None</td>\n",
       "      <td>NaN</td>\n",
       "      <td>NaT</td>\n",
       "      <td>None</td>\n",
       "      <td>None</td>\n",
       "      <td>None</td>\n",
       "      <td>******111111/111111111111</td>\n",
       "      <td>/11111111111*</td>\n",
       "      <td>/************</td>\n",
       "      <td>*</td>\n",
       "      <td>NaT</td>\n",
       "      <td>086</td>\n",
       "      <td>279</td>\n",
       "      <td>132</td>\n",
       "      <td>None</td>\n",
       "      <td>Y</td>\n",
       "      <td>Y</td>\n",
       "      <td>None</td>\n",
       "      <td>77551610</td>\n",
       "      <td>2021-12-13</td>\n",
       "      <td>0</td>\n",
       "      <td>1</td>\n",
       "      <td>NaT</td>\n",
       "      <td>NaT</td>\n",
       "      <td>NaT</td>\n",
       "      <td>NaT</td>\n",
       "      <td>NaT</td>\n",
       "      <td>NaT</td>\n",
       "      <td>NaT</td>\n",
       "      <td>NaT</td>\n",
       "      <td>NaT</td>\n",
       "      <td>NaT</td>\n",
       "      <td>NaT</td>\n",
       "      <td>NaT</td>\n",
       "      <td>NaT</td>\n",
       "      <td>NaT</td>\n",
       "      <td>NaT</td>\n",
       "      <td>NaT</td>\n",
       "      <td>NaT</td>\n",
       "      <td>NaT</td>\n",
       "      <td>NaT</td>\n",
       "      <td>2024-09-01</td>\n",
       "      <td>NaT</td>\n",
       "      <td>NaT</td>\n",
       "      <td>NaT</td>\n",
       "      <td>NaT</td>\n",
       "      <td>NaT</td>\n",
       "      <td>NaT</td>\n",
       "      <td>NaT</td>\n",
       "      <td>NaT</td>\n",
       "      <td>NaT</td>\n",
       "      <td>NaT</td>\n",
       "      <td>NaT</td>\n",
       "      <td>NaN</td>\n",
       "      <td>NaT</td>\n",
       "      <td>NaN</td>\n",
       "      <td>NaT</td>\n",
       "      <td>NaN</td>\n",
       "      <td>NaT</td>\n",
       "      <td>NaN</td>\n",
       "      <td>2024-09-01</td>\n",
       "      <td>dmd</td>\n",
       "    </tr>\n",
       "    <tr>\n",
       "      <th>19244589</th>\n",
       "      <td>78227970_1_229_22</td>\n",
       "      <td>2</td>\n",
       "      <td>FULL-Header</td>\n",
       "      <td>2</td>\n",
       "      <td>PT</td>\n",
       "      <td>None</td>\n",
       "      <td>FC</td>\n",
       "      <td>2025-02-28</td>\n",
       "      <td>2022-01-18</td>\n",
       "      <td>None</td>\n",
       "      <td>None</td>\n",
       "      <td>None</td>\n",
       "      <td>None</td>\n",
       "      <td>*</td>\n",
       "      <td>*</td>\n",
       "      <td>37</td>\n",
       "      <td>I</td>\n",
       "      <td>None</td>\n",
       "      <td>00</td>\n",
       "      <td>00</td>\n",
       "      <td>00</td>\n",
       "      <td>None</td>\n",
       "      <td>NaT</td>\n",
       "      <td>None</td>\n",
       "      <td>NaT</td>\n",
       "      <td>None</td>\n",
       "      <td>NaT</td>\n",
       "      <td>2023-11-01</td>\n",
       "      <td>DO</td>\n",
       "      <td>KB</td>\n",
       "      <td>None</td>\n",
       "      <td>None</td>\n",
       "      <td>00</td>\n",
       "      <td>2025-02-01</td>\n",
       "      <td>NaT</td>\n",
       "      <td>2023-11-01</td>\n",
       "      <td>None</td>\n",
       "      <td>None</td>\n",
       "      <td>None</td>\n",
       "      <td>None</td>\n",
       "      <td>None</td>\n",
       "      <td>None</td>\n",
       "      <td>None</td>\n",
       "      <td>None</td>\n",
       "      <td>NaN</td>\n",
       "      <td>NaT</td>\n",
       "      <td>None</td>\n",
       "      <td>None</td>\n",
       "      <td>None</td>\n",
       "      <td>************/***111111111</td>\n",
       "      <td>/111111111111</td>\n",
       "      <td>/************</td>\n",
       "      <td>*</td>\n",
       "      <td>NaT</td>\n",
       "      <td>086</td>\n",
       "      <td>279</td>\n",
       "      <td>None</td>\n",
       "      <td>None</td>\n",
       "      <td>Y</td>\n",
       "      <td>Y</td>\n",
       "      <td>None</td>\n",
       "      <td>78227970</td>\n",
       "      <td>2022-01-14</td>\n",
       "      <td>0</td>\n",
       "      <td>0</td>\n",
       "      <td>NaT</td>\n",
       "      <td>NaT</td>\n",
       "      <td>NaT</td>\n",
       "      <td>NaT</td>\n",
       "      <td>NaT</td>\n",
       "      <td>NaT</td>\n",
       "      <td>NaT</td>\n",
       "      <td>NaT</td>\n",
       "      <td>NaT</td>\n",
       "      <td>NaT</td>\n",
       "      <td>NaT</td>\n",
       "      <td>NaT</td>\n",
       "      <td>NaT</td>\n",
       "      <td>NaT</td>\n",
       "      <td>NaT</td>\n",
       "      <td>NaT</td>\n",
       "      <td>NaT</td>\n",
       "      <td>NaT</td>\n",
       "      <td>NaT</td>\n",
       "      <td>2023-11-01</td>\n",
       "      <td>NaT</td>\n",
       "      <td>NaT</td>\n",
       "      <td>NaT</td>\n",
       "      <td>NaT</td>\n",
       "      <td>NaT</td>\n",
       "      <td>NaT</td>\n",
       "      <td>NaT</td>\n",
       "      <td>NaT</td>\n",
       "      <td>NaT</td>\n",
       "      <td>NaT</td>\n",
       "      <td>NaT</td>\n",
       "      <td>NaN</td>\n",
       "      <td>NaT</td>\n",
       "      <td>NaN</td>\n",
       "      <td>NaT</td>\n",
       "      <td>NaN</td>\n",
       "      <td>NaT</td>\n",
       "      <td>NaN</td>\n",
       "      <td>2023-11-01</td>\n",
       "      <td>dmd</td>\n",
       "    </tr>\n",
       "    <tr>\n",
       "      <th>19254634</th>\n",
       "      <td>75477328_2_229_22</td>\n",
       "      <td>3</td>\n",
       "      <td>FULL-Header</td>\n",
       "      <td>3</td>\n",
       "      <td>PT</td>\n",
       "      <td>None</td>\n",
       "      <td>FC</td>\n",
       "      <td>2025-03-31</td>\n",
       "      <td>2021-09-15</td>\n",
       "      <td>None</td>\n",
       "      <td>None</td>\n",
       "      <td>None</td>\n",
       "      <td>None</td>\n",
       "      <td>*</td>\n",
       "      <td>*</td>\n",
       "      <td>41</td>\n",
       "      <td>J</td>\n",
       "      <td>None</td>\n",
       "      <td>02</td>\n",
       "      <td>01</td>\n",
       "      <td>01</td>\n",
       "      <td>4</td>\n",
       "      <td>2024-07-01</td>\n",
       "      <td>3</td>\n",
       "      <td>2024-06-01</td>\n",
       "      <td>2</td>\n",
       "      <td>2024-05-01</td>\n",
       "      <td>2024-04-01</td>\n",
       "      <td>DO</td>\n",
       "      <td>KB</td>\n",
       "      <td>EP</td>\n",
       "      <td>None</td>\n",
       "      <td>00</td>\n",
       "      <td>2025-03-01</td>\n",
       "      <td>NaT</td>\n",
       "      <td>2024-07-01</td>\n",
       "      <td>None</td>\n",
       "      <td>None</td>\n",
       "      <td>None</td>\n",
       "      <td>None</td>\n",
       "      <td>None</td>\n",
       "      <td>None</td>\n",
       "      <td>None</td>\n",
       "      <td>None</td>\n",
       "      <td>NaN</td>\n",
       "      <td>NaT</td>\n",
       "      <td>None</td>\n",
       "      <td>None</td>\n",
       "      <td>None</td>\n",
       "      <td>*******43221/111111111111</td>\n",
       "      <td>/111111111111</td>\n",
       "      <td>/11111*******</td>\n",
       "      <td>*</td>\n",
       "      <td>NaT</td>\n",
       "      <td>086</td>\n",
       "      <td>279</td>\n",
       "      <td>132</td>\n",
       "      <td>None</td>\n",
       "      <td>Y</td>\n",
       "      <td>Y</td>\n",
       "      <td>None</td>\n",
       "      <td>75477328</td>\n",
       "      <td>2021-09-14</td>\n",
       "      <td>0</td>\n",
       "      <td>0</td>\n",
       "      <td>NaT</td>\n",
       "      <td>NaT</td>\n",
       "      <td>NaT</td>\n",
       "      <td>NaT</td>\n",
       "      <td>NaT</td>\n",
       "      <td>NaT</td>\n",
       "      <td>NaT</td>\n",
       "      <td>NaT</td>\n",
       "      <td>NaT</td>\n",
       "      <td>NaT</td>\n",
       "      <td>NaT</td>\n",
       "      <td>NaT</td>\n",
       "      <td>NaT</td>\n",
       "      <td>NaT</td>\n",
       "      <td>NaT</td>\n",
       "      <td>NaT</td>\n",
       "      <td>NaT</td>\n",
       "      <td>NaT</td>\n",
       "      <td>NaT</td>\n",
       "      <td>2024-07-01</td>\n",
       "      <td>2024-05-01</td>\n",
       "      <td>2024-06-01</td>\n",
       "      <td>2024-07-01</td>\n",
       "      <td>NaT</td>\n",
       "      <td>NaT</td>\n",
       "      <td>2024-05-01</td>\n",
       "      <td>2024-07-01</td>\n",
       "      <td>2024-07-31</td>\n",
       "      <td>NaT</td>\n",
       "      <td>NaT</td>\n",
       "      <td>2024-05-01</td>\n",
       "      <td>highRate</td>\n",
       "      <td>2024-06-01</td>\n",
       "      <td>highRate</td>\n",
       "      <td>2024-07-01</td>\n",
       "      <td>highRate</td>\n",
       "      <td>NaT</td>\n",
       "      <td>NaN</td>\n",
       "      <td>2024-07-01</td>\n",
       "      <td>dmd</td>\n",
       "    </tr>\n",
       "  </tbody>\n",
       "</table>\n",
       "<p>772 rows × 105 columns</p>\n",
       "</div>"
      ],
      "text/plain": [
       "                   ZEST_KEY SEG_SEQ   SEG_PARENT SEG_PARENT_SEQ SEGMENT_TYPE  \\\n",
       "39462     71236224_1_229_22       9  FULL-Header              9           PT   \n",
       "64437     81328290_1_229_22       3  FULL-Header              3           PT   \n",
       "64440     81328290_1_229_22       6  FULL-Header              6           PT   \n",
       "121705    81220064_1_229_22      10  FULL-Header             10           PT   \n",
       "180637    80834990_1_229_22      10  FULL-Header             10           PT   \n",
       "...                     ...     ...          ...            ...          ...   \n",
       "19154358  76695490_1_229_22      13  FULL-Header             13           PT   \n",
       "19161472  78579669_1_229_22       1  FULL-Header              1           PT   \n",
       "19186618  77551610_1_229_22      11  FULL-Header             11           PT   \n",
       "19244589  78227970_1_229_22       2  FULL-Header              2           PT   \n",
       "19254634  75477328_2_229_22       3  FULL-Header              3           PT   \n",
       "\n",
       "         CUSTOMER_NAME CUSTOMER_NUMBER DATE_REPORTED DATE_OPENED HIGH_CREDIT  \\\n",
       "39462             None              FC    2024-10-31  2021-03-31        None   \n",
       "64437             None              FC    2025-03-31  2022-06-28        None   \n",
       "64440             None              FC    2025-03-31  2022-05-06        None   \n",
       "121705            None              FC    2023-12-31  2022-05-02        None   \n",
       "180637            None              FC    2025-03-31  2022-05-03        None   \n",
       "...                ...             ...           ...         ...         ...   \n",
       "19154358          None              FC    2024-02-26  2021-10-25        None   \n",
       "19161472          None              FC    2025-03-31  2022-04-29        None   \n",
       "19186618          None              FS    2025-03-31  2022-03-01        None   \n",
       "19244589          None              FC    2025-02-28  2022-01-18        None   \n",
       "19254634          None              FC    2025-03-31  2021-09-15        None   \n",
       "\n",
       "         CREDIT_LIMIT BALANCE PAST_DUE_AMOUNT PORTFOLIO_TYPE  \\\n",
       "39462            None    None            None              *   \n",
       "64437            None    None            None              *   \n",
       "64440            None    None            None              *   \n",
       "121705           None    None            None              *   \n",
       "180637           None    None            None              *   \n",
       "...               ...     ...             ...            ...   \n",
       "19154358         None    None            None              *   \n",
       "19161472         None    None            None              *   \n",
       "19186618         None    None            None              *   \n",
       "19244589         None    None            None              *   \n",
       "19254634         None    None            None              *   \n",
       "\n",
       "         AUTOMATED_UPDATE_INDICATOR MONTHS_REVIEWED ECOA_DESIGNATOR  \\\n",
       "39462                             *              43               I   \n",
       "64437                             *              33               J   \n",
       "64440                             *              34               J   \n",
       "121705                            *              19               M   \n",
       "180637                            *              34               I   \n",
       "...                             ...             ...             ...   \n",
       "19154358                       None              23               I   \n",
       "19161472                          *              10               I   \n",
       "19186618                          *              36               I   \n",
       "19244589                          *              37               I   \n",
       "19254634                          *              41               J   \n",
       "\n",
       "         ACCOUNT_NUMBER 30_DAY_COUNTERS 60_DAY_COUNTERS 90+_DAY_COUNTERS  \\\n",
       "39462              None              02              00               00   \n",
       "64437              None              00              00               00   \n",
       "64440              None              00              00               00   \n",
       "121705             None              00              00               00   \n",
       "180637             None              01              01               00   \n",
       "...                 ...             ...             ...              ...   \n",
       "19154358           None              00              00               13   \n",
       "19161472           None              00              00               00   \n",
       "19186618           None              00              00               00   \n",
       "19244589           None              00              00               00   \n",
       "19254634           None              02              01               01   \n",
       "\n",
       "         PREVIOUS_HIGH_RATE_1 PREVIOUS_HIGH_DATE_1 PREVIOUS_HIGH_RATE_2  \\\n",
       "39462                       2           2024-07-01                    2   \n",
       "64437                    None                  NaT                 None   \n",
       "64440                    None                  NaT                 None   \n",
       "121705                   None                  NaT                 None   \n",
       "180637                      3           2023-11-01                    2   \n",
       "...                       ...                  ...                  ...   \n",
       "19154358                    9           2023-12-01                    9   \n",
       "19161472                 None                  NaT                 None   \n",
       "19186618                 None                  NaT                 None   \n",
       "19244589                 None                  NaT                 None   \n",
       "19254634                    4           2024-07-01                    3   \n",
       "\n",
       "         PREVIOUS_HIGH_DATE_2 PREVIOUS_HIGH_RATE_3 PREVIOUS_HIGH_DATE_3  \\\n",
       "39462              2023-10-01                 None                  NaT   \n",
       "64437                     NaT                 None                  NaT   \n",
       "64440                     NaT                 None                  NaT   \n",
       "121705                    NaT                 None                  NaT   \n",
       "180637             2023-10-01                 None                  NaT   \n",
       "...                       ...                  ...                  ...   \n",
       "19154358           2023-11-01                    9           2023-10-01   \n",
       "19161472                  NaT                 None                  NaT   \n",
       "19186618                  NaT                 None                  NaT   \n",
       "19244589                  NaT                 None                  NaT   \n",
       "19254634           2024-06-01                    2           2024-05-01   \n",
       "\n",
       "            DFD_DLA NARRATIVE_CODE_1 NARRATIVE_CODE_2 NARRATIVE_CODE_3  \\\n",
       "39462    2024-10-01               DO               KB             None   \n",
       "64437    2023-11-01               DO               KB             None   \n",
       "64440    2023-06-01               DO               KB               EP   \n",
       "121705   2023-06-01               DO               KB             None   \n",
       "180637   2024-02-01               DO               KB             None   \n",
       "...             ...              ...              ...              ...   \n",
       "19154358 2022-07-01               DO               KB             None   \n",
       "19161472 2024-06-01               DO               KB               EP   \n",
       "19186618 2024-10-01               DO               KB               EP   \n",
       "19244589 2023-11-01               DO               KB             None   \n",
       "19254634 2024-04-01               DO               KB               EP   \n",
       "\n",
       "         NARRATIVE_CODE_4 ACCOUNT_TYPE LAST_PAYMENT_DATE CLOSED_DATE  \\\n",
       "39462                None           00        2024-08-01         NaT   \n",
       "64437                None           00        2025-03-01         NaT   \n",
       "64440                None           00        2025-03-01         NaT   \n",
       "121705               None           00        2023-07-01         NaT   \n",
       "180637               None           00        2024-01-01         NaT   \n",
       "...                   ...          ...               ...         ...   \n",
       "19154358             None           00        2024-01-01         NaT   \n",
       "19161472             None           00        2025-02-01         NaT   \n",
       "19186618             None           00        2025-03-01         NaT   \n",
       "19244589             None           00        2025-02-01         NaT   \n",
       "19254634             None           00        2025-03-01         NaT   \n",
       "\n",
       "         DMD_REPORTED ACTUAL_PAYMENT_AMOUNT SCHEDULED_PAYMENT_AMOUNT  \\\n",
       "39462      2024-10-01                  None                     None   \n",
       "64437      2023-05-01                  None                     None   \n",
       "64440      2023-05-01                  None                     None   \n",
       "121705     2023-06-01                  None                     None   \n",
       "180637     2024-02-01                  None                     None   \n",
       "...               ...                   ...                      ...   \n",
       "19154358   2024-02-01                  None                     None   \n",
       "19161472   2024-05-01                  None                     None   \n",
       "19186618   2024-09-01                  None                     None   \n",
       "19244589   2023-11-01                  None                     None   \n",
       "19254634   2024-07-01                  None                     None   \n",
       "\n",
       "         TERMS_FREQUENCY TERMS_DURATION INDICATOR  NAME  \\\n",
       "39462               None           None      None  None   \n",
       "64437               None           None      None  None   \n",
       "64440               None           None      None  None   \n",
       "121705              None           None      None  None   \n",
       "180637              None           None      None  None   \n",
       "...                  ...            ...       ...   ...   \n",
       "19154358            None           None      None  None   \n",
       "19161472            None           None      None  None   \n",
       "19186618            None           None      None  None   \n",
       "19244589            None           None      None  None   \n",
       "19254634            None           None      None  None   \n",
       "\n",
       "         CREDITOR_CLASSIFICATION ACTIVITY_DESIGNATOR  \\\n",
       "39462                       None                None   \n",
       "64437                       None                None   \n",
       "64440                       None                None   \n",
       "121705                      None                None   \n",
       "180637                      None                None   \n",
       "...                          ...                 ...   \n",
       "19154358                    None                   T   \n",
       "19161472                    None                None   \n",
       "19186618                    None                None   \n",
       "19244589                    None                None   \n",
       "19254634                    None                None   \n",
       "\n",
       "          ORIGINAL_CHARGE_OFF_AMOUNT DEFERRED_PAYMENT_START_DATE  \\\n",
       "39462                            NaN                         NaT   \n",
       "64437                            NaN                         NaT   \n",
       "64440                            NaN                         NaT   \n",
       "121705                           NaN                         NaT   \n",
       "180637                           NaN                         NaT   \n",
       "...                              ...                         ...   \n",
       "19154358                         NaN                         NaT   \n",
       "19161472                         NaN                         NaT   \n",
       "19186618                         NaN                         NaT   \n",
       "19244589                         NaN                         NaT   \n",
       "19254634                         NaN                         NaT   \n",
       "\n",
       "         BALLOON_PAYMENT_AMOUNT BALLOON_PAYMENT_DUE_DATE MORTGAGE_ID_NUMBER  \\\n",
       "39462                      None                     None               None   \n",
       "64437                      None                     None               None   \n",
       "64440                      None                     None               None   \n",
       "121705                     None                     None               None   \n",
       "180637                     None                     None               None   \n",
       "...                         ...                      ...                ...   \n",
       "19154358                   None                     None               None   \n",
       "19161472                   None                     None               None   \n",
       "19186618                   None                     None               None   \n",
       "19244589                   None                     None               None   \n",
       "19254634                   None                     None               None   \n",
       "\n",
       "               PAYMENT_HISTORY_1_24 PAYMENT_HISTORY_25_36  \\\n",
       "39462     112111111112/111111111111         /1111111111*1   \n",
       "64437     ************/*********111         /11111111****   \n",
       "64440     ************/*********111         /111111111***   \n",
       "121705    ******111111/111111******         /************   \n",
       "180637    ************/*11321111111         /111111111***   \n",
       "...                             ...                   ...   \n",
       "19154358  *99999955555/551****111*1         /111*********   \n",
       "19161472  ************/************         /************   \n",
       "19186618  ******111111/111111111111         /11111111111*   \n",
       "19244589  ************/***111111111         /111111111111   \n",
       "19254634  *******43221/111111111111         /111111111111   \n",
       "\n",
       "         PAYMENT_HISTORY_37_48 PREVIOUS_HIGH_RATE_BEFORE_HISTORY  \\\n",
       "39462            /111111******                                 *   \n",
       "64437            /************                                 *   \n",
       "64440            /************                                 *   \n",
       "121705           /************                                 *   \n",
       "180637           /************                                 *   \n",
       "...                        ...                               ...   \n",
       "19154358         /************                                 *   \n",
       "19161472         /************                                 *   \n",
       "19186618         /************                                 *   \n",
       "19244589         /************                                 *   \n",
       "19254634         /11111*******                                 *   \n",
       "\n",
       "         PREVIOUS_HIGH_DATE_BEFORE_HISTORY NARRATIVE_CODE_1X  \\\n",
       "39462                                  NaT               086   \n",
       "64437                                  NaT               086   \n",
       "64440                                  NaT               086   \n",
       "121705                                 NaT               086   \n",
       "180637                                 NaT               086   \n",
       "...                                    ...               ...   \n",
       "19154358                               NaT               086   \n",
       "19161472                               NaT               086   \n",
       "19186618                               NaT               086   \n",
       "19244589                               NaT               086   \n",
       "19254634                               NaT               086   \n",
       "\n",
       "         NARRATIVE_CODE_2X NARRATIVE_CODE_3X NARRATIVE_CODE_4X  \\\n",
       "39462                  279              None              None   \n",
       "64437                  279              None              None   \n",
       "64440                  279               132              None   \n",
       "121705                 279              None              None   \n",
       "180637                 279              None              None   \n",
       "...                    ...               ...               ...   \n",
       "19154358               279              None              None   \n",
       "19161472               279               132              None   \n",
       "19186618               279               132              None   \n",
       "19244589               279              None              None   \n",
       "19254634               279               132              None   \n",
       "\n",
       "         RECENT_TRADE_FLAG QUALIFYING_FLAG ARCHIVE_DATA     appId    appDate  \\\n",
       "39462                    Y               Y         None  71236224 2021-03-22   \n",
       "64437                    Y               Y         None  81328290 2022-05-04   \n",
       "64440                    Y               Y         None  81328290 2022-05-04   \n",
       "121705                   Y               Y         None  81220064 2022-04-30   \n",
       "180637                   Y               Y         None  80834990 2022-04-18   \n",
       "...                    ...             ...          ...       ...        ...   \n",
       "19154358                 Y               Y         None  76695490 2021-11-05   \n",
       "19161472                 Y               Y         None  78579669 2022-01-29   \n",
       "19186618                 Y               Y         None  77551610 2021-12-13   \n",
       "19244589                 Y               Y         None  78227970 2022-01-14   \n",
       "19254634                 Y               Y         None  75477328 2021-09-14   \n",
       "\n",
       "          flgFunded  flgApproved DateCO_coAmt_1 DateCO_coAmt_2 DateCO_coAmt_3  \\\n",
       "39462             0            0            NaT            NaT            NaT   \n",
       "64437             0            0            NaT            NaT            NaT   \n",
       "64440             0            0            NaT            NaT            NaT   \n",
       "121705            0            1            NaT            NaT            NaT   \n",
       "180637            0            1            NaT            NaT            NaT   \n",
       "...             ...          ...            ...            ...            ...   \n",
       "19154358          0            0            NaT            NaT            NaT   \n",
       "19161472          0            1            NaT            NaT            NaT   \n",
       "19186618          0            1            NaT            NaT            NaT   \n",
       "19244589          0            0            NaT            NaT            NaT   \n",
       "19254634          0            0            NaT            NaT            NaT   \n",
       "\n",
       "         DateCO_coAmt_4 DateCO_code_1 DateCO_code_2 DateCO_code_3  \\\n",
       "39462               NaT           NaT           NaT           NaT   \n",
       "64437               NaT           NaT           NaT           NaT   \n",
       "64440               NaT           NaT           NaT           NaT   \n",
       "121705              NaT           NaT           NaT           NaT   \n",
       "180637              NaT           NaT           NaT           NaT   \n",
       "...                 ...           ...           ...           ...   \n",
       "19154358            NaT           NaT           NaT           NaT   \n",
       "19161472            NaT           NaT           NaT           NaT   \n",
       "19186618            NaT           NaT           NaT           NaT   \n",
       "19244589            NaT           NaT           NaT           NaT   \n",
       "19254634            NaT           NaT           NaT           NaT   \n",
       "\n",
       "         DateCO_code_4 DateCO_code_5 DateCO_code_6 DateCO_code_7  \\\n",
       "39462              NaT           NaT           NaT           NaT   \n",
       "64437              NaT           NaT           NaT           NaT   \n",
       "64440              NaT           NaT           NaT           NaT   \n",
       "121705             NaT           NaT           NaT           NaT   \n",
       "180637             NaT           NaT           NaT           NaT   \n",
       "...                ...           ...           ...           ...   \n",
       "19154358           NaT           NaT           NaT           NaT   \n",
       "19161472           NaT           NaT           NaT           NaT   \n",
       "19186618           NaT           NaT           NaT           NaT   \n",
       "19244589           NaT           NaT           NaT           NaT   \n",
       "19254634           NaT           NaT           NaT           NaT   \n",
       "\n",
       "         DateCO_code_8 DateCO_code_9 DateCO_code_10 DateCO_code_11  \\\n",
       "39462              NaT           NaT            NaT            NaT   \n",
       "64437              NaT           NaT            NaT            NaT   \n",
       "64440              NaT           NaT            NaT            NaT   \n",
       "121705             NaT           NaT            NaT            NaT   \n",
       "180637             NaT           NaT            NaT            NaT   \n",
       "...                ...           ...            ...            ...   \n",
       "19154358           NaT           NaT            NaT            NaT   \n",
       "19161472           NaT           NaT            NaT            NaT   \n",
       "19186618           NaT           NaT            NaT            NaT   \n",
       "19244589           NaT           NaT            NaT            NaT   \n",
       "19254634           NaT           NaT            NaT            NaT   \n",
       "\n",
       "         DateCO_code_12 DateCO_code_13 DateCO_code_14 DateCO_code_15  \\\n",
       "39462               NaT            NaT            NaT            NaT   \n",
       "64437               NaT            NaT            NaT            NaT   \n",
       "64440               NaT            NaT            NaT            NaT   \n",
       "121705              NaT            NaT            NaT            NaT   \n",
       "180637              NaT            NaT            NaT            NaT   \n",
       "...                 ...            ...            ...            ...   \n",
       "19154358            NaT            NaT            NaT            NaT   \n",
       "19161472            NaT            NaT            NaT            NaT   \n",
       "19186618            NaT            NaT            NaT            NaT   \n",
       "19244589            NaT            NaT            NaT            NaT   \n",
       "19254634            NaT            NaT            NaT            NaT   \n",
       "\n",
       "         DateCO_dmd DateDQ30_highRate DateDQ60_highRate DateDQ90_highRate  \\\n",
       "39462    2024-10-01        2023-10-01               NaT               NaT   \n",
       "64437    2023-05-01               NaT               NaT               NaT   \n",
       "64440    2023-05-01               NaT               NaT               NaT   \n",
       "121705   2023-06-01               NaT               NaT               NaT   \n",
       "180637   2024-02-01        2023-10-01        2023-11-01               NaT   \n",
       "...             ...               ...               ...               ...   \n",
       "19154358 2024-02-01               NaT               NaT               NaT   \n",
       "19161472 2024-05-01               NaT               NaT               NaT   \n",
       "19186618 2024-09-01               NaT               NaT               NaT   \n",
       "19244589 2023-11-01               NaT               NaT               NaT   \n",
       "19254634 2024-07-01        2024-05-01        2024-06-01        2024-07-01   \n",
       "\n",
       "         DateDQ120_highRate DateCO_highRate DateDQ30_pattern DateDQ60_pattern  \\\n",
       "39462                   NaT             NaT       2023-11-01              NaT   \n",
       "64437                   NaT             NaT              NaT              NaT   \n",
       "64440                   NaT             NaT              NaT              NaT   \n",
       "121705                  NaT             NaT              NaT              NaT   \n",
       "180637                  NaT             NaT       2023-11-01       2023-12-02   \n",
       "...                     ...             ...              ...              ...   \n",
       "19154358                NaT      2023-10-01       2022-09-30       2022-10-30   \n",
       "19161472                NaT             NaT              NaT              NaT   \n",
       "19186618                NaT             NaT              NaT              NaT   \n",
       "19244589                NaT             NaT              NaT              NaT   \n",
       "19254634                NaT             NaT       2024-05-01       2024-07-01   \n",
       "\n",
       "         DateDQ90_pattern DateDQ120_pattern DateCO_pattern   DateDQ30  \\\n",
       "39462                 NaT               NaT            NaT 2023-10-01   \n",
       "64437                 NaT               NaT            NaT        NaT   \n",
       "64440                 NaT               NaT            NaT        NaT   \n",
       "121705                NaT               NaT            NaT        NaT   \n",
       "180637                NaT               NaT            NaT 2023-10-01   \n",
       "...                   ...               ...            ...        ...   \n",
       "19154358       2022-11-29        2022-12-29     2022-12-29 2022-09-30   \n",
       "19161472              NaT               NaT            NaT        NaT   \n",
       "19186618              NaT               NaT            NaT        NaT   \n",
       "19244589              NaT               NaT            NaT        NaT   \n",
       "19254634       2024-07-31               NaT            NaT 2024-05-01   \n",
       "\n",
       "         DateDQ30_source   DateDQ60 DateDQ60_source   DateDQ90  \\\n",
       "39462           highRate        NaT             NaN        NaT   \n",
       "64437                NaN        NaT             NaN        NaT   \n",
       "64440                NaN        NaT             NaN        NaT   \n",
       "121705               NaN        NaT             NaN        NaT   \n",
       "180637          highRate 2023-11-01        highRate        NaT   \n",
       "...                  ...        ...             ...        ...   \n",
       "19154358         pattern 2022-10-30         pattern 2022-11-29   \n",
       "19161472             NaN        NaT             NaN        NaT   \n",
       "19186618             NaN        NaT             NaN        NaT   \n",
       "19244589             NaN        NaT             NaN        NaT   \n",
       "19254634        highRate 2024-06-01        highRate 2024-07-01   \n",
       "\n",
       "         DateDQ90_source  DateDQ120 DateDQ120_source     DateCO DateCO_source  \n",
       "39462                NaN        NaT              NaN 2024-10-01           dmd  \n",
       "64437                NaN        NaT              NaN 2023-05-01           dmd  \n",
       "64440                NaN        NaT              NaN 2023-05-01           dmd  \n",
       "121705               NaN        NaT              NaN 2023-06-01           dmd  \n",
       "180637               NaN        NaT              NaN 2024-02-01           dmd  \n",
       "...                  ...        ...              ...        ...           ...  \n",
       "19154358         pattern 2022-12-29          pattern 2022-12-29       pattern  \n",
       "19161472             NaN        NaT              NaN 2024-05-01           dmd  \n",
       "19186618             NaN        NaT              NaN 2024-09-01           dmd  \n",
       "19244589             NaN        NaT              NaN 2023-11-01           dmd  \n",
       "19254634        highRate        NaT              NaN 2024-07-01           dmd  \n",
       "\n",
       "[772 rows x 105 columns]"
      ]
     },
     "execution_count": 85,
     "metadata": {},
     "output_type": "execute_result"
    }
   ],
   "source": [
    "temp[temp['NARRATIVE_CODE_1'] == 'DO']"
   ]
  },
  {
   "cell_type": "code",
   "execution_count": 75,
   "metadata": {
    "scrolled": true
   },
   "outputs": [
    {
     "data": {
      "text/plain": [
       "NARRATIVE_CODE_1\n",
       "AM      184\n",
       "AN      622\n",
       "AX       12\n",
       "AY        1\n",
       "BB        3\n",
       "BK      302\n",
       "BQ      180\n",
       "BZ      129\n",
       "CE      106\n",
       "CJ       16\n",
       "CL        1\n",
       "CM        3\n",
       "CN       15\n",
       "CW        1\n",
       "CZ       33\n",
       "DB     6227\n",
       "DI       88\n",
       "DJ        1\n",
       "DL        8\n",
       "DO      772\n",
       "EP    99119\n",
       "EQ       21\n",
       "ER        2\n",
       "ET       23\n",
       "EV        2\n",
       "FW       81\n",
       "GA        1\n",
       "GF        4\n",
       "GK      152\n",
       "HX        1\n",
       "IL      905\n",
       "IP      112\n",
       "IQ      429\n",
       "IR       81\n",
       "IT        2\n",
       "JD       64\n",
       "JE        3\n",
       "JK       42\n",
       "JL       22\n",
       "JM       49\n",
       "KF      222\n",
       "KT        7\n",
       "KV       23\n",
       "KZ       11\n",
       "Name: count, dtype: int64"
      ]
     },
     "execution_count": 75,
     "metadata": {},
     "output_type": "execute_result"
    }
   ],
   "source": [
    "temp['NARRATIVE_CODE_1'].value_counts().sort_index()\n"
   ]
  },
  {
   "cell_type": "code",
   "execution_count": 13,
   "metadata": {},
   "outputs": [
    {
     "data": {
      "text/plain": [
       "(166029, 105)"
      ]
     },
     "execution_count": 13,
     "metadata": {},
     "output_type": "execute_result"
    }
   ],
   "source": [
    "proxy_date_df_nobnk.shape"
   ]
  },
  {
   "cell_type": "code",
   "execution_count": 14,
   "metadata": {},
   "outputs": [
    {
     "data": {
      "text/plain": [
       "144935"
      ]
     },
     "execution_count": 14,
     "metadata": {},
     "output_type": "execute_result"
    }
   ],
   "source": [
    "proxy_date_df_nobnk.ZEST_KEY.nunique()"
   ]
  },
  {
   "cell_type": "code",
   "execution_count": 17,
   "metadata": {
    "collapsed": true,
    "jupyter": {
     "outputs_hidden": true
    }
   },
   "outputs": [
    {
     "data": {
      "text/plain": [
       "['ZEST_KEY',\n",
       " 'SEG_SEQ',\n",
       " 'SEG_PARENT',\n",
       " 'SEG_PARENT_SEQ',\n",
       " 'SEGMENT_TYPE',\n",
       " 'CUSTOMER_NAME',\n",
       " 'CUSTOMER_NUMBER',\n",
       " 'DATE_REPORTED',\n",
       " 'DATE_OPENED',\n",
       " 'HIGH_CREDIT',\n",
       " 'CREDIT_LIMIT',\n",
       " 'BALANCE',\n",
       " 'PAST_DUE_AMOUNT',\n",
       " 'PORTFOLIO_TYPE',\n",
       " 'AUTOMATED_UPDATE_INDICATOR',\n",
       " 'MONTHS_REVIEWED',\n",
       " 'ECOA_DESIGNATOR',\n",
       " 'ACCOUNT_NUMBER',\n",
       " '30_DAY_COUNTERS',\n",
       " '60_DAY_COUNTERS',\n",
       " '90+_DAY_COUNTERS',\n",
       " 'PREVIOUS_HIGH_RATE_1',\n",
       " 'PREVIOUS_HIGH_DATE_1',\n",
       " 'PREVIOUS_HIGH_RATE_2',\n",
       " 'PREVIOUS_HIGH_DATE_2',\n",
       " 'PREVIOUS_HIGH_RATE_3',\n",
       " 'PREVIOUS_HIGH_DATE_3',\n",
       " 'DFD_DLA',\n",
       " 'NARRATIVE_CODE_1',\n",
       " 'NARRATIVE_CODE_2',\n",
       " 'NARRATIVE_CODE_3',\n",
       " 'NARRATIVE_CODE_4',\n",
       " 'ACCOUNT_TYPE',\n",
       " 'LAST_PAYMENT_DATE',\n",
       " 'CLOSED_DATE',\n",
       " 'DMD_REPORTED',\n",
       " 'ACTUAL_PAYMENT_AMOUNT',\n",
       " 'SCHEDULED_PAYMENT_AMOUNT',\n",
       " 'TERMS_FREQUENCY',\n",
       " 'TERMS_DURATION',\n",
       " 'INDICATOR',\n",
       " 'NAME',\n",
       " 'CREDITOR_CLASSIFICATION',\n",
       " 'ACTIVITY_DESIGNATOR',\n",
       " 'ORIGINAL_CHARGE_OFF_AMOUNT',\n",
       " 'DEFERRED_PAYMENT_START_DATE',\n",
       " 'BALLOON_PAYMENT_AMOUNT',\n",
       " 'BALLOON_PAYMENT_DUE_DATE',\n",
       " 'MORTGAGE_ID_NUMBER',\n",
       " 'PAYMENT_HISTORY_1_24',\n",
       " 'PAYMENT_HISTORY_25_36',\n",
       " 'PAYMENT_HISTORY_37_48',\n",
       " 'PREVIOUS_HIGH_RATE_BEFORE_HISTORY',\n",
       " 'PREVIOUS_HIGH_DATE_BEFORE_HISTORY',\n",
       " 'NARRATIVE_CODE_1X',\n",
       " 'NARRATIVE_CODE_2X',\n",
       " 'NARRATIVE_CODE_3X',\n",
       " 'NARRATIVE_CODE_4X',\n",
       " 'RECENT_TRADE_FLAG',\n",
       " 'QUALIFYING_FLAG',\n",
       " 'ARCHIVE_DATA',\n",
       " 'appId',\n",
       " 'appDate',\n",
       " 'flgFunded',\n",
       " 'flgApproved',\n",
       " 'DateCO_coAmt_1',\n",
       " 'DateCO_coAmt_2',\n",
       " 'DateCO_coAmt_3',\n",
       " 'DateCO_coAmt_4',\n",
       " 'DateCO_code_1',\n",
       " 'DateCO_code_2',\n",
       " 'DateCO_code_3',\n",
       " 'DateCO_code_4',\n",
       " 'DateCO_code_5',\n",
       " 'DateCO_code_6',\n",
       " 'DateCO_code_7',\n",
       " 'DateCO_code_8',\n",
       " 'DateCO_code_9',\n",
       " 'DateCO_code_10',\n",
       " 'DateCO_code_11',\n",
       " 'DateCO_code_12',\n",
       " 'DateCO_code_13',\n",
       " 'DateCO_code_14',\n",
       " 'DateCO_code_15',\n",
       " 'DateCO_dmd',\n",
       " 'DateDQ30_highRate',\n",
       " 'DateDQ60_highRate',\n",
       " 'DateDQ90_highRate',\n",
       " 'DateDQ120_highRate',\n",
       " 'DateCO_highRate',\n",
       " 'DateDQ30_pattern',\n",
       " 'DateDQ60_pattern',\n",
       " 'DateDQ90_pattern',\n",
       " 'DateDQ120_pattern',\n",
       " 'DateCO_pattern',\n",
       " 'DateDQ30',\n",
       " 'DateDQ30_source',\n",
       " 'DateDQ60',\n",
       " 'DateDQ60_source',\n",
       " 'DateDQ90',\n",
       " 'DateDQ90_source',\n",
       " 'DateDQ120',\n",
       " 'DateDQ120_source',\n",
       " 'DateCO',\n",
       " 'DateCO_source']"
      ]
     },
     "execution_count": 17,
     "metadata": {},
     "output_type": "execute_result"
    }
   ],
   "source": [
    "proxy_date_df_nobnk.columns.tolist()"
   ]
  },
  {
   "cell_type": "code",
   "execution_count": 30,
   "metadata": {},
   "outputs": [],
   "source": [
    "# proxy_date_df.to_parquet('/d/shared/users/lyt/penfed_poc1_unfunded_proxy_targets/full_auto_loan_proxy.parquet')"
   ]
  },
  {
   "cell_type": "code",
   "execution_count": 40,
   "metadata": {},
   "outputs": [],
   "source": [
    "# proxy_date_df_nobnk.to_parquet('/d/shared/users/yyz/penfed/full_auto_loan_proxy_nobnk.parquet')\n",
    "# proxy_date_df.to_parquet('/d/shared/users/yyz/penfed/full_auto_loan_proxy.parquet')"
   ]
  },
  {
   "cell_type": "code",
   "execution_count": 90,
   "metadata": {},
   "outputs": [],
   "source": [
    "na_code_list = ['NARRATIVE_CODE_1', 'NARRATIVE_CODE_2', 'NARRATIVE_CODE_3', 'NARRATIVE_CODE_4']"
   ]
  },
  {
   "cell_type": "code",
   "execution_count": 92,
   "metadata": {},
   "outputs": [],
   "source": [
    "proxy_date_df_nobk = proxy_date_df[~proxy_date_df[na_code_list].isin([\"BW\",\"DO\",\"EV\",\"HM\",\"HN\",\"IL\",\"IM\",\"KO\"]).any(axis=1)]"
   ]
  },
  {
   "cell_type": "code",
   "execution_count": 93,
   "metadata": {},
   "outputs": [
    {
     "data": {
      "text/plain": [
       "143597"
      ]
     },
     "execution_count": 93,
     "metadata": {},
     "output_type": "execute_result"
    }
   ],
   "source": [
    "proxy_date_df_nobk.ZEST_KEY.nunique()"
   ]
  },
  {
   "cell_type": "code",
   "execution_count": 95,
   "metadata": {},
   "outputs": [
    {
     "data": {
      "text/plain": [
       "0.009231724566184842"
      ]
     },
     "execution_count": 95,
     "metadata": {},
     "output_type": "execute_result"
    }
   ],
   "source": [
    "(144935 - 143597)/144935"
   ]
  },
  {
   "cell_type": "code",
   "execution_count": 99,
   "metadata": {},
   "outputs": [
    {
     "data": {
      "text/plain": [
       "(166029, 106)"
      ]
     },
     "execution_count": 99,
     "metadata": {},
     "output_type": "execute_result"
    }
   ],
   "source": [
    "proxy_date_df = pd.read_parquet('/d/shared/users/yyz/penfed/full_auto_loan_proxy.parquet')\n",
    "proxy_date_df_nobnk = pd.read_parquet('/d/shared/users/yyz/penfed/full_auto_loan_proxy_nobnk.parquet')\n",
    "\n",
    "proxy_date_df.shape"
   ]
  },
  {
   "cell_type": "code",
   "execution_count": 106,
   "metadata": {},
   "outputs": [],
   "source": [
    "na_code_list = ['NARRATIVE_CODE_1', 'NARRATIVE_CODE_2', 'NARRATIVE_CODE_3', 'NARRATIVE_CODE_4']\n",
    "proxy_date_df_nobk = temp[~temp[na_code_list].isin([\"BW\",\"DO\",\"EV\",\"IL\",\"IM\",\"KO\"]).any(axis=1)]"
   ]
  },
  {
   "cell_type": "code",
   "execution_count": 107,
   "metadata": {},
   "outputs": [
    {
     "data": {
      "text/plain": [
       "DateCO_source\n",
       "dmd         1611\n",
       "highRate      41\n",
       "pattern       35\n",
       "coAmt_3        1\n",
       "Name: count, dtype: int64"
      ]
     },
     "execution_count": 107,
     "metadata": {},
     "output_type": "execute_result"
    }
   ],
   "source": [
    "temp[temp[na_code_list].isin([\"BW\",\"DO\",\"EV\",\"IL\",\"IM\",\"KO\"]).any(axis=1)]['DateCO_source'].value_counts()"
   ]
  },
  {
   "cell_type": "code",
   "execution_count": 115,
   "metadata": {},
   "outputs": [
    {
     "data": {
      "text/plain": [
       "1853       NaT\n",
       "20938      NaT\n",
       "20951      NaT\n",
       "36558      NaT\n",
       "39462      NaT\n",
       "            ..\n",
       "19218272   NaT\n",
       "19244589   NaT\n",
       "19254634   NaT\n",
       "19273657   NaT\n",
       "19312988   NaT\n",
       "Name: DateDQ120, Length: 1697, dtype: datetime64[ns]"
      ]
     },
     "execution_count": 115,
     "metadata": {},
     "output_type": "execute_result"
    }
   ],
   "source": [
    "temp[(temp[na_code_list].isin([\"BW\",\"DO\",\"EV\",\"IL\",\"IM\",\"KO\"]).any(axis=1))].DateDQ120"
   ]
  },
  {
   "cell_type": "code",
   "execution_count": 119,
   "metadata": {},
   "outputs": [
    {
     "data": {
      "text/plain": [
       "1456"
      ]
     },
     "execution_count": 119,
     "metadata": {},
     "output_type": "execute_result"
    }
   ],
   "source": [
    "bnkr_proxy = temp[(temp[na_code_list].isin([\"BW\",\"DO\",\"EV\",\"IL\",\"IM\",\"KO\"]).any(axis=1))]\n",
    "bnkr_proxy[bnkr_proxy.DateDQ120.isnull()].ZEST_KEY.nunique()"
   ]
  },
  {
   "cell_type": "code",
   "execution_count": 121,
   "metadata": {},
   "outputs": [
    {
     "data": {
      "text/plain": [
       "1513"
      ]
     },
     "execution_count": 121,
     "metadata": {},
     "output_type": "execute_result"
    }
   ],
   "source": [
    "bnkr_proxy.ZEST_KEY.nunique()"
   ]
  },
  {
   "cell_type": "code",
   "execution_count": 122,
   "metadata": {},
   "outputs": [
    {
     "data": {
      "text/plain": [
       "1450"
      ]
     },
     "execution_count": 122,
     "metadata": {},
     "output_type": "execute_result"
    }
   ],
   "source": [
    "1513-63"
   ]
  },
  {
   "cell_type": "code",
   "execution_count": 120,
   "metadata": {},
   "outputs": [
    {
     "data": {
      "text/plain": [
       "63"
      ]
     },
     "execution_count": 120,
     "metadata": {},
     "output_type": "execute_result"
    }
   ],
   "source": [
    "bnkr_proxy[~bnkr_proxy.DateDQ120.isnull()].ZEST_KEY.nunique()"
   ]
  },
  {
   "cell_type": "code",
   "execution_count": 112,
   "metadata": {},
   "outputs": [
    {
     "data": {
      "text/plain": [
       "1633"
      ]
     },
     "execution_count": 112,
     "metadata": {},
     "output_type": "execute_result"
    }
   ],
   "source": [
    "temp[(temp[na_code_list].isin([\"BW\",\"DO\",\"EV\",\"IL\",\"IM\",\"KO\"]).any(axis=1))].DateDQ120.isnull().sum()"
   ]
  },
  {
   "cell_type": "code",
   "execution_count": 112,
   "metadata": {},
   "outputs": [
    {
     "data": {
      "text/plain": [
       "1633"
      ]
     },
     "execution_count": 112,
     "metadata": {},
     "output_type": "execute_result"
    }
   ],
   "source": [
    "temp[(temp[na_code_list].isin([\"BW\",\"DO\",\"EV\",\"IL\",\"IM\",\"KO\"]).any(axis=1))].DateDQ120.isnull().sum()"
   ]
  },
  {
   "cell_type": "code",
   "execution_count": 29,
   "metadata": {},
   "outputs": [
    {
     "data": {
      "text/plain": [
       "{'conf': {'BUREAU': 'equifax',\n",
       "  'FORMAT': 'cms_6',\n",
       "  'PULL_DATE': '2025-05-29',\n",
       "  'PULL_NAME': '20250529_penfed',\n",
       "  'PERFORMANCE_DATE': '2025-04-30'}}"
      ]
     },
     "execution_count": 29,
     "metadata": {},
     "output_type": "execute_result"
    }
   ],
   "source": [
    "with open(f\"/d/shared/silver_projects_v2/penfed/autoindirectv1/shared_data/equifax/raw/client/bureau_config.json\", \"r\") as file: \n",
    "    config = json.load(file)\n",
    "config"
   ]
  },
  {
   "cell_type": "code",
   "execution_count": 116,
   "metadata": {
    "scrolled": true
   },
   "outputs": [
    {
     "name": "stderr",
     "output_type": "stream",
     "text": [
      "DataFrame is highly fragmented.  This is usually the result of calling `frame.insert` many times, which has poor performance.  Consider joining all columns at once using pd.concat(axis=1) instead. To get a de-fragmented frame, use `newframe = frame.copy()`\n",
      "DataFrame is highly fragmented.  This is usually the result of calling `frame.insert` many times, which has poor performance.  Consider joining all columns at once using pd.concat(axis=1) instead. To get a de-fragmented frame, use `newframe = frame.copy()`\n",
      "DataFrame is highly fragmented.  This is usually the result of calling `frame.insert` many times, which has poor performance.  Consider joining all columns at once using pd.concat(axis=1) instead. To get a de-fragmented frame, use `newframe = frame.copy()`\n",
      "DataFrame is highly fragmented.  This is usually the result of calling `frame.insert` many times, which has poor performance.  Consider joining all columns at once using pd.concat(axis=1) instead. To get a de-fragmented frame, use `newframe = frame.copy()`\n",
      "DataFrame is highly fragmented.  This is usually the result of calling `frame.insert` many times, which has poor performance.  Consider joining all columns at once using pd.concat(axis=1) instead. To get a de-fragmented frame, use `newframe = frame.copy()`\n",
      "DataFrame is highly fragmented.  This is usually the result of calling `frame.insert` many times, which has poor performance.  Consider joining all columns at once using pd.concat(axis=1) instead. To get a de-fragmented frame, use `newframe = frame.copy()`\n",
      "DataFrame is highly fragmented.  This is usually the result of calling `frame.insert` many times, which has poor performance.  Consider joining all columns at once using pd.concat(axis=1) instead. To get a de-fragmented frame, use `newframe = frame.copy()`\n",
      "DataFrame is highly fragmented.  This is usually the result of calling `frame.insert` many times, which has poor performance.  Consider joining all columns at once using pd.concat(axis=1) instead. To get a de-fragmented frame, use `newframe = frame.copy()`\n",
      "DataFrame is highly fragmented.  This is usually the result of calling `frame.insert` many times, which has poor performance.  Consider joining all columns at once using pd.concat(axis=1) instead. To get a de-fragmented frame, use `newframe = frame.copy()`\n",
      "DataFrame is highly fragmented.  This is usually the result of calling `frame.insert` many times, which has poor performance.  Consider joining all columns at once using pd.concat(axis=1) instead. To get a de-fragmented frame, use `newframe = frame.copy()`\n",
      "DataFrame is highly fragmented.  This is usually the result of calling `frame.insert` many times, which has poor performance.  Consider joining all columns at once using pd.concat(axis=1) instead. To get a de-fragmented frame, use `newframe = frame.copy()`\n",
      "DataFrame is highly fragmented.  This is usually the result of calling `frame.insert` many times, which has poor performance.  Consider joining all columns at once using pd.concat(axis=1) instead. To get a de-fragmented frame, use `newframe = frame.copy()`\n",
      "DataFrame is highly fragmented.  This is usually the result of calling `frame.insert` many times, which has poor performance.  Consider joining all columns at once using pd.concat(axis=1) instead. To get a de-fragmented frame, use `newframe = frame.copy()`\n",
      "DataFrame is highly fragmented.  This is usually the result of calling `frame.insert` many times, which has poor performance.  Consider joining all columns at once using pd.concat(axis=1) instead. To get a de-fragmented frame, use `newframe = frame.copy()`\n",
      "DataFrame is highly fragmented.  This is usually the result of calling `frame.insert` many times, which has poor performance.  Consider joining all columns at once using pd.concat(axis=1) instead. To get a de-fragmented frame, use `newframe = frame.copy()`\n",
      "DataFrame is highly fragmented.  This is usually the result of calling `frame.insert` many times, which has poor performance.  Consider joining all columns at once using pd.concat(axis=1) instead. To get a de-fragmented frame, use `newframe = frame.copy()`\n",
      "DataFrame is highly fragmented.  This is usually the result of calling `frame.insert` many times, which has poor performance.  Consider joining all columns at once using pd.concat(axis=1) instead. To get a de-fragmented frame, use `newframe = frame.copy()`\n"
     ]
    }
   ],
   "source": [
    "pull_date = config['conf']['PULL_DATE']\n",
    "proxy_target = target_generator.generate_target(proxy_date_df, \n",
    "                                         target=dqs, \n",
    "                                         time_window=time_window, \n",
    "                                         query_date= pull_date)\n"
   ]
  },
  {
   "cell_type": "code",
   "execution_count": 117,
   "metadata": {
    "collapsed": true,
    "jupyter": {
     "outputs_hidden": true
    }
   },
   "outputs": [
    {
     "name": "stderr",
     "output_type": "stream",
     "text": [
      "DataFrame is highly fragmented.  This is usually the result of calling `frame.insert` many times, which has poor performance.  Consider joining all columns at once using pd.concat(axis=1) instead. To get a de-fragmented frame, use `newframe = frame.copy()`\n",
      "DataFrame is highly fragmented.  This is usually the result of calling `frame.insert` many times, which has poor performance.  Consider joining all columns at once using pd.concat(axis=1) instead. To get a de-fragmented frame, use `newframe = frame.copy()`\n",
      "DataFrame is highly fragmented.  This is usually the result of calling `frame.insert` many times, which has poor performance.  Consider joining all columns at once using pd.concat(axis=1) instead. To get a de-fragmented frame, use `newframe = frame.copy()`\n",
      "DataFrame is highly fragmented.  This is usually the result of calling `frame.insert` many times, which has poor performance.  Consider joining all columns at once using pd.concat(axis=1) instead. To get a de-fragmented frame, use `newframe = frame.copy()`\n",
      "DataFrame is highly fragmented.  This is usually the result of calling `frame.insert` many times, which has poor performance.  Consider joining all columns at once using pd.concat(axis=1) instead. To get a de-fragmented frame, use `newframe = frame.copy()`\n",
      "DataFrame is highly fragmented.  This is usually the result of calling `frame.insert` many times, which has poor performance.  Consider joining all columns at once using pd.concat(axis=1) instead. To get a de-fragmented frame, use `newframe = frame.copy()`\n",
      "DataFrame is highly fragmented.  This is usually the result of calling `frame.insert` many times, which has poor performance.  Consider joining all columns at once using pd.concat(axis=1) instead. To get a de-fragmented frame, use `newframe = frame.copy()`\n",
      "DataFrame is highly fragmented.  This is usually the result of calling `frame.insert` many times, which has poor performance.  Consider joining all columns at once using pd.concat(axis=1) instead. To get a de-fragmented frame, use `newframe = frame.copy()`\n",
      "DataFrame is highly fragmented.  This is usually the result of calling `frame.insert` many times, which has poor performance.  Consider joining all columns at once using pd.concat(axis=1) instead. To get a de-fragmented frame, use `newframe = frame.copy()`\n",
      "DataFrame is highly fragmented.  This is usually the result of calling `frame.insert` many times, which has poor performance.  Consider joining all columns at once using pd.concat(axis=1) instead. To get a de-fragmented frame, use `newframe = frame.copy()`\n",
      "DataFrame is highly fragmented.  This is usually the result of calling `frame.insert` many times, which has poor performance.  Consider joining all columns at once using pd.concat(axis=1) instead. To get a de-fragmented frame, use `newframe = frame.copy()`\n",
      "DataFrame is highly fragmented.  This is usually the result of calling `frame.insert` many times, which has poor performance.  Consider joining all columns at once using pd.concat(axis=1) instead. To get a de-fragmented frame, use `newframe = frame.copy()`\n",
      "DataFrame is highly fragmented.  This is usually the result of calling `frame.insert` many times, which has poor performance.  Consider joining all columns at once using pd.concat(axis=1) instead. To get a de-fragmented frame, use `newframe = frame.copy()`\n",
      "DataFrame is highly fragmented.  This is usually the result of calling `frame.insert` many times, which has poor performance.  Consider joining all columns at once using pd.concat(axis=1) instead. To get a de-fragmented frame, use `newframe = frame.copy()`\n",
      "DataFrame is highly fragmented.  This is usually the result of calling `frame.insert` many times, which has poor performance.  Consider joining all columns at once using pd.concat(axis=1) instead. To get a de-fragmented frame, use `newframe = frame.copy()`\n",
      "DataFrame is highly fragmented.  This is usually the result of calling `frame.insert` many times, which has poor performance.  Consider joining all columns at once using pd.concat(axis=1) instead. To get a de-fragmented frame, use `newframe = frame.copy()`\n",
      "DataFrame is highly fragmented.  This is usually the result of calling `frame.insert` many times, which has poor performance.  Consider joining all columns at once using pd.concat(axis=1) instead. To get a de-fragmented frame, use `newframe = frame.copy()`\n"
     ]
    }
   ],
   "source": [
    "proxy_target_nobnk = target_generator_nobnk.generate_target(proxy_date_df_nobnk, \n",
    "                                         target=dqs, \n",
    "                                         time_window=time_window, \n",
    "                                         query_date=pull_date)"
   ]
  },
  {
   "cell_type": "code",
   "execution_count": 209,
   "metadata": {},
   "outputs": [
    {
     "data": {
      "text/plain": [
       "((166029, 408), (166029, 408))"
      ]
     },
     "execution_count": 209,
     "metadata": {},
     "output_type": "execute_result"
    }
   ],
   "source": [
    "proxy_target.shape, proxy_target_nobnk.shape"
   ]
  },
  {
   "cell_type": "code",
   "execution_count": 119,
   "metadata": {},
   "outputs": [
    {
     "name": "stderr",
     "output_type": "stream",
     "text": [
      "Columns (21,42,60,61,71,72,122) have mixed types. Specify dtype option on import or set low_memory=False.\n"
     ]
    }
   ],
   "source": [
    "bnk_column_mapping = \\\n",
    "    {'proxy_DQ60_m6': 'mob_6_60',\n",
    "     'proxy_DQ60_m12': 'mob_12_60',\n",
    "      'proxy_DQ90_m12': 'mob_12_90',\n",
    "      'proxy_DQ90_m18': 'mob_18_90',\n",
    "     'proxy_DQ120_m12': 'mob_12_120',\n",
    "    'proxy_DQ120_m18': 'mob_18_120',\n",
    "    'proxy_DQ120_m24': 'mob_24_120',\n",
    "      'proxy_DQ60_m6_status': 'mob_6_60_status',\n",
    "      'proxy_DQ60_m12_status': 'mob_12_60_status',\n",
    "      'proxy_DQ90_m12_status': 'mob_12_90_status',\n",
    "      'proxy_DQ90_m18_status': 'mob_18_90_status',\n",
    "     'proxy_DQ120_m12_status': 'mob_12_120_status',\n",
    "    'proxy_DQ120_m18_status': 'mob_18_120_status',\n",
    "    'proxy_DQ120_m24_status': 'mob_24_120_status',\n",
    "}\n",
    "\n",
    "nobnk_column_mapping = {\n",
    "    'proxy_DQ120_m12': 'mob_12_120_nobnk',\n",
    "    'proxy_DQ120_m18': 'mob_18_120_nobnk',\n",
    "    'proxy_DQ120_m24': 'mob_24_120_nobnk',\n",
    "    'proxy_DQ120_m12_status': 'mob_12_120_nobnk_status',\n",
    "    'proxy_DQ120_m18_status': 'mob_18_120_nobnk_status',\n",
    "    'proxy_DQ120_m24_status': 'mob_24_120_nobnk_status',\n",
    "}\n",
    "\n",
    "date_source_cols = [c for c in proxy_target.columns if c.endswith('date_source')]\n",
    "\n",
    "proxy_target_rename = proxy_target.rename(columns=bnk_column_mapping)\n",
    "proxy_target_nobnk_rename = proxy_target_nobnk.rename(columns=nobnk_column_mapping)\n",
    "\n",
    "proxy_target_nobnk_keep_cols = list(nobnk_column_mapping.values())\n",
    "\n",
    "proxy_target_all = pd.concat([proxy_target_rename, \\\n",
    "                                       proxy_target_nobnk_rename[proxy_target_nobnk_keep_cols]\n",
    "                                       ], axis=1)\n",
    "\n",
    "keep_cols = ['ZEST_KEY','DATE_OPENED','DATE_REPORTED','ACCOUNT_TYPE','HIGH_CREDIT','SCHEDULED_PAYMENT_AMOUNT','TERMS_DURATION','TERMS_FREQUENCY',\\\n",
    "             'PAYMENT_HISTORY_1_24','PAYMENT_HISTORY_25_36','PAYMENT_HISTORY_37_48'] + \\\n",
    "            list(bnk_column_mapping.values())+list(nobnk_column_mapping.values())\n",
    "proxy_target_all_subset = proxy_target_all[keep_cols]\n",
    "\n",
    "df_raw = pd.read_csv('/d/shared/silver_projects_v2/penfed/autoindirectv1/shared_data/equifax/raw/client/data_3rd_party_refi_f_sent_20250523183131_withhasedappId.csv')\n",
    "\n",
    "df_raw['flgBorrower'] = df_raw['Role_Code'].map({'PRIMARY': 1, 'JOINTOWN': 2})\n",
    "df_raw['ZEST_KEY'] = df_raw['Application_Number'].astype(str)+'_'+df_raw['flgBorrower'].astype(str)+'_229_22'\n",
    "keep_cols = ['ZEST_KEY','Application_Number','Application_Number_hashed','Application_Date','Role_Code','Seller_Name','Product','Application_Status','PenFed_Funded']\n",
    "df_raw = df_raw[keep_cols]\n",
    "proxy_target_all_merge = df_raw.merge(proxy_target_all_subset, how='inner', on=['ZEST_KEY'])\\\n",
    "    .drop(columns=['ZEST_KEY','mob_12_120','mob_18_120','mob_24_120','mob_12_120_status','mob_18_120_status','mob_24_120_status'])"
   ]
  },
  {
   "cell_type": "code",
   "execution_count": 120,
   "metadata": {},
   "outputs": [
    {
     "data": {
      "text/plain": [
       "((166029, 32), (166029, 31))"
      ]
     },
     "execution_count": 120,
     "metadata": {},
     "output_type": "execute_result"
    }
   ],
   "source": [
    "proxy_target_all_merge.shape, proxy_target_all_subset.shape"
   ]
  },
  {
   "cell_type": "code",
   "execution_count": 242,
   "metadata": {},
   "outputs": [
    {
     "data": {
      "text/plain": [
       "((166029, 31), (166029, 31))"
      ]
     },
     "execution_count": 242,
     "metadata": {},
     "output_type": "execute_result"
    }
   ],
   "source": [
    "proxy_target_all_merge.shape, proxy_target_all_subset.shape"
   ]
  },
  {
   "cell_type": "code",
   "execution_count": 122,
   "metadata": {},
   "outputs": [],
   "source": [
    "proxy_target_all_merge.to_csv('/d/shared/users/yyz/penfed/proxy_target_part1.csv', index=False)"
   ]
  },
  {
   "cell_type": "code",
   "execution_count": 121,
   "metadata": {},
   "outputs": [
    {
     "data": {
      "text/plain": [
       "appmonth\n",
       "2021-01    35.0000\n",
       "2021-02    54.0000\n",
       "2021-03    74.0000\n",
       "2021-04   106.0000\n",
       "2021-05   118.0000\n",
       "2021-06   193.0000\n",
       "2021-07   174.0000\n",
       "2021-08   228.0000\n",
       "2021-09   227.0000\n",
       "2021-10   334.0000\n",
       "2021-11   377.0000\n",
       "2021-12   411.0000\n",
       "2022-01   431.0000\n",
       "2022-02   411.0000\n",
       "2022-03   585.0000\n",
       "2022-04   512.0000\n",
       "2022-05   573.0000\n",
       "2022-06   535.0000\n",
       "2022-07   327.0000\n",
       "2022-08   154.0000\n",
       "2022-09   110.0000\n",
       "2022-10   132.0000\n",
       "2022-11   109.0000\n",
       "2022-12   101.0000\n",
       "2023-01   109.0000\n",
       "2023-02   115.0000\n",
       "2023-03    80.0000\n",
       "2023-04    46.0000\n",
       "2023-05    10.0000\n",
       "2023-06     1.0000\n",
       "2023-07     0.0000\n",
       "2023-08     0.0000\n",
       "2023-09     0.0000\n",
       "2023-10     0.0000\n",
       "2023-11     0.0000\n",
       "2023-12     0.0000\n",
       "2024-01     0.0000\n",
       "2024-02     0.0000\n",
       "2024-03     0.0000\n",
       "2024-04     0.0000\n",
       "2024-05     0.0000\n",
       "2024-06     0.0000\n",
       "2024-07     0.0000\n",
       "2024-08     0.0000\n",
       "2024-09     0.0000\n",
       "2024-10     0.0000\n",
       "2024-11     0.0000\n",
       "2024-12     0.0000\n",
       "2025-01     0.0000\n",
       "2025-02     0.0000\n",
       "2025-03     0.0000\n",
       "Name: mob_24_120_nobnk, dtype: float64"
      ]
     },
     "execution_count": 121,
     "metadata": {},
     "output_type": "execute_result"
    }
   ],
   "source": [
    "proxy_target_all_merge['appmonth'] = proxy_target_all_merge['Application_Date'].str[:7]\n",
    "proxy_target_all_merge.groupby('appmonth')['mob_24_120_nobnk'].sum()"
   ]
  },
  {
   "cell_type": "code",
   "execution_count": 233,
   "metadata": {
    "scrolled": true
   },
   "outputs": [
    {
     "data": {
      "text/plain": [
       "appmonth\n",
       "2021-01    35.0000\n",
       "2021-02    54.0000\n",
       "2021-03    74.0000\n",
       "2021-04   106.0000\n",
       "2021-05   118.0000\n",
       "2021-06   193.0000\n",
       "2021-07   174.0000\n",
       "2021-08   228.0000\n",
       "2021-09   227.0000\n",
       "2021-10   334.0000\n",
       "2021-11   377.0000\n",
       "2021-12   411.0000\n",
       "2022-01   431.0000\n",
       "2022-02   411.0000\n",
       "2022-03   585.0000\n",
       "2022-04   512.0000\n",
       "2022-05   573.0000\n",
       "2022-06   535.0000\n",
       "2022-07   327.0000\n",
       "2022-08   154.0000\n",
       "2022-09   110.0000\n",
       "2022-10   132.0000\n",
       "2022-11   109.0000\n",
       "2022-12   101.0000\n",
       "2023-01   109.0000\n",
       "2023-02   115.0000\n",
       "2023-03    80.0000\n",
       "2023-04    46.0000\n",
       "2023-05    10.0000\n",
       "2023-06     1.0000\n",
       "2023-07     0.0000\n",
       "2023-08     0.0000\n",
       "2023-09     0.0000\n",
       "2023-10     0.0000\n",
       "2023-11     0.0000\n",
       "2023-12     0.0000\n",
       "2024-01     0.0000\n",
       "2024-02     0.0000\n",
       "2024-03     0.0000\n",
       "2024-04     0.0000\n",
       "2024-05     0.0000\n",
       "2024-06     0.0000\n",
       "2024-07     0.0000\n",
       "2024-08     0.0000\n",
       "2024-09     0.0000\n",
       "2024-10     0.0000\n",
       "2024-11     0.0000\n",
       "2024-12     0.0000\n",
       "2025-01     0.0000\n",
       "2025-02     0.0000\n",
       "2025-03     0.0000\n",
       "Name: mob_24_120_nobnk, dtype: float64"
      ]
     },
     "execution_count": 233,
     "metadata": {},
     "output_type": "execute_result"
    }
   ],
   "source": [
    "proxy_target_all_merge['appmonth'] = proxy_target_all_merge['Application_Date'].str[:7]\n",
    "proxy_target_all_merge.groupby('appmonth')['mob_24_120_nobnk'].sum()"
   ]
  },
  {
   "cell_type": "markdown",
   "metadata": {},
   "source": [
    "## Auto Part 2 – Waterfall Proxy – Only Proceed to this step if no data is found in Part 1 \n",
    "\n",
    "Return one record max per applicant (the first that is found in the waterfall)\n",
    "\n",
    "1. Non-Mortgage Secured Loan opened -1 to 1 month from application month\n",
    "2. Non-Mortgage Secured Loan opened -1 to 3 month from application month\n",
    "3. Non-Mortgage Secured Loan opened -3 to 3 month from application month \n",
    "4. Existing Auto Loan (must be paid as agreed at app month)\n",
    "5. Existing Personal Loan (must be paid as agreed at app month)\n",
    "6. Any Open Loan (must be paid as agreed at app month)\n",
    "\n",
    "Duplicate treatment logic (for Part 2 only)\n",
    "Choose worst performing trade (60+DPD M12), next choose trade opened closest to app month \n",
    "Else random select from duplicate trades\n",
    "\n",
    "Fields returned for the single proxy, if found:\n",
    "Waterfall # that generated the trade \n",
    "- Date Opened, Loan Amount, Terms, Estimated APR\n",
    "- MOB6 Ever 60+DPD/BNK/Repossession/Charged-off\n",
    "- MOB12 Ever 90+DPD/BNK/Repossession/Charged-off (General Bad PenFed used for model development)\n",
    "- MOB12 Ever 120+DPD/Repossession/Charged-off (Simulate PenFed current Charge off Policy. Does not include BNK)\n",
    "- MOB18 Ever 90+DPD/BNK/Repossession/Charged-off\n",
    "- MOB18 Ever 120+DPD/Repossession/Charged-off\n",
    "- MOB24 Ever 120+DPD/Repossession/Charged-off\n",
    "- Payment history grid (pulled from current archive)\n"
   ]
  },
  {
   "cell_type": "code",
   "execution_count": null,
   "metadata": {},
   "outputs": [],
   "source": [
    "import numpy as np\n",
    "def udpate_date_formats(data, dates): \n",
    "    for date_col, date_format in dates.items():\n",
    "        if np.issubdtype(data[date_col].dtype, np.datetime64):\n",
    "            print(f'{date_col} is already of datetime format! Will skip the converting process')\n",
    "            continue\n",
    "        data[date_col] = data[date_col].astype('str')\n",
    "        for date_col, date_format in dates.items(): \n",
    "            if date_format == '%m%d%Y':\n",
    "                idx = data[date_col].str[2:4] == '00'\n",
    "                data.loc[idx, date_col] = data.loc[idx, date_col].str[0:2] + '01' + data.loc[idx, date_col].str[4:]\n",
    "                data[date_col] = data[date_col].replace('        ', np.nan)\n",
    "            try:\n",
    "                data[date_col] = pd.to_datetime(data[date_col], format=date_format, errors='raise')\n",
    "            except:\n",
    "                print(f'Warning! Cannot covert {date_col} to datetime using {date_format} format! Please check the asset dates format!' )\n",
    "                print('Trying to convert datetime using inferred datetime format...')\n",
    "                data[date_col] = pd.to_datetime(data[date_col],format=date_format, errors='coerce')\n",
    "    return data         "
   ]
  },
  {
   "cell_type": "code",
   "execution_count": null,
   "metadata": {},
   "outputs": [],
   "source": [
    "proxy_date_df = pd.read_parquet('/d/shared/users/yyz/penfed/full_auto_loan_proxy.parquet')"
   ]
  },
  {
   "cell_type": "markdown",
   "metadata": {},
   "source": [
    "### A. Non-Mortgage Secured Loans"
   ]
  },
  {
   "cell_type": "code",
   "execution_count": null,
   "metadata": {},
   "outputs": [],
   "source": [
    "unfunded_ana_v1 = unfunded_ana[~unfunded_ana.index.isin(proxy_date_df.ZEST_KEY)]"
   ]
  },
  {
   "cell_type": "code",
   "execution_count": null,
   "metadata": {},
   "outputs": [],
   "source": [
    "# 02: secured\n",
    "# 22: Secured By Household Goods\n",
    "# 23: Secured By Household Goods/Collateral\n",
    "\n",
    "secured_account_type = ['02', '22', '23']\n",
    "\n",
    "cols = ['ZEST_KEY', 'appDate']\n",
    "unfunded_trade_v1 = unfunded_trade[unfunded_trade.ZEST_KEY.isin(unfunded_ana_v1.index)]\n",
    "unfunded_trade_v1 = unfunded_trade_v1.merge(unfunded_ana_v1.reset_index(drop=False)[cols], how='left', on=['ZEST_KEY'])\n",
    "dates = {\n",
    "    'DATE_REPORTED': '%m%d%Y',\n",
    "    'DATE_OPENED': '%m%d%Y',\n",
    "}\n",
    "unfunded_trade_v1 = udpate_date_formats(unfunded_trade_v1, dates)\n",
    "\n",
    "unfunded_trade_v1_filter = unfunded_trade_v1[(unfunded_trade_v1.ACCOUNT_TYPE.isin(secured_account_type))&(unfunded_trade_v1.PORTFOLIO_TYPE != 'M')]\n",
    "unfunded_trade_v1_filter['days_diff'] = (unfunded_trade_v1_filter['DATE_OPENED'] - unfunded_trade_v1_filter['appDate']).dt.days\n",
    "unfunded_trade_v1_filter = unfunded_trade_v1_filter[(unfunded_trade_v1_filter['days_diff']>=-90)&(unfunded_trade_v1_filter['days_diff']<=90)]\n",
    "\n",
    "\n",
    "def classify_loan_timing(days_diff):\n",
    "    if -30 <= days_diff <= 30:\n",
    "        return 1\n",
    "    elif -30 <= days_diff <= 90:\n",
    "        return 2\n",
    "    elif -90 <= days_diff <= 90:\n",
    "        return 3\n",
    "    else:\n",
    "        return np.nan  # or 0 or any other indicator for not falling into these windows\n",
    "\n",
    "unfunded_trade_v1_filter['Waterfall_Number'] = unfunded_trade_v1_filter['days_diff'].apply(classify_loan_timing)\n",
    "\n",
    "min_waterfall = unfunded_trade_v1_filter.groupby('ZEST_KEY')['Waterfall_Number'].transform('min')\n",
    "\n",
    "# Keep only rows where the waterfall_number is the minimum for that ZEST_KEY\n",
    "nonmortagesecure_loan = unfunded_trade_v1_filter[unfunded_trade_v1_filter['Waterfall_Number'] == min_waterfall].copy()"
   ]
  },
  {
   "cell_type": "code",
   "execution_count": 100,
   "metadata": {},
   "outputs": [
    {
     "data": {
      "text/plain": [
       "((7782099, 63), (10367, 65), 8880, (9347, 65))"
      ]
     },
     "execution_count": 100,
     "metadata": {},
     "output_type": "execute_result"
    }
   ],
   "source": [
    "unfunded_trade_v1.shape, unfunded_trade_v1_filter.shape, unfunded_trade_v1_filter.ZEST_KEY.nunique(), nonmortagesecure_loan.shape"
   ]
  },
  {
   "cell_type": "code",
   "execution_count": 101,
   "metadata": {},
   "outputs": [
    {
     "data": {
      "text/plain": [
       "Waterfall_Number\n",
       "1    4087\n",
       "2    2802\n",
       "3    2458\n",
       "Name: count, dtype: int64"
      ]
     },
     "execution_count": 101,
     "metadata": {},
     "output_type": "execute_result"
    }
   ],
   "source": [
    "nonmortagesecure_loan['Waterfall_Number'].value_counts(dropna = False)"
   ]
  },
  {
   "cell_type": "markdown",
   "metadata": {},
   "source": [
    "### B.Existing Loans"
   ]
  },
  {
   "cell_type": "code",
   "execution_count": 84,
   "metadata": {},
   "outputs": [
    {
     "data": {
      "text/plain": [
       "((352536, 179), (343656, 179))"
      ]
     },
     "execution_count": 84,
     "metadata": {},
     "output_type": "execute_result"
    }
   ],
   "source": [
    "unfunded_ana_v1.shape, unfunded_ana_v2.shape"
   ]
  },
  {
   "cell_type": "code",
   "execution_count": 66,
   "metadata": {},
   "outputs": [
    {
     "name": "stdout",
     "output_type": "stream",
     "text": [
      "DATE_OPENED is already of datetime format! Will skip the converting process\n"
     ]
    },
    {
     "data": {
      "text/plain": [
       "((7507616, 64), (4034304, 64))"
      ]
     },
     "execution_count": 66,
     "metadata": {},
     "output_type": "execute_result"
    }
   ],
   "source": [
    "unfunded_ana_v2 = unfunded_ana_v1[~unfunded_ana_v1.index.isin(nonmortagesecure_loan.ZEST_KEY)]\n",
    "unfunded_trade_v2 = unfunded_trade[unfunded_trade.ZEST_KEY.isin(unfunded_ana_v2.index)]\n",
    "unfunded_trade_v2 = unfunded_trade_v2.merge(unfunded_ana_v2.reset_index(drop=False)[cols], how='left', on=['ZEST_KEY'])\n",
    "\n",
    "dates = {\n",
    "    'DATE_REPORTED': '%m%d%Y',\n",
    "    'DATE_OPENED': '%m%d%Y',\n",
    "}\n",
    "unfunded_trade_v2 = udpate_date_formats(unfunded_trade_v2, dates)\n",
    "unfunded_trade_v2['payment_pattern'] = unfunded_trade_v2['PAYMENT_HISTORY_1_24'] + unfunded_trade_v2['PAYMENT_HISTORY_25_36'] + unfunded_trade_v2['PAYMENT_HISTORY_37_48']\n",
    "unfunded_trade_v2['payment_pattern'] = unfunded_trade_v2['payment_pattern'].fillna('')\n",
    "unfunded_trade_v2['payment_pattern'] = unfunded_trade_v2['payment_pattern'].str.replace('/', '')\n",
    "\n",
    "# keep open loans\n",
    "unfunded_trade_v2_filter = unfunded_trade_v2[unfunded_trade_v2['CLOSED_DATE'].notna()]\n",
    "unfunded_trade_v2.shape, unfunded_trade_v2_filter.shape"
   ]
  },
  {
   "cell_type": "code",
   "execution_count": 67,
   "metadata": {},
   "outputs": [],
   "source": [
    "# Precompute periods\n",
    "unfunded_trade_v2_filter['app_month'] = pd.to_datetime(unfunded_trade_v2_filter['appDate']).dt.to_period('M')\n",
    "unfunded_trade_v2_filter['report_month'] = pd.to_datetime(unfunded_trade_v2_filter['DATE_REPORTED']).dt.to_period('M')\n",
    "\n",
    "# Compute month offset (how many months between report and app date)\n",
    "month_offset = (unfunded_trade_v2_filter['report_month'] - unfunded_trade_v2_filter['app_month']).apply(lambda x: x.n)\n",
    "\n",
    "# If payment_pattern is a string, we can extract using string indexing\n",
    "# Invalid indexes will be caught later\n",
    "pattern_array = unfunded_trade_v2_filter['payment_pattern'].astype(str).values\n",
    "offset_array = month_offset.values\n",
    "\n",
    "# Define fast numpy function to extract the code\n",
    "def get_char(patterns, offsets):\n",
    "    result = np.full(len(patterns), None, dtype=object)\n",
    "    for i in range(len(patterns)):\n",
    "        offset = offsets[i]\n",
    "        if 0 <= offset < len(patterns[i]):\n",
    "            result[i] = patterns[i][offset]\n",
    "    return result\n",
    "\n",
    "# Apply it\n",
    "unfunded_trade_v2_filter['status_at_appmonth'] = get_char(pattern_array, offset_array)"
   ]
  },
  {
   "cell_type": "code",
   "execution_count": 68,
   "metadata": {},
   "outputs": [],
   "source": [
    "autoloan_account_types = {\n",
    "        \"3A\": \"Auto lease\",\n",
    "        \"00\": \"Auto loan\",\n",
    "        \"11\": \"Recreational merchandise loan\"\n",
    "    }\n",
    "personalloan_account_types = {\n",
    "        \"01\": \"Unsecured loan\",\n",
    "        \"02\": \"Secured loan\",\n",
    "        \"03\": \"Partially secured loan\",\n",
    "        \"06\": \"Installment sales contract\",\n",
    "        \"0A\": \"Time-share loan\",\n",
    "        \"0F\": \"Construction loan\",\n",
    "        \"13\": \"Lease\",\n",
    "        \"15\": \"Check, credit or line of credit\",\n",
    "        \"20\": \"Note loan\",\n",
    "        \"29\": \"Rental agreement\",\n",
    "        \"47\": \"Credit line secured revolving terms\",\n",
    "        \"4D\": \"Telecommunications/Cellular\",\n",
    "        \"70\": \"Government overpayment\",\n",
    "        \"7B\": \"Agriculture\",\n",
    "        \"92\": \"Utility company\",\n",
    "        \"78\": \"Installment loan\",\n",
    "        \"91\": \"Debt consolidation \"\n",
    "    }\n",
    "\n",
    "unfunded_trade_v2_paidasagreed = unfunded_trade_v2_filter[unfunded_trade_v2_filter['status_at_appmonth'].isin([\"0\",\"1\",\"E\"])]\n",
    "unfunded_trade_v2_paidasagreed['Waterfall_Number'] = np.where(\n",
    "    unfunded_trade_v2_paidasagreed['ACCOUNT_TYPE'].isin(autoloan_account_types),\n",
    "    4,\n",
    "    np.where(\n",
    "        unfunded_trade_v2_paidasagreed['ACCOUNT_TYPE'].isin(personalloan_account_types),\n",
    "        5,\n",
    "        6\n",
    "    )\n",
    ")\n",
    "\n",
    "min_waterfall = unfunded_trade_v2_paidasagreed.groupby('ZEST_KEY')['Waterfall_Number'].transform('min')\n",
    "# Keep only rows where the waterfall_number is the minimum for that ZEST_KEY\n",
    "existing_trade = unfunded_trade_v2_paidasagreed[unfunded_trade_v2_paidasagreed['Waterfall_Number'] == min_waterfall].copy()"
   ]
  },
  {
   "cell_type": "code",
   "execution_count": 69,
   "metadata": {},
   "outputs": [
    {
     "data": {
      "text/plain": [
       "Waterfall_Number\n",
       "4    191569\n",
       "6    187168\n",
       "5     27685\n",
       "Name: count, dtype: int64"
      ]
     },
     "execution_count": 69,
     "metadata": {},
     "output_type": "execute_result"
    }
   ],
   "source": [
    "existing_trade['Waterfall_Number'].value_counts(dropna = False)\n"
   ]
  },
  {
   "cell_type": "code",
   "execution_count": 102,
   "metadata": {},
   "outputs": [
    {
     "name": "stdout",
     "output_type": "stream",
     "text": [
      "(9347, 65) (406422, 68)\n",
      "(415769, 64)\n"
     ]
    }
   ],
   "source": [
    "print(nonmortagesecure_loan.shape, existing_trade.shape)\n",
    "common_cols = list(set(nonmortagesecure_loan.columns) & set(existing_trade.columns))\n",
    "proxy_trade_waterfall = pd.concat([nonmortagesecure_loan, existing_trade])[common_cols].reset_index(drop=True)\n",
    "print(proxy_trade_waterfall.shape)\n"
   ]
  },
  {
   "cell_type": "code",
   "execution_count": 103,
   "metadata": {},
   "outputs": [],
   "source": [
    "default_proxy_time_window = [-36500, 36500]\n",
    "proxy_account_type = list(set(proxy_trade_waterfall['ACCOUNT_TYPE']))\n",
    "target_generator = EQTargetGenerator(join_key='ZEST_KEY', app_id='appId', app_date='appDate', \n",
    "                                      proxy_time_window = default_proxy_time_window, \n",
    "                                      proxy_account_type = proxy_account_type,\n",
    "                                      **eq_trade_json['info'],\n",
    "                                     proxy = True)\n",
    "target_generator_nobnk = EQTargetGenerator(join_key='ZEST_KEY', app_id='appId', app_date='appDate', \n",
    "                                      proxy_time_window = default_proxy_time_window, \n",
    "                                      proxy_account_type = proxy_account_type,\n",
    "                                      **eq_trade_json_nobnk['info'],\n",
    "                                     proxy = True)"
   ]
  },
  {
   "cell_type": "code",
   "execution_count": 104,
   "metadata": {
    "scrolled": true
   },
   "outputs": [
    {
     "name": "stdout",
     "output_type": "stream",
     "text": [
      "--- Transforming date formats ---\n",
      "Warning! Cannot covert CLOSED_DATE to datetime using %m%d%Y format! Please check the asset dates format!\n",
      "Trying to convert datetime using inferred datetime format...\n",
      "Warning! Cannot covert PREVIOUS_HIGH_DATE_BEFORE_HISTORY to datetime using %m%Y format! Please check the asset dates format!\n",
      "Trying to convert datetime using inferred datetime format...\n",
      "Warning! Cannot covert LAST_PAYMENT_DATE to datetime using %m%d%Y format! Please check the asset dates format!\n",
      "Trying to convert datetime using inferred datetime format...\n",
      "Warning! Cannot covert DFD_DLA to datetime using %m%d%Y format! Please check the asset dates format!\n",
      "Trying to convert datetime using inferred datetime format...\n",
      "Warning! Cannot covert PREVIOUS_HIGH_DATE_3 to datetime using %m%Y format! Please check the asset dates format!\n",
      "Trying to convert datetime using inferred datetime format...\n",
      "Warning! Cannot covert DMD_REPORTED to datetime using %m%d%Y format! Please check the asset dates format!\n",
      "Trying to convert datetime using inferred datetime format...\n",
      "DATE_OPENED is already of datetime format! Will skip the converting process\n",
      "Warning! Cannot covert DEFERRED_PAYMENT_START_DATE to datetime using %m%d%Y format! Please check the asset dates format!\n",
      "Trying to convert datetime using inferred datetime format...\n",
      "DATE_REPORTED is already of datetime format! Will skip the converting process\n",
      "Warning! Cannot covert PREVIOUS_HIGH_DATE_2 to datetime using %m%Y format! Please check the asset dates format!\n",
      "Trying to convert datetime using inferred datetime format...\n",
      "Warning! Cannot covert PREVIOUS_HIGH_DATE_1 to datetime using %m%Y format! Please check the asset dates format!\n",
      "Trying to convert datetime using inferred datetime format...\n",
      "--- Selecting loan types in ['8B', '01', '8A', '10', '22', None, '93', '3A', '9A', '20', '6B', '00', '2A', '47', '17', '0A', '5B', '13', '92', '03', '50', '1C', '6D', '90', '23', '5A', '66', '11', '04', '95', '0G', '89', '70', '07', '06', '02', '7B', '19', '2C', '29', '7A', '08', '26', '18', '12', '43', '6A', '25', '15', '91', '0F'] ---\n",
      "--- Selecting loan periods within [-36500, 36500] days ---\n",
      "--- Implementing additional data preprocess ---\n",
      "--- Getting DQ/CO dates from: ---\n",
      "    get_coAmt_dq_date\n",
      "    get_code_dq_date\n",
      "    get_dmd_dq_date\n",
      "    get_highRate_dq_date\n",
      "    get_pattern_dq_date\n",
      "--- Implementing additional proxy date postprocess ---\n",
      "--- Transforming date formats ---\n",
      "Warning! Cannot covert CLOSED_DATE to datetime using %m%d%Y format! Please check the asset dates format!\n",
      "Trying to convert datetime using inferred datetime format...\n",
      "Warning! Cannot covert PREVIOUS_HIGH_DATE_BEFORE_HISTORY to datetime using %m%Y format! Please check the asset dates format!\n",
      "Trying to convert datetime using inferred datetime format...\n",
      "Warning! Cannot covert LAST_PAYMENT_DATE to datetime using %m%d%Y format! Please check the asset dates format!\n",
      "Trying to convert datetime using inferred datetime format...\n",
      "Warning! Cannot covert DFD_DLA to datetime using %m%d%Y format! Please check the asset dates format!\n",
      "Trying to convert datetime using inferred datetime format...\n",
      "Warning! Cannot covert PREVIOUS_HIGH_DATE_3 to datetime using %m%Y format! Please check the asset dates format!\n",
      "Trying to convert datetime using inferred datetime format...\n",
      "Warning! Cannot covert DMD_REPORTED to datetime using %m%d%Y format! Please check the asset dates format!\n",
      "Trying to convert datetime using inferred datetime format...\n",
      "DATE_OPENED is already of datetime format! Will skip the converting process\n",
      "Warning! Cannot covert DEFERRED_PAYMENT_START_DATE to datetime using %m%d%Y format! Please check the asset dates format!\n",
      "Trying to convert datetime using inferred datetime format...\n",
      "DATE_REPORTED is already of datetime format! Will skip the converting process\n",
      "Warning! Cannot covert PREVIOUS_HIGH_DATE_2 to datetime using %m%Y format! Please check the asset dates format!\n",
      "Trying to convert datetime using inferred datetime format...\n",
      "Warning! Cannot covert PREVIOUS_HIGH_DATE_1 to datetime using %m%Y format! Please check the asset dates format!\n",
      "Trying to convert datetime using inferred datetime format...\n",
      "--- Selecting loan types in ['8B', '01', '8A', '10', '22', None, '93', '3A', '9A', '20', '6B', '00', '2A', '47', '17', '0A', '5B', '13', '92', '03', '50', '1C', '6D', '90', '23', '5A', '66', '11', '04', '95', '0G', '89', '70', '07', '06', '02', '7B', '19', '2C', '29', '7A', '08', '26', '18', '12', '43', '6A', '25', '15', '91', '0F'] ---\n",
      "--- Selecting loan periods within [-36500, 36500] days ---\n",
      "--- Implementing additional data preprocess ---\n",
      "--- Getting DQ/CO dates from: ---\n",
      "    get_coAmt_dq_date\n",
      "    get_code_dq_date\n",
      "    get_dmd_dq_date\n",
      "    get_highRate_dq_date\n",
      "    get_pattern_dq_date\n",
      "--- Implementing additional proxy date postprocess ---\n"
     ]
    }
   ],
   "source": [
    "proxy_date_df_waterfall = target_generator.get_dqDates(proxy_trade_waterfall)\n",
    "proxy_date_df_waterfall_nobnk = target_generator_nobnk.get_dqDates(proxy_trade_waterfall)"
   ]
  },
  {
   "cell_type": "code",
   "execution_count": 96,
   "metadata": {},
   "outputs": [
    {
     "data": {
      "text/plain": [
       "((415728, 103), (415728, 103))"
      ]
     },
     "execution_count": 96,
     "metadata": {},
     "output_type": "execute_result"
    }
   ],
   "source": [
    "proxy_date_df_waterfall.shape, proxy_date_df_waterfall_nobnk.shape"
   ]
  },
  {
   "cell_type": "code",
   "execution_count": 152,
   "metadata": {
    "scrolled": true
   },
   "outputs": [
    {
     "name": "stderr",
     "output_type": "stream",
     "text": [
      "DataFrame is highly fragmented.  This is usually the result of calling `frame.insert` many times, which has poor performance.  Consider joining all columns at once using pd.concat(axis=1) instead. To get a de-fragmented frame, use `newframe = frame.copy()`\n",
      "DataFrame is highly fragmented.  This is usually the result of calling `frame.insert` many times, which has poor performance.  Consider joining all columns at once using pd.concat(axis=1) instead. To get a de-fragmented frame, use `newframe = frame.copy()`\n",
      "DataFrame is highly fragmented.  This is usually the result of calling `frame.insert` many times, which has poor performance.  Consider joining all columns at once using pd.concat(axis=1) instead. To get a de-fragmented frame, use `newframe = frame.copy()`\n",
      "DataFrame is highly fragmented.  This is usually the result of calling `frame.insert` many times, which has poor performance.  Consider joining all columns at once using pd.concat(axis=1) instead. To get a de-fragmented frame, use `newframe = frame.copy()`\n",
      "DataFrame is highly fragmented.  This is usually the result of calling `frame.insert` many times, which has poor performance.  Consider joining all columns at once using pd.concat(axis=1) instead. To get a de-fragmented frame, use `newframe = frame.copy()`\n",
      "DataFrame is highly fragmented.  This is usually the result of calling `frame.insert` many times, which has poor performance.  Consider joining all columns at once using pd.concat(axis=1) instead. To get a de-fragmented frame, use `newframe = frame.copy()`\n",
      "DataFrame is highly fragmented.  This is usually the result of calling `frame.insert` many times, which has poor performance.  Consider joining all columns at once using pd.concat(axis=1) instead. To get a de-fragmented frame, use `newframe = frame.copy()`\n",
      "DataFrame is highly fragmented.  This is usually the result of calling `frame.insert` many times, which has poor performance.  Consider joining all columns at once using pd.concat(axis=1) instead. To get a de-fragmented frame, use `newframe = frame.copy()`\n",
      "DataFrame is highly fragmented.  This is usually the result of calling `frame.insert` many times, which has poor performance.  Consider joining all columns at once using pd.concat(axis=1) instead. To get a de-fragmented frame, use `newframe = frame.copy()`\n",
      "DataFrame is highly fragmented.  This is usually the result of calling `frame.insert` many times, which has poor performance.  Consider joining all columns at once using pd.concat(axis=1) instead. To get a de-fragmented frame, use `newframe = frame.copy()`\n",
      "DataFrame is highly fragmented.  This is usually the result of calling `frame.insert` many times, which has poor performance.  Consider joining all columns at once using pd.concat(axis=1) instead. To get a de-fragmented frame, use `newframe = frame.copy()`\n",
      "DataFrame is highly fragmented.  This is usually the result of calling `frame.insert` many times, which has poor performance.  Consider joining all columns at once using pd.concat(axis=1) instead. To get a de-fragmented frame, use `newframe = frame.copy()`\n",
      "DataFrame is highly fragmented.  This is usually the result of calling `frame.insert` many times, which has poor performance.  Consider joining all columns at once using pd.concat(axis=1) instead. To get a de-fragmented frame, use `newframe = frame.copy()`\n",
      "DataFrame is highly fragmented.  This is usually the result of calling `frame.insert` many times, which has poor performance.  Consider joining all columns at once using pd.concat(axis=1) instead. To get a de-fragmented frame, use `newframe = frame.copy()`\n",
      "DataFrame is highly fragmented.  This is usually the result of calling `frame.insert` many times, which has poor performance.  Consider joining all columns at once using pd.concat(axis=1) instead. To get a de-fragmented frame, use `newframe = frame.copy()`\n",
      "DataFrame is highly fragmented.  This is usually the result of calling `frame.insert` many times, which has poor performance.  Consider joining all columns at once using pd.concat(axis=1) instead. To get a de-fragmented frame, use `newframe = frame.copy()`\n",
      "DataFrame is highly fragmented.  This is usually the result of calling `frame.insert` many times, which has poor performance.  Consider joining all columns at once using pd.concat(axis=1) instead. To get a de-fragmented frame, use `newframe = frame.copy()`\n"
     ]
    }
   ],
   "source": [
    "proxy_target_waterfall = target_generator.generate_target(proxy_date_df_waterfall, \n",
    "                                         target=dqs, \n",
    "                                         time_window=time_window, \n",
    "                                         query_date= pull_date)"
   ]
  },
  {
   "cell_type": "code",
   "execution_count": 153,
   "metadata": {
    "scrolled": true
   },
   "outputs": [
    {
     "name": "stderr",
     "output_type": "stream",
     "text": [
      "DataFrame is highly fragmented.  This is usually the result of calling `frame.insert` many times, which has poor performance.  Consider joining all columns at once using pd.concat(axis=1) instead. To get a de-fragmented frame, use `newframe = frame.copy()`\n",
      "DataFrame is highly fragmented.  This is usually the result of calling `frame.insert` many times, which has poor performance.  Consider joining all columns at once using pd.concat(axis=1) instead. To get a de-fragmented frame, use `newframe = frame.copy()`\n",
      "DataFrame is highly fragmented.  This is usually the result of calling `frame.insert` many times, which has poor performance.  Consider joining all columns at once using pd.concat(axis=1) instead. To get a de-fragmented frame, use `newframe = frame.copy()`\n",
      "DataFrame is highly fragmented.  This is usually the result of calling `frame.insert` many times, which has poor performance.  Consider joining all columns at once using pd.concat(axis=1) instead. To get a de-fragmented frame, use `newframe = frame.copy()`\n",
      "DataFrame is highly fragmented.  This is usually the result of calling `frame.insert` many times, which has poor performance.  Consider joining all columns at once using pd.concat(axis=1) instead. To get a de-fragmented frame, use `newframe = frame.copy()`\n",
      "DataFrame is highly fragmented.  This is usually the result of calling `frame.insert` many times, which has poor performance.  Consider joining all columns at once using pd.concat(axis=1) instead. To get a de-fragmented frame, use `newframe = frame.copy()`\n",
      "DataFrame is highly fragmented.  This is usually the result of calling `frame.insert` many times, which has poor performance.  Consider joining all columns at once using pd.concat(axis=1) instead. To get a de-fragmented frame, use `newframe = frame.copy()`\n",
      "DataFrame is highly fragmented.  This is usually the result of calling `frame.insert` many times, which has poor performance.  Consider joining all columns at once using pd.concat(axis=1) instead. To get a de-fragmented frame, use `newframe = frame.copy()`\n",
      "DataFrame is highly fragmented.  This is usually the result of calling `frame.insert` many times, which has poor performance.  Consider joining all columns at once using pd.concat(axis=1) instead. To get a de-fragmented frame, use `newframe = frame.copy()`\n",
      "DataFrame is highly fragmented.  This is usually the result of calling `frame.insert` many times, which has poor performance.  Consider joining all columns at once using pd.concat(axis=1) instead. To get a de-fragmented frame, use `newframe = frame.copy()`\n",
      "DataFrame is highly fragmented.  This is usually the result of calling `frame.insert` many times, which has poor performance.  Consider joining all columns at once using pd.concat(axis=1) instead. To get a de-fragmented frame, use `newframe = frame.copy()`\n",
      "DataFrame is highly fragmented.  This is usually the result of calling `frame.insert` many times, which has poor performance.  Consider joining all columns at once using pd.concat(axis=1) instead. To get a de-fragmented frame, use `newframe = frame.copy()`\n",
      "DataFrame is highly fragmented.  This is usually the result of calling `frame.insert` many times, which has poor performance.  Consider joining all columns at once using pd.concat(axis=1) instead. To get a de-fragmented frame, use `newframe = frame.copy()`\n",
      "DataFrame is highly fragmented.  This is usually the result of calling `frame.insert` many times, which has poor performance.  Consider joining all columns at once using pd.concat(axis=1) instead. To get a de-fragmented frame, use `newframe = frame.copy()`\n",
      "DataFrame is highly fragmented.  This is usually the result of calling `frame.insert` many times, which has poor performance.  Consider joining all columns at once using pd.concat(axis=1) instead. To get a de-fragmented frame, use `newframe = frame.copy()`\n",
      "DataFrame is highly fragmented.  This is usually the result of calling `frame.insert` many times, which has poor performance.  Consider joining all columns at once using pd.concat(axis=1) instead. To get a de-fragmented frame, use `newframe = frame.copy()`\n",
      "DataFrame is highly fragmented.  This is usually the result of calling `frame.insert` many times, which has poor performance.  Consider joining all columns at once using pd.concat(axis=1) instead. To get a de-fragmented frame, use `newframe = frame.copy()`\n"
     ]
    }
   ],
   "source": [
    "proxy_target_waterfall_nobnk = target_generator_nobnk.generate_target(proxy_date_df_waterfall_nobnk, \n",
    "                                         target=dqs, \n",
    "                                         time_window=time_window, \n",
    "                                         query_date= pull_date)"
   ]
  },
  {
   "cell_type": "code",
   "execution_count": 154,
   "metadata": {},
   "outputs": [
    {
     "data": {
      "text/plain": [
       "((415728, 405), (415728, 405))"
      ]
     },
     "execution_count": 154,
     "metadata": {},
     "output_type": "execute_result"
    }
   ],
   "source": [
    "proxy_target_waterfall.shape, proxy_target_waterfall_nobnk.shape"
   ]
  },
  {
   "cell_type": "code",
   "execution_count": 155,
   "metadata": {},
   "outputs": [],
   "source": [
    "bnk_column_mapping = \\\n",
    "    {'proxy_DQ60_m6': 'mob_6_60',\n",
    "     'proxy_DQ60_m12': 'mob_12_60',\n",
    "      'proxy_DQ90_m12': 'mob_12_90',\n",
    "      'proxy_DQ90_m18': 'mob_18_90',\n",
    "     'proxy_DQ120_m12': 'mob_12_120',\n",
    "    'proxy_DQ120_m18': 'mob_18_120',\n",
    "    'proxy_DQ120_m24': 'mob_24_120',\n",
    "      'proxy_DQ60_m6_status': 'mob_6_60_status',\n",
    "      'proxy_DQ60_m12_status': 'mob_12_60_status',\n",
    "      'proxy_DQ90_m12_status': 'mob_12_90_status',\n",
    "      'proxy_DQ90_m18_status': 'mob_18_90_status',\n",
    "     'proxy_DQ120_m12_status': 'mob_12_120_status',\n",
    "    'proxy_DQ120_m18_status': 'mob_18_120_status',\n",
    "    'proxy_DQ120_m24_status': 'mob_24_120_status',\n",
    "}\n",
    "\n",
    "nobnk_column_mapping = {\n",
    "    'proxy_DQ120_m12': 'mob_12_120_nobnk',\n",
    "    'proxy_DQ120_m18': 'mob_18_120_nobnk',\n",
    "    'proxy_DQ120_m24': 'mob_24_120_nobnk',\n",
    "    'proxy_DQ120_m12_status': 'mob_12_120_nobnk_status',\n",
    "    'proxy_DQ120_m18_status': 'mob_18_120_nobnk_status',\n",
    "    'proxy_DQ120_m24_status': 'mob_24_120_nobnk_status',\n",
    "}\n",
    "\n",
    "date_source_cols = [c for c in proxy_target_waterfall.columns if c.endswith('date_source')]\n",
    "\n",
    "proxy_target_waterfall_rename = proxy_target_waterfall.rename(columns=bnk_column_mapping)\n",
    "proxy_target_waterfall_nobnk_rename = proxy_target_waterfall_nobnk.rename(columns=nobnk_column_mapping)\n",
    "\n",
    "proxy_target_waterfall_nobnk_keep_cols = list(nobnk_column_mapping.values())\n",
    "\n",
    "proxy_target_waterfall_all = pd.concat([proxy_target_waterfall_rename, \\\n",
    "                                       proxy_target_waterfall_nobnk_rename[proxy_target_waterfall_nobnk_keep_cols]\n",
    "                                       ], axis=1)\n",
    "proxy_target_waterfall_all['abs_days_diff'] = abs((proxy_target_waterfall_all['DATE_OPENED'] - proxy_target_waterfall_all['appDate']).dt.days)"
   ]
  },
  {
   "cell_type": "code",
   "execution_count": 120,
   "metadata": {},
   "outputs": [
    {
     "data": {
      "text/plain": [
       "((415728, 355), (415728, 405), (415728, 405))"
      ]
     },
     "execution_count": 120,
     "metadata": {},
     "output_type": "execute_result"
    }
   ],
   "source": [
    "proxy_target_waterfall_all.shape, proxy_target_waterfall.shape, proxy_target_waterfall_nobnk.shape"
   ]
  },
  {
   "cell_type": "code",
   "execution_count": 3,
   "metadata": {},
   "outputs": [],
   "source": [
    "proxy_target_waterfall_all = pd.read_parquet('/d/shared/users/yyz/penfed/proxy_target_waterfall_all.parquet')"
   ]
  },
  {
   "cell_type": "code",
   "execution_count": 4,
   "metadata": {},
   "outputs": [],
   "source": [
    "# Choose worst performing trade (60+DPD M12), next choose trade opened closest to app month\n",
    "# Else random select from duplicate trades\n",
    "proxy_target_waterfall_all_dedup = proxy_target_waterfall_all.sort_values(by=['ZEST_KEY','mob_12_60', 'abs_days_diff'], ascending=[True, False, True])\\\n",
    "    .drop_duplicates(subset=['ZEST_KEY'], keep='first')"
   ]
  },
  {
   "cell_type": "code",
   "execution_count": 158,
   "metadata": {},
   "outputs": [],
   "source": [
    "proxy_target_waterfall_all.to_parquet('/d/shared/users/yyz/penfed/proxy_target_waterfall_all.parquet')"
   ]
  },
  {
   "cell_type": "code",
   "execution_count": 136,
   "metadata": {},
   "outputs": [
    {
     "data": {
      "text/plain": [
       "((275340, 356), 275340)"
      ]
     },
     "execution_count": 136,
     "metadata": {},
     "output_type": "execute_result"
    }
   ],
   "source": [
    "proxy_target_waterfall_all_dedup.shape, proxy_target_waterfall_all_dedup['ZEST_KEY'].nunique()"
   ]
  },
  {
   "cell_type": "code",
   "execution_count": 7,
   "metadata": {},
   "outputs": [
    {
     "name": "stderr",
     "output_type": "stream",
     "text": [
      "Columns (21,42,60,61,71,72,122) have mixed types. Specify dtype option on import or set low_memory=False.\n"
     ]
    }
   ],
   "source": [
    "keep_cols = ['ZEST_KEY','Waterfall_Number','DATE_OPENED','DATE_REPORTED','ACCOUNT_TYPE','HIGH_CREDIT','SCHEDULED_PAYMENT_AMOUNT','TERMS_DURATION','TERMS_FREQUENCY',\\\n",
    "             'PAYMENT_HISTORY_1_24','PAYMENT_HISTORY_25_36','PAYMENT_HISTORY_37_48'] + \\\n",
    "            list(bnk_column_mapping.values())+list(nobnk_column_mapping.values())\n",
    "proxy_target_waterfall_all_dedup_subset = proxy_target_waterfall_all_dedup[keep_cols]\n",
    "\n",
    "df_raw = pd.read_csv('/d/shared/silver_projects_v2/penfed/autoindirectv1/shared_data/equifax/raw/client/data_3rd_party_refi_f_sent_20250523183131_withhasedappId.csv')\n",
    "\n",
    "df_raw['flgBorrower'] = df_raw['Role_Code'].map({'PRIMARY': 1, 'JOINTOWN': 2})\n",
    "df_raw['ZEST_KEY'] = df_raw['Application_Number'].astype(str)+'_'+df_raw['flgBorrower'].astype(str)+'_229_22'\n",
    "keep_cols = ['ZEST_KEY','Application_Number_hashed','Application_Date','Role_Code','Seller_Name','Product','Application_Status','PenFed_Funded']\n",
    "df_raw = df_raw[keep_cols]\n",
    "proxy_target_waterfall_all_dedup_merge = df_raw.merge(proxy_target_waterfall_all_dedup_subset, how='inner', on=['ZEST_KEY'])\\\n",
    "    .drop(columns=['ZEST_KEY','mob_12_120','mob_18_120','mob_24_120','mob_12_120_status','mob_18_120_status','mob_24_120_status'])"
   ]
  },
  {
   "cell_type": "code",
   "execution_count": 8,
   "metadata": {},
   "outputs": [
    {
     "data": {
      "text/plain": [
       "(275340, 32)"
      ]
     },
     "execution_count": 8,
     "metadata": {},
     "output_type": "execute_result"
    }
   ],
   "source": [
    "proxy_target_waterfall_all_dedup_merge.shape"
   ]
  },
  {
   "cell_type": "code",
   "execution_count": 240,
   "metadata": {},
   "outputs": [],
   "source": [
    "proxy_target_waterfall_all_dedup_merge.to_csv('/d/shared/users/yyz/penfed/proxy_target_waterfall_part2.csv', index=False)"
   ]
  },
  {
   "cell_type": "code",
   "execution_count": 12,
   "metadata": {},
   "outputs": [],
   "source": [
    "proxy_target_waterfall_all_dedup_merge = pd.read_csv('/d/shared/users/yyz/penfed/proxy_target_waterfall_part2.csv')"
   ]
  },
  {
   "cell_type": "code",
   "execution_count": 9,
   "metadata": {},
   "outputs": [],
   "source": [
    "trade = proxy_target_waterfall_all_dedup_merge.copy()\n",
    "\n",
    "import numpy_financial as npf\n",
    "trade['TERMS_DURATION'] = trade['TERMS_DURATION'].astype(float)\n",
    "trade['SCHEDULED_PAYMENT_AMOUNT'] = trade['SCHEDULED_PAYMENT_AMOUNT'].astype(float)\n",
    "trade['HIGH_CREDIT'] = trade['HIGH_CREDIT'].astype(float)\n",
    "\n",
    "\n",
    "# generate a numeric value for the term frequency; assume monthy if missing\n",
    "trade['TERMS_FREQUENCY'] = trade['TERMS_FREQUENCY'].fillna('M')\n",
    "freq_map = {'B':26,'E':24,'L':6,'M':12,'P':1,'Q':4,'S':2,'T':3,'W':52,'Y':1}\n",
    "trade['TERMS_FREQUENCY_numeric'] = trade['TERMS_FREQUENCY'].map(freq_map)\n",
    "\n",
    "# filter out invalid rows\n",
    "## drop rows where bureau loan terms are missing or 0\n",
    "trade = trade.dropna(subset=['TERMS_DURATION', 'TERMS_FREQUENCY', 'HIGH_CREDIT', 'SCHEDULED_PAYMENT_AMOUNT'])\n",
    "trade = trade[(trade[['TERMS_DURATION', 'SCHEDULED_PAYMENT_AMOUNT', 'HIGH_CREDIT']] > 0).any(axis=1)]\n",
    "\n",
    "## drop rows if the full scheduled payment amount is higher than 3 times the loan amount (entries could be a typo and calculated APRs would be too high)\n",
    "mask = (trade['TERMS_DURATION'] * trade['SCHEDULED_PAYMENT_AMOUNT'] / trade['HIGH_CREDIT']) < 3\n",
    "trade = trade[mask]\n",
    "## drop rows if the full scheduled payment amount is less than or equal to the loan amount (entries could be a typo and calculated APRs would be too low)\n",
    "mask2 = (trade['TERMS_DURATION'] * trade['SCHEDULED_PAYMENT_AMOUNT'] / trade['HIGH_CREDIT']) >= 1\n",
    "trade = trade[mask2]\n",
    "\n",
    "# calculate the APR\n",
    "trade['Estimated_APR'] = npf.rate(\n",
    "    trade['TERMS_DURATION'],\n",
    "    -trade['SCHEDULED_PAYMENT_AMOUNT'],\n",
    "    trade['HIGH_CREDIT'],\n",
    "    0,\n",
    "    maxiter=100\n",
    "    ) * trade['TERMS_FREQUENCY_numeric']"
   ]
  },
  {
   "cell_type": "code",
   "execution_count": 24,
   "metadata": {},
   "outputs": [],
   "source": [
    "proxy_target_waterfall_all_dedup_merge_apr = proxy_target_waterfall_all_dedup_merge.merge(trade[['Application_Number_hashed', 'Role_Code', 'Estimated_APR']], \\\n",
    "                                             how='left', on=['Application_Number_hashed', 'Role_Code'])\n",
    "proxy_target_waterfall_all_dedup_merge_apr = proxy_target_waterfall_all_dedup_merge_apr.drop_duplicates()"
   ]
  },
  {
   "cell_type": "code",
   "execution_count": 27,
   "metadata": {},
   "outputs": [],
   "source": [
    "proxy_target_waterfall_all_dedup_merge_apr.to_csv('/d/shared/users/yyz/penfed/proxy_target_waterfall_part2.csv', index=False)"
   ]
  },
  {
   "cell_type": "code",
   "execution_count": 26,
   "metadata": {},
   "outputs": [
    {
     "data": {
      "text/plain": [
       "((275340, 32), (275339, 33))"
      ]
     },
     "execution_count": 26,
     "metadata": {},
     "output_type": "execute_result"
    }
   ],
   "source": [
    "proxy_target_waterfall_all_dedup_merge.shape, proxy_target_waterfall_all_dedup_merge_apr.shape"
   ]
  },
  {
   "cell_type": "code",
   "execution_count": 56,
   "metadata": {},
   "outputs": [
    {
     "data": {
      "text/plain": [
       "186"
      ]
     },
     "execution_count": 56,
     "metadata": {},
     "output_type": "execute_result"
    }
   ],
   "source": [
    "275526 - 275340"
   ]
  },
  {
   "cell_type": "code",
   "execution_count": 23,
   "metadata": {},
   "outputs": [],
   "source": []
  },
  {
   "cell_type": "code",
   "execution_count": 17,
   "metadata": {},
   "outputs": [
    {
     "data": {
      "text/plain": [
       "Application_Number_hashed                                         Role_Code\n",
       "f0d99b37773cd5b43ccd7e6327446a5dfc807becf04cf48350da2c8d03463144  PRIMARY      2\n",
       "Name: Application_Date, dtype: int64"
      ]
     },
     "execution_count": 17,
     "metadata": {},
     "output_type": "execute_result"
    }
   ],
   "source": [
    "a = proxy_target_waterfall_all_dedup_merge.groupby(['Application_Number_hashed', 'Role_Code'])['Application_Date'].count()\n",
    "a[a>1]"
   ]
  },
  {
   "cell_type": "code",
   "execution_count": 18,
   "metadata": {},
   "outputs": [],
   "source": [
    "\n",
    "tmp = proxy_target_waterfall_all_dedup_merge[proxy_target_waterfall_all_dedup_merge['Application_Number_hashed']=='f0d99b37773cd5b43ccd7e6327446a5dfc807becf04cf48350da2c8d03463144']"
   ]
  },
  {
   "cell_type": "code",
   "execution_count": 22,
   "metadata": {},
   "outputs": [
    {
     "data": {
      "text/plain": [
       "1"
      ]
     },
     "execution_count": 22,
     "metadata": {},
     "output_type": "execute_result"
    }
   ],
   "source": [
    "tmp.duplicated().sum()"
   ]
  },
  {
   "cell_type": "code",
   "execution_count": 47,
   "metadata": {},
   "outputs": [
    {
     "data": {
      "text/plain": [
       "appmonth\n",
       "2021-01      7.0\n",
       "2021-02      7.0\n",
       "2021-03     23.0\n",
       "2021-04     26.0\n",
       "2021-05     31.0\n",
       "2021-06     43.0\n",
       "2021-07     75.0\n",
       "2021-08     61.0\n",
       "2021-09     70.0\n",
       "2021-10    147.0\n",
       "2021-11    141.0\n",
       "2021-12    131.0\n",
       "2022-01    169.0\n",
       "2022-02    153.0\n",
       "2022-03    228.0\n",
       "2022-04    246.0\n",
       "2022-05    284.0\n",
       "2022-06    294.0\n",
       "2022-07    139.0\n",
       "2022-08     58.0\n",
       "2022-09     61.0\n",
       "2022-10     43.0\n",
       "2022-11     54.0\n",
       "2022-12     53.0\n",
       "2023-01     45.0\n",
       "2023-02     43.0\n",
       "2023-03     53.0\n",
       "2023-04     58.0\n",
       "2023-05     63.0\n",
       "2023-06     27.0\n",
       "2023-07     21.0\n",
       "2023-08     21.0\n",
       "2023-09     16.0\n",
       "2023-10     11.0\n",
       "2023-11     11.0\n",
       "2023-12      6.0\n",
       "2024-01     15.0\n",
       "2024-02      7.0\n",
       "2024-03      9.0\n",
       "2024-04      8.0\n",
       "2024-05      3.0\n",
       "2024-06      0.0\n",
       "2024-07      1.0\n",
       "2024-08      0.0\n",
       "2024-09      2.0\n",
       "2024-10      2.0\n",
       "2024-11      1.0\n",
       "2024-12      0.0\n",
       "2025-01      0.0\n",
       "2025-02      1.0\n",
       "2025-03      1.0\n",
       "Name: mob_24_120_nobnk, dtype: float64"
      ]
     },
     "execution_count": 47,
     "metadata": {},
     "output_type": "execute_result"
    }
   ],
   "source": [
    "proxy_target_waterfall_all_dedup_merge['appmonth'] = proxy_target_waterfall_all_dedup_merge['Application_Date'].str[:7]\n",
    "proxy_target_waterfall_all_dedup_merge.groupby('appmonth')['mob_24_120_nobnk'].sum()"
   ]
  }
 ],
 "metadata": {
  "kernelspec": {
   "display_name": "penfed_psp",
   "language": "python",
   "name": "penfed_psp"
  },
  "language_info": {
   "codemirror_mode": {
    "name": "ipython",
    "version": 3
   },
   "file_extension": ".py",
   "mimetype": "text/x-python",
   "name": "python",
   "nbconvert_exporter": "python",
   "pygments_lexer": "ipython3",
   "version": "3.10.8"
  },
  "widgets": {
   "application/vnd.jupyter.widget-state+json": {
    "state": {},
    "version_major": 2,
    "version_minor": 0
   }
  }
 },
 "nbformat": 4,
 "nbformat_minor": 4
}
