{
 "cells": [
  {
   "cell_type": "markdown",
   "metadata": {},
   "source": [
    "# Client Data Only Model clientmodel3a\n",
    "\n",
    "- feature selection on PenFed data + Origence\n",
    "- with LTV application feature\n",
    "- train test split: (with april 2021- june 2021 removed)\n",
    "- \n",
    "  \"train\": {\"start_date\": \"2020-07-01\", \"end_date\": \"2022-07-01\"},\n",
    "  \"valid\": {\"start_date\": \"2022-07-01\", \"end_date\": \"2023-01-01\"},\n",
    "  \"test\": {\"start_date\": \"2023-01-01\", \"end_date\": \"2024-01-01\"}"
   ]
  },
  {
   "cell_type": "code",
   "execution_count": 2,
   "metadata": {},
   "outputs": [],
   "source": [
    "# House keeping settings\n",
    "%load_ext autoreload\n",
    "%autoreload 2\n",
    "%config Completer.use_jedi=False\n",
    "import numba\n",
    "n_jobs = os.getenv('CPU_LIMIT', default=-1)\n",
    "n_jobs = int(float(n_jobs)/2)\n",
    "numba.set_num_threads(n_jobs)"
   ]
  },
  {
   "cell_type": "code",
   "execution_count": 3,
   "metadata": {},
   "outputs": [
    {
     "name": "stderr",
     "output_type": "stream",
     "text": [
      "WARNING:py.warnings:Setuptools is replacing distutils. Support for replacing an already imported distutils is deprecated. In the future, this condition will fail. Register concerns at https://github.com/pypa/setuptools/issues/new?template=distutils-deprecation.yml\n",
      "\n"
     ]
    },
    {
     "data": {
      "text/plain": [
       "('v1.13.1', '34.4.1')"
      ]
     },
     "execution_count": 3,
     "metadata": {},
     "output_type": "execute_result"
    }
   ],
   "source": [
    "import os\n",
    "import pandas as pd\n",
    "import json\n",
    "import numpy as np\n",
    "\n",
    "from model_engine.assets.utils import load_asset\n",
    "from model_engine.io.loaders import load_json\n",
    "from model_engine.power.post_sale import PowerModelBuilder\n",
    "from model_engine.analysis.suggesters import evaluate_datesplits\n",
    "import warnings\n",
    "\n",
    "from zaml.common.utils import load_state\n",
    "\n",
    "import model_engine, zaml\n",
    "model_engine.__version__, zaml.__version__"
   ]
  },
  {
   "cell_type": "code",
   "execution_count": 4,
   "metadata": {},
   "outputs": [],
   "source": [
    "from model_engine.model_builder.asset_parser import asset_parser\n",
    "from model_engine.model_builder import ModelBuilder"
   ]
  },
  {
   "cell_type": "code",
   "execution_count": 5,
   "metadata": {},
   "outputs": [
    {
     "name": "stdout",
     "output_type": "stream",
     "text": [
      "Final model path: /d/shared/silver_projects_v2/penfed/autoindirectv1/modeling/clientmodel3a\n"
     ]
    }
   ],
   "source": [
    "input_model_id = 'clientmodel3a'\n",
    "input_target_name = 'final_DQ90_m12'\n",
    "\n",
    "\n",
    "final_model_output_path = f'/d/shared/silver_projects_v2/penfed/autoindirectv1/modeling/{input_model_id}'\n",
    "\n",
    "\n",
    "print(f'Final model path: {final_model_output_path}')"
   ]
  },
  {
   "cell_type": "code",
   "execution_count": 6,
   "metadata": {},
   "outputs": [],
   "source": [
    "asset = json.load(open(f'./{input_model_id}_asset.json'))"
   ]
  },
  {
   "cell_type": "code",
   "execution_count": 7,
   "metadata": {},
   "outputs": [
    {
     "data": {
      "text/plain": [
       "{'train': {'start_date': '2020-07-01', 'end_date': '2022-07-01'},\n",
       " 'valid': {'start_date': '2022-07-01', 'end_date': '2023-01-01'},\n",
       " 'test': {'start_date': '2023-01-01', 'end_date': '2024-01-01'}}"
      ]
     },
     "execution_count": 7,
     "metadata": {},
     "output_type": "execute_result"
    }
   ],
   "source": [
    "asset['config']['data_split'] "
   ]
  },
  {
   "cell_type": "code",
   "execution_count": 8,
   "metadata": {},
   "outputs": [
    {
     "data": {
      "text/plain": [
       "[]"
      ]
     },
     "execution_count": 8,
     "metadata": {},
     "output_type": "execute_result"
    }
   ],
   "source": [
    "asset['config']['exclusion_list'] "
   ]
  },
  {
   "cell_type": "code",
   "execution_count": 9,
   "metadata": {},
   "outputs": [
    {
     "name": "stdout",
     "output_type": "stream",
     "text": [
      "3328\n"
     ]
    }
   ],
   "source": [
    "national_data_asset = json.load(open('/d/shared/users/lyt/penfed_custom_model_national_models/nationalmodel3a/asset.json'))\n",
    "print(len(national_data_asset['config']['exclusion_list']))\n",
    "\n",
    "asset['config']['exclusion_list']= national_data_asset['config']['exclusion_list']"
   ]
  },
  {
   "cell_type": "code",
   "execution_count": 10,
   "metadata": {
    "scrolled": true
   },
   "outputs": [],
   "source": [
    "# model_builder = ModelBuilder(asset)\n",
    "# model_builder.configure_run(final_model_output_path, \n",
    "#                             cache=True) \n",
    "\n",
    "# state = asset_parser(asset)\n",
    "\n",
    "# input_asset = (json.dumps(state['input_asset'], indent=4))\n",
    "# print(input_asset)"
   ]
  },
  {
   "cell_type": "code",
   "execution_count": 11,
   "metadata": {},
   "outputs": [],
   "source": [
    "# with open (os.path.join(final_model_output_path, 'input_configuration.json'), 'w') as outfile:\n",
    "#     outfile.write(input_asset)"
   ]
  },
  {
   "cell_type": "code",
   "execution_count": 12,
   "metadata": {},
   "outputs": [],
   "source": [
    "# from model_engine.model_builder import build_model\n",
    "\n",
    "# output = build_model.build_model(asset, final_model_output_path)"
   ]
  },
  {
   "cell_type": "code",
   "execution_count": 13,
   "metadata": {},
   "outputs": [
    {
     "name": "stdout",
     "output_type": "stream",
     "text": [
      "train_auc {'auc': 0.8175866864700225}\n",
      "test_auc {'auc': 0.7706006733545502}\n",
      "train_ks {'ks': 0.4820113108225396}\n",
      "test_ks {'ks': 0.41152852898509257}\n"
     ]
    }
   ],
   "source": [
    "scoreFiles = []\n",
    "\n",
    "for j in ['_auc.json','_ks.json']:\n",
    "#     for i in ['train', 'valid', 'test']:\n",
    "    for i in ['train','test',]:\n",
    "        scoreFiles.append(i+j)\n",
    "        \n",
    "scoreFiles_model = {}\n",
    "for i in scoreFiles:\n",
    "    name = i.split('.')[0]\n",
    "    # print(name)\n",
    "    scoreFiles_model[name] = json.load(open(os.path.join(final_model_output_path, i), 'rb'))\n",
    "\n",
    "\n",
    "for i in scoreFiles_model:\n",
    "    print(i, scoreFiles_model[i])"
   ]
  },
  {
   "cell_type": "code",
   "execution_count": 14,
   "metadata": {},
   "outputs": [
    {
     "data": {
      "text/plain": [
       "(269, 2)"
      ]
     },
     "execution_count": 14,
     "metadata": {},
     "output_type": "execute_result"
    }
   ],
   "source": [
    "features_importance = pd.read_parquet(os.path.join(final_model_output_path, 'feature_importance.parquet'))\n",
    "features_importance.shape"
   ]
  },
  {
   "cell_type": "code",
   "execution_count": 15,
   "metadata": {},
   "outputs": [
    {
     "data": {
      "text/html": [
       "<div>\n",
       "<style scoped>\n",
       "    .dataframe tbody tr th:only-of-type {\n",
       "        vertical-align: middle;\n",
       "    }\n",
       "\n",
       "    .dataframe tbody tr th {\n",
       "        vertical-align: top;\n",
       "    }\n",
       "\n",
       "    .dataframe thead th {\n",
       "        text-align: right;\n",
       "    }\n",
       "</style>\n",
       "<table border=\"1\" class=\"dataframe\">\n",
       "  <thead>\n",
       "    <tr style=\"text-align: right;\">\n",
       "      <th></th>\n",
       "      <th>feature</th>\n",
       "      <th>importance</th>\n",
       "    </tr>\n",
       "  </thead>\n",
       "  <tbody>\n",
       "    <tr>\n",
       "      <th>0</th>\n",
       "      <td>client_data_LTV_NORM</td>\n",
       "      <td>0.009987</td>\n",
       "    </tr>\n",
       "    <tr>\n",
       "      <th>1</th>\n",
       "      <td>inq_inquiries__count_by_indCode_auto_mortgage</td>\n",
       "      <td>0.003319</td>\n",
       "    </tr>\n",
       "    <tr>\n",
       "      <th>2</th>\n",
       "      <td>trade_clAmt_accts_with_rcntPmt__sum_by_prtfTyp...</td>\n",
       "      <td>0.002996</td>\n",
       "    </tr>\n",
       "    <tr>\n",
       "      <th>3</th>\n",
       "      <td>trade_blnc_to_hc__max_by_acctType_auto</td>\n",
       "      <td>0.002767</td>\n",
       "    </tr>\n",
       "    <tr>\n",
       "      <th>4</th>\n",
       "      <td>trade_clAmt__max_by_prtfType_revolving</td>\n",
       "      <td>0.002189</td>\n",
       "    </tr>\n",
       "    <tr>\n",
       "      <th>5</th>\n",
       "      <td>trade_clAmt__mean_by_prtfType_revolving</td>\n",
       "      <td>0.002071</td>\n",
       "    </tr>\n",
       "    <tr>\n",
       "      <th>6</th>\n",
       "      <td>trade_hcAmt__min_by_prtfType_installment</td>\n",
       "      <td>0.001951</td>\n",
       "    </tr>\n",
       "    <tr>\n",
       "      <th>7</th>\n",
       "      <td>inq_inquiries_in_last_3_months__sum</td>\n",
       "      <td>0.001930</td>\n",
       "    </tr>\n",
       "    <tr>\n",
       "      <th>8</th>\n",
       "      <td>trade_months_since_openDate__mean_by_acctType_...</td>\n",
       "      <td>0.001867</td>\n",
       "    </tr>\n",
       "    <tr>\n",
       "      <th>9</th>\n",
       "      <td>trade_months_since_rptDate__sum_by_acctType_auto</td>\n",
       "      <td>0.001815</td>\n",
       "    </tr>\n",
       "    <tr>\n",
       "      <th>10</th>\n",
       "      <td>trade_clAmt_active_accts__mean_by_prtfType_rev...</td>\n",
       "      <td>0.001690</td>\n",
       "    </tr>\n",
       "    <tr>\n",
       "      <th>11</th>\n",
       "      <td>inq_inquiries_in_last_6_months__sum</td>\n",
       "      <td>0.001655</td>\n",
       "    </tr>\n",
       "    <tr>\n",
       "      <th>12</th>\n",
       "      <td>trade_months_since_rptDate__mean_by_acctType_c...</td>\n",
       "      <td>0.001565</td>\n",
       "    </tr>\n",
       "    <tr>\n",
       "      <th>13</th>\n",
       "      <td>trade_hc_to_cl_accts_opened_12m__max_by_prtfTy...</td>\n",
       "      <td>0.001514</td>\n",
       "    </tr>\n",
       "    <tr>\n",
       "      <th>14</th>\n",
       "      <td>inq_inquiries_in_last_9_months__sum</td>\n",
       "      <td>0.001497</td>\n",
       "    </tr>\n",
       "    <tr>\n",
       "      <th>15</th>\n",
       "      <td>inq_inquiries__sum</td>\n",
       "      <td>0.001455</td>\n",
       "    </tr>\n",
       "    <tr>\n",
       "      <th>16</th>\n",
       "      <td>trade_blnc_to_hc_all_non_derog_accts__mean_by_...</td>\n",
       "      <td>0.001416</td>\n",
       "    </tr>\n",
       "    <tr>\n",
       "      <th>17</th>\n",
       "      <td>trade_clAmt_all_non_derog_accts__mean_by_prtfT...</td>\n",
       "      <td>0.001408</td>\n",
       "    </tr>\n",
       "    <tr>\n",
       "      <th>18</th>\n",
       "      <td>trade_blncAmt_accts_with_rcntPmt__max</td>\n",
       "      <td>0.001396</td>\n",
       "    </tr>\n",
       "    <tr>\n",
       "      <th>19</th>\n",
       "      <td>trade_blnc_to_hc_all_non_derog_accts__max_by_p...</td>\n",
       "      <td>0.001338</td>\n",
       "    </tr>\n",
       "  </tbody>\n",
       "</table>\n",
       "</div>"
      ],
      "text/plain": [
       "                                              feature  importance\n",
       "0                                client_data_LTV_NORM    0.009987\n",
       "1       inq_inquiries__count_by_indCode_auto_mortgage    0.003319\n",
       "2   trade_clAmt_accts_with_rcntPmt__sum_by_prtfTyp...    0.002996\n",
       "3              trade_blnc_to_hc__max_by_acctType_auto    0.002767\n",
       "4              trade_clAmt__max_by_prtfType_revolving    0.002189\n",
       "5             trade_clAmt__mean_by_prtfType_revolving    0.002071\n",
       "6            trade_hcAmt__min_by_prtfType_installment    0.001951\n",
       "7                 inq_inquiries_in_last_3_months__sum    0.001930\n",
       "8   trade_months_since_openDate__mean_by_acctType_...    0.001867\n",
       "9    trade_months_since_rptDate__sum_by_acctType_auto    0.001815\n",
       "10  trade_clAmt_active_accts__mean_by_prtfType_rev...    0.001690\n",
       "11                inq_inquiries_in_last_6_months__sum    0.001655\n",
       "12  trade_months_since_rptDate__mean_by_acctType_c...    0.001565\n",
       "13  trade_hc_to_cl_accts_opened_12m__max_by_prtfTy...    0.001514\n",
       "14                inq_inquiries_in_last_9_months__sum    0.001497\n",
       "15                                 inq_inquiries__sum    0.001455\n",
       "16  trade_blnc_to_hc_all_non_derog_accts__mean_by_...    0.001416\n",
       "17  trade_clAmt_all_non_derog_accts__mean_by_prtfT...    0.001408\n",
       "18              trade_blncAmt_accts_with_rcntPmt__max    0.001396\n",
       "19  trade_blnc_to_hc_all_non_derog_accts__max_by_p...    0.001338"
      ]
     },
     "execution_count": 15,
     "metadata": {},
     "output_type": "execute_result"
    }
   ],
   "source": [
    "features_importance.head(20)"
   ]
  },
  {
   "cell_type": "code",
   "execution_count": 16,
   "metadata": {},
   "outputs": [
    {
     "data": {
      "text/plain": [
       "'/d/shared/silver_projects_v2/penfed/autoindirectv1/modeling/clientmodel3a'"
      ]
     },
     "execution_count": 16,
     "metadata": {},
     "output_type": "execute_result"
    }
   ],
   "source": [
    "final_model_output_path"
   ]
  },
  {
   "cell_type": "code",
   "execution_count": 17,
   "metadata": {},
   "outputs": [
    {
     "name": "stdout",
     "output_type": "stream",
     "text": [
      "artifact_manifest.json\t\t\ttest_scores.parquet\n",
      "asset.json\t\t\t\ttest_target.parquet\n",
      "best_model_params.json\t\t\ttest_zest_scores.parquet\n",
      "calibration_object.obj\t\t\ttop_features.parquet\n",
      "feature_definition.parquet\t\ttrain_app.parquet\n",
      "feature_importance.parquet\t\ttrain_auc.json\n",
      "fit_time_info.json\t\t\ttrain_data_summary.json\n",
      "input_configuration.json\t\ttrain_fe_data.parquet\n",
      "keep_features.json\t\t\ttrain_history.json\n",
      "key_factors_mapping.json\t\ttrain_ks.json\n",
      "model.obj\t\t\t\ttrain_scores.parquet\n",
      "model_strategy.json\t\t\ttrain_target.parquet\n",
      "mrm_pipeline.obj\t\t\ttrain_zest_scores.parquet\n",
      "parsed_monotonic_constraints_list.json\tvalid_app.parquet\n",
      "pipeline.obj\t\t\t\tvalid_auc.json\n",
      "score_recalibration_mapping.json\tvalid_data_summary.json\n",
      "splitter.obj\t\t\t\tvalid_fe_data.parquet\n",
      "static_asset.json\t\t\tvalid_ks.json\n",
      "test_app.parquet\t\t\tvalid_scores.parquet\n",
      "test_auc.json\t\t\t\tvalid_target.parquet\n",
      "test_data_summary.json\t\t\tvalid_zest_scores.parquet\n",
      "test_fe_data.parquet\t\t\tvalue_based_key_factor_mapping.json\n",
      "test_ks.json\t\t\t\tversions.json\n"
     ]
    }
   ],
   "source": [
    "!ls /d/shared/silver_projects_v2/penfed/autoindirectv1/modeling/clientmodel3a"
   ]
  },
  {
   "cell_type": "code",
   "execution_count": null,
   "metadata": {},
   "outputs": [],
   "source": []
  },
  {
   "cell_type": "markdown",
   "metadata": {
    "jp-MarkdownHeadingCollapsed": true
   },
   "source": [
    "# Unfold Model "
   ]
  },
  {
   "cell_type": "code",
   "execution_count": 18,
   "metadata": {},
   "outputs": [
    {
     "name": "stdout",
     "output_type": "stream",
     "text": [
      "Unfold model path: /d/shared/silver_projects_v2/penfed/autoindirectv1/modeling/clientmodel3b\n"
     ]
    }
   ],
   "source": [
    "unfold_model_id = 'clientmodel3b'\n",
    "\n",
    "\n",
    "unfold_model_output_path = f'/d/shared/silver_projects_v2/penfed/autoindirectv1/modeling/{unfold_model_id}'\n",
    "\n",
    "\n",
    "print(f'Unfold model path: {unfold_model_output_path}')"
   ]
  },
  {
   "cell_type": "code",
   "execution_count": 19,
   "metadata": {},
   "outputs": [
    {
     "data": {
      "text/plain": [
       "{'data_split': {'train': {'start_date': '2020-07-01',\n",
       "   'end_date': '2022-07-01'},\n",
       "  'valid': {'start_date': '2022-07-01', 'end_date': '2023-01-01'},\n",
       "  'test': {'start_date': '2023-01-01', 'end_date': '2024-01-01'}},\n",
       " 'target': 'final_DQ90_m12',\n",
       " 'memory_efficient': True,\n",
       " 'pipeline_factory': {'name': 'AutoValidPipelineFactory',\n",
       "  'transformers': [{'zaml_class': 'LevelSelection',\n",
       "    'params': {'thresh': 0.01, 'change_to': 'Other', 'encoding': 'onehot'}},\n",
       "   {'zaml_class': 'FillNA', 'params': {'replace_by': -1, 'add_flags': False}},\n",
       "   {'zaml_class': 'CorrelationFeatureSelection',\n",
       "    'params': {'corr_threshold': 0.995},\n",
       "    'fit_params': {'ignore_columns': ['trade_months_since_openDate__max',\n",
       "      'trade_acctType__count',\n",
       "      'trade_number_DQ30_24_months__sum',\n",
       "      'trade_number_DQ60_24_months__sum',\n",
       "      'trade_number_DQ90_24_months__sum',\n",
       "      'trade_blncAmt_all_derog_accts__max',\n",
       "      'trade_blncAmt_active_accts__sum',\n",
       "      'trade_blncAmt_active_accts__sum_by_prtfType_revolving',\n",
       "      'inq_inquiries__count_by_indCode_auto_mortgage',\n",
       "      'inq_inquiries__count_by_month__max',\n",
       "      'inq_inquiries__count_by_month__mean',\n",
       "      'inq_inquiries__sum',\n",
       "      'inq_inquiries_in_last_3_months__sum',\n",
       "      'inq_inquiries_in_last_6_months__sum',\n",
       "      'inq_inquiries_in_last_9_months__sum',\n",
       "      'inq_inquiries_in_last_month__sum',\n",
       "      'inq_inquiries_in_last_year__sum',\n",
       "      'inq_months_since_INQUIRY_DATE__max',\n",
       "      'inq_months_since_INQUIRY_DATE__mean',\n",
       "      'inq_months_since_INQUIRY_DATE__min',\n",
       "      'inq_months_since_INQUIRY_DATE__sum',\n",
       "      'collec_blnc__sum',\n",
       "      'collec_months_since_collection_opened__min',\n",
       "      'collec___count',\n",
       "      'collec_ratio_paid__max',\n",
       "      'collec_ratio_paid__min',\n",
       "      'bnkr___count',\n",
       "      'bnkr___count_by_type_chapter_13_discharged',\n",
       "      'bnkr___count_by_type_chapter_13_dismissed',\n",
       "      'bnkr___count_by_type_chapter_7_discharged',\n",
       "      'bnkr___count_by_type_chapter_7_dismissed',\n",
       "      'bnkr_months_since_date_filed__max',\n",
       "      'bnkr_months_since_date_filed__mean',\n",
       "      'bnkr_months_since_date_filed__min',\n",
       "      'member_hcAmt_accts_never_dq__mean',\n",
       "      'member_hcAmt__max_by_prtfType_revolving',\n",
       "      'member_hcAmt__max_by_prtfType_installment',\n",
       "      'member_hcAmt__sum_by_prtfType_installment',\n",
       "      'member_hcAmt_accts_never_dq__max_by_prtfType_installment',\n",
       "      'member_hcAmt_accts_never_dq__max_by_prtfType_revolving',\n",
       "      'member_hcAmt_accts_opened_12m__sum_by_prtfType_installment',\n",
       "      'member_hcAmt_accts_opened_12m__sum_by_prtfType_revolving',\n",
       "      'member_hcAmt_active_accts__sum_by_prtfType_installment',\n",
       "      'member_hcAmt_active_accts__sum_by_prtfType_revolving',\n",
       "      'member_months_since_openDate__max_by_ecoa_individual',\n",
       "      'member_hcAmt_active_accts__mean_by_ecoa_individual',\n",
       "      'member_blnc_to_hc__max_by_prtfType_revolving',\n",
       "      'member_blnc_to_hc__max_by_prtfType_installment',\n",
       "      'member_blnc_to_hc_accts_never_dq__max_by_prtfType_revolving',\n",
       "      'member_blnc_to_hc_accts_never_dq__max_by_prtfType_installment',\n",
       "      'member_months_since_openDate__min',\n",
       "      'member_months_since_openDate__max',\n",
       "      'member_months_since_openDate__mean',\n",
       "      'member_number_DQ60_24_months__sum',\n",
       "      'member_number_DQ30_24_months__sum',\n",
       "      'member_number_DQ60_12_months__sum',\n",
       "      'member_number_DQ30_12_months__sum',\n",
       "      'member_number_CO_24_months__sum',\n",
       "      'member_acctType__count',\n",
       "      'member_blncAmt__sum_by_acctType_unsecure',\n",
       "      'member_blncAmt__sum_by_prtfType_revolving',\n",
       "      'member_blncAmt__sum_by_prtfType_installment']}},\n",
       "   {'zaml_class': 'GainFeatureSelection',\n",
       "    'params': {'max_features': 900,\n",
       "     'max_features_select': 300,\n",
       "     'feature_filter_threshold': -1,\n",
       "     'min_features': 100,\n",
       "     'learning_rate': 0.05,\n",
       "     'n_estimators': 500,\n",
       "     'max_depth': 3,\n",
       "     'backend_subsample': 0.5,\n",
       "     'scale_pos_weight': 2.5,\n",
       "     'colsample_bytree': 0.05,\n",
       "     'min_child_weight': 250,\n",
       "     'n_iter': None,\n",
       "     'step_size': 10,\n",
       "     'valid_method': 'external'},\n",
       "    'fit_params': {'ignore_columns': ['client_data_LTV_NORM',\n",
       "      'trade_months_since_openDate__max',\n",
       "      'trade_acctType__count',\n",
       "      'trade_number_DQ30_24_months__sum',\n",
       "      'trade_number_DQ60_24_months__sum',\n",
       "      'trade_number_DQ90_24_months__sum',\n",
       "      'trade_blncAmt_all_derog_accts__max',\n",
       "      'trade_blncAmt_active_accts__sum',\n",
       "      'trade_blncAmt_active_accts__sum_by_prtfType_revolving',\n",
       "      'inq_inquiries__count_by_indCode_auto_mortgage',\n",
       "      'inq_inquiries__count_by_month__max',\n",
       "      'inq_inquiries__count_by_month__mean',\n",
       "      'inq_inquiries__sum',\n",
       "      'inq_inquiries_in_last_3_months__sum',\n",
       "      'inq_inquiries_in_last_6_months__sum',\n",
       "      'inq_inquiries_in_last_9_months__sum',\n",
       "      'inq_inquiries_in_last_month__sum',\n",
       "      'inq_inquiries_in_last_year__sum',\n",
       "      'inq_months_since_INQUIRY_DATE__max',\n",
       "      'inq_months_since_INQUIRY_DATE__mean',\n",
       "      'inq_months_since_INQUIRY_DATE__min',\n",
       "      'inq_months_since_INQUIRY_DATE__sum',\n",
       "      'collec_blnc__sum',\n",
       "      'collec_months_since_collection_opened__min',\n",
       "      'collec___count',\n",
       "      'collec_ratio_paid__max',\n",
       "      'collec_ratio_paid__min',\n",
       "      'bnkr___count',\n",
       "      'bnkr___count_by_type_chapter_13_discharged',\n",
       "      'bnkr___count_by_type_chapter_13_dismissed',\n",
       "      'bnkr___count_by_type_chapter_7_discharged',\n",
       "      'bnkr___count_by_type_chapter_7_dismissed',\n",
       "      'bnkr_months_since_date_filed__max',\n",
       "      'bnkr_months_since_date_filed__mean',\n",
       "      'bnkr_months_since_date_filed__min',\n",
       "      'member_hcAmt_accts_never_dq__mean',\n",
       "      'member_hcAmt__max_by_prtfType_revolving',\n",
       "      'member_hcAmt__max_by_prtfType_installment',\n",
       "      'member_hcAmt__sum_by_prtfType_installment',\n",
       "      'member_hcAmt_accts_never_dq__max_by_prtfType_installment',\n",
       "      'member_hcAmt_accts_never_dq__max_by_prtfType_revolving',\n",
       "      'member_hcAmt_accts_opened_12m__sum_by_prtfType_installment',\n",
       "      'member_hcAmt_accts_opened_12m__sum_by_prtfType_revolving',\n",
       "      'member_hcAmt_active_accts__sum_by_prtfType_installment',\n",
       "      'member_hcAmt_active_accts__sum_by_prtfType_revolving',\n",
       "      'member_months_since_openDate__max_by_ecoa_individual',\n",
       "      'member_hcAmt_active_accts__mean_by_ecoa_individual',\n",
       "      'member_blnc_to_hc__max_by_prtfType_revolving',\n",
       "      'member_blnc_to_hc__max_by_prtfType_installment',\n",
       "      'member_blnc_to_hc_accts_never_dq__max_by_prtfType_revolving',\n",
       "      'member_blnc_to_hc_accts_never_dq__max_by_prtfType_installment',\n",
       "      'member_months_since_openDate__min',\n",
       "      'member_months_since_openDate__max',\n",
       "      'member_months_since_openDate__mean',\n",
       "      'member_number_DQ60_24_months__sum',\n",
       "      'member_number_DQ30_24_months__sum',\n",
       "      'member_number_DQ60_12_months__sum',\n",
       "      'member_number_DQ30_12_months__sum',\n",
       "      'member_number_CO_24_months__sum',\n",
       "      'member_acctType__count',\n",
       "      'member_blncAmt__sum_by_acctType_unsecure',\n",
       "      'member_blncAmt__sum_by_prtfType_revolving',\n",
       "      'member_blncAmt__sum_by_prtfType_installment']}}],\n",
       "  'model': {'zaml_class': 'XGBoostModel',\n",
       "   'params': {'n_estimators': 10000,\n",
       "    'learning_rate': 0.01,\n",
       "    'max_depth': 3,\n",
       "    'subsample': 0.5,\n",
       "    'scale_pos_weight': 2.5,\n",
       "    'colsample_bytree': 0.05,\n",
       "    'min_child_weight': 350,\n",
       "    'seed': 12,\n",
       "    'early_stopping_rounds': 200,\n",
       "    'eval_metric': 'auc'}}},\n",
       " 'bivariate_fe_instructions': [],\n",
       " 'monotonic_constraints_list': [{'feature': 'client_data_LTV_NORM',\n",
       "   'monotonic_constraint': 'positive'}],\n",
       " 'exclusion_list': [],\n",
       " 'feature_definition_list': [{'feature': 'client_data_LTV_NORM',\n",
       "   'definition': 'Customer has either calculated the following feature(s) based on its internal policies, or provided Zest with the underlying data and logic to compute the features, and requested that Zest include it in the model: Customer has either calculated the following feature(s) based on its internal policies, or provided Zest with the underlying data and logic to compute the features, and requested that Zest include it in the model: Customer has either calculated the following feature(s) based on its internal policies, or provided Zest with the underlying data and logic to compute the features, and requested that Zest include it in the model: Customer has either calculated the following feature(s) based on its internal policies, or provided Zest with the underlying data and logic to compute the features, and requested that Zest include it in the model: Customer has either calculated the following feature(s) based on its internal policies, or provided Zest with the underlying data and logic to compute the features, and requested that Zest include it in the model: loan to value'}],\n",
       " 'key_factor_mapping_list': [{'feature': 'client_data_LTV_NORM',\n",
       "   'key_factor': 'Deal structure'}],\n",
       " 'fold_valid': False,\n",
       " 'mandatory_features': ['client_data_LTV_NORM',\n",
       "  'trade_months_since_openDate__max',\n",
       "  'trade_acctType__count',\n",
       "  'trade_number_DQ30_24_months__sum',\n",
       "  'trade_number_DQ60_24_months__sum',\n",
       "  'trade_number_DQ90_24_months__sum',\n",
       "  'trade_blncAmt_all_derog_accts__max',\n",
       "  'trade_blncAmt_active_accts__sum',\n",
       "  'trade_blncAmt_active_accts__sum_by_prtfType_revolving',\n",
       "  'inq_inquiries__count_by_indCode_auto_mortgage',\n",
       "  'inq_inquiries__count_by_month__max',\n",
       "  'inq_inquiries__count_by_month__mean',\n",
       "  'inq_inquiries__sum',\n",
       "  'inq_inquiries_in_last_3_months__sum',\n",
       "  'inq_inquiries_in_last_6_months__sum',\n",
       "  'inq_inquiries_in_last_9_months__sum',\n",
       "  'inq_inquiries_in_last_month__sum',\n",
       "  'inq_inquiries_in_last_year__sum',\n",
       "  'inq_months_since_INQUIRY_DATE__max',\n",
       "  'inq_months_since_INQUIRY_DATE__mean',\n",
       "  'inq_months_since_INQUIRY_DATE__min',\n",
       "  'inq_months_since_INQUIRY_DATE__sum',\n",
       "  'collec_blnc__sum',\n",
       "  'collec_months_since_collection_opened__min',\n",
       "  'collec___count',\n",
       "  'collec_ratio_paid__max',\n",
       "  'collec_ratio_paid__min',\n",
       "  'bnkr___count',\n",
       "  'bnkr___count_by_type_chapter_13_discharged',\n",
       "  'bnkr___count_by_type_chapter_13_dismissed',\n",
       "  'bnkr___count_by_type_chapter_7_discharged',\n",
       "  'bnkr___count_by_type_chapter_7_dismissed',\n",
       "  'bnkr_months_since_date_filed__max',\n",
       "  'bnkr_months_since_date_filed__mean',\n",
       "  'bnkr_months_since_date_filed__min',\n",
       "  'member_hcAmt_accts_never_dq__mean',\n",
       "  'member_hcAmt__max_by_prtfType_revolving',\n",
       "  'member_hcAmt__max_by_prtfType_installment',\n",
       "  'member_hcAmt__sum_by_prtfType_installment',\n",
       "  'member_hcAmt_accts_never_dq__max_by_prtfType_installment',\n",
       "  'member_hcAmt_accts_never_dq__max_by_prtfType_revolving',\n",
       "  'member_hcAmt_accts_opened_12m__sum_by_prtfType_installment',\n",
       "  'member_hcAmt_accts_opened_12m__sum_by_prtfType_revolving',\n",
       "  'member_hcAmt_active_accts__sum_by_prtfType_installment',\n",
       "  'member_hcAmt_active_accts__sum_by_prtfType_revolving',\n",
       "  'member_months_since_openDate__max_by_ecoa_individual',\n",
       "  'member_hcAmt_active_accts__mean_by_ecoa_individual',\n",
       "  'member_blnc_to_hc__max_by_prtfType_revolving',\n",
       "  'member_blnc_to_hc__max_by_prtfType_installment',\n",
       "  'member_blnc_to_hc_accts_never_dq__max_by_prtfType_revolving',\n",
       "  'member_blnc_to_hc_accts_never_dq__max_by_prtfType_installment',\n",
       "  'member_months_since_openDate__min',\n",
       "  'member_months_since_openDate__max',\n",
       "  'member_months_since_openDate__mean',\n",
       "  'member_number_DQ60_24_months__sum',\n",
       "  'member_number_DQ30_24_months__sum',\n",
       "  'member_number_DQ60_12_months__sum',\n",
       "  'member_number_DQ30_12_months__sum',\n",
       "  'member_number_CO_24_months__sum',\n",
       "  'member_acctType__count',\n",
       "  'member_blncAmt__sum_by_acctType_unsecure',\n",
       "  'member_blncAmt__sum_by_prtfType_revolving',\n",
       "  'member_blncAmt__sum_by_prtfType_installment']}"
      ]
     },
     "execution_count": 19,
     "metadata": {},
     "output_type": "execute_result"
    }
   ],
   "source": [
    "# Feature selection model \n",
    "\n",
    "base_model_id = 'clientmodel3a'\n",
    "base_asset = json.load(open(f'/d/shared/silver_projects_v2/penfed/autoindirectv1/modeling/{base_model_id}/asset.json'))\n",
    "keep_features = json.load(open(f'/d/shared/silver_projects_v2/penfed/autoindirectv1/modeling/{base_model_id}/keep_features.json'))\n",
    "base_asset['config']"
   ]
  },
  {
   "cell_type": "code",
   "execution_count": 20,
   "metadata": {},
   "outputs": [],
   "source": [
    "# Default hyperparameters for large client pipelines\n",
    "\n",
    "base_asset['config']['pipeline_factory'] = \"LargeClientPipelineFactory\""
   ]
  },
  {
   "cell_type": "code",
   "execution_count": 21,
   "metadata": {},
   "outputs": [],
   "source": [
    "base_asset['config'].pop('mandatory_features')\n",
    "base_asset['config']['base_features'] = f'/d/shared/silver_projects_v2/penfed/autoindirectv1/modeling/{base_model_id}/keep_features.json'"
   ]
  },
  {
   "cell_type": "code",
   "execution_count": 22,
   "metadata": {},
   "outputs": [
    {
     "data": {
      "text/plain": [
       "{'data': '#/home/psk/client-project-penfed/autoindirect/modeling/origencepoc_model/client_models/sample_files/client_data_sampled_files.json',\n",
       " 'io_params': {'drop_duplicates': True,\n",
       "  'keep_keys': '/home/psk/client-project-penfed/autoindirect/playground/psk/keep_keys.json'},\n",
       " 'asset': {'feature_engineering': 'one_to_one',\n",
       "  'validator': 'base',\n",
       "  'table_type': 'app',\n",
       "  'info': {'key': 'ZEST_KEY', 'numerics': ['LTV_NORM']}}}"
      ]
     },
     "execution_count": 22,
     "metadata": {},
     "output_type": "execute_result"
    }
   ],
   "source": [
    "base_asset['data']['client_data']"
   ]
  },
  {
   "cell_type": "code",
   "execution_count": 23,
   "metadata": {},
   "outputs": [
    {
     "data": {
      "text/plain": [
       "['client_data_LTV_NORM']"
      ]
     },
     "execution_count": 23,
     "metadata": {},
     "output_type": "execute_result"
    }
   ],
   "source": [
    "keep_features['client_data']"
   ]
  },
  {
   "cell_type": "code",
   "execution_count": 24,
   "metadata": {},
   "outputs": [],
   "source": [
    "for t, l in keep_features.items():\n",
    "    if t != 'client_data': \n",
    "        base_asset['data'][t]['io_params']['keep_features'] = l"
   ]
  },
  {
   "cell_type": "code",
   "execution_count": 25,
   "metadata": {},
   "outputs": [],
   "source": [
    "# model_builder = ModelBuilder(base_asset)\n",
    "# model_builder.configure_run(unfold_model_output_path, \n",
    "#                             cache=True) \n",
    "\n",
    "# state = asset_parser(base_asset)\n",
    "\n",
    "# input_asset = (json.dumps(state['input_asset'], indent=4))\n",
    "# print(input_asset)"
   ]
  },
  {
   "cell_type": "code",
   "execution_count": 27,
   "metadata": {},
   "outputs": [],
   "source": [
    "# with open (os.path.join(unfold_model_output_path, 'input_configuration.json'), 'w') as outfile:\n",
    "#     outfile.write(input_asset)"
   ]
  },
  {
   "cell_type": "code",
   "execution_count": null,
   "metadata": {},
   "outputs": [
    {
     "name": "stdout",
     "output_type": "stream",
     "text": [
      "parsing model-builder asset\n"
     ]
    },
    {
     "name": "stderr",
     "output_type": "stream",
     "text": [
      "WARNING:py.warnings:Passing 'use_legacy_dataset=True' to get the legacy behaviour is deprecated as of pyarrow 11.0.0, and the legacy implementation will be removed in a future version.\n",
      "\n",
      "WARNING:py.warnings:Passing 'use_legacy_dataset=True' to get the legacy behaviour is deprecated as of pyarrow 11.0.0, and the legacy implementation will be removed in a future version.\n",
      "\n",
      "WARNING:py.warnings:Passing 'use_legacy_dataset=True' to get the legacy behaviour is deprecated as of pyarrow 11.0.0, and the legacy implementation will be removed in a future version.\n",
      "\n",
      "WARNING:py.warnings:Passing 'use_legacy_dataset=True' to get the legacy behaviour is deprecated as of pyarrow 11.0.0, and the legacy implementation will be removed in a future version.\n",
      "\n",
      "WARNING:py.warnings:Passing 'use_legacy_dataset=True' to get the legacy behaviour is deprecated as of pyarrow 11.0.0, and the legacy implementation will be removed in a future version.\n",
      "\n",
      "WARNING:py.warnings:Passing 'use_legacy_dataset=True' to get the legacy behaviour is deprecated as of pyarrow 11.0.0, and the legacy implementation will be removed in a future version.\n",
      "\n",
      "WARNING:py.warnings:Passing 'use_legacy_dataset=True' to get the legacy behaviour is deprecated as of pyarrow 11.0.0, and the legacy implementation will be removed in a future version.\n",
      "\n"
     ]
    }
   ],
   "source": [
    "from model_engine.model_builder import build_model\n",
    "\n",
    "output = build_model.build_model(base_asset, unfold_model_output_path)"
   ]
  },
  {
   "cell_type": "code",
   "execution_count": 1,
   "metadata": {},
   "outputs": [
    {
     "ename": "NameError",
     "evalue": "name 'unfold_model_output_path' is not defined",
     "output_type": "error",
     "traceback": [
      "\u001b[0;31m---------------------------------------------------------------------------\u001b[0m",
      "\u001b[0;31mNameError\u001b[0m                                 Traceback (most recent call last)",
      "Cell \u001b[0;32mIn[1], line 12\u001b[0m\n\u001b[1;32m     10\u001b[0m     name \u001b[38;5;241m=\u001b[39m i\u001b[38;5;241m.\u001b[39msplit(\u001b[38;5;124m'\u001b[39m\u001b[38;5;124m.\u001b[39m\u001b[38;5;124m'\u001b[39m)[\u001b[38;5;241m0\u001b[39m]\n\u001b[1;32m     11\u001b[0m     \u001b[38;5;66;03m# print(name)\u001b[39;00m\n\u001b[0;32m---> 12\u001b[0m     scoreFiles_model[name] \u001b[38;5;241m=\u001b[39m json\u001b[38;5;241m.\u001b[39mload(\u001b[38;5;28mopen\u001b[39m(os\u001b[38;5;241m.\u001b[39mpath\u001b[38;5;241m.\u001b[39mjoin(\u001b[43munfold_model_output_path\u001b[49m, i), \u001b[38;5;124m'\u001b[39m\u001b[38;5;124mrb\u001b[39m\u001b[38;5;124m'\u001b[39m))\n\u001b[1;32m     15\u001b[0m \u001b[38;5;28;01mfor\u001b[39;00m i \u001b[38;5;129;01min\u001b[39;00m scoreFiles_model:\n\u001b[1;32m     16\u001b[0m     \u001b[38;5;28mprint\u001b[39m(i, scoreFiles_model[i])\n",
      "\u001b[0;31mNameError\u001b[0m: name 'unfold_model_output_path' is not defined"
     ]
    }
   ],
   "source": [
    "scoreFiles = []\n",
    "\n",
    "for j in ['_auc.json','_ks.json']:\n",
    "#     for i in ['train', 'valid', 'test']:\n",
    "    for i in ['train','test',]:\n",
    "        scoreFiles.append(i+j)\n",
    "        \n",
    "scoreFiles_model = {}\n",
    "for i in scoreFiles:\n",
    "    name = i.split('.')[0]\n",
    "    # print(name)\n",
    "    scoreFiles_model[name] = json.load(open(os.path.join(unfold_model_output_path, i), 'rb'))\n",
    "\n",
    "\n",
    "for i in scoreFiles_model:\n",
    "    print(i, scoreFiles_model[i])"
   ]
  },
  {
   "cell_type": "markdown",
   "metadata": {},
   "source": [
    "# Fold Valid Model "
   ]
  },
  {
   "cell_type": "code",
   "execution_count": null,
   "metadata": {},
   "outputs": [],
   "source": [
    "fold_valid_model_id = ''\n",
    "fold_valid_model_output_path = f'/d/shared/silver_projects_v2/penfed/autoindirectv1/modeling/{fold_valid_model_id}'\n",
    "\n",
    "\n",
    "print(f'fold valid model path: {fold_valid_model_output_path}')"
   ]
  },
  {
   "cell_type": "code",
   "execution_count": null,
   "metadata": {},
   "outputs": [],
   "source": [
    "unfold_model_id = ''\n",
    "asset = json.load(open(f'/d/shared/silver_projects_v2/penfed/autoindirectv1/modeling/{unfold_model_id}/asset.json'))\n",
    "keep_features = json.load(open(f'/d/shared/silver_projects_v2/penfed/autoindirectv1/modeling/{unfold_model_id}/keep_features.json'))\n",
    "best_ntree = json.load(open(f'/d/shared/silver_projects_v2/penfed/autoindirectv1/modeling/{unfold_model_id}/best_model_params.json'))\n",
    "best_ntree['best_ntree_limit']"
   ]
  },
  {
   "cell_type": "code",
   "execution_count": null,
   "metadata": {},
   "outputs": [],
   "source": [
    "asset['config']['data_split'] "
   ]
  },
  {
   "cell_type": "code",
   "execution_count": null,
   "metadata": {},
   "outputs": [],
   "source": [
    "asset['config']['data_split'] = {\n",
    "    'train': {'start_date': '2021-07-01', 'end_date': '2023-01-01'},\n",
    "    'test': {'start_date': '2023-01-01', 'end_date': '2024-01-01'}}"
   ]
  },
  {
   "cell_type": "code",
   "execution_count": null,
   "metadata": {},
   "outputs": [],
   "source": [
    "asset['config']['pipeline_factory'] =  {\n",
    "      \"transformers\": [\n",
    "        {\n",
    "          \"zaml_class\": \"LevelSelection\",\n",
    "          \"params\": {\n",
    "            \"thresh\": 0.01,\n",
    "            \"change_to\": \"Other\",\n",
    "            \"encoding\": \"onehot\"\n",
    "          }\n",
    "        },\n",
    "        {\n",
    "          \"zaml_class\": \"FillNA\",\n",
    "          \"params\": {\n",
    "            \"replace_by\": -1,\n",
    "            \"add_flags\": False\n",
    "          }\n",
    "        },\n",
    "        {\n",
    "          \"zaml_class\": \"GeneralFeatureSelection\",\n",
    "          \"params\": {\n",
    "            \"features\": [\n",
    "              \"app_is_client\"\n",
    "            ]\n",
    "          }\n",
    "        }\n",
    "      ],\n",
    "      \"model\": {\n",
    "        \"zaml_class\": \"XGBoostModel\",\n",
    "        \"params\": {\n",
    "          \"n_estimators\": best_ntree['best_ntree_limit'],\n",
    "          \"learning_rate\": 0.01,\n",
    "          \"max_depth\": 3,\n",
    "          \"subsample\": 0.5,\n",
    "          \"scale_pos_weight\": 2.5,\n",
    "          \"colsample_bytree\": 0.05,\n",
    "          \"min_child_weight\": 350,\n",
    "          \"seed\": 12,\n",
    "          \"eval_metric\": \"auc\"\n",
    "        }\n",
    "      }\n",
    "    }"
   ]
  },
  {
   "cell_type": "code",
   "execution_count": null,
   "metadata": {},
   "outputs": [],
   "source": [
    "asset['config']['pipeline_factory']['model']['params']['n_estimators'] "
   ]
  },
  {
   "cell_type": "code",
   "execution_count": null,
   "metadata": {},
   "outputs": [],
   "source": [
    "asset['config'].pop('mandatory_features')\n",
    "asset['config']['fold_valid'] = True\n",
    "asset['config']['enforce_artifact_validation'] = True\n",
    "asset['config']['base_features'] = f'/d/shared/silver_projects_v2/penfed/autoindirectv1/modeling/{base_model_id}/keep_features.json'\n"
   ]
  },
  {
   "cell_type": "code",
   "execution_count": null,
   "metadata": {},
   "outputs": [],
   "source": [
    "for t, l in keep_features.items():\n",
    "    print(t)\n",
    "    if t != 'client_data': \n",
    "        asset['data'][t]['io_params']['keep_features'] = l\n",
    "    else: \n",
    "        continue"
   ]
  },
  {
   "cell_type": "code",
   "execution_count": null,
   "metadata": {},
   "outputs": [],
   "source": [
    "asset['data']['client_data']"
   ]
  },
  {
   "cell_type": "code",
   "execution_count": null,
   "metadata": {},
   "outputs": [],
   "source": [
    "model_builder = ModelBuilder(asset)\n",
    "model_builder.configure_run(fold_valid_model_output_path, \n",
    "                            cache=True) \n",
    "\n",
    "state = asset_parser(asset)\n",
    "\n",
    "input_asset = (json.dumps(state['input_asset'], indent=4))\n",
    "print(input_asset)"
   ]
  },
  {
   "cell_type": "code",
   "execution_count": null,
   "metadata": {},
   "outputs": [],
   "source": [
    "with open (os.path.join(fold_valid_model_output_path, 'input_configuration.json'), 'w') as outfile:\n",
    "    outfile.write(input_asset)"
   ]
  },
  {
   "cell_type": "code",
   "execution_count": null,
   "metadata": {},
   "outputs": [],
   "source": [
    "from model_engine.model_builder import build_model\n",
    "\n",
    "output = build_model.build_model(asset, fold_valid_model_output_path)"
   ]
  },
  {
   "cell_type": "code",
   "execution_count": null,
   "metadata": {},
   "outputs": [],
   "source": [
    "scoreFiles = []\n",
    "\n",
    "for j in ['_auc.json','_ks.json']:\n",
    "#     for i in ['train', 'valid', 'test']:\n",
    "    for i in ['train','test',]:\n",
    "        scoreFiles.append(i+j)\n",
    "        \n",
    "scoreFiles_model = {}\n",
    "for i in scoreFiles:\n",
    "    name = i.split('.')[0]\n",
    "    # print(name)\n",
    "    scoreFiles_model[name] = json.load(open(os.path.join(fold_valid_model_output_path, i), 'rb'))\n",
    "\n",
    "\n",
    "for i in scoreFiles_model:\n",
    "    print(i, scoreFiles_model[i])"
   ]
  }
 ],
 "metadata": {
  "kernelspec": {
   "display_name": "kernel_penfed",
   "language": "python",
   "name": "penfed_env"
  },
  "language_info": {
   "codemirror_mode": {
    "name": "ipython",
    "version": 3
   },
   "file_extension": ".py",
   "mimetype": "text/x-python",
   "name": "python",
   "nbconvert_exporter": "python",
   "pygments_lexer": "ipython3",
   "version": "3.10.8"
  },
  "widgets": {
   "application/vnd.jupyter.widget-state+json": {
    "state": {},
    "version_major": 2,
    "version_minor": 0
   }
  }
 },
 "nbformat": 4,
 "nbformat_minor": 5
}
