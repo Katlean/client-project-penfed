{
 "cells": [
  {
   "cell_type": "code",
   "execution_count": 1,
   "metadata": {},
   "outputs": [
    {
     "data": {
      "text/plain": [
       "('1.2.1', 'v1.13.0')"
      ]
     },
     "execution_count": 1,
     "metadata": {},
     "output_type": "execute_result"
    }
   ],
   "source": [
    "import pandas as pd\n",
    "import ztarget\n",
    "import model_engine\n",
    "import json\n",
    "\n",
    "ztarget.__version__, model_engine.__version__"
   ]
  },
  {
   "cell_type": "code",
   "execution_count": 2,
   "metadata": {},
   "outputs": [
    {
     "data": {
      "text/plain": [
       "(651809, 179)"
      ]
     },
     "execution_count": 2,
     "metadata": {},
     "output_type": "execute_result"
    }
   ],
   "source": [
    "# Zest analysis data \n",
    "ana = pd.read_parquet('/d/shared/silver_projects_v2/penfed/autoindirectv1/shared_data/equifax/processed/supporting_artifacts/analysis_data.parquet')\n",
    "ana.shape"
   ]
  },
  {
   "cell_type": "code",
   "execution_count": 4,
   "metadata": {},
   "outputs": [
    {
     "name": "stderr",
     "output_type": "stream",
     "text": [
      "/tmp/ipykernel_6255/4184390068.py:2: DtypeWarning: Columns (21,42,60,61,71,72,122) have mixed types. Specify dtype option on import or set low_memory=False.\n",
      "  df_raw = pd.read_csv('/d/shared/silver_projects_v2/penfed/autoindirectv1/shared_data/equifax/raw/client/data_3rd_party_refi_f_sent_20250523183131.csv')\n"
     ]
    },
    {
     "data": {
      "text/plain": [
       "(651816, 126)"
      ]
     },
     "execution_count": 4,
     "metadata": {},
     "output_type": "execute_result"
    }
   ],
   "source": [
    "# PenFed Sent Data\n",
    "df_raw = pd.read_csv('/d/shared/silver_projects_v2/penfed/autoindirectv1/shared_data/equifax/raw/client/data_3rd_party_refi_f_sent_20250523183131.csv')\n",
    "df_raw.shape"
   ]
  },
  {
   "cell_type": "markdown",
   "metadata": {},
   "source": [
    "# Funded Population"
   ]
  },
  {
   "cell_type": "markdown",
   "metadata": {},
   "source": [
    "Joint Application: \\\n",
    "PenFed Funded Trade: Deduplicate to have one record.\\\n",
    "Proxy Trade: Find the proxy for primary and coborrower, then choose trade opened closest to app received date.\\\n",
    "Score/Attribute: Deduplicate by using the applicant with higher FICO/Vantage score. Use primary if they have the same score.\\\n",
    "Expected Result: One unique trade/score/attribute for joint application\\\n",
    "Total Count: 651,816 before joint application deduplication. \\\n",
    "Total Counts after joint application deduplication: 579,000.\n"
   ]
  },
  {
   "cell_type": "code",
   "execution_count": 5,
   "metadata": {},
   "outputs": [
    {
     "data": {
      "text/plain": [
       "(579000, 126)"
      ]
     },
     "execution_count": 5,
     "metadata": {},
     "output_type": "execute_result"
    }
   ],
   "source": [
    "# Drop Duplicates \n",
    "\n",
    "df_raw = df_raw.sort_values(['Credit_Risk_Score', 'Role_Code'], ascending=[False, True])\n",
    "df = df_raw.drop_duplicates(['Application_Number'])\n",
    "df.shape"
   ]
  },
  {
   "cell_type": "markdown",
   "metadata": {},
   "source": [
    "Filter: \\\n",
    "First deduplicate for Joint applications with logic above.\\\n",
    "Exclude Application_Status  in ‘Refer’, ‘Processing’, ‘Exception’.\\\n",
    "Exclude FICO < 610 (Using higher fico for joint application)\n"
   ]
  },
  {
   "cell_type": "code",
   "execution_count": 6,
   "metadata": {},
   "outputs": [
    {
     "name": "stdout",
     "output_type": "stream",
     "text": [
      "(561137, 126)\n",
      "(537652, 126)\n"
     ]
    }
   ],
   "source": [
    "# Majority of Refer is duplicate application\n",
    "df = df[df['Application_Status'].isin(['Refer', 'Processing', 'Exception'])==False]\n",
    "print(df.shape) # 561,137\n",
    "df = df[df['Max_Credit_Risk_Score']>=610] # 537656\n",
    "print(df.shape) # 537, 652\n"
   ]
  },
  {
   "cell_type": "markdown",
   "metadata": {},
   "source": [
    "Additional Filters on PenFed Funded Loan (when PenFed_Funded=1)\n",
    "Exclude Insured Loan (exclude accounts with a lend pro number) \n",
    "Exclude Canceled and Check Not Cashed \n",
    "Exclude 3rd Party Fraud\n",
    "PenFed Funded Only After filters in the filter section. \n"
   ]
  },
  {
   "cell_type": "code",
   "execution_count": 7,
   "metadata": {},
   "outputs": [
    {
     "data": {
      "text/html": [
       "<div>\n",
       "<style scoped>\n",
       "    .dataframe tbody tr th:only-of-type {\n",
       "        vertical-align: middle;\n",
       "    }\n",
       "\n",
       "    .dataframe tbody tr th {\n",
       "        vertical-align: top;\n",
       "    }\n",
       "\n",
       "    .dataframe thead th {\n",
       "        text-align: right;\n",
       "    }\n",
       "</style>\n",
       "<table border=\"1\" class=\"dataframe\">\n",
       "  <thead>\n",
       "    <tr style=\"text-align: right;\">\n",
       "      <th></th>\n",
       "      <th>benchmark_scores_from_client</th>\n",
       "      <th>Max_Credit_Risk_Score</th>\n",
       "    </tr>\n",
       "  </thead>\n",
       "  <tbody>\n",
       "    <tr>\n",
       "      <th>count</th>\n",
       "      <td>635120.000000</td>\n",
       "      <td>637646.000000</td>\n",
       "    </tr>\n",
       "    <tr>\n",
       "      <th>mean</th>\n",
       "      <td>724.773265</td>\n",
       "      <td>731.987385</td>\n",
       "    </tr>\n",
       "    <tr>\n",
       "      <th>std</th>\n",
       "      <td>70.047235</td>\n",
       "      <td>65.207109</td>\n",
       "    </tr>\n",
       "    <tr>\n",
       "      <th>min</th>\n",
       "      <td>339.000000</td>\n",
       "      <td>339.000000</td>\n",
       "    </tr>\n",
       "    <tr>\n",
       "      <th>25%</th>\n",
       "      <td>674.000000</td>\n",
       "      <td>682.000000</td>\n",
       "    </tr>\n",
       "    <tr>\n",
       "      <th>50%</th>\n",
       "      <td>729.000000</td>\n",
       "      <td>735.000000</td>\n",
       "    </tr>\n",
       "    <tr>\n",
       "      <th>75%</th>\n",
       "      <td>781.000000</td>\n",
       "      <td>785.000000</td>\n",
       "    </tr>\n",
       "    <tr>\n",
       "      <th>max</th>\n",
       "      <td>850.000000</td>\n",
       "      <td>850.000000</td>\n",
       "    </tr>\n",
       "  </tbody>\n",
       "</table>\n",
       "</div>"
      ],
      "text/plain": [
       "       benchmark_scores_from_client  Max_Credit_Risk_Score\n",
       "count                 635120.000000          637646.000000\n",
       "mean                     724.773265             731.987385\n",
       "std                       70.047235              65.207109\n",
       "min                      339.000000             339.000000\n",
       "25%                      674.000000             682.000000\n",
       "50%                      729.000000             735.000000\n",
       "75%                      781.000000             785.000000\n",
       "max                      850.000000             850.000000"
      ]
     },
     "execution_count": 7,
     "metadata": {},
     "output_type": "execute_result"
    }
   ],
   "source": [
    "ana['benchmark_scores_from_client'] = pd.to_numeric(ana['benchmark_scores_from_client'], \n",
    "                                                    errors='coerce') \n",
    "\n",
    "ana['Max_Credit_Risk_Score'] = pd.to_numeric(ana['Max_Credit_Risk_Score'], \n",
    "                                             errors='coerce')  \n",
    "\n",
    "ana[['benchmark_scores_from_client', 'Max_Credit_Risk_Score']].describe()"
   ]
  },
  {
   "cell_type": "markdown",
   "metadata": {},
   "source": [
    "# Unfunded Proxy Target"
   ]
  },
  {
   "cell_type": "code",
   "execution_count": 8,
   "metadata": {},
   "outputs": [
    {
     "name": "stderr",
     "output_type": "stream",
     "text": [
      "/home/lyt/.conda/envs/penfed_psp/lib/python3.10/site-packages/zamlexplain/utils_compile.py:23: NumbaPendingDeprecationWarning: The 'pycc' module is pending deprecation. Replacement technology is being developed.\n",
      "\n",
      "Pending Deprecation in Numba 0.57.0. For more information please see: https://numba.readthedocs.io/en/stable/reference/deprecation.html#deprecation-of-the-numba-pycc-module\n",
      "  from numba.pycc import CC\n",
      "/home/lyt/.conda/envs/penfed_psp/lib/python3.10/site-packages/shap/utils/_clustering.py:35: NumbaDeprecationWarning: The 'nopython' keyword argument was not supplied to the 'numba.jit' decorator. The implicit default value for this argument is currently False, but it will be changed to True in Numba 0.59.0. See https://numba.readthedocs.io/en/stable/reference/deprecation.html#deprecation-of-object-mode-fall-back-behaviour-when-using-jit for details.\n",
      "  def _pt_shuffle_rec(i, indexes, index_mask, partition_tree, M, pos):\n",
      "/home/lyt/.conda/envs/penfed_psp/lib/python3.10/site-packages/shap/utils/_clustering.py:54: NumbaDeprecationWarning: The 'nopython' keyword argument was not supplied to the 'numba.jit' decorator. The implicit default value for this argument is currently False, but it will be changed to True in Numba 0.59.0. See https://numba.readthedocs.io/en/stable/reference/deprecation.html#deprecation-of-object-mode-fall-back-behaviour-when-using-jit for details.\n",
      "  def delta_minimization_order(all_masks, max_swap_size=100, num_passes=2):\n",
      "/home/lyt/.conda/envs/penfed_psp/lib/python3.10/site-packages/shap/utils/_clustering.py:63: NumbaDeprecationWarning: The 'nopython' keyword argument was not supplied to the 'numba.jit' decorator. The implicit default value for this argument is currently False, but it will be changed to True in Numba 0.59.0. See https://numba.readthedocs.io/en/stable/reference/deprecation.html#deprecation-of-object-mode-fall-back-behaviour-when-using-jit for details.\n",
      "  def _reverse_window(order, start, length):\n",
      "/home/lyt/.conda/envs/penfed_psp/lib/python3.10/site-packages/shap/utils/_clustering.py:69: NumbaDeprecationWarning: The 'nopython' keyword argument was not supplied to the 'numba.jit' decorator. The implicit default value for this argument is currently False, but it will be changed to True in Numba 0.59.0. See https://numba.readthedocs.io/en/stable/reference/deprecation.html#deprecation-of-object-mode-fall-back-behaviour-when-using-jit for details.\n",
      "  def _reverse_window_score_gain(masks, order, start, length):\n",
      "/home/lyt/.conda/envs/penfed_psp/lib/python3.10/site-packages/shap/utils/_clustering.py:77: NumbaDeprecationWarning: The 'nopython' keyword argument was not supplied to the 'numba.jit' decorator. The implicit default value for this argument is currently False, but it will be changed to True in Numba 0.59.0. See https://numba.readthedocs.io/en/stable/reference/deprecation.html#deprecation-of-object-mode-fall-back-behaviour-when-using-jit for details.\n",
      "  def _mask_delta_score(m1, m2):\n",
      "/home/lyt/.conda/envs/penfed_psp/lib/python3.10/site-packages/shap/links.py:5: NumbaDeprecationWarning: The 'nopython' keyword argument was not supplied to the 'numba.jit' decorator. The implicit default value for this argument is currently False, but it will be changed to True in Numba 0.59.0. See https://numba.readthedocs.io/en/stable/reference/deprecation.html#deprecation-of-object-mode-fall-back-behaviour-when-using-jit for details.\n",
      "  def identity(x):\n",
      "/home/lyt/.conda/envs/penfed_psp/lib/python3.10/site-packages/shap/links.py:10: NumbaDeprecationWarning: The 'nopython' keyword argument was not supplied to the 'numba.jit' decorator. The implicit default value for this argument is currently False, but it will be changed to True in Numba 0.59.0. See https://numba.readthedocs.io/en/stable/reference/deprecation.html#deprecation-of-object-mode-fall-back-behaviour-when-using-jit for details.\n",
      "  def _identity_inverse(x):\n",
      "/home/lyt/.conda/envs/penfed_psp/lib/python3.10/site-packages/shap/links.py:15: NumbaDeprecationWarning: The 'nopython' keyword argument was not supplied to the 'numba.jit' decorator. The implicit default value for this argument is currently False, but it will be changed to True in Numba 0.59.0. See https://numba.readthedocs.io/en/stable/reference/deprecation.html#deprecation-of-object-mode-fall-back-behaviour-when-using-jit for details.\n",
      "  def logit(x):\n",
      "/home/lyt/.conda/envs/penfed_psp/lib/python3.10/site-packages/shap/links.py:20: NumbaDeprecationWarning: The 'nopython' keyword argument was not supplied to the 'numba.jit' decorator. The implicit default value for this argument is currently False, but it will be changed to True in Numba 0.59.0. See https://numba.readthedocs.io/en/stable/reference/deprecation.html#deprecation-of-object-mode-fall-back-behaviour-when-using-jit for details.\n",
      "  def _logit_inverse(x):\n",
      "/home/lyt/.conda/envs/penfed_psp/lib/python3.10/site-packages/shap/utils/_masked_model.py:363: NumbaDeprecationWarning: The 'nopython' keyword argument was not supplied to the 'numba.jit' decorator. The implicit default value for this argument is currently False, but it will be changed to True in Numba 0.59.0. See https://numba.readthedocs.io/en/stable/reference/deprecation.html#deprecation-of-object-mode-fall-back-behaviour-when-using-jit for details.\n",
      "  def _build_fixed_single_output(averaged_outs, last_outs, outputs, batch_positions, varying_rows, num_varying_rows, link, linearizing_weights):\n",
      "/home/lyt/.conda/envs/penfed_psp/lib/python3.10/site-packages/shap/utils/_masked_model.py:385: NumbaDeprecationWarning: The 'nopython' keyword argument was not supplied to the 'numba.jit' decorator. The implicit default value for this argument is currently False, but it will be changed to True in Numba 0.59.0. See https://numba.readthedocs.io/en/stable/reference/deprecation.html#deprecation-of-object-mode-fall-back-behaviour-when-using-jit for details.\n",
      "  def _build_fixed_multi_output(averaged_outs, last_outs, outputs, batch_positions, varying_rows, num_varying_rows, link, linearizing_weights):\n",
      "/home/lyt/.conda/envs/penfed_psp/lib/python3.10/site-packages/shap/utils/_masked_model.py:428: NumbaDeprecationWarning: The 'nopython' keyword argument was not supplied to the 'numba.jit' decorator. The implicit default value for this argument is currently False, but it will be changed to True in Numba 0.59.0. See https://numba.readthedocs.io/en/stable/reference/deprecation.html#deprecation-of-object-mode-fall-back-behaviour-when-using-jit for details.\n",
      "  def _init_masks(cluster_matrix, M, indices_row_pos, indptr):\n",
      "/home/lyt/.conda/envs/penfed_psp/lib/python3.10/site-packages/shap/utils/_masked_model.py:439: NumbaDeprecationWarning: The 'nopython' keyword argument was not supplied to the 'numba.jit' decorator. The implicit default value for this argument is currently False, but it will be changed to True in Numba 0.59.0. See https://numba.readthedocs.io/en/stable/reference/deprecation.html#deprecation-of-object-mode-fall-back-behaviour-when-using-jit for details.\n",
      "  def _rec_fill_masks(cluster_matrix, indices_row_pos, indptr, indices, M, ind):\n",
      "/home/lyt/.conda/envs/penfed_psp/lib/python3.10/site-packages/shap/maskers/_tabular.py:186: NumbaDeprecationWarning: The 'nopython' keyword argument was not supplied to the 'numba.jit' decorator. The implicit default value for this argument is currently False, but it will be changed to True in Numba 0.59.0. See https://numba.readthedocs.io/en/stable/reference/deprecation.html#deprecation-of-object-mode-fall-back-behaviour-when-using-jit for details.\n",
      "  def _single_delta_mask(dind, masked_inputs, last_mask, data, x, noop_code):\n",
      "/home/lyt/.conda/envs/penfed_psp/lib/python3.10/site-packages/shap/maskers/_tabular.py:197: NumbaDeprecationWarning: The 'nopython' keyword argument was not supplied to the 'numba.jit' decorator. The implicit default value for this argument is currently False, but it will be changed to True in Numba 0.59.0. See https://numba.readthedocs.io/en/stable/reference/deprecation.html#deprecation-of-object-mode-fall-back-behaviour-when-using-jit for details.\n",
      "  def _delta_masking(masks, x, curr_delta_inds, varying_rows_out,\n",
      "/home/lyt/.conda/envs/penfed_psp/lib/python3.10/site-packages/shap/maskers/_image.py:175: NumbaDeprecationWarning: The 'nopython' keyword argument was not supplied to the 'numba.jit' decorator. The implicit default value for this argument is currently False, but it will be changed to True in Numba 0.59.0. See https://numba.readthedocs.io/en/stable/reference/deprecation.html#deprecation-of-object-mode-fall-back-behaviour-when-using-jit for details.\n",
      "  def _jit_build_partition_tree(xmin, xmax, ymin, ymax, zmin, zmax, total_ywidth, total_zwidth, M, clustering, q):\n",
      "/home/lyt/.conda/envs/penfed_psp/lib/python3.10/site-packages/shap/explainers/_partition.py:676: NumbaDeprecationWarning: The 'nopython' keyword argument was not supplied to the 'numba.jit' decorator. The implicit default value for this argument is currently False, but it will be changed to True in Numba 0.59.0. See https://numba.readthedocs.io/en/stable/reference/deprecation.html#deprecation-of-object-mode-fall-back-behaviour-when-using-jit for details.\n",
      "  def lower_credit(i, value, M, values, clustering):\n",
      "The 'nopython' keyword argument was not supplied to the 'numba.jit' decorator. The implicit default value for this argument is currently False, but it will be changed to True in Numba 0.59.0. See https://numba.readthedocs.io/en/stable/reference/deprecation.html#deprecation-of-object-mode-fall-back-behaviour-when-using-jit for details.\n",
      "The 'nopython' keyword argument was not supplied to the 'numba.jit' decorator. The implicit default value for this argument is currently False, but it will be changed to True in Numba 0.59.0. See https://numba.readthedocs.io/en/stable/reference/deprecation.html#deprecation-of-object-mode-fall-back-behaviour-when-using-jit for details.\n"
     ]
    }
   ],
   "source": [
    "from ztarget import EQTargetGenerator, TUTargetGenerator, EXPTargetGenerator\n",
    "from ztarget.target_generator import final_target\n",
    "from model_engine.assets.utils import load_asset\n",
    "from itertools import product\n",
    "\n",
    "pd.options.display.max_columns = None\n",
    "pd.options.display.float_format = '{:.4f}'.format"
   ]
  },
  {
   "cell_type": "code",
   "execution_count": 9,
   "metadata": {},
   "outputs": [
    {
     "data": {
      "text/plain": [
       "flgFunded\n",
       "0    497471\n",
       "1    154338\n",
       "Name: count, dtype: int64"
      ]
     },
     "execution_count": 9,
     "metadata": {},
     "output_type": "execute_result"
    }
   ],
   "source": [
    "ana.flgFunded.value_counts()"
   ]
  },
  {
   "cell_type": "code",
   "execution_count": 10,
   "metadata": {},
   "outputs": [
    {
     "data": {
      "text/plain": [
       "PenFed_Funded\n",
       "0    497478\n",
       "1    154338\n",
       "Name: count, dtype: int64"
      ]
     },
     "execution_count": 10,
     "metadata": {},
     "output_type": "execute_result"
    }
   ],
   "source": [
    "df_raw['PenFed_Funded'].value_counts()"
   ]
  },
  {
   "cell_type": "code",
   "execution_count": 11,
   "metadata": {},
   "outputs": [
    {
     "data": {
      "text/plain": [
       "(445111, 445117)"
      ]
     },
     "execution_count": 11,
     "metadata": {},
     "output_type": "execute_result"
    }
   ],
   "source": [
    "# Zest Analysis Application Numbers , PenFed Unfunded Application Numbers \n",
    "\n",
    "ana[ana.flgFunded == 0]['appId'].nunique(), df_raw[df_raw.PenFed_Funded == 0]['Application_Number'].nunique()"
   ]
  },
  {
   "cell_type": "code",
   "execution_count": 12,
   "metadata": {},
   "outputs": [
    {
     "name": "stderr",
     "output_type": "stream",
     "text": [
      "Your installed version of s3fs is very old and known to cause\n",
      "severe performance issues, see also https://github.com/dask/dask/issues/10276\n",
      "\n",
      "To fix, you should specify a lower version bound on s3fs, or\n",
      "update the current installation.\n",
      "\n"
     ]
    }
   ],
   "source": [
    "path = 's3://power-client-data-staging/CLIENT/PARSED/DATA/BUREAU%3Dequifax/FORMAT%3Dcms_6/TABLE%3Dtrade/PULL_NAME%3D20250529_penfed/ARCHIVE_DATE%3D2025-04-30/'.replace('%3D', '=')\n",
    "perf_trade = pd.read_parquet(path)"
   ]
  },
  {
   "cell_type": "code",
   "execution_count": 13,
   "metadata": {},
   "outputs": [
    {
     "data": {
      "text/plain": [
       "(497471, 179)"
      ]
     },
     "execution_count": 13,
     "metadata": {},
     "output_type": "execute_result"
    }
   ],
   "source": [
    "unfunded_ana = ana[ana.flgFunded == 0]\n",
    "unfunded_ana.shape"
   ]
  },
  {
   "cell_type": "code",
   "execution_count": 14,
   "metadata": {},
   "outputs": [
    {
     "data": {
      "text/plain": [
       "489882"
      ]
     },
     "execution_count": 14,
     "metadata": {},
     "output_type": "execute_result"
    }
   ],
   "source": [
    "unfunded_trade = perf_trade[perf_trade.ZEST_KEY.isin(unfunded_ana.index)]\n",
    "unfunded_trade.ZEST_KEY.nunique()"
   ]
  },
  {
   "cell_type": "markdown",
   "metadata": {},
   "source": [
    "## Auto Part 1 – Auto Loan Proxy\n",
    "\n",
    "Return a record for all Auto Loans (exclude leases) opened within +/-3 months from app month\n",
    "\n",
    "Fields returned for each proxy trade:\n",
    "- MOB6 Ever 60+DPD/BNK/Repossession/Charged-off\n",
    "- MOB12 Ever 90+DPD/BNK/Repossession/Charged-off (General Bad PenFed used for model development)\n",
    "- MOB12 Ever 120+DPD/Repossession/Charged-off (Simulate PenFed current Charge off Policy. Does not include BNK)\n",
    "- MOB18 Ever 90+DPD/BNK/Repossession/Charged-off\n",
    "- MOB18 Ever 120+DPD/Repossession/Charged-off\n",
    "- MOB24 Ever 120+DPD/Repossession/Charged-off\n",
    "- Payment history grid (pulled from current archive)\n",
    "\t\n",
    "If there are multiple proxy trades for an individual application, we want to keep all of them as reference.\n"
   ]
  },
  {
   "cell_type": "code",
   "execution_count": 15,
   "metadata": {},
   "outputs": [
    {
     "data": {
      "text/plain": [
       "['00']"
      ]
     },
     "execution_count": 15,
     "metadata": {},
     "output_type": "execute_result"
    }
   ],
   "source": [
    "dqs = [\"DQ30\", \"DQ60\", \"DQ90\", \"DQ120\", \"CO\"]\n",
    "time_window = [3, 6, 9, 12, 15, 18, 24, 30, 36]\n",
    "default_proxy_time_window = [-30, 90]\n",
    "eq_trade_json = load_asset('equifax/cms_6/trade.json')\n",
    "\n",
    "\n",
    "# exclude 3A: Auto Lease \n",
    "# exclude 11: recreational merchandise\n",
    "\n",
    "proxy_account_type = ['00']\n",
    "target_generator = EQTargetGenerator(join_key='ZEST_KEY', app_id='appId', app_date='appDate', \n",
    "                                      proxy_time_window = default_proxy_time_window, \n",
    "                                      proxy_account_type = proxy_account_type,\n",
    "                                      **eq_trade_json['info'],\n",
    "                                     proxy = True)\n",
    "target_generator.proxy_account_type"
   ]
  },
  {
   "cell_type": "code",
   "execution_count": 16,
   "metadata": {},
   "outputs": [],
   "source": [
    "cols = ['appId', 'appDate', 'flgFunded', 'flgApproved',]\n",
    "unfunded_trade = unfunded_trade.merge(unfunded_ana[cols], left_on = 'ZEST_KEY', \n",
    "                       right_index = True)"
   ]
  },
  {
   "cell_type": "code",
   "execution_count": 17,
   "metadata": {},
   "outputs": [
    {
     "name": "stdout",
     "output_type": "stream",
     "text": [
      "--- Transforming date formats ---\n",
      "Warning! Cannot covert CLOSED_DATE to datetime using %m%d%Y format! Please check the asset dates format!\n",
      "Trying to convert datetime using inferred datetime format...\n",
      "Warning! Cannot covert PREVIOUS_HIGH_DATE_BEFORE_HISTORY to datetime using %m%Y format! Please check the asset dates format!\n",
      "Trying to convert datetime using inferred datetime format...\n",
      "Warning! Cannot covert LAST_PAYMENT_DATE to datetime using %m%d%Y format! Please check the asset dates format!\n",
      "Trying to convert datetime using inferred datetime format...\n",
      "Warning! Cannot covert DFD_DLA to datetime using %m%d%Y format! Please check the asset dates format!\n",
      "Trying to convert datetime using inferred datetime format...\n",
      "Warning! Cannot covert PREVIOUS_HIGH_DATE_3 to datetime using %m%Y format! Please check the asset dates format!\n",
      "Trying to convert datetime using inferred datetime format...\n",
      "Warning! Cannot covert DMD_REPORTED to datetime using %m%d%Y format! Please check the asset dates format!\n",
      "Trying to convert datetime using inferred datetime format...\n",
      "Warning! Cannot covert DEFERRED_PAYMENT_START_DATE to datetime using %m%d%Y format! Please check the asset dates format!\n",
      "Trying to convert datetime using inferred datetime format...\n",
      "Warning! Cannot covert PREVIOUS_HIGH_DATE_2 to datetime using %m%Y format! Please check the asset dates format!\n",
      "Trying to convert datetime using inferred datetime format...\n",
      "Warning! Cannot covert PREVIOUS_HIGH_DATE_1 to datetime using %m%Y format! Please check the asset dates format!\n",
      "Trying to convert datetime using inferred datetime format...\n",
      "--- Selecting loan types in ['00'] ---\n",
      "--- Selecting loan periods within [-30, 90] days ---\n",
      "--- Implementing additional data preprocess ---\n",
      "--- Getting DQ/CO dates from: ---\n",
      "    get_coAmt_dq_date\n",
      "    get_code_dq_date\n",
      "    get_dmd_dq_date\n",
      "    get_highRate_dq_date\n",
      "    get_pattern_dq_date\n",
      "--- Implementing additional proxy date postprocess ---\n"
     ]
    }
   ],
   "source": [
    "proxy_date_df = target_generator.get_dqDates(unfunded_trade)"
   ]
  },
  {
   "cell_type": "code",
   "execution_count": 50,
   "metadata": {},
   "outputs": [
    {
     "data": {
      "text/plain": [
       "(497471, 179)"
      ]
     },
     "execution_count": 50,
     "metadata": {},
     "output_type": "execute_result"
    }
   ],
   "source": [
    "unfunded_ana.shape"
   ]
  },
  {
   "cell_type": "code",
   "execution_count": 18,
   "metadata": {},
   "outputs": [
    {
     "data": {
      "text/plain": [
       "0.29134361600977743"
      ]
     },
     "execution_count": 18,
     "metadata": {},
     "output_type": "execute_result"
    }
   ],
   "source": [
    "proxy_date_df.ZEST_KEY.nunique() / unfunded_ana.shape[0]"
   ]
  },
  {
   "cell_type": "code",
   "execution_count": 19,
   "metadata": {},
   "outputs": [
    {
     "data": {
      "text/plain": [
       "(144935, (166029, 105))"
      ]
     },
     "execution_count": 19,
     "metadata": {},
     "output_type": "execute_result"
    }
   ],
   "source": [
    "proxy_date_df.ZEST_KEY.nunique(), proxy_date_df.shape"
   ]
  },
  {
   "cell_type": "code",
   "execution_count": 30,
   "metadata": {},
   "outputs": [],
   "source": [
    "proxy_date_df.to_parquet('/d/shared/users/lyt/penfed_poc1_unfunded_proxy_targets/full_auto_loan_proxy.parquet')"
   ]
  },
  {
   "cell_type": "code",
   "execution_count": 31,
   "metadata": {},
   "outputs": [
    {
     "data": {
      "text/plain": [
       "(166029, 105)"
      ]
     },
     "execution_count": 31,
     "metadata": {},
     "output_type": "execute_result"
    }
   ],
   "source": [
    "proxy_date_df = pd.read_parquet('/d/shared/users/lyt/penfed_poc1_unfunded_proxy_targets/full_auto_loan_proxy.parquet')\n",
    "proxy_date_df.shape"
   ]
  },
  {
   "cell_type": "code",
   "execution_count": 22,
   "metadata": {},
   "outputs": [
    {
     "data": {
      "text/plain": [
       "{'conf': {'BUREAU': 'equifax',\n",
       "  'FORMAT': 'cms_6',\n",
       "  'PULL_DATE': '2025-05-29',\n",
       "  'PULL_NAME': '20250529_penfed',\n",
       "  'PERFORMANCE_DATE': '2025-04-30'}}"
      ]
     },
     "execution_count": 22,
     "metadata": {},
     "output_type": "execute_result"
    }
   ],
   "source": [
    "with open(f\"/d/shared/silver_projects_v2/penfed/autoindirectv1/shared_data/equifax/raw/client/bureau_config.json\", \"r\") as file: \n",
    "    config = json.load(file)\n",
    "config"
   ]
  },
  {
   "cell_type": "code",
   "execution_count": 23,
   "metadata": {},
   "outputs": [
    {
     "name": "stderr",
     "output_type": "stream",
     "text": [
      "DataFrame is highly fragmented.  This is usually the result of calling `frame.insert` many times, which has poor performance.  Consider joining all columns at once using pd.concat(axis=1) instead. To get a de-fragmented frame, use `newframe = frame.copy()`\n",
      "DataFrame is highly fragmented.  This is usually the result of calling `frame.insert` many times, which has poor performance.  Consider joining all columns at once using pd.concat(axis=1) instead. To get a de-fragmented frame, use `newframe = frame.copy()`\n",
      "DataFrame is highly fragmented.  This is usually the result of calling `frame.insert` many times, which has poor performance.  Consider joining all columns at once using pd.concat(axis=1) instead. To get a de-fragmented frame, use `newframe = frame.copy()`\n",
      "DataFrame is highly fragmented.  This is usually the result of calling `frame.insert` many times, which has poor performance.  Consider joining all columns at once using pd.concat(axis=1) instead. To get a de-fragmented frame, use `newframe = frame.copy()`\n",
      "DataFrame is highly fragmented.  This is usually the result of calling `frame.insert` many times, which has poor performance.  Consider joining all columns at once using pd.concat(axis=1) instead. To get a de-fragmented frame, use `newframe = frame.copy()`\n",
      "DataFrame is highly fragmented.  This is usually the result of calling `frame.insert` many times, which has poor performance.  Consider joining all columns at once using pd.concat(axis=1) instead. To get a de-fragmented frame, use `newframe = frame.copy()`\n",
      "DataFrame is highly fragmented.  This is usually the result of calling `frame.insert` many times, which has poor performance.  Consider joining all columns at once using pd.concat(axis=1) instead. To get a de-fragmented frame, use `newframe = frame.copy()`\n",
      "DataFrame is highly fragmented.  This is usually the result of calling `frame.insert` many times, which has poor performance.  Consider joining all columns at once using pd.concat(axis=1) instead. To get a de-fragmented frame, use `newframe = frame.copy()`\n",
      "DataFrame is highly fragmented.  This is usually the result of calling `frame.insert` many times, which has poor performance.  Consider joining all columns at once using pd.concat(axis=1) instead. To get a de-fragmented frame, use `newframe = frame.copy()`\n",
      "DataFrame is highly fragmented.  This is usually the result of calling `frame.insert` many times, which has poor performance.  Consider joining all columns at once using pd.concat(axis=1) instead. To get a de-fragmented frame, use `newframe = frame.copy()`\n",
      "DataFrame is highly fragmented.  This is usually the result of calling `frame.insert` many times, which has poor performance.  Consider joining all columns at once using pd.concat(axis=1) instead. To get a de-fragmented frame, use `newframe = frame.copy()`\n",
      "DataFrame is highly fragmented.  This is usually the result of calling `frame.insert` many times, which has poor performance.  Consider joining all columns at once using pd.concat(axis=1) instead. To get a de-fragmented frame, use `newframe = frame.copy()`\n",
      "DataFrame is highly fragmented.  This is usually the result of calling `frame.insert` many times, which has poor performance.  Consider joining all columns at once using pd.concat(axis=1) instead. To get a de-fragmented frame, use `newframe = frame.copy()`\n",
      "DataFrame is highly fragmented.  This is usually the result of calling `frame.insert` many times, which has poor performance.  Consider joining all columns at once using pd.concat(axis=1) instead. To get a de-fragmented frame, use `newframe = frame.copy()`\n",
      "DataFrame is highly fragmented.  This is usually the result of calling `frame.insert` many times, which has poor performance.  Consider joining all columns at once using pd.concat(axis=1) instead. To get a de-fragmented frame, use `newframe = frame.copy()`\n",
      "DataFrame is highly fragmented.  This is usually the result of calling `frame.insert` many times, which has poor performance.  Consider joining all columns at once using pd.concat(axis=1) instead. To get a de-fragmented frame, use `newframe = frame.copy()`\n",
      "DataFrame is highly fragmented.  This is usually the result of calling `frame.insert` many times, which has poor performance.  Consider joining all columns at once using pd.concat(axis=1) instead. To get a de-fragmented frame, use `newframe = frame.copy()`\n",
      "DataFrame is highly fragmented.  This is usually the result of calling `frame.insert` many times, which has poor performance.  Consider joining all columns at once using pd.concat(axis=1) instead. To get a de-fragmented frame, use `newframe = frame.copy()`\n"
     ]
    }
   ],
   "source": [
    "pull_date = config['conf']['PULL_DATE']\n",
    "proxy_target = target_generator.generate_target(proxy_date_df, \n",
    "                                         target=dqs, \n",
    "                                         time_window=time_window, \n",
    "                                         query_date= pull_date)\n"
   ]
  },
  {
   "cell_type": "code",
   "execution_count": 24,
   "metadata": {},
   "outputs": [
    {
     "data": {
      "text/plain": [
       "(166029, 219)"
      ]
     },
     "execution_count": 24,
     "metadata": {},
     "output_type": "execute_result"
    }
   ],
   "source": [
    "proxy_target.shape"
   ]
  },
  {
   "cell_type": "code",
   "execution_count": 46,
   "metadata": {},
   "outputs": [],
   "source": [
    "penfed_required_col_list = ['ZEST_KEY', 'appId', 'appDate', 'flgFunded',\n",
    "                             'flgApproved','DATE_OPENED', \n",
    "                             'proxy_DQ60_m6','proxy_DQ60_m6_status', \n",
    "                             'proxy_DQ90_m12','proxy_DQ90_m12_status',\n",
    "                             'proxy_DQ120_m12','proxy_DQ120_m12_status',\n",
    "                             'proxy_DQ90_m18','proxy_DQ90_m18_status',\n",
    "                             'proxy_DQ120_m18','proxy_DQ120_m18_status',\n",
    "                             'proxy_DQ120_m24','proxy_DQ120_m24_status',\n",
    "                             'PAYMENT_HISTORY_1_24', 'PAYMENT_HISTORY_25_36','PAYMENT_HISTORY_37_48']"
   ]
  },
  {
   "cell_type": "code",
   "execution_count": 47,
   "metadata": {},
   "outputs": [
    {
     "data": {
      "text/plain": [
       "(497471, 179)"
      ]
     },
     "execution_count": 47,
     "metadata": {},
     "output_type": "execute_result"
    }
   ],
   "source": [
    "unfunded_ana.shape"
   ]
  },
  {
   "cell_type": "code",
   "execution_count": 48,
   "metadata": {},
   "outputs": [
    {
     "data": {
      "text/plain": [
       "(166029, 21)"
      ]
     },
     "execution_count": 48,
     "metadata": {},
     "output_type": "execute_result"
    }
   ],
   "source": [
    "cols = ['ZEST_KEY', 'appId', 'appDate', 'flgFunded', 'flgApproved',]\n",
    "\n",
    "proxy_loan_required_by_penfed = proxy_target.merge(unfunded_ana.reset_index()[cols], \n",
    "                                                   how = 'left')[penfed_required_col_list]\n",
    "proxy_loan_required_by_penfed.shape"
   ]
  },
  {
   "cell_type": "code",
   "execution_count": 49,
   "metadata": {},
   "outputs": [],
   "source": [
    "proxy_loan_required_by_penfed.to_parquet('/d/shared/users/lyt/penfed_poc1_unfunded_proxy_targets/proxy_loan_required_by_penfed.parquet')"
   ]
  },
  {
   "cell_type": "code",
   "execution_count": 32,
   "metadata": {},
   "outputs": [],
   "source": [
    "proxy_target.to_parquet('/d/shared/users/lyt/penfed_poc1_unfunded_proxy_targets/auto_proxy_targets.parquet')"
   ]
  },
  {
   "cell_type": "code",
   "execution_count": 34,
   "metadata": {},
   "outputs": [
    {
     "data": {
      "text/plain": [
       "(518565, 219)"
      ]
     },
     "execution_count": 34,
     "metadata": {},
     "output_type": "execute_result"
    }
   ],
   "source": [
    "# Merging with unfunded analysis data \n",
    "\n",
    "final_proxy_target = unfunded_ana.reset_index()[cols].merge(proxy_target, how = 'left')\n",
    "final_proxy_target.shape"
   ]
  },
  {
   "cell_type": "code",
   "execution_count": 35,
   "metadata": {},
   "outputs": [
    {
     "data": {
      "text/plain": [
       "497471"
      ]
     },
     "execution_count": 35,
     "metadata": {},
     "output_type": "execute_result"
    }
   ],
   "source": [
    "final_proxy_target.ZEST_KEY.nunique()"
   ]
  },
  {
   "cell_type": "code",
   "execution_count": 36,
   "metadata": {},
   "outputs": [],
   "source": [
    "final_proxy_target.to_parquet('/d/shared/users/lyt/penfed_poc1_unfunded_proxy_targets/final_auto_proxy_targets.parquet')"
   ]
  },
  {
   "cell_type": "code",
   "execution_count": null,
   "metadata": {},
   "outputs": [],
   "source": []
  },
  {
   "cell_type": "markdown",
   "metadata": {},
   "source": [
    "## Auto Part 2 – Waterfall Proxy – Only Proceed to this step if no data is found in Part 1 \n",
    "\n",
    "Return one record max per applicant (the first that is found in the waterfall)\n",
    "\n",
    "1. Non-Mortgage Secured Loan opened -1 to 1 month from application month\n",
    "2. Non-Mortgage Secured Loan opened -1 to 3 month from application month\n",
    "3. Non-Mortgage Secured Loan opened -3 to 3 month from application month \n",
    "4. Existing Auto Loan (must be paid as agreed at app month)\n",
    "5. Existing Personal Loan (must be paid as agreed at app month)\n",
    "6. Any Open Loan (must be paid as agreed at app month)\n",
    "\n",
    "Duplicate treatment logic (for Part 2 only)\n",
    "Choose worst performing trade (60+DPD M12), next choose trade opened closest to app month \n",
    "Else random select from duplicate trades\n",
    "\n",
    "Fields returned for the single proxy, if found:\n",
    "Waterfall # that generated the trade \n",
    "- Date Opened, Loan Amount, Terms, Estimated APR\n",
    "- MOB6 Ever 60+DPD/BNK/Repossession/Charged-off\n",
    "- MOB12 Ever 90+DPD/BNK/Repossession/Charged-off (General Bad PenFed used for model development)\n",
    "- MOB12 Ever 120+DPD/Repossession/Charged-off (Simulate PenFed current Charge off Policy. Does not include BNK)\n",
    "- MOB18 Ever 90+DPD/BNK/Repossession/Charged-off\n",
    "- MOB18 Ever 120+DPD/Repossession/Charged-off\n",
    "- MOB24 Ever 120+DPD/Repossession/Charged-off\n",
    "- Payment history grid (pulled from current archive)\n"
   ]
  },
  {
   "cell_type": "markdown",
   "metadata": {},
   "source": [
    "### A. Non-Mortgage Secured Loans"
   ]
  },
  {
   "cell_type": "code",
   "execution_count": 27,
   "metadata": {},
   "outputs": [],
   "source": [
    "unfunded_ana_v1 = unfunded_ana[~unfunded_ana.index.isin(proxy_date_df.ZEST_KEY)]"
   ]
  },
  {
   "cell_type": "code",
   "execution_count": 25,
   "metadata": {},
   "outputs": [
    {
     "data": {
      "text/plain": [
       "['02', '22', '23']"
      ]
     },
     "execution_count": 25,
     "metadata": {},
     "output_type": "execute_result"
    }
   ],
   "source": [
    "# 02: secured\n",
    "# 22: Secured By Household Goods\n",
    "# 23: Secured By Household Goods/Collateral\n",
    "\n",
    "default_proxy_time_window = [-90, 90]\n",
    "proxy_account_type = ['02', '22', '23']\n",
    "target_generator = EQTargetGenerator(join_key='ZEST_KEY', app_id='appId', app_date='appDate', \n",
    "                                      proxy_time_window = default_proxy_time_window, \n",
    "                                      proxy_account_type = proxy_account_type,\n",
    "                                      **eq_trade_json['info'],\n",
    "                                     proxy = True)\n",
    "target_generator.proxy_account_type"
   ]
  },
  {
   "cell_type": "code",
   "execution_count": 28,
   "metadata": {},
   "outputs": [
    {
     "name": "stdout",
     "output_type": "stream",
     "text": [
      "--- Transforming date formats ---\n",
      "Warning! Cannot covert CLOSED_DATE to datetime using %m%d%Y format! Please check the asset dates format!\n",
      "Trying to convert datetime using inferred datetime format...\n",
      "Warning! Cannot covert PREVIOUS_HIGH_DATE_BEFORE_HISTORY to datetime using %m%Y format! Please check the asset dates format!\n",
      "Trying to convert datetime using inferred datetime format...\n",
      "Warning! Cannot covert LAST_PAYMENT_DATE to datetime using %m%d%Y format! Please check the asset dates format!\n",
      "Trying to convert datetime using inferred datetime format...\n",
      "Warning! Cannot covert DFD_DLA to datetime using %m%d%Y format! Please check the asset dates format!\n",
      "Trying to convert datetime using inferred datetime format...\n",
      "Warning! Cannot covert PREVIOUS_HIGH_DATE_3 to datetime using %m%Y format! Please check the asset dates format!\n",
      "Trying to convert datetime using inferred datetime format...\n",
      "Warning! Cannot covert DMD_REPORTED to datetime using %m%d%Y format! Please check the asset dates format!\n",
      "Trying to convert datetime using inferred datetime format...\n",
      "Warning! Cannot covert DEFERRED_PAYMENT_START_DATE to datetime using %m%d%Y format! Please check the asset dates format!\n",
      "Trying to convert datetime using inferred datetime format...\n",
      "Warning! Cannot covert PREVIOUS_HIGH_DATE_2 to datetime using %m%Y format! Please check the asset dates format!\n",
      "Trying to convert datetime using inferred datetime format...\n",
      "Warning! Cannot covert PREVIOUS_HIGH_DATE_1 to datetime using %m%Y format! Please check the asset dates format!\n",
      "Trying to convert datetime using inferred datetime format...\n",
      "--- Selecting loan types in ['02', '22', '23'] ---\n",
      "--- Selecting loan periods within [-90, 90] days ---\n",
      "--- Implementing additional data preprocess ---\n",
      "--- Getting DQ/CO dates from: ---\n",
      "    get_coAmt_dq_date\n",
      "    get_code_dq_date\n",
      "    get_dmd_dq_date\n",
      "    get_highRate_dq_date\n",
      "    get_pattern_dq_date\n",
      "--- Implementing additional proxy date postprocess ---\n"
     ]
    }
   ],
   "source": [
    "unfunded_trade_v1 = unfunded_trade[unfunded_trade.ZEST_KEY.isin(unfunded_ana_v1.index)]\n",
    "\n",
    "proxy_date_df_v1 = target_generator.get_dqDates(unfunded_trade_v1)"
   ]
  },
  {
   "cell_type": "code",
   "execution_count": 30,
   "metadata": {},
   "outputs": [
    {
     "name": "stdout",
     "output_type": "stream",
     "text": [
      "8035\n"
     ]
    },
    {
     "data": {
      "text/plain": [
       "PORTFOLIO_TYPE\n",
       "I    9044\n",
       "*     132\n",
       "O      38\n",
       "M      11\n",
       "Name: count, dtype: int64"
      ]
     },
     "execution_count": 30,
     "metadata": {},
     "output_type": "execute_result"
    }
   ],
   "source": [
    "# Exclude Mortgage Loans \n",
    "print(proxy_date_df_v1.ZEST_KEY.nunique())\n",
    "proxy_date_df_v1.PORTFOLIO_TYPE.value_counts()"
   ]
  },
  {
   "cell_type": "code",
   "execution_count": 31,
   "metadata": {},
   "outputs": [
    {
     "data": {
      "text/plain": [
       "8024"
      ]
     },
     "execution_count": 31,
     "metadata": {},
     "output_type": "execute_result"
    }
   ],
   "source": [
    "# Exclude Mortgage Loans \n",
    "proxy_date_df_v1 = proxy_date_df_v1[proxy_date_df_v1.PORTFOLIO_TYPE != 'M']\n",
    "proxy_date_df_v1.ZEST_KEY.nunique()"
   ]
  },
  {
   "cell_type": "code",
   "execution_count": 35,
   "metadata": {},
   "outputs": [],
   "source": [
    "proxy_date_df_v1['days_diff'] = (proxy_date_df_v1['DATE_OPENED'] - proxy_date_df_v1['appDate']).dt.days\n",
    "\n",
    "def classify_loan_timing(days_diff):\n",
    "    if -30 <= days_diff <= 30:\n",
    "        return 1\n",
    "    elif -30 <= days_diff <= 90:\n",
    "        return 2\n",
    "    elif -90 <= days_diff <= 90:\n",
    "        return 3\n",
    "    else:\n",
    "        return np.nan  # or 0 or any other indicator for not falling into these windows\n",
    "\n",
    "proxy_date_df_v1['Waterfall_Number'] = proxy_date_df_v1['days_diff'].apply(classify_loan_timing)"
   ]
  },
  {
   "cell_type": "code",
   "execution_count": 36,
   "metadata": {},
   "outputs": [
    {
     "data": {
      "text/plain": [
       "Waterfall_Number\n",
       "1    3703\n",
       "2    2867\n",
       "3    2769\n",
       "Name: count, dtype: int64"
      ]
     },
     "execution_count": 36,
     "metadata": {},
     "output_type": "execute_result"
    }
   ],
   "source": [
    "proxy_date_df_v1['Waterfall_Number'].value_counts(dropna = False)"
   ]
  },
  {
   "cell_type": "code",
   "execution_count": 38,
   "metadata": {},
   "outputs": [],
   "source": [
    "min_waterfall = proxy_date_df_v1.groupby('ZEST_KEY')['Waterfall_Number'].transform('min')\n",
    "\n",
    "# Keep only rows where the waterfall_number is the minimum for that ZEST_KEY\n",
    "proxy_date_df_v1 = proxy_date_df_v1[proxy_date_df_v1['Waterfall_Number'] == min_waterfall].copy()"
   ]
  },
  {
   "cell_type": "code",
   "execution_count": 43,
   "metadata": {},
   "outputs": [
    {
     "data": {
      "text/plain": [
       "8024"
      ]
     },
     "execution_count": 43,
     "metadata": {},
     "output_type": "execute_result"
    }
   ],
   "source": [
    "proxy_date_df_v1.ZEST_KEY.nunique()"
   ]
  },
  {
   "cell_type": "code",
   "execution_count": 79,
   "metadata": {},
   "outputs": [],
   "source": [
    "# proxy_date_df_v1.to_parquet('./proxy_trades_part2_1.parquet')"
   ]
  },
  {
   "cell_type": "markdown",
   "metadata": {},
   "source": [
    "### B.Existing Loans"
   ]
  },
  {
   "cell_type": "code",
   "execution_count": 49,
   "metadata": {},
   "outputs": [],
   "source": [
    "unfunded_ana_v2 = unfunded_ana_v1[~unfunded_ana_v1.index.isin(proxy_date_df_v1.ZEST_KEY)]\n",
    "unfunded_trade_v2 = unfunded_trade[unfunded_trade.ZEST_KEY.isin(unfunded_ana_v2.index)]"
   ]
  },
  {
   "cell_type": "code",
   "execution_count": 50,
   "metadata": {},
   "outputs": [
    {
     "data": {
      "text/plain": [
       "305273"
      ]
     },
     "execution_count": 50,
     "metadata": {},
     "output_type": "execute_result"
    }
   ],
   "source": [
    "unfunded_trade_v2.ZEST_KEY.nunique()"
   ]
  },
  {
   "cell_type": "code",
   "execution_count": 124,
   "metadata": {},
   "outputs": [],
   "source": [
    "import boto3 \n",
    "bucket_name = 'power-client-data-staging'\n",
    "s3 = boto3.client(\"s3\")\n",
    "\n",
    "pre = f\"PREPROCESSED/DATA/BUREAU%3Dequifax/FORMAT%3Dcms_6/TABLE%3Dtrade/VERSION%3Dv2/CLIENT%3Dpenfed/PRODUCT%3Dautoindirect/PULL_DATE%3D2025-05-29/PULL_NAME%3D20250529_penfed/ME_VERSION%3Dv1.13.0/\".replace(\"%3D\", \"=\")\n",
    "response = s3.list_objects_v2(Bucket=bucket_name, Prefix=pre, Delimiter=\"/\")"
   ]
  },
  {
   "cell_type": "code",
   "execution_count": 125,
   "metadata": {
    "collapsed": true,
    "jupyter": {
     "outputs_hidden": true
    }
   },
   "outputs": [
    {
     "name": "stdout",
     "output_type": "stream",
     "text": [
      "s3://power-client-data-staging/PREPROCESSED/DATA/BUREAU=equifax/FORMAT=cms_6/TABLE=trade/VERSION=v2/CLIENT=penfed/PRODUCT=autoindirect/PULL_DATE=2025-05-29/PULL_NAME=20250529_penfed/ME_VERSION=v1.13.0/ARCHIVE_DATE=2020-12-31/\n",
      "s3://power-client-data-staging/PREPROCESSED/DATA/BUREAU=equifax/FORMAT=cms_6/TABLE=trade/VERSION=v2/CLIENT=penfed/PRODUCT=autoindirect/PULL_DATE=2025-05-29/PULL_NAME=20250529_penfed/ME_VERSION=v1.13.0/ARCHIVE_DATE=2021-03-31/\n",
      "s3://power-client-data-staging/PREPROCESSED/DATA/BUREAU=equifax/FORMAT=cms_6/TABLE=trade/VERSION=v2/CLIENT=penfed/PRODUCT=autoindirect/PULL_DATE=2025-05-29/PULL_NAME=20250529_penfed/ME_VERSION=v1.13.0/ARCHIVE_DATE=2021-06-30/\n",
      "s3://power-client-data-staging/PREPROCESSED/DATA/BUREAU=equifax/FORMAT=cms_6/TABLE=trade/VERSION=v2/CLIENT=penfed/PRODUCT=autoindirect/PULL_DATE=2025-05-29/PULL_NAME=20250529_penfed/ME_VERSION=v1.13.0/ARCHIVE_DATE=2021-09-30/\n",
      "s3://power-client-data-staging/PREPROCESSED/DATA/BUREAU=equifax/FORMAT=cms_6/TABLE=trade/VERSION=v2/CLIENT=penfed/PRODUCT=autoindirect/PULL_DATE=2025-05-29/PULL_NAME=20250529_penfed/ME_VERSION=v1.13.0/ARCHIVE_DATE=2021-12-31/\n",
      "s3://power-client-data-staging/PREPROCESSED/DATA/BUREAU=equifax/FORMAT=cms_6/TABLE=trade/VERSION=v2/CLIENT=penfed/PRODUCT=autoindirect/PULL_DATE=2025-05-29/PULL_NAME=20250529_penfed/ME_VERSION=v1.13.0/ARCHIVE_DATE=2022-03-31/\n",
      "s3://power-client-data-staging/PREPROCESSED/DATA/BUREAU=equifax/FORMAT=cms_6/TABLE=trade/VERSION=v2/CLIENT=penfed/PRODUCT=autoindirect/PULL_DATE=2025-05-29/PULL_NAME=20250529_penfed/ME_VERSION=v1.13.0/ARCHIVE_DATE=2022-06-30/\n",
      "s3://power-client-data-staging/PREPROCESSED/DATA/BUREAU=equifax/FORMAT=cms_6/TABLE=trade/VERSION=v2/CLIENT=penfed/PRODUCT=autoindirect/PULL_DATE=2025-05-29/PULL_NAME=20250529_penfed/ME_VERSION=v1.13.0/ARCHIVE_DATE=2022-09-30/\n",
      "s3://power-client-data-staging/PREPROCESSED/DATA/BUREAU=equifax/FORMAT=cms_6/TABLE=trade/VERSION=v2/CLIENT=penfed/PRODUCT=autoindirect/PULL_DATE=2025-05-29/PULL_NAME=20250529_penfed/ME_VERSION=v1.13.0/ARCHIVE_DATE=2022-12-31/\n",
      "s3://power-client-data-staging/PREPROCESSED/DATA/BUREAU=equifax/FORMAT=cms_6/TABLE=trade/VERSION=v2/CLIENT=penfed/PRODUCT=autoindirect/PULL_DATE=2025-05-29/PULL_NAME=20250529_penfed/ME_VERSION=v1.13.0/ARCHIVE_DATE=2023-03-31/\n",
      "s3://power-client-data-staging/PREPROCESSED/DATA/BUREAU=equifax/FORMAT=cms_6/TABLE=trade/VERSION=v2/CLIENT=penfed/PRODUCT=autoindirect/PULL_DATE=2025-05-29/PULL_NAME=20250529_penfed/ME_VERSION=v1.13.0/ARCHIVE_DATE=2023-06-30/\n",
      "s3://power-client-data-staging/PREPROCESSED/DATA/BUREAU=equifax/FORMAT=cms_6/TABLE=trade/VERSION=v2/CLIENT=penfed/PRODUCT=autoindirect/PULL_DATE=2025-05-29/PULL_NAME=20250529_penfed/ME_VERSION=v1.13.0/ARCHIVE_DATE=2023-09-30/\n",
      "s3://power-client-data-staging/PREPROCESSED/DATA/BUREAU=equifax/FORMAT=cms_6/TABLE=trade/VERSION=v2/CLIENT=penfed/PRODUCT=autoindirect/PULL_DATE=2025-05-29/PULL_NAME=20250529_penfed/ME_VERSION=v1.13.0/ARCHIVE_DATE=2023-12-31/\n",
      "s3://power-client-data-staging/PREPROCESSED/DATA/BUREAU=equifax/FORMAT=cms_6/TABLE=trade/VERSION=v2/CLIENT=penfed/PRODUCT=autoindirect/PULL_DATE=2025-05-29/PULL_NAME=20250529_penfed/ME_VERSION=v1.13.0/ARCHIVE_DATE=2024-03-31/\n",
      "s3://power-client-data-staging/PREPROCESSED/DATA/BUREAU=equifax/FORMAT=cms_6/TABLE=trade/VERSION=v2/CLIENT=penfed/PRODUCT=autoindirect/PULL_DATE=2025-05-29/PULL_NAME=20250529_penfed/ME_VERSION=v1.13.0/ARCHIVE_DATE=2024-06-30/\n",
      "s3://power-client-data-staging/PREPROCESSED/DATA/BUREAU=equifax/FORMAT=cms_6/TABLE=trade/VERSION=v2/CLIENT=penfed/PRODUCT=autoindirect/PULL_DATE=2025-05-29/PULL_NAME=20250529_penfed/ME_VERSION=v1.13.0/ARCHIVE_DATE=2024-09-30/\n",
      "s3://power-client-data-staging/PREPROCESSED/DATA/BUREAU=equifax/FORMAT=cms_6/TABLE=trade/VERSION=v2/CLIENT=penfed/PRODUCT=autoindirect/PULL_DATE=2025-05-29/PULL_NAME=20250529_penfed/ME_VERSION=v1.13.0/ARCHIVE_DATE=2024-12-31/\n"
     ]
    }
   ],
   "source": [
    "trade = pd.DataFrame()\n",
    "\n",
    "for c in response['CommonPrefixes']:\n",
    "    cur_table_path = \"s3://power-client-data-staging/\"+c['Prefix']\n",
    "    print(cur_table_path)\n",
    "    temp = pd.read_parquet(cur_table_path)\n",
    "    trade = pd.concat([trade, temp])"
   ]
  },
  {
   "cell_type": "code",
   "execution_count": 149,
   "metadata": {},
   "outputs": [
    {
     "data": {
      "text/plain": [
       "119        2025-03-01\n",
       "176        2025-03-01\n",
       "198        2023-05-01\n",
       "199        2023-11-01\n",
       "365        2025-03-01\n",
       "              ...    \n",
       "19335731   2025-03-01\n",
       "19335732   2025-03-01\n",
       "19335896   2025-02-01\n",
       "19336092   2025-03-01\n",
       "19336098   2024-11-01\n",
       "Name: LAST_PAYMENT_DATE, Length: 211841, dtype: datetime64[ns]"
      ]
     },
     "execution_count": 149,
     "metadata": {},
     "output_type": "execute_result"
    }
   ],
   "source": [
    "proxy_date_df['LAST_PAYMENT_DATE']"
   ]
  },
  {
   "cell_type": "code",
   "execution_count": 140,
   "metadata": {},
   "outputs": [
    {
     "data": {
      "text/plain": [
       "(304181, (312862, 179))"
      ]
     },
     "execution_count": 140,
     "metadata": {},
     "output_type": "execute_result"
    }
   ],
   "source": [
    "trade = trade[trade.ZEST_KEY.isin(unfunded_ana_v2.index)]\n",
    "trade.ZEST_KEY.nunique(), unfunded_ana_v2.shape"
   ]
  },
  {
   "cell_type": "code",
   "execution_count": 199,
   "metadata": {},
   "outputs": [
    {
     "data": {
      "text/plain": [
       "ACTIVITY_DESIGNATOR\n",
       "B    2729596\n",
       "T     248577\n",
       "C     100589\n",
       "P      24336\n",
       "D      20489\n",
       "L       9593\n",
       "R       2859\n",
       "Name: count, dtype: int64"
      ]
     },
     "execution_count": 199,
     "metadata": {},
     "output_type": "execute_result"
    }
   ],
   "source": [
    "trade.ACTIVITY_DESIGNATOR.value_counts()"
   ]
  },
  {
   "cell_type": "code",
   "execution_count": 142,
   "metadata": {},
   "outputs": [
    {
     "data": {
      "text/plain": [
       "304044"
      ]
     },
     "execution_count": 142,
     "metadata": {},
     "output_type": "execute_result"
    }
   ],
   "source": [
    "# Filter for currently paid as agreed accounts \n",
    "\n",
    "trade_filtered = trade[trade['RATE_STATUS_CODE'] == '1']\n",
    "trade_filtered.ZEST_KEY.nunique()"
   ]
  },
  {
   "cell_type": "code",
   "execution_count": 170,
   "metadata": {},
   "outputs": [
    {
     "data": {
      "text/plain": [
       "ACCOUNT_TYPE\n",
       "18    1480008\n",
       "07    1311093\n",
       "00     892350\n",
       "12     618541\n",
       "0G     306975\n",
       "01     251508\n",
       "26     229563\n",
       "02     110943\n",
       "3A      79783\n",
       "19      70276\n",
       "Name: count, dtype: int64"
      ]
     },
     "execution_count": 170,
     "metadata": {},
     "output_type": "execute_result"
    }
   ],
   "source": [
    "trade_filtered['ACCOUNT_TYPE'].value_counts().head(10)"
   ]
  },
  {
   "cell_type": "code",
   "execution_count": 161,
   "metadata": {},
   "outputs": [],
   "source": [
    "import numpy as np\n",
    "def udpate_date_formats(data, dates): \n",
    "    for date_col, date_format in dates.items():\n",
    "        if np.issubdtype(data[date_col].dtype, np.datetime64):\n",
    "            print(f'{date_col} is already of datetime format! Will skip the converting process')\n",
    "            continue\n",
    "        data[date_col] = data[date_col].astype('str')\n",
    "        for date_col, date_format in dates.items(): \n",
    "            if date_format == '%m%d%Y':\n",
    "                idx = data[date_col].str[2:4] == '00'\n",
    "                data.loc[idx, date_col] = data.loc[idx, date_col].str[0:2] + '01' + data.loc[idx, date_col].str[4:]\n",
    "                data[date_col] = data[date_col].replace('        ', np.nan)\n",
    "            try:\n",
    "                data[date_col] = pd.to_datetime(data[date_col], format=date_format, errors='raise')\n",
    "            except:\n",
    "                print(f'Warning! Cannot covert {date_col} to datetime using {date_format} format! Please check the asset dates format!' )\n",
    "                print('Trying to convert datetime using inferred datetime format...')\n",
    "                data[date_col] = pd.to_datetime(data[date_col],format=date_format, errors='coerce')\n",
    "    return data         "
   ]
  },
  {
   "cell_type": "code",
   "execution_count": 162,
   "metadata": {},
   "outputs": [
    {
     "name": "stdout",
     "output_type": "stream",
     "text": [
      "DATE_REPORTED is already of datetime format! Will skip the converting process\n",
      "LAST_PAYMENT_DATE is already of datetime format! Will skip the converting process\n"
     ]
    }
   ],
   "source": [
    "dates = {\n",
    "    'DATE_REPORTED': '%m%d%Y',\n",
    "    'LAST_PAYMENT_DATE': '%m%d%Y'\n",
    "}\n",
    "\n",
    "trade_filtered = udpate_date_formats(trade_filtered, dates)"
   ]
  },
  {
   "cell_type": "code",
   "execution_count": 164,
   "metadata": {},
   "outputs": [
    {
     "data": {
      "text/plain": [
       "304044"
      ]
     },
     "execution_count": 164,
     "metadata": {},
     "output_type": "execute_result"
    }
   ],
   "source": [
    "trade_filtered.ZEST_KEY.nunique()"
   ]
  },
  {
   "cell_type": "code",
   "execution_count": 446,
   "metadata": {},
   "outputs": [],
   "source": [
    "def get_time_diff(reference_date_series, date_series, units):\n",
    "    if units == \"M\":\n",
    "        # According pandas==2.0.2, 1 month is exactly 30 days. The number\n",
    "        # '30.436875' was reversed engineering from pandas 1.X. This number\n",
    "        # is about 365.2422 (days) / 12 (months).\n",
    "        return (reference_date_series - date_series) / pd.Timedelta(30.436875, \"D\")\n",
    "    else:\n",
    "        return (reference_date_series - date_series) / np.timedelta64(1, units)\n"
   ]
  },
  {
   "cell_type": "code",
   "execution_count": 222,
   "metadata": {},
   "outputs": [
    {
     "data": {
      "text/plain": [
       "count   5653828.0000\n",
       "mean          1.6145\n",
       "std           0.8688\n",
       "min           0.0329\n",
       "25%           0.8871\n",
       "50%           1.6099\n",
       "75%           2.3656\n",
       "max           3.2198\n",
       "Name: request_date_diff, dtype: float64"
      ]
     },
     "execution_count": 222,
     "metadata": {},
     "output_type": "execute_result"
    }
   ],
   "source": [
    "# Month difference between appDate and date of request\n",
    "\n",
    "trade_filtered['request_date_diff'] =  get_time_diff(trade_filtered['appDate'], trade_filtered['DATE_OF_REQUEST'], units = 'M')\n",
    "trade_filtered['request_date_diff'].describe()"
   ]
  },
  {
   "cell_type": "code",
   "execution_count": 229,
   "metadata": {},
   "outputs": [
    {
     "data": {
      "text/plain": [
       "DATE_OF_REQUEST\n",
       "2022-03-29    567143\n",
       "2021-12-28    493476\n",
       "2024-03-26    460577\n",
       "2023-12-26    427018\n",
       "2021-09-28    389096\n",
       "2023-03-28    386543\n",
       "2023-06-27    373007\n",
       "2024-06-25    341287\n",
       "2023-09-26    333301\n",
       "2022-12-27    316118\n",
       "2022-06-28    308148\n",
       "2022-09-27    275987\n",
       "2021-06-29    260070\n",
       "2024-12-31    244020\n",
       "2021-03-30    197917\n",
       "2020-12-29    159522\n",
       "2024-09-24    120598\n",
       "Name: count, dtype: int64"
      ]
     },
     "execution_count": 229,
     "metadata": {},
     "output_type": "execute_result"
    }
   ],
   "source": [
    "trade_filtered['DATE_OF_REQUEST'].value_counts()"
   ]
  },
  {
   "cell_type": "code",
   "execution_count": 223,
   "metadata": {},
   "outputs": [
    {
     "data": {
      "text/plain": [
       "count   5098919.0000\n",
       "mean         39.9468\n",
       "std          48.1579\n",
       "min           0.7557\n",
       "25%           1.8727\n",
       "50%          17.8073\n",
       "75%          68.7981\n",
       "max         471.7961\n",
       "Name: payment_date_diff, dtype: float64"
      ]
     },
     "execution_count": 223,
     "metadata": {},
     "output_type": "execute_result"
    }
   ],
   "source": [
    "# Month difference between payment date and date of request \n",
    "\n",
    "trade_filtered['payment_date_diff'] =  get_time_diff(trade_filtered['DATE_OF_REQUEST'], trade_filtered['LAST_PAYMENT_DATE'], units = 'M')\n",
    "trade_filtered['payment_date_diff'].describe()"
   ]
  },
  {
   "cell_type": "code",
   "execution_count": 230,
   "metadata": {},
   "outputs": [
    {
     "data": {
      "text/plain": [
       "count   2619908.0000\n",
       "mean         69.8833\n",
       "std          47.7217\n",
       "min           0.7557\n",
       "25%          32.8220\n",
       "50%          62.8514\n",
       "75%          98.8275\n",
       "max         471.7961\n",
       "Name: payment_date_diff, dtype: float64"
      ]
     },
     "execution_count": 230,
     "metadata": {},
     "output_type": "execute_result"
    }
   ],
   "source": [
    "# Account not closed indicated by CLOSED_DATE\n",
    "\n",
    "trade_filtered[trade_filtered.CLOSED_DATE.notna()].payment_date_diff.describe()"
   ]
  },
  {
   "cell_type": "code",
   "execution_count": 225,
   "metadata": {},
   "outputs": [
    {
     "data": {
      "text/plain": [
       "count   2479011.0000\n",
       "mean          8.3088\n",
       "std          20.3789\n",
       "min           0.7557\n",
       "25%           1.7742\n",
       "50%           1.8727\n",
       "75%           3.8769\n",
       "max         389.8889\n",
       "Name: payment_date_diff, dtype: float64"
      ]
     },
     "execution_count": 225,
     "metadata": {},
     "output_type": "execute_result"
    }
   ],
   "source": [
    "# Account is closed indicated by CLOSED_DATE\n",
    "\n",
    "trade_filtered[trade_filtered.CLOSED_DATE.isnull()].payment_date_diff.describe()"
   ]
  },
  {
   "cell_type": "code",
   "execution_count": 210,
   "metadata": {},
   "outputs": [
    {
     "data": {
      "text/html": [
       "<div>\n",
       "<style scoped>\n",
       "    .dataframe tbody tr th:only-of-type {\n",
       "        vertical-align: middle;\n",
       "    }\n",
       "\n",
       "    .dataframe tbody tr th {\n",
       "        vertical-align: top;\n",
       "    }\n",
       "\n",
       "    .dataframe thead th {\n",
       "        text-align: right;\n",
       "    }\n",
       "</style>\n",
       "<table border=\"1\" class=\"dataframe\">\n",
       "  <thead>\n",
       "    <tr style=\"text-align: right;\">\n",
       "      <th></th>\n",
       "      <th>report_date_diff</th>\n",
       "      <th>payment_date_diff</th>\n",
       "    </tr>\n",
       "  </thead>\n",
       "  <tbody>\n",
       "    <tr>\n",
       "      <th>count</th>\n",
       "      <td>2935370.0000</td>\n",
       "      <td>2619908.0000</td>\n",
       "    </tr>\n",
       "    <tr>\n",
       "      <th>mean</th>\n",
       "      <td>52.4012</td>\n",
       "      <td>71.5052</td>\n",
       "    </tr>\n",
       "    <tr>\n",
       "      <th>std</th>\n",
       "      <td>33.0762</td>\n",
       "      <td>47.7345</td>\n",
       "    </tr>\n",
       "    <tr>\n",
       "      <th>min</th>\n",
       "      <td>0.1314</td>\n",
       "      <td>0.9856</td>\n",
       "    </tr>\n",
       "    <tr>\n",
       "      <th>25%</th>\n",
       "      <td>23.9841</td>\n",
       "      <td>34.2019</td>\n",
       "    </tr>\n",
       "    <tr>\n",
       "      <th>50%</th>\n",
       "      <td>49.7094</td>\n",
       "      <td>64.4941</td>\n",
       "    </tr>\n",
       "    <tr>\n",
       "      <th>75%</th>\n",
       "      <td>78.5560</td>\n",
       "      <td>100.3388</td>\n",
       "    </tr>\n",
       "    <tr>\n",
       "      <th>max</th>\n",
       "      <td>121.9573</td>\n",
       "      <td>474.3588</td>\n",
       "    </tr>\n",
       "  </tbody>\n",
       "</table>\n",
       "</div>"
      ],
      "text/plain": [
       "       report_date_diff  payment_date_diff\n",
       "count      2935370.0000       2619908.0000\n",
       "mean            52.4012            71.5052\n",
       "std             33.0762            47.7345\n",
       "min              0.1314             0.9856\n",
       "25%             23.9841            34.2019\n",
       "50%             49.7094            64.4941\n",
       "75%             78.5560           100.3388\n",
       "max            121.9573           474.3588"
      ]
     },
     "execution_count": 210,
     "metadata": {},
     "output_type": "execute_result"
    }
   ],
   "source": [
    "# Account is closed indicated by CLOSED_DATE\n",
    "\n",
    "trade_filtered[(~trade_filtered.CLOSED_DATE.isnull())][['report_date_diff', 'payment_date_diff']].describe()"
   ]
  },
  {
   "cell_type": "code",
   "execution_count": 211,
   "metadata": {},
   "outputs": [
    {
     "data": {
      "text/html": [
       "<div>\n",
       "<style scoped>\n",
       "    .dataframe tbody tr th:only-of-type {\n",
       "        vertical-align: middle;\n",
       "    }\n",
       "\n",
       "    .dataframe tbody tr th {\n",
       "        vertical-align: top;\n",
       "    }\n",
       "\n",
       "    .dataframe thead th {\n",
       "        text-align: right;\n",
       "    }\n",
       "</style>\n",
       "<table border=\"1\" class=\"dataframe\">\n",
       "  <thead>\n",
       "    <tr style=\"text-align: right;\">\n",
       "      <th></th>\n",
       "      <th>report_date_diff</th>\n",
       "      <th>payment_date_diff</th>\n",
       "    </tr>\n",
       "  </thead>\n",
       "  <tbody>\n",
       "    <tr>\n",
       "      <th>count</th>\n",
       "      <td>2718458.0000</td>\n",
       "      <td>2479011.0000</td>\n",
       "    </tr>\n",
       "    <tr>\n",
       "      <th>mean</th>\n",
       "      <td>5.4583</td>\n",
       "      <td>9.9135</td>\n",
       "    </tr>\n",
       "    <tr>\n",
       "      <th>std</th>\n",
       "      <td>16.0214</td>\n",
       "      <td>20.4046</td>\n",
       "    </tr>\n",
       "    <tr>\n",
       "      <th>min</th>\n",
       "      <td>0.0986</td>\n",
       "      <td>0.9856</td>\n",
       "    </tr>\n",
       "    <tr>\n",
       "      <th>25%</th>\n",
       "      <td>1.6099</td>\n",
       "      <td>2.7270</td>\n",
       "    </tr>\n",
       "    <tr>\n",
       "      <th>50%</th>\n",
       "      <td>2.4313</td>\n",
       "      <td>3.7455</td>\n",
       "    </tr>\n",
       "    <tr>\n",
       "      <th>75%</th>\n",
       "      <td>3.2198</td>\n",
       "      <td>5.6839</td>\n",
       "    </tr>\n",
       "    <tr>\n",
       "      <th>max</th>\n",
       "      <td>121.9573</td>\n",
       "      <td>392.0573</td>\n",
       "    </tr>\n",
       "  </tbody>\n",
       "</table>\n",
       "</div>"
      ],
      "text/plain": [
       "       report_date_diff  payment_date_diff\n",
       "count      2718458.0000       2479011.0000\n",
       "mean             5.4583             9.9135\n",
       "std             16.0214            20.4046\n",
       "min              0.0986             0.9856\n",
       "25%              1.6099             2.7270\n",
       "50%              2.4313             3.7455\n",
       "75%              3.2198             5.6839\n",
       "max            121.9573           392.0573"
      ]
     },
     "execution_count": 211,
     "metadata": {},
     "output_type": "execute_result"
    }
   ],
   "source": [
    "# Account not closed indicated by CLOSED_DATE\n",
    "\n",
    "trade_filtered[trade_filtered.CLOSED_DATE.isnull()][['report_date_diff', 'payment_date_diff']].describe()"
   ]
  },
  {
   "cell_type": "code",
   "execution_count": 236,
   "metadata": {},
   "outputs": [
    {
     "data": {
      "text/plain": [
       "238223"
      ]
     },
     "execution_count": 236,
     "metadata": {},
     "output_type": "execute_result"
    }
   ],
   "source": [
    "# Filter for currently active accounts - payment and application date difference is less than 4 months and no close_date \n",
    "\n",
    "active_trade = trade_filtered[ (trade_filtered['payment_date_diff'] <=1)]\n",
    "active_trade.ZEST_KEY.nunique()"
   ]
  },
  {
   "cell_type": "code",
   "execution_count": 237,
   "metadata": {},
   "outputs": [
    {
     "data": {
      "text/plain": [
       "ACCOUNT_TYPE\n",
       "18    300396\n",
       "07    109124\n",
       "0G     90441\n",
       "00     45179\n",
       "26     28391\n",
       "12      6780\n",
       "19      5375\n",
       "01      4595\n",
       "2A      3637\n",
       "25      3108\n",
       "Name: count, dtype: int64"
      ]
     },
     "execution_count": 237,
     "metadata": {},
     "output_type": "execute_result"
    }
   ],
   "source": [
    "active_trade['ACCOUNT_TYPE'].value_counts().head(10)"
   ]
  },
  {
   "cell_type": "markdown",
   "metadata": {},
   "source": [
    "4. Existing Auto Loan (must be paid as agreed at app month)\n",
    "5. Existing Personal Loan (must be paid as agreed at app month)\n",
    "6. Any Open Loan (must be paid as agreed at app month)"
   ]
  },
  {
   "cell_type": "code",
   "execution_count": 238,
   "metadata": {},
   "outputs": [],
   "source": [
    "pl_types =['01',\n",
    "    '02',\n",
    "    '03',\n",
    "    '06',\n",
    "    '0A',\n",
    "    '0F',\n",
    "    '11',\n",
    "    '13',\n",
    "    '15',\n",
    "    '20',\n",
    "    '29',\n",
    "    '47',\n",
    "    '4D',\n",
    "    '70',\n",
    "    '7B',\n",
    "    '92',\n",
    "    '78',\n",
    "    '91']\n",
    "auto_types = ['3A', '00', '11']"
   ]
  },
  {
   "cell_type": "code",
   "execution_count": 239,
   "metadata": {},
   "outputs": [],
   "source": [
    "def classify_loan_type(account_col):\n",
    "    if account_col in auto_types:\n",
    "        return 4\n",
    "    elif account_col in pl_types:\n",
    "        return 5\n",
    "    else:\n",
    "        return 6  # or 0 or any other indicator for not falling into these windows\n",
    "\n",
    "active_trade['Waterfall_Number'] = active_trade['ACCOUNT_TYPE'].apply(classify_loan_type)"
   ]
  },
  {
   "cell_type": "code",
   "execution_count": 240,
   "metadata": {},
   "outputs": [
    {
     "data": {
      "text/plain": [
       "Waterfall_Number\n",
       "6    552105\n",
       "4     47359\n",
       "5      7630\n",
       "Name: count, dtype: int64"
      ]
     },
     "execution_count": 240,
     "metadata": {},
     "output_type": "execute_result"
    }
   ],
   "source": [
    "active_trade['Waterfall_Number'].value_counts()"
   ]
  },
  {
   "cell_type": "code",
   "execution_count": 244,
   "metadata": {},
   "outputs": [
    {
     "data": {
      "text/plain": [
       "238223"
      ]
     },
     "execution_count": 244,
     "metadata": {},
     "output_type": "execute_result"
    }
   ],
   "source": [
    "active_trade.ZEST_KEY.nunique()"
   ]
  },
  {
   "cell_type": "code",
   "execution_count": 245,
   "metadata": {},
   "outputs": [
    {
     "data": {
      "text/plain": [
       "238223"
      ]
     },
     "execution_count": 245,
     "metadata": {},
     "output_type": "execute_result"
    }
   ],
   "source": [
    "min_waterfall = active_trade.groupby('ZEST_KEY')['Waterfall_Number'].transform('min')\n",
    "\n",
    "# Keep only rows where the waterfall_number is the minimum for that ZEST_KEY\n",
    "existing_trade = active_trade[active_trade['Waterfall_Number'] == min_waterfall].copy()\n",
    "existing_trade.ZEST_KEY.nunique()"
   ]
  },
  {
   "cell_type": "code",
   "execution_count": 246,
   "metadata": {},
   "outputs": [
    {
     "data": {
      "text/plain": [
       "(502291, 69)"
      ]
     },
     "execution_count": 246,
     "metadata": {},
     "output_type": "execute_result"
    }
   ],
   "source": [
    "existing_trade.shape"
   ]
  },
  {
   "cell_type": "code",
   "execution_count": 295,
   "metadata": {},
   "outputs": [
    {
     "data": {
      "text/plain": [
       "ZEST_KEY\n",
       "86707439_2_229_22     35\n",
       "77596429_1_229_22     34\n",
       "86707439_1_229_22     33\n",
       "82239072_2_229_22     33\n",
       "95294297_1_229_22     30\n",
       "84322710_1_229_22     30\n",
       "73992434_1_229_22     30\n",
       "70472514_1_229_22     28\n",
       "74166730_1_229_22     28\n",
       "75748977_1_229_22     27\n",
       "109622340_1_229_22    27\n",
       "81680965_1_229_22     27\n",
       "83037846_1_229_22     26\n",
       "83130685_1_229_22     26\n",
       "79168354_1_229_22     26\n",
       "81715181_1_229_22     26\n",
       "106317965_2_229_22    26\n",
       "72052895_2_229_22     25\n",
       "76751342_1_229_22     25\n",
       "84267270_1_229_22     25\n",
       "Name: count, dtype: int64"
      ]
     },
     "execution_count": 295,
     "metadata": {},
     "output_type": "execute_result"
    }
   ],
   "source": [
    "existing_trade.ZEST_KEY.value_counts().head(20)"
   ]
  },
  {
   "cell_type": "code",
   "execution_count": 410,
   "metadata": {},
   "outputs": [
    {
     "data": {
      "text/plain": [
       "0.9591811034199049"
      ]
     },
     "execution_count": 410,
     "metadata": {},
     "output_type": "execute_result"
    }
   ],
   "source": [
    "# # Experiment with including portfolio type \n",
    "# tempo = existing_trade[['ZEST_KEY', 'DATE_OPENED', 'ACCOUNT_TYPE', 'CUSTOMER_NUMBER', 'ECOA_DESIGNATOR', 'PORTFOLIO_TYPE', 'Waterfall_Number']].merge(unfunded_trade,\n",
    "#      on = ['ZEST_KEY', 'DATE_OPENED', 'ACCOUNT_TYPE', 'CUSTOMER_NUMBER', 'ECOA_DESIGNATOR','PORTFOLIO_TYPE', ],\n",
    "#      how = 'inner',\n",
    "#      suffixes=('_app', ''))\n",
    "# tempo.ZEST_KEY.nunique()/ existing_trade.ZEST_KEY.nunique()"
   ]
  },
  {
   "cell_type": "code",
   "execution_count": 421,
   "metadata": {},
   "outputs": [
    {
     "data": {
      "text/html": [
       "<div>\n",
       "<style scoped>\n",
       "    .dataframe tbody tr th:only-of-type {\n",
       "        vertical-align: middle;\n",
       "    }\n",
       "\n",
       "    .dataframe tbody tr th {\n",
       "        vertical-align: top;\n",
       "    }\n",
       "\n",
       "    .dataframe thead th {\n",
       "        text-align: right;\n",
       "    }\n",
       "</style>\n",
       "<table border=\"1\" class=\"dataframe\">\n",
       "  <thead>\n",
       "    <tr style=\"text-align: right;\">\n",
       "      <th></th>\n",
       "      <th>ZEST_KEY</th>\n",
       "      <th>DATE_OPENED</th>\n",
       "      <th>ACCOUNT_TYPE</th>\n",
       "      <th>CUSTOMER_NUMBER</th>\n",
       "      <th>ECOA_DESIGNATOR</th>\n",
       "      <th>Waterfall_Number</th>\n",
       "      <th>SEG_SEQ</th>\n",
       "      <th>SEG_PARENT</th>\n",
       "      <th>SEG_PARENT_SEQ</th>\n",
       "      <th>SEGMENT_TYPE</th>\n",
       "      <th>CUSTOMER_NAME</th>\n",
       "      <th>DATE_REPORTED</th>\n",
       "      <th>HIGH_CREDIT</th>\n",
       "      <th>CREDIT_LIMIT</th>\n",
       "      <th>BALANCE</th>\n",
       "      <th>PAST_DUE_AMOUNT</th>\n",
       "      <th>PORTFOLIO_TYPE</th>\n",
       "      <th>RATE_STATUS_CODE</th>\n",
       "      <th>AUTOMATED_UPDATE_INDICATOR</th>\n",
       "      <th>MONTHS_REVIEWED</th>\n",
       "      <th>ACCOUNT_NUMBER</th>\n",
       "      <th>30_DAY_COUNTERS</th>\n",
       "      <th>60_DAY_COUNTERS</th>\n",
       "      <th>90+_DAY_COUNTERS</th>\n",
       "      <th>PREVIOUS_HIGH_RATE_1</th>\n",
       "      <th>PREVIOUS_HIGH_DATE_1</th>\n",
       "      <th>PREVIOUS_HIGH_RATE_2</th>\n",
       "      <th>PREVIOUS_HIGH_DATE_2</th>\n",
       "      <th>PREVIOUS_HIGH_RATE_3</th>\n",
       "      <th>PREVIOUS_HIGH_DATE_3</th>\n",
       "      <th>DFD_DLA</th>\n",
       "      <th>NARRATIVE_CODE_1</th>\n",
       "      <th>NARRATIVE_CODE_2</th>\n",
       "      <th>NARRATIVE_CODE_3</th>\n",
       "      <th>NARRATIVE_CODE_4</th>\n",
       "      <th>LAST_PAYMENT_DATE</th>\n",
       "      <th>CLOSED_DATE</th>\n",
       "      <th>DMD_REPORTED</th>\n",
       "      <th>ACTUAL_PAYMENT_AMOUNT</th>\n",
       "      <th>SCHEDULED_PAYMENT_AMOUNT</th>\n",
       "      <th>TERMS_FREQUENCY</th>\n",
       "      <th>TERMS_DURATION</th>\n",
       "      <th>INDICATOR</th>\n",
       "      <th>NAME</th>\n",
       "      <th>CREDITOR_CLASSIFICATION</th>\n",
       "      <th>ACTIVITY_DESIGNATOR</th>\n",
       "      <th>ORIGINAL_CHARGE_OFF_AMOUNT</th>\n",
       "      <th>DEFERRED_PAYMENT_START_DATE</th>\n",
       "      <th>BALLOON_PAYMENT_AMOUNT</th>\n",
       "      <th>BALLOON_PAYMENT_DUE_DATE</th>\n",
       "      <th>MORTGAGE_ID_NUMBER</th>\n",
       "      <th>PAYMENT_HISTORY_1_24</th>\n",
       "      <th>PAYMENT_HISTORY_25_36</th>\n",
       "      <th>PAYMENT_HISTORY_37_48</th>\n",
       "      <th>PREVIOUS_HIGH_RATE_BEFORE_HISTORY</th>\n",
       "      <th>PREVIOUS_HIGH_DATE_BEFORE_HISTORY</th>\n",
       "      <th>NARRATIVE_CODE_1X</th>\n",
       "      <th>NARRATIVE_CODE_2X</th>\n",
       "      <th>NARRATIVE_CODE_3X</th>\n",
       "      <th>NARRATIVE_CODE_4X</th>\n",
       "      <th>RECENT_TRADE_FLAG</th>\n",
       "      <th>QUALIFYING_FLAG</th>\n",
       "      <th>ARCHIVE_DATA</th>\n",
       "      <th>appId</th>\n",
       "      <th>appDate</th>\n",
       "      <th>flgFunded</th>\n",
       "      <th>flgApproved</th>\n",
       "    </tr>\n",
       "  </thead>\n",
       "  <tbody>\n",
       "    <tr>\n",
       "      <th>106732</th>\n",
       "      <td>78573212_1_229_22</td>\n",
       "      <td>08102021</td>\n",
       "      <td>18</td>\n",
       "      <td>FC</td>\n",
       "      <td>I</td>\n",
       "      <td>6</td>\n",
       "      <td>4</td>\n",
       "      <td>FULL-Header</td>\n",
       "      <td>4</td>\n",
       "      <td>PT</td>\n",
       "      <td>None</td>\n",
       "      <td>03312025</td>\n",
       "      <td>None</td>\n",
       "      <td>None</td>\n",
       "      <td>000010929</td>\n",
       "      <td>000010929</td>\n",
       "      <td>I</td>\n",
       "      <td>9</td>\n",
       "      <td>*</td>\n",
       "      <td>43</td>\n",
       "      <td>None</td>\n",
       "      <td>01</td>\n",
       "      <td>01</td>\n",
       "      <td>17</td>\n",
       "      <td>9</td>\n",
       "      <td>022025</td>\n",
       "      <td>9</td>\n",
       "      <td>012025</td>\n",
       "      <td>9</td>\n",
       "      <td>122024</td>\n",
       "      <td>08002023</td>\n",
       "      <td>DB</td>\n",
       "      <td>CW</td>\n",
       "      <td>None</td>\n",
       "      <td>None</td>\n",
       "      <td>06002023</td>\n",
       "      <td>None</td>\n",
       "      <td>01002024</td>\n",
       "      <td>None</td>\n",
       "      <td>None</td>\n",
       "      <td>None</td>\n",
       "      <td>0001</td>\n",
       "      <td>None</td>\n",
       "      <td>None</td>\n",
       "      <td>None</td>\n",
       "      <td>C</td>\n",
       "      <td>000007892</td>\n",
       "      <td>None</td>\n",
       "      <td>None</td>\n",
       "      <td>None</td>\n",
       "      <td>None</td>\n",
       "      <td>999999999999/995543211111</td>\n",
       "      <td>/111111111111</td>\n",
       "      <td>/11111E******</td>\n",
       "      <td>*</td>\n",
       "      <td>None</td>\n",
       "      <td>067</td>\n",
       "      <td>065</td>\n",
       "      <td>None</td>\n",
       "      <td>None</td>\n",
       "      <td>Y</td>\n",
       "      <td>Y</td>\n",
       "      <td>None</td>\n",
       "      <td>78573212</td>\n",
       "      <td>2022-01-28</td>\n",
       "      <td>0</td>\n",
       "      <td>1</td>\n",
       "    </tr>\n",
       "  </tbody>\n",
       "</table>\n",
       "</div>"
      ],
      "text/plain": [
       "                 ZEST_KEY DATE_OPENED ACCOUNT_TYPE CUSTOMER_NUMBER  \\\n",
       "106732  78573212_1_229_22    08102021           18              FC   \n",
       "\n",
       "       ECOA_DESIGNATOR  Waterfall_Number SEG_SEQ   SEG_PARENT SEG_PARENT_SEQ  \\\n",
       "106732               I                 6       4  FULL-Header              4   \n",
       "\n",
       "       SEGMENT_TYPE CUSTOMER_NAME DATE_REPORTED HIGH_CREDIT CREDIT_LIMIT  \\\n",
       "106732           PT          None      03312025        None         None   \n",
       "\n",
       "          BALANCE PAST_DUE_AMOUNT PORTFOLIO_TYPE RATE_STATUS_CODE  \\\n",
       "106732  000010929       000010929              I                9   \n",
       "\n",
       "       AUTOMATED_UPDATE_INDICATOR MONTHS_REVIEWED ACCOUNT_NUMBER  \\\n",
       "106732                          *              43           None   \n",
       "\n",
       "       30_DAY_COUNTERS 60_DAY_COUNTERS 90+_DAY_COUNTERS PREVIOUS_HIGH_RATE_1  \\\n",
       "106732              01              01               17                    9   \n",
       "\n",
       "       PREVIOUS_HIGH_DATE_1 PREVIOUS_HIGH_RATE_2 PREVIOUS_HIGH_DATE_2  \\\n",
       "106732               022025                    9               012025   \n",
       "\n",
       "       PREVIOUS_HIGH_RATE_3 PREVIOUS_HIGH_DATE_3   DFD_DLA NARRATIVE_CODE_1  \\\n",
       "106732                    9               122024  08002023               DB   \n",
       "\n",
       "       NARRATIVE_CODE_2 NARRATIVE_CODE_3 NARRATIVE_CODE_4 LAST_PAYMENT_DATE  \\\n",
       "106732               CW             None             None          06002023   \n",
       "\n",
       "       CLOSED_DATE DMD_REPORTED ACTUAL_PAYMENT_AMOUNT  \\\n",
       "106732        None     01002024                  None   \n",
       "\n",
       "       SCHEDULED_PAYMENT_AMOUNT TERMS_FREQUENCY TERMS_DURATION INDICATOR  \\\n",
       "106732                     None            None           0001      None   \n",
       "\n",
       "        NAME CREDITOR_CLASSIFICATION ACTIVITY_DESIGNATOR  \\\n",
       "106732  None                    None                   C   \n",
       "\n",
       "       ORIGINAL_CHARGE_OFF_AMOUNT DEFERRED_PAYMENT_START_DATE  \\\n",
       "106732                  000007892                        None   \n",
       "\n",
       "       BALLOON_PAYMENT_AMOUNT BALLOON_PAYMENT_DUE_DATE MORTGAGE_ID_NUMBER  \\\n",
       "106732                   None                     None               None   \n",
       "\n",
       "             PAYMENT_HISTORY_1_24 PAYMENT_HISTORY_25_36 PAYMENT_HISTORY_37_48  \\\n",
       "106732  999999999999/995543211111         /111111111111         /11111E******   \n",
       "\n",
       "       PREVIOUS_HIGH_RATE_BEFORE_HISTORY PREVIOUS_HIGH_DATE_BEFORE_HISTORY  \\\n",
       "106732                                 *                              None   \n",
       "\n",
       "       NARRATIVE_CODE_1X NARRATIVE_CODE_2X NARRATIVE_CODE_3X  \\\n",
       "106732               067               065              None   \n",
       "\n",
       "       NARRATIVE_CODE_4X RECENT_TRADE_FLAG QUALIFYING_FLAG ARCHIVE_DATA  \\\n",
       "106732              None                 Y               Y         None   \n",
       "\n",
       "           appId    appDate  flgFunded  flgApproved  \n",
       "106732  78573212 2022-01-28          0            1  "
      ]
     },
     "execution_count": 421,
     "metadata": {},
     "output_type": "execute_result"
    }
   ],
   "source": [
    "# merged_trade[(~merged_trade.ZEST_KEY.isin(tempo.ZEST_KEY)) & (merged_trade.PORTFOLIO_TYPE== 'I')]"
   ]
  },
  {
   "cell_type": "code",
   "execution_count": 429,
   "metadata": {},
   "outputs": [],
   "source": [
    "merged_trade = existing_trade[['ZEST_KEY', 'DATE_OPENED', 'ACCOUNT_TYPE', 'CUSTOMER_NUMBER', 'ECOA_DESIGNATOR', 'PORTFOLIO_TYPE', 'Waterfall_Number']].merge(unfunded_trade,\n",
    "     on = ['ZEST_KEY', 'DATE_OPENED', 'ACCOUNT_TYPE', 'CUSTOMER_NUMBER', 'ECOA_DESIGNATOR','PORTFOLIO_TYPE', ],\n",
    "     how = 'inner',\n",
    "     suffixes=('_app', ''))"
   ]
  },
  {
   "cell_type": "code",
   "execution_count": 430,
   "metadata": {},
   "outputs": [
    {
     "data": {
      "text/plain": [
       "0.9591811034199049"
      ]
     },
     "execution_count": 430,
     "metadata": {},
     "output_type": "execute_result"
    }
   ],
   "source": [
    "merged_trade.ZEST_KEY.nunique() / existing_trade.ZEST_KEY.nunique()"
   ]
  },
  {
   "cell_type": "code",
   "execution_count": 433,
   "metadata": {},
   "outputs": [],
   "source": [
    "# temp1 = existing_trade[\n",
    "# existing_trade.ZEST_KEY == '78573212_1_229_22'\n",
    "# ][['ZEST_KEY', 'DATE_OPENED', 'HIGH_CREDIT', 'ACCOUNT_TYPE', 'CUSTOMER_NUMBER', 'PORTFOLIO_TYPE', 'ECOA_DESIGNATOR',\n",
    "#   'CREDIT_LIMIT']]\n",
    "# temp1"
   ]
  },
  {
   "cell_type": "code",
   "execution_count": 434,
   "metadata": {},
   "outputs": [],
   "source": [
    "# temp2 = perf_trade[\n",
    "# perf_trade.ZEST_KEY == '78573212_1_229_22'\n",
    "# ][['ZEST_KEY', 'DATE_OPENED', 'HIGH_CREDIT', 'ACCOUNT_TYPE', 'CUSTOMER_NUMBER', 'PORTFOLIO_TYPE', 'ECOA_DESIGNATOR',\n",
    "#   'CREDIT_LIMIT']]\n",
    "# temp2"
   ]
  },
  {
   "cell_type": "code",
   "execution_count": 435,
   "metadata": {},
   "outputs": [],
   "source": [
    "# temp_m = temp1.merge(temp2,\n",
    "#                      on = ['ZEST_KEY', 'ACCOUNT_TYPE','DATE_OPENED','CUSTOMER_NUMBER', 'ECOA_DESIGNATOR'],\n",
    "#                      how = 'inner',\n",
    "#                      suffixes=('_app', '_perf'))\n",
    "# temp_m[['ZEST_KEY','ACCOUNT_TYPE','DATE_OPENED',\n",
    "#  'CREDIT_LIMIT_app',\n",
    "#  'CREDIT_LIMIT_perf',\n",
    "#  'CUSTOMER_NUMBER',\n",
    "#  'ECOA_DESIGNATOR',\n",
    "#  'HIGH_CREDIT_app',\n",
    "#  'HIGH_CREDIT_perf',\n",
    "#  'PORTFOLIO_TYPE_app',\n",
    "#  'PORTFOLIO_TYPE_perf']]"
   ]
  },
  {
   "cell_type": "code",
   "execution_count": 436,
   "metadata": {},
   "outputs": [
    {
     "data": {
      "text/plain": [
       "['01',\n",
       " '0G',\n",
       " '26',\n",
       " '18',\n",
       " '25',\n",
       " '07',\n",
       " '8A',\n",
       " '12',\n",
       " '00',\n",
       " '5B',\n",
       " '2A',\n",
       " '2C',\n",
       " '19',\n",
       " '02',\n",
       " '90',\n",
       " '3A',\n",
       " '06',\n",
       " '15',\n",
       " '29',\n",
       " '20',\n",
       " '17',\n",
       " '89',\n",
       " '11',\n",
       " '47',\n",
       " '5A',\n",
       " '91',\n",
       " '50',\n",
       " None,\n",
       " '13',\n",
       " '04',\n",
       " '08',\n",
       " '6D',\n",
       " '93',\n",
       " '03',\n",
       " '95',\n",
       " '10',\n",
       " '6B',\n",
       " '8B',\n",
       " '70',\n",
       " '0F',\n",
       " '7B',\n",
       " '0A',\n",
       " '9A']"
      ]
     },
     "execution_count": 436,
     "metadata": {},
     "output_type": "execute_result"
    }
   ],
   "source": [
    "all_types = merged_trade.ACCOUNT_TYPE.unique().tolist()\n",
    "all_types"
   ]
  },
  {
   "cell_type": "code",
   "execution_count": 437,
   "metadata": {},
   "outputs": [
    {
     "data": {
      "text/plain": [
       "['01',\n",
       " '0G',\n",
       " '26',\n",
       " '18',\n",
       " '25',\n",
       " '07',\n",
       " '8A',\n",
       " '12',\n",
       " '00',\n",
       " '5B',\n",
       " '2A',\n",
       " '2C',\n",
       " '19',\n",
       " '02',\n",
       " '90',\n",
       " '3A',\n",
       " '06',\n",
       " '15',\n",
       " '29',\n",
       " '20',\n",
       " '17',\n",
       " '89',\n",
       " '11',\n",
       " '47',\n",
       " '5A',\n",
       " '91',\n",
       " '50',\n",
       " None,\n",
       " '13',\n",
       " '04',\n",
       " '08',\n",
       " '6D',\n",
       " '93',\n",
       " '03',\n",
       " '95',\n",
       " '10',\n",
       " '6B',\n",
       " '8B',\n",
       " '70',\n",
       " '0F',\n",
       " '7B',\n",
       " '0A',\n",
       " '9A']"
      ]
     },
     "execution_count": 437,
     "metadata": {},
     "output_type": "execute_result"
    }
   ],
   "source": [
    "default_proxy_time_window = [-36500, 36500]\n",
    "proxy_account_type = all_types\n",
    "target_generator = EQTargetGenerator(join_key='ZEST_KEY', app_id='appId', app_date='appDate', \n",
    "                                      proxy_time_window = default_proxy_time_window, \n",
    "                                      proxy_account_type = proxy_account_type,\n",
    "                                      **eq_trade_json['info'],\n",
    "                                     proxy = True)\n",
    "target_generator.proxy_account_type"
   ]
  },
  {
   "cell_type": "code",
   "execution_count": 438,
   "metadata": {},
   "outputs": [],
   "source": [
    "existing_trade = existing_trade.reset_index(drop = True)"
   ]
  },
  {
   "cell_type": "code",
   "execution_count": 439,
   "metadata": {},
   "outputs": [
    {
     "name": "stdout",
     "output_type": "stream",
     "text": [
      "--- Transforming date formats ---\n",
      "Warning! Cannot covert CLOSED_DATE to datetime using %m%d%Y format! Please check the asset dates format!\n",
      "Trying to convert datetime using inferred datetime format...\n",
      "Warning! Cannot covert PREVIOUS_HIGH_DATE_BEFORE_HISTORY to datetime using %m%Y format! Please check the asset dates format!\n",
      "Trying to convert datetime using inferred datetime format...\n",
      "LAST_PAYMENT_DATE is already of datetime format! Will skip the converting process\n",
      "Warning! Cannot covert DFD_DLA to datetime using %m%d%Y format! Please check the asset dates format!\n",
      "Trying to convert datetime using inferred datetime format...\n",
      "Warning! Cannot covert PREVIOUS_HIGH_DATE_3 to datetime using %m%Y format! Please check the asset dates format!\n",
      "Trying to convert datetime using inferred datetime format...\n",
      "Warning! Cannot covert DMD_REPORTED to datetime using %m%d%Y format! Please check the asset dates format!\n",
      "Trying to convert datetime using inferred datetime format...\n",
      "Warning! Cannot covert DEFERRED_PAYMENT_START_DATE to datetime using %m%d%Y format! Please check the asset dates format!\n",
      "Trying to convert datetime using inferred datetime format...\n",
      "DATE_REPORTED is already of datetime format! Will skip the converting process\n",
      "Warning! Cannot covert PREVIOUS_HIGH_DATE_2 to datetime using %m%Y format! Please check the asset dates format!\n",
      "Trying to convert datetime using inferred datetime format...\n",
      "Warning! Cannot covert PREVIOUS_HIGH_DATE_1 to datetime using %m%Y format! Please check the asset dates format!\n",
      "Trying to convert datetime using inferred datetime format...\n",
      "--- Selecting loan types in ['01', '0G', '26', '18', '25', '07', '8A', '12', '00', '5B', '2A', '2C', '19', '02', '90', '3A', '06', '15', '29', '20', '17', '89', '11', '47', '5A', '91', '50', None, '13', '04', '08', '6D', '93', '03', '95', '10', '6B', '8B', '70', '0F', '7B', '0A', '9A'] ---\n",
      "--- Selecting loan periods within [-36500, 36500] days ---\n",
      "--- Implementing additional data preprocess ---\n",
      "--- Getting DQ/CO dates from: ---\n",
      "    get_coAmt_dq_date\n",
      "    get_code_dq_date\n",
      "    get_dmd_dq_date\n",
      "    get_highRate_dq_date\n",
      "    get_pattern_dq_date\n",
      "--- Implementing additional proxy date postprocess ---\n"
     ]
    }
   ],
   "source": [
    "proxy_date_df_v2 = target_generator.get_dqDates(existing_trade)"
   ]
  },
  {
   "cell_type": "code",
   "execution_count": 440,
   "metadata": {},
   "outputs": [
    {
     "data": {
      "text/plain": [
       "(238222, 238223)"
      ]
     },
     "execution_count": 440,
     "metadata": {},
     "output_type": "execute_result"
    }
   ],
   "source": [
    "proxy_date_df_v2.ZEST_KEY.nunique(), existing_trade.ZEST_KEY.nunique()"
   ]
  },
  {
   "cell_type": "code",
   "execution_count": 447,
   "metadata": {},
   "outputs": [
    {
     "data": {
      "text/plain": [
       "count   502289.0000\n",
       "mean      1677.1322\n",
       "std       1933.5958\n",
       "min         11.0000\n",
       "25%        429.0000\n",
       "50%       1004.0000\n",
       "75%       2174.0000\n",
       "max      22906.0000\n",
       "Name: appDate_diff, dtype: float64"
      ]
     },
     "execution_count": 447,
     "metadata": {},
     "output_type": "execute_result"
    }
   ],
   "source": [
    "proxy_date_df_v2['appDate_diff'] = get_time_diff(proxy_date_df_v2['appDate'], proxy_date_df_v2['DATE_OPENED'], units = 'D')\n",
    "proxy_date_df_v2['appDate_diff'].describe()"
   ]
  },
  {
   "cell_type": "code",
   "execution_count": 470,
   "metadata": {},
   "outputs": [
    {
     "data": {
      "text/plain": [
       "ZEST_KEY\n",
       "70584015_1_229_22     10\n",
       "76160206_1_229_22      9\n",
       "85997553_1_229_22      9\n",
       "80644198_1_229_22      8\n",
       "77163344_1_229_22      7\n",
       "                      ..\n",
       "76856546_1_229_22      1\n",
       "77378160_1_229_22      1\n",
       "77378360_1_229_22      1\n",
       "77453495_1_229_22      1\n",
       "109785794_2_229_22     1\n",
       "Name: count, Length: 5660, dtype: int64"
      ]
     },
     "execution_count": 470,
     "metadata": {},
     "output_type": "execute_result"
    }
   ],
   "source": [
    "proxy_date_df_v2[proxy_date_df_v2.DateDQ60.notna()].ZEST_KEY.value_counts()"
   ]
  },
  {
   "cell_type": "code",
   "execution_count": 464,
   "metadata": {},
   "outputs": [
    {
     "data": {
      "text/plain": [
       "236668"
      ]
     },
     "execution_count": 464,
     "metadata": {},
     "output_type": "execute_result"
    }
   ],
   "source": [
    "proxy_date_df_v2_wo_DQ60 = proxy_date_df_v2[proxy_date_df_v2.DateDQ60.isnull()]\n",
    "proxy_date_df_v2_wo_DQ60.ZEST_KEY.nunique()"
   ]
  },
  {
   "cell_type": "code",
   "execution_count": 465,
   "metadata": {},
   "outputs": [
    {
     "data": {
      "text/plain": [
       "(Timestamp('2021-01-01 00:00:00'), Timestamp('2025-03-31 00:00:00'))"
      ]
     },
     "execution_count": 465,
     "metadata": {},
     "output_type": "execute_result"
    }
   ],
   "source": [
    "proxy_date_df_v2_wo_DQ60 = proxy_date_df_v2_wo_DQ60.sort_values(['ZEST_KEY', 'appDate_diff'], ascending = [True, True]).drop_duplicates(['ZEST_KEY'],keep='first')\n",
    "proxy_date_df_v2_wo_DQ60.appDate.min(), proxy_date_df_v2_wo_DQ60.appDate.max()"
   ]
  },
  {
   "cell_type": "code",
   "execution_count": 466,
   "metadata": {},
   "outputs": [
    {
     "data": {
      "text/plain": [
       "count   236668.0000\n",
       "mean      1011.6747\n",
       "std       1392.3046\n",
       "min         11.0000\n",
       "25%        257.0000\n",
       "50%        536.0000\n",
       "75%       1163.0000\n",
       "max      21084.0000\n",
       "Name: appDate_diff, dtype: float64"
      ]
     },
     "execution_count": 466,
     "metadata": {},
     "output_type": "execute_result"
    }
   ],
   "source": [
    "proxy_date_df_v2_wo_DQ60.appDate_diff.describe()"
   ]
  },
  {
   "cell_type": "code",
   "execution_count": null,
   "metadata": {},
   "outputs": [],
   "source": []
  }
 ],
 "metadata": {
  "kernelspec": {
   "display_name": "penfed_psp",
   "language": "python",
   "name": "penfed_psp"
  },
  "language_info": {
   "codemirror_mode": {
    "name": "ipython",
    "version": 3
   },
   "file_extension": ".py",
   "mimetype": "text/x-python",
   "name": "python",
   "nbconvert_exporter": "python",
   "pygments_lexer": "ipython3",
   "version": "3.10.8"
  },
  "widgets": {
   "application/vnd.jupyter.widget-state+json": {
    "state": {},
    "version_major": 2,
    "version_minor": 0
   }
  }
 },
 "nbformat": 4,
 "nbformat_minor": 4
}
