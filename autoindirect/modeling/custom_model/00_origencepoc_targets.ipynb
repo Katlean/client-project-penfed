{
 "cells": [
  {
   "cell_type": "code",
   "execution_count": 1,
   "id": "2b7f0988-c778-4e94-b8cb-5ad9fd0cf08f",
   "metadata": {},
   "outputs": [],
   "source": [
    "import pandas as pd"
   ]
  },
  {
   "cell_type": "code",
   "execution_count": 137,
   "id": "e367f622-65df-44c2-a600-2efc47b4103e",
   "metadata": {},
   "outputs": [
    {
     "name": "stdout",
     "output_type": "stream",
     "text": [
      "\u001b[01;34m/d/shared/silver_projects_v2/project_power/shared_data/processed/client_data/penfed_autoindirect\u001b[0m\n",
      "├── \u001b[00mapp.parquet\u001b[0m\n",
      "├── \u001b[00mbnkr.parquet\u001b[0m\n",
      "├── \u001b[00mclient_data.parquet\u001b[0m\n",
      "├── \u001b[00mclient_data_withLTV.parquet\u001b[0m\n",
      "├── \u001b[00mcollec.parquet\u001b[0m\n",
      "├── \u001b[00minq.parquet\u001b[0m\n",
      "├── \u001b[00mmember.parquet\u001b[0m\n",
      "├── \u001b[00mtarget_ORI.parquet\u001b[0m\n",
      "├── \u001b[00mtarget.parquet\u001b[0m\n",
      "└── \u001b[00mtrade.parquet\u001b[0m\n",
      "\n",
      "0 directories, 10 files\n"
     ]
    }
   ],
   "source": [
    "# penfed data \n",
    "\n",
    "# final_DQ90_m12 in target.parquet\n",
    "\n",
    "!tree /d/shared/silver_projects_v2/project_power/shared_data/processed/client_data/penfed_autoindirect\n",
    "\n",
    "\n",
    "\n",
    "# OrigencePOC client data \n",
    "\n",
    "!tree /d/shared/silver_projects_v2/project_power/shared_data/processed/client_data/"
   ]
  },
  {
   "cell_type": "code",
   "execution_count": 5,
   "id": "edf54f23-52bf-42ad-be2e-cc353b3fa1d0",
   "metadata": {},
   "outputs": [
    {
     "name": "stderr",
     "output_type": "stream",
     "text": [
      "/tmp/ipykernel_8629/2528660861.py:2: DtypeWarning: Columns (11,31,52,70,71,80,81,125) have mixed types. Specify dtype option on import or set low_memory=False.\n",
      "  df_0618 = pd.read_csv(os.path.join(path, '20250618/deliverable1_data_3rd_party_refi_f_sent_withunfundedtarget_zestscore_vs4_addvar_20250618.csv'))\n"
     ]
    },
    {
     "data": {
      "text/plain": [
       "(651816, 141)"
      ]
     },
     "execution_count": 5,
     "metadata": {},
     "output_type": "execute_result"
    }
   ],
   "source": [
    "path = '/d/shared/silver_projects_v2/penfed/autoindirectv1/shared_data/external_deliverables'\n",
    "df_0618 = pd.read_csv(os.path.join(path, '20250618/deliverable1_data_3rd_party_refi_f_sent_withunfundedtarget_zestscore_vs4_addvar_20250618.csv'))\n",
    "df_0618.shape"
   ]
  },
  {
   "cell_type": "code",
   "execution_count": 100,
   "id": "13dc46d5-f646-465a-867a-cfcfdd3018e5",
   "metadata": {},
   "outputs": [
    {
     "name": "stderr",
     "output_type": "stream",
     "text": [
      "/tmp/ipykernel_8629/4027250171.py:1: DtypeWarning: Columns (10,30,51,69,70,79,80,124) have mixed types. Specify dtype option on import or set low_memory=False.\n",
      "  targets = pd.read_csv(os.path.join(path, '20250703/deliverable1_data_3rd_party_refi_f_sent_withunfundedtarget_zestscore_vs4_addvar_hashedAppID_20250703.csv'))\n"
     ]
    },
    {
     "data": {
      "text/plain": [
       "(651816, 141)"
      ]
     },
     "execution_count": 100,
     "metadata": {},
     "output_type": "execute_result"
    }
   ],
   "source": [
    "targets = pd.read_csv(os.path.join(path, '20250703/deliverable1_data_3rd_party_refi_f_sent_withunfundedtarget_zestscore_vs4_addvar_hashedAppID_20250703.csv'))\n",
    "targets.shape"
   ]
  },
  {
   "cell_type": "code",
   "execution_count": 101,
   "id": "29dd4470-fe5e-4f61-8ef8-c86dd07dc8c9",
   "metadata": {},
   "outputs": [
    {
     "data": {
      "text/plain": [
       "ZEST_KEY\n",
       "88800617_1_229_22    2\n",
       "88766767_1_229_22    2\n",
       "89236327_1_229_22    2\n",
       "74221034_1_229_22    1\n",
       "81125213_1_229_22    1\n",
       "                    ..\n",
       "80288067_1_229_22    1\n",
       "75477435_1_229_22    1\n",
       "87764229_1_229_22    1\n",
       "94751934_1_229_22    1\n",
       "78403897_2_229_22    1\n",
       "Name: count, Length: 651813, dtype: int64"
      ]
     },
     "execution_count": 101,
     "metadata": {},
     "output_type": "execute_result"
    }
   ],
   "source": [
    "targets.ZEST_KEY.value_counts()"
   ]
  },
  {
   "cell_type": "code",
   "execution_count": 102,
   "id": "47dcf488-cd77-4e5b-8722-13304bdf24d3",
   "metadata": {},
   "outputs": [],
   "source": [
    "targets = targets.drop_duplicates(subset=['ZEST_KEY'], keep='last')"
   ]
  },
  {
   "cell_type": "code",
   "execution_count": 103,
   "id": "4fd5ed33-fde9-4460-b45b-207461b9d05b",
   "metadata": {},
   "outputs": [
    {
     "data": {
      "text/plain": [
       "mob_12_90\n",
       "0.0    0.973508\n",
       "1.0    0.026492\n",
       "Name: proportion, dtype: float64"
      ]
     },
     "execution_count": 103,
     "metadata": {},
     "output_type": "execute_result"
    }
   ],
   "source": [
    "targets['mob_12_90'].value_counts(normalize = True)"
   ]
  },
  {
   "cell_type": "code",
   "execution_count": 104,
   "id": "adcdbb0a-1b03-48b9-8079-32776c9f706f",
   "metadata": {},
   "outputs": [],
   "source": [
    "# [i for i in targets.columns.tolist() if 'mob' in i]"
   ]
  },
  {
   "cell_type": "code",
   "execution_count": 105,
   "id": "8f927e49-2c88-4919-8046-b03767f7e47b",
   "metadata": {
    "scrolled": true
   },
   "outputs": [
    {
     "data": {
      "text/plain": [
       "PenFed_Funded  mob_12_90\n",
       "0              NaN          371325\n",
       "               0.0          122934\n",
       "               1.0            3216\n",
       "1              0.0          144290\n",
       "               NaN            5992\n",
       "               1.0            4056\n",
       "Name: count, dtype: int64"
      ]
     },
     "execution_count": 105,
     "metadata": {},
     "output_type": "execute_result"
    }
   ],
   "source": [
    "targets.groupby('PenFed_Funded')['mob_12_90'].value_counts(dropna = False)"
   ]
  },
  {
   "cell_type": "code",
   "execution_count": 106,
   "id": "699890b6-9b8f-4db2-a04d-598bd40e34bf",
   "metadata": {
    "scrolled": true
   },
   "outputs": [
    {
     "data": {
      "text/plain": [
       "appmonth\n",
       "2021-01      79.0\n",
       "2021-02     108.0\n",
       "2021-03     149.0\n",
       "2021-04     189.0\n",
       "2021-05     213.0\n",
       "2021-06     346.0\n",
       "2021-07     400.0\n",
       "2021-08     460.0\n",
       "2021-09     518.0\n",
       "2021-10     646.0\n",
       "2021-11     859.0\n",
       "2021-12     928.0\n",
       "2022-01     982.0\n",
       "2022-02     935.0\n",
       "2022-03    1341.0\n",
       "2022-04    1241.0\n",
       "2022-05    1268.0\n",
       "2022-06    1245.0\n",
       "2022-07     555.0\n",
       "2022-08     303.0\n",
       "2022-09     192.0\n",
       "2022-10     237.0\n",
       "2022-11     219.0\n",
       "2022-12     220.0\n",
       "2023-01     235.0\n",
       "2023-02     245.0\n",
       "2023-03     250.0\n",
       "2023-04      39.0\n",
       "2023-05      10.0\n",
       "2023-06       1.0\n",
       "2023-07       0.0\n",
       "2023-08       0.0\n",
       "2023-09       0.0\n",
       "2023-10       0.0\n",
       "2023-11       0.0\n",
       "2023-12       0.0\n",
       "2024-01       0.0\n",
       "2024-02       0.0\n",
       "2024-03       0.0\n",
       "2024-04       0.0\n",
       "2024-05       0.0\n",
       "2024-06       0.0\n",
       "2024-07       0.0\n",
       "2024-08       0.0\n",
       "2024-09       0.0\n",
       "2024-10       0.0\n",
       "2024-11       0.0\n",
       "2024-12       0.0\n",
       "2025-01       0.0\n",
       "2025-02       0.0\n",
       "2025-03       0.0\n",
       "2025-04       0.0\n",
       "Name: mob_24_120, dtype: float64"
      ]
     },
     "execution_count": 106,
     "metadata": {},
     "output_type": "execute_result"
    }
   ],
   "source": [
    "\n",
    "targets['appmonth'] = targets['Application_Date'].str[:7]\n",
    "targets.groupby('appmonth')['mob_24_120'].sum()"
   ]
  },
  {
   "cell_type": "code",
   "execution_count": 107,
   "id": "c198baf9-199b-4b88-a963-55defe07e49d",
   "metadata": {},
   "outputs": [
    {
     "data": {
      "text/plain": [
       "(651809, 189)"
      ]
     },
     "execution_count": 107,
     "metadata": {},
     "output_type": "execute_result"
    }
   ],
   "source": [
    "ori_target = pd.read_parquet('/d/shared/silver_projects_v2/project_power/shared_data/processed/client_data/penfed_autoindirect/target_ORI.parquet')\n",
    "ori_target.shape"
   ]
  },
  {
   "cell_type": "code",
   "execution_count": 108,
   "id": "ee5f2de7-4167-4e9a-9e2f-210de204d1bd",
   "metadata": {},
   "outputs": [
    {
     "data": {
      "text/html": [
       "<div>\n",
       "<style scoped>\n",
       "    .dataframe tbody tr th:only-of-type {\n",
       "        vertical-align: middle;\n",
       "    }\n",
       "\n",
       "    .dataframe tbody tr th {\n",
       "        vertical-align: top;\n",
       "    }\n",
       "\n",
       "    .dataframe thead th {\n",
       "        text-align: right;\n",
       "    }\n",
       "</style>\n",
       "<table border=\"1\" class=\"dataframe\">\n",
       "  <thead>\n",
       "    <tr style=\"text-align: right;\">\n",
       "      <th></th>\n",
       "      <th>Application_Date</th>\n",
       "      <th>Role_Code</th>\n",
       "      <th>ils_account_nbr_x</th>\n",
       "      <th>age_of_oldest_trade</th>\n",
       "      <th>time_on_job</th>\n",
       "      <th>combined_pti</th>\n",
       "      <th>pf_agg_total</th>\n",
       "      <th>housing_type</th>\n",
       "      <th>mob_oldest_default</th>\n",
       "      <th>bal_mob_oldest_default</th>\n",
       "      <th>...</th>\n",
       "      <th>mob_6_60</th>\n",
       "      <th>mob_12_90</th>\n",
       "      <th>mob_12_120</th>\n",
       "      <th>mob_18_90</th>\n",
       "      <th>mob_18_120</th>\n",
       "      <th>mob_24_120</th>\n",
       "      <th>final_model_predictions</th>\n",
       "      <th>EFX_VS40</th>\n",
       "      <th>Application_Number_hashed</th>\n",
       "      <th>appmonth</th>\n",
       "    </tr>\n",
       "  </thead>\n",
       "  <tbody>\n",
       "    <tr>\n",
       "      <th>15985</th>\n",
       "      <td>2025-04-01</td>\n",
       "      <td>PRIMARY</td>\n",
       "      <td>NaN</td>\n",
       "      <td>27 yrs, 6 mos (330 mos)</td>\n",
       "      <td>36.0</td>\n",
       "      <td>0.13</td>\n",
       "      <td>0.0</td>\n",
       "      <td>Owns</td>\n",
       "      <td>NaN</td>\n",
       "      <td>NaN</td>\n",
       "      <td>...</td>\n",
       "      <td>NaN</td>\n",
       "      <td>NaN</td>\n",
       "      <td>NaN</td>\n",
       "      <td>NaN</td>\n",
       "      <td>NaN</td>\n",
       "      <td>NaN</td>\n",
       "      <td>NaN</td>\n",
       "      <td>NaN</td>\n",
       "      <td>4f5afc79afbf31f2e3b6aab983a4db85619c5f8b727be7...</td>\n",
       "      <td>2025-04</td>\n",
       "    </tr>\n",
       "    <tr>\n",
       "      <th>16206</th>\n",
       "      <td>2025-04-01</td>\n",
       "      <td>PRIMARY</td>\n",
       "      <td>NaN</td>\n",
       "      <td>17 yrs, 8 mos (212 mos)</td>\n",
       "      <td>120.0</td>\n",
       "      <td>2.87</td>\n",
       "      <td>0.0</td>\n",
       "      <td>Owns</td>\n",
       "      <td>NaN</td>\n",
       "      <td>NaN</td>\n",
       "      <td>...</td>\n",
       "      <td>NaN</td>\n",
       "      <td>NaN</td>\n",
       "      <td>NaN</td>\n",
       "      <td>NaN</td>\n",
       "      <td>NaN</td>\n",
       "      <td>NaN</td>\n",
       "      <td>NaN</td>\n",
       "      <td>NaN</td>\n",
       "      <td>1128b51f0117099d1cb17230e1fd5d72beed9e129dd8d7...</td>\n",
       "      <td>2025-04</td>\n",
       "    </tr>\n",
       "    <tr>\n",
       "      <th>16967</th>\n",
       "      <td>2025-04-01</td>\n",
       "      <td>PRIMARY</td>\n",
       "      <td>NaN</td>\n",
       "      <td>35 yrs, 1 mos (421 mos)</td>\n",
       "      <td>NaN</td>\n",
       "      <td>6.65</td>\n",
       "      <td>0.0</td>\n",
       "      <td>Owns</td>\n",
       "      <td>NaN</td>\n",
       "      <td>NaN</td>\n",
       "      <td>...</td>\n",
       "      <td>NaN</td>\n",
       "      <td>NaN</td>\n",
       "      <td>NaN</td>\n",
       "      <td>NaN</td>\n",
       "      <td>NaN</td>\n",
       "      <td>NaN</td>\n",
       "      <td>NaN</td>\n",
       "      <td>NaN</td>\n",
       "      <td>31acf313560a77f15ee5013c51d7e9b117f2085adece28...</td>\n",
       "      <td>2025-04</td>\n",
       "    </tr>\n",
       "    <tr>\n",
       "      <th>25000</th>\n",
       "      <td>2025-04-01</td>\n",
       "      <td>PRIMARY</td>\n",
       "      <td>NaN</td>\n",
       "      <td>24 yrs, 7 mos (295 mos)</td>\n",
       "      <td>11.0</td>\n",
       "      <td>4.99</td>\n",
       "      <td>0.0</td>\n",
       "      <td>Owns</td>\n",
       "      <td>NaN</td>\n",
       "      <td>NaN</td>\n",
       "      <td>...</td>\n",
       "      <td>NaN</td>\n",
       "      <td>NaN</td>\n",
       "      <td>NaN</td>\n",
       "      <td>NaN</td>\n",
       "      <td>NaN</td>\n",
       "      <td>NaN</td>\n",
       "      <td>NaN</td>\n",
       "      <td>NaN</td>\n",
       "      <td>df41cdbdb9f02b2a53108cbe8dd88c63295c729c950376...</td>\n",
       "      <td>2025-04</td>\n",
       "    </tr>\n",
       "    <tr>\n",
       "      <th>38399</th>\n",
       "      <td>2025-04-01</td>\n",
       "      <td>PRIMARY</td>\n",
       "      <td>NaN</td>\n",
       "      <td>37 yrs, 2 mos (446 mos)</td>\n",
       "      <td>120.0</td>\n",
       "      <td>4.17</td>\n",
       "      <td>0.0</td>\n",
       "      <td>Other</td>\n",
       "      <td>NaN</td>\n",
       "      <td>NaN</td>\n",
       "      <td>...</td>\n",
       "      <td>NaN</td>\n",
       "      <td>NaN</td>\n",
       "      <td>NaN</td>\n",
       "      <td>NaN</td>\n",
       "      <td>NaN</td>\n",
       "      <td>NaN</td>\n",
       "      <td>NaN</td>\n",
       "      <td>NaN</td>\n",
       "      <td>e658e93318a85535120f45abaeabd9efed1f4ca91bde3b...</td>\n",
       "      <td>2025-04</td>\n",
       "    </tr>\n",
       "    <tr>\n",
       "      <th>90360</th>\n",
       "      <td>2025-04-01</td>\n",
       "      <td>PRIMARY</td>\n",
       "      <td>NaN</td>\n",
       "      <td>11 yrs, 8 mos (140 mos)</td>\n",
       "      <td>27.0</td>\n",
       "      <td>8.54</td>\n",
       "      <td>0.0</td>\n",
       "      <td>Owns</td>\n",
       "      <td>NaN</td>\n",
       "      <td>NaN</td>\n",
       "      <td>...</td>\n",
       "      <td>NaN</td>\n",
       "      <td>NaN</td>\n",
       "      <td>NaN</td>\n",
       "      <td>NaN</td>\n",
       "      <td>NaN</td>\n",
       "      <td>NaN</td>\n",
       "      <td>NaN</td>\n",
       "      <td>NaN</td>\n",
       "      <td>dc1544098cf9627b832dcdd757820b255217e78dbfc962...</td>\n",
       "      <td>2025-04</td>\n",
       "    </tr>\n",
       "    <tr>\n",
       "      <th>580862</th>\n",
       "      <td>2025-04-01</td>\n",
       "      <td>JOINTOWN</td>\n",
       "      <td>NaN</td>\n",
       "      <td>15 yrs, 5 mos (185 mos)</td>\n",
       "      <td>120.0</td>\n",
       "      <td>6.65</td>\n",
       "      <td>0.0</td>\n",
       "      <td>Other</td>\n",
       "      <td>NaN</td>\n",
       "      <td>NaN</td>\n",
       "      <td>...</td>\n",
       "      <td>NaN</td>\n",
       "      <td>NaN</td>\n",
       "      <td>NaN</td>\n",
       "      <td>NaN</td>\n",
       "      <td>NaN</td>\n",
       "      <td>NaN</td>\n",
       "      <td>NaN</td>\n",
       "      <td>NaN</td>\n",
       "      <td>31acf313560a77f15ee5013c51d7e9b117f2085adece28...</td>\n",
       "      <td>2025-04</td>\n",
       "    </tr>\n",
       "  </tbody>\n",
       "</table>\n",
       "<p>7 rows × 142 columns</p>\n",
       "</div>"
      ],
      "text/plain": [
       "       Application_Date Role_Code  ils_account_nbr_x      age_of_oldest_trade  \\\n",
       "15985        2025-04-01   PRIMARY                NaN  27 yrs, 6 mos (330 mos)   \n",
       "16206        2025-04-01   PRIMARY                NaN  17 yrs, 8 mos (212 mos)   \n",
       "16967        2025-04-01   PRIMARY                NaN  35 yrs, 1 mos (421 mos)   \n",
       "25000        2025-04-01   PRIMARY                NaN  24 yrs, 7 mos (295 mos)   \n",
       "38399        2025-04-01   PRIMARY                NaN  37 yrs, 2 mos (446 mos)   \n",
       "90360        2025-04-01   PRIMARY                NaN  11 yrs, 8 mos (140 mos)   \n",
       "580862       2025-04-01  JOINTOWN                NaN  15 yrs, 5 mos (185 mos)   \n",
       "\n",
       "        time_on_job  combined_pti  pf_agg_total housing_type  \\\n",
       "15985          36.0          0.13           0.0         Owns   \n",
       "16206         120.0          2.87           0.0         Owns   \n",
       "16967           NaN          6.65           0.0         Owns   \n",
       "25000          11.0          4.99           0.0         Owns   \n",
       "38399         120.0          4.17           0.0        Other   \n",
       "90360          27.0          8.54           0.0         Owns   \n",
       "580862        120.0          6.65           0.0        Other   \n",
       "\n",
       "        mob_oldest_default  bal_mob_oldest_default  ... mob_6_60  mob_12_90  \\\n",
       "15985                  NaN                     NaN  ...      NaN        NaN   \n",
       "16206                  NaN                     NaN  ...      NaN        NaN   \n",
       "16967                  NaN                     NaN  ...      NaN        NaN   \n",
       "25000                  NaN                     NaN  ...      NaN        NaN   \n",
       "38399                  NaN                     NaN  ...      NaN        NaN   \n",
       "90360                  NaN                     NaN  ...      NaN        NaN   \n",
       "580862                 NaN                     NaN  ...      NaN        NaN   \n",
       "\n",
       "        mob_12_120  mob_18_90  mob_18_120  mob_24_120  \\\n",
       "15985          NaN        NaN         NaN         NaN   \n",
       "16206          NaN        NaN         NaN         NaN   \n",
       "16967          NaN        NaN         NaN         NaN   \n",
       "25000          NaN        NaN         NaN         NaN   \n",
       "38399          NaN        NaN         NaN         NaN   \n",
       "90360          NaN        NaN         NaN         NaN   \n",
       "580862         NaN        NaN         NaN         NaN   \n",
       "\n",
       "        final_model_predictions  EFX_VS40  \\\n",
       "15985                       NaN       NaN   \n",
       "16206                       NaN       NaN   \n",
       "16967                       NaN       NaN   \n",
       "25000                       NaN       NaN   \n",
       "38399                       NaN       NaN   \n",
       "90360                       NaN       NaN   \n",
       "580862                      NaN       NaN   \n",
       "\n",
       "                                Application_Number_hashed  appmonth  \n",
       "15985   4f5afc79afbf31f2e3b6aab983a4db85619c5f8b727be7...   2025-04  \n",
       "16206   1128b51f0117099d1cb17230e1fd5d72beed9e129dd8d7...   2025-04  \n",
       "16967   31acf313560a77f15ee5013c51d7e9b117f2085adece28...   2025-04  \n",
       "25000   df41cdbdb9f02b2a53108cbe8dd88c63295c729c950376...   2025-04  \n",
       "38399   e658e93318a85535120f45abaeabd9efed1f4ca91bde3b...   2025-04  \n",
       "90360   dc1544098cf9627b832dcdd757820b255217e78dbfc962...   2025-04  \n",
       "580862  31acf313560a77f15ee5013c51d7e9b117f2085adece28...   2025-04  \n",
       "\n",
       "[7 rows x 142 columns]"
      ]
     },
     "execution_count": 108,
     "metadata": {},
     "output_type": "execute_result"
    }
   ],
   "source": [
    "targets[~targets.ZEST_KEY.isin(ori_target.index)]"
   ]
  },
  {
   "cell_type": "code",
   "execution_count": 109,
   "id": "578b65ec-7a16-4c31-bade-0afcffea0039",
   "metadata": {},
   "outputs": [],
   "source": [
    "penfed_target = targets.set_index('ZEST_KEY')[['Application_Date', 'PenFed_Funded', 'mob_6_90', 'mob_24_90', 'mob_12_CO', 'mob_18_CO',\n",
    "                               'mob_6_60', 'mob_12_90', 'mob_12_120','mob_18_90', 'mob_18_120','mob_24_120']]"
   ]
  },
  {
   "cell_type": "code",
   "execution_count": 110,
   "id": "9e2bf9fc-0278-4319-b718-cecf310fe876",
   "metadata": {},
   "outputs": [
    {
     "data": {
      "text/plain": [
       "PenFed_Funded  mob_12_90\n",
       "0              NaN          371325\n",
       "               0.0          122934\n",
       "               1.0            3216\n",
       "1              0.0          144290\n",
       "               NaN            5992\n",
       "               1.0            4056\n",
       "Name: count, dtype: int64"
      ]
     },
     "execution_count": 110,
     "metadata": {},
     "output_type": "execute_result"
    }
   ],
   "source": [
    "penfed_target.groupby('PenFed_Funded')['mob_12_90'].value_counts(dropna = False)"
   ]
  },
  {
   "cell_type": "code",
   "execution_count": 111,
   "id": "7e53bd4c-f426-4d66-ac19-c1ac20657ff9",
   "metadata": {},
   "outputs": [
    {
     "data": {
      "text/plain": [
       "(262953, 12)"
      ]
     },
     "execution_count": 111,
     "metadata": {},
     "output_type": "execute_result"
    }
   ],
   "source": [
    "penfed_target[(penfed_target.Application_Date >= '2021-07-01') & (penfed_target.Application_Date <= '2022-06-30')].shape"
   ]
  },
  {
   "cell_type": "code",
   "execution_count": 112,
   "id": "33f0e596-cd9d-4a26-90de-06c7e0804031",
   "metadata": {},
   "outputs": [
    {
     "data": {
      "text/plain": [
       "(61410, 12)"
      ]
     },
     "execution_count": 112,
     "metadata": {},
     "output_type": "execute_result"
    }
   ],
   "source": [
    "penfed_target[(penfed_target.Application_Date >= '2022-07-01') & (penfed_target.Application_Date <= '2022-12-31')].shape"
   ]
  },
  {
   "cell_type": "code",
   "execution_count": 113,
   "id": "53212c7b-8c6b-4147-a8bc-8f2e62934ef8",
   "metadata": {},
   "outputs": [
    {
     "data": {
      "text/plain": [
       "0.1893249230029319"
      ]
     },
     "execution_count": 113,
     "metadata": {},
     "output_type": "execute_result"
    }
   ],
   "source": [
    "61410/(262953 + 61410)"
   ]
  },
  {
   "cell_type": "code",
   "execution_count": 114,
   "id": "61b438be-14bf-44fd-89c3-f99eaf1a633a",
   "metadata": {},
   "outputs": [],
   "source": [
    "penfed_target.loc[:, 'final_DQ90_m12'] = penfed_target['mob_12_90']"
   ]
  },
  {
   "cell_type": "code",
   "execution_count": 115,
   "id": "d0b7406d-bf4b-4ede-8581-628ee6ed851e",
   "metadata": {},
   "outputs": [
    {
     "data": {
      "text/plain": [
       "(651813, 13)"
      ]
     },
     "execution_count": 115,
     "metadata": {},
     "output_type": "execute_result"
    }
   ],
   "source": [
    "penfed_target.shape"
   ]
  },
  {
   "cell_type": "code",
   "execution_count": 57,
   "id": "b623a2d7-597a-48a8-ba92-d2399004cf4f",
   "metadata": {},
   "outputs": [],
   "source": [
    "penfed_target.to_parquet('/d/shared/silver_projects_v2/project_power/shared_data/processed/client_data/penfed_autoindirect/target.parquet')"
   ]
  },
  {
   "cell_type": "code",
   "execution_count": 69,
   "id": "ab9b516e-9566-4f30-a505-9e2fd028f976",
   "metadata": {
    "collapsed": true,
    "jupyter": {
     "outputs_hidden": true
    }
   },
   "outputs": [
    {
     "name": "stdout",
     "output_type": "stream",
     "text": [
      "\u001b[01;34m/d/shared/silver_projects_v2/penfed/autoindirectv1/shared_data\u001b[0m\n",
      "├── \u001b[01;34mequifax\u001b[0m\n",
      "│   ├── \u001b[01;34mparsed\u001b[0m\n",
      "│   ├── \u001b[01;34mprocessed\u001b[0m\n",
      "│   │   ├── \u001b[01;34mpp_processed\u001b[0m\n",
      "│   │   ├── \u001b[00mprocessing_versions.json\u001b[0m\n",
      "│   │   ├── \u001b[01;34msupporting_artifacts\u001b[0m\n",
      "│   │   │   ├── \u001b[00manalysis_data.csv\u001b[0m\n",
      "│   │   │   ├── \u001b[00manalysis_data.parquet\u001b[0m\n",
      "│   │   │   └── \u001b[00mraw_analysis_data_with _VS40.parquet\u001b[0m\n",
      "│   │   └── \u001b[01;34mtarget\u001b[0m\n",
      "│   │       ├── \u001b[00mdq_dates.parquet\u001b[0m\n",
      "│   │       ├── \u001b[00mfinal_target.csv\u001b[0m\n",
      "│   │       ├── \u001b[00mfinal_target.parquet\u001b[0m\n",
      "│   │       ├── \u001b[01;34mtarget_analysis\u001b[0m\n",
      "│   │       │   └── \u001b[01;34mautoindirect\u001b[0m\n",
      "│   │       │       ├── \u001b[00martifact_manifest.json\u001b[0m\n",
      "│   │       │       ├── \u001b[00mbad_counts_by_target_final.json\u001b[0m\n",
      "│   │       │       ├── \u001b[00mbad_rates_by_target_final.json\u001b[0m\n",
      "│   │       │       ├── \u001b[00mcumulative_CO_over_time_final.json\u001b[0m\n",
      "│   │       │       ├── \u001b[00mfunded_bad_counts_by_target_final.json\u001b[0m\n",
      "│   │       │       ├── \u001b[00mfunded_bad_rates_by_target_final.json\u001b[0m\n",
      "│   │       │       ├── \u001b[00mfunded_cumulative_CO_over_time_final.json\u001b[0m\n",
      "│   │       │       ├── \u001b[00mfunded_MSO_over_time_final.json\u001b[0m\n",
      "│   │       │       ├── \u001b[00mfunded_observations_by_target_window_final.json\u001b[0m\n",
      "│   │       │       ├── \u001b[00mfunded_target_comparison_final.parquet\u001b[0m\n",
      "│   │       │       ├── \u001b[01;34mfunded_target_missing_rates_over_time_final\u001b[0m\n",
      "│   │       │       │   ├── \u001b[00mCO_targets.json\u001b[0m\n",
      "│   │       │       │   ├── \u001b[00mDQ30_targets.json\u001b[0m\n",
      "│   │       │       │   ├── \u001b[00mDQ60_targets.json\u001b[0m\n",
      "│   │       │       │   ├── \u001b[00mDQ90_targets.json\u001b[0m\n",
      "│   │       │       │   ├── \u001b[00mfinal_CO_m12.json\u001b[0m\n",
      "│   │       │       │   ├── \u001b[00mfinal_CO_m15.json\u001b[0m\n",
      "│   │       │       │   ├── \u001b[00mfinal_CO_m18.json\u001b[0m\n",
      "│   │       │       │   ├── \u001b[00mfinal_CO_m24.json\u001b[0m\n",
      "│   │       │       │   ├── \u001b[00mfinal_CO_m30.json\u001b[0m\n",
      "│   │       │       │   ├── \u001b[00mfinal_CO_m36.json\u001b[0m\n",
      "│   │       │       │   ├── \u001b[00mfinal_CO_m3.json\u001b[0m\n",
      "│   │       │       │   ├── \u001b[00mfinal_CO_m6.json\u001b[0m\n",
      "│   │       │       │   ├── \u001b[00mfinal_CO_m9.json\u001b[0m\n",
      "│   │       │       │   ├── \u001b[00mfinal_DQ30_m12.json\u001b[0m\n",
      "│   │       │       │   ├── \u001b[00mfinal_DQ30_m15.json\u001b[0m\n",
      "│   │       │       │   ├── \u001b[00mfinal_DQ30_m18.json\u001b[0m\n",
      "│   │       │       │   ├── \u001b[00mfinal_DQ30_m24.json\u001b[0m\n",
      "│   │       │       │   ├── \u001b[00mfinal_DQ30_m30.json\u001b[0m\n",
      "│   │       │       │   ├── \u001b[00mfinal_DQ30_m36.json\u001b[0m\n",
      "│   │       │       │   ├── \u001b[00mfinal_DQ30_m3.json\u001b[0m\n",
      "│   │       │       │   ├── \u001b[00mfinal_DQ30_m6.json\u001b[0m\n",
      "│   │       │       │   ├── \u001b[00mfinal_DQ30_m9.json\u001b[0m\n",
      "│   │       │       │   ├── \u001b[00mfinal_DQ60_m12.json\u001b[0m\n",
      "│   │       │       │   ├── \u001b[00mfinal_DQ60_m15.json\u001b[0m\n",
      "│   │       │       │   ├── \u001b[00mfinal_DQ60_m18.json\u001b[0m\n",
      "│   │       │       │   ├── \u001b[00mfinal_DQ60_m24.json\u001b[0m\n",
      "│   │       │       │   ├── \u001b[00mfinal_DQ60_m30.json\u001b[0m\n",
      "│   │       │       │   ├── \u001b[00mfinal_DQ60_m36.json\u001b[0m\n",
      "│   │       │       │   ├── \u001b[00mfinal_DQ60_m3.json\u001b[0m\n",
      "│   │       │       │   ├── \u001b[00mfinal_DQ60_m6.json\u001b[0m\n",
      "│   │       │       │   ├── \u001b[00mfinal_DQ60_m9.json\u001b[0m\n",
      "│   │       │       │   ├── \u001b[00mfinal_DQ90_m12.json\u001b[0m\n",
      "│   │       │       │   ├── \u001b[00mfinal_DQ90_m15.json\u001b[0m\n",
      "│   │       │       │   ├── \u001b[00mfinal_DQ90_m18.json\u001b[0m\n",
      "│   │       │       │   ├── \u001b[00mfinal_DQ90_m24.json\u001b[0m\n",
      "│   │       │       │   ├── \u001b[00mfinal_DQ90_m30.json\u001b[0m\n",
      "│   │       │       │   ├── \u001b[00mfinal_DQ90_m36.json\u001b[0m\n",
      "│   │       │       │   ├── \u001b[00mfinal_DQ90_m3.json\u001b[0m\n",
      "│   │       │       │   ├── \u001b[00mfinal_DQ90_m6.json\u001b[0m\n",
      "│   │       │       │   ├── \u001b[00mfinal_DQ90_m9.json\u001b[0m\n",
      "│   │       │       │   ├── \u001b[00mm12_targets.json\u001b[0m\n",
      "│   │       │       │   ├── \u001b[00mm15_targets.json\u001b[0m\n",
      "│   │       │       │   ├── \u001b[00mm18_targets.json\u001b[0m\n",
      "│   │       │       │   ├── \u001b[00mm24_targets.json\u001b[0m\n",
      "│   │       │       │   ├── \u001b[00mm30_targets.json\u001b[0m\n",
      "│   │       │       │   ├── \u001b[00mm36_targets.json\u001b[0m\n",
      "│   │       │       │   ├── \u001b[00mm3_targets.json\u001b[0m\n",
      "│   │       │       │   ├── \u001b[00mm6_targets.json\u001b[0m\n",
      "│   │       │       │   └── \u001b[00mm9_targets.json\u001b[0m\n",
      "│   │       │       ├── \u001b[01;34mfunded_target_rates_by_final_DQ60_m24_source_final\u001b[0m\n",
      "│   │       │       │   ├── \u001b[00mCO_targets.parquet\u001b[0m\n",
      "│   │       │       │   ├── \u001b[00mDQ30_targets.parquet\u001b[0m\n",
      "│   │       │       │   ├── \u001b[00mDQ60_targets.parquet\u001b[0m\n",
      "│   │       │       │   └── \u001b[00mDQ90_targets.parquet\u001b[0m\n",
      "│   │       │       ├── \u001b[01;34mfunded_target_rates_over_time_by_flgFunded_final\u001b[0m\n",
      "│   │       │       │   └── \u001b[01;34mflgFunded==1\u001b[0m\n",
      "│   │       │       │       ├── \u001b[00mCO_targets.json\u001b[0m\n",
      "│   │       │       │       ├── \u001b[00mDQ30_targets.json\u001b[0m\n",
      "│   │       │       │       ├── \u001b[00mDQ60_targets.json\u001b[0m\n",
      "│   │       │       │       └── \u001b[00mDQ90_targets.json\u001b[0m\n",
      "│   │       │       ├── \u001b[01;34mfunded_target_rates_over_time_final\u001b[0m\n",
      "│   │       │       │   ├── \u001b[00mCO_targets.json\u001b[0m\n",
      "│   │       │       │   ├── \u001b[00mDQ30_targets.json\u001b[0m\n",
      "│   │       │       │   ├── \u001b[00mDQ60_targets.json\u001b[0m\n",
      "│   │       │       │   ├── \u001b[00mDQ90_targets.json\u001b[0m\n",
      "│   │       │       │   ├── \u001b[00mfinal_CO_m12.json\u001b[0m\n",
      "│   │       │       │   ├── \u001b[00mfinal_CO_m15.json\u001b[0m\n",
      "│   │       │       │   ├── \u001b[00mfinal_CO_m18.json\u001b[0m\n",
      "│   │       │       │   ├── \u001b[00mfinal_CO_m24.json\u001b[0m\n",
      "│   │       │       │   ├── \u001b[00mfinal_CO_m30.json\u001b[0m\n",
      "│   │       │       │   ├── \u001b[00mfinal_CO_m36.json\u001b[0m\n",
      "│   │       │       │   ├── \u001b[00mfinal_CO_m3.json\u001b[0m\n",
      "│   │       │       │   ├── \u001b[00mfinal_CO_m6.json\u001b[0m\n",
      "│   │       │       │   ├── \u001b[00mfinal_CO_m9.json\u001b[0m\n",
      "│   │       │       │   ├── \u001b[00mfinal_DQ30_m12.json\u001b[0m\n",
      "│   │       │       │   ├── \u001b[00mfinal_DQ30_m15.json\u001b[0m\n",
      "│   │       │       │   ├── \u001b[00mfinal_DQ30_m18.json\u001b[0m\n",
      "│   │       │       │   ├── \u001b[00mfinal_DQ30_m24.json\u001b[0m\n",
      "│   │       │       │   ├── \u001b[00mfinal_DQ30_m30.json\u001b[0m\n",
      "│   │       │       │   ├── \u001b[00mfinal_DQ30_m36.json\u001b[0m\n",
      "│   │       │       │   ├── \u001b[00mfinal_DQ30_m3.json\u001b[0m\n",
      "│   │       │       │   ├── \u001b[00mfinal_DQ30_m6.json\u001b[0m\n",
      "│   │       │       │   ├── \u001b[00mfinal_DQ30_m9.json\u001b[0m\n",
      "│   │       │       │   ├── \u001b[00mfinal_DQ60_m12.json\u001b[0m\n",
      "│   │       │       │   ├── \u001b[00mfinal_DQ60_m15.json\u001b[0m\n",
      "│   │       │       │   ├── \u001b[00mfinal_DQ60_m18.json\u001b[0m\n",
      "│   │       │       │   ├── \u001b[00mfinal_DQ60_m24.json\u001b[0m\n",
      "│   │       │       │   ├── \u001b[00mfinal_DQ60_m30.json\u001b[0m\n",
      "│   │       │       │   ├── \u001b[00mfinal_DQ60_m36.json\u001b[0m\n",
      "│   │       │       │   ├── \u001b[00mfinal_DQ60_m3.json\u001b[0m\n",
      "│   │       │       │   ├── \u001b[00mfinal_DQ60_m6.json\u001b[0m\n",
      "│   │       │       │   ├── \u001b[00mfinal_DQ60_m9.json\u001b[0m\n",
      "│   │       │       │   ├── \u001b[00mfinal_DQ90_m12.json\u001b[0m\n",
      "│   │       │       │   ├── \u001b[00mfinal_DQ90_m15.json\u001b[0m\n",
      "│   │       │       │   ├── \u001b[00mfinal_DQ90_m18.json\u001b[0m\n",
      "│   │       │       │   ├── \u001b[00mfinal_DQ90_m24.json\u001b[0m\n",
      "│   │       │       │   ├── \u001b[00mfinal_DQ90_m30.json\u001b[0m\n",
      "│   │       │       │   ├── \u001b[00mfinal_DQ90_m36.json\u001b[0m\n",
      "│   │       │       │   ├── \u001b[00mfinal_DQ90_m3.json\u001b[0m\n",
      "│   │       │       │   ├── \u001b[00mfinal_DQ90_m6.json\u001b[0m\n",
      "│   │       │       │   ├── \u001b[00mfinal_DQ90_m9.json\u001b[0m\n",
      "│   │       │       │   ├── \u001b[00mm12_targets.json\u001b[0m\n",
      "│   │       │       │   ├── \u001b[00mm15_targets.json\u001b[0m\n",
      "│   │       │       │   ├── \u001b[00mm18_targets.json\u001b[0m\n",
      "│   │       │       │   ├── \u001b[00mm24_targets.json\u001b[0m\n",
      "│   │       │       │   ├── \u001b[00mm30_targets.json\u001b[0m\n",
      "│   │       │       │   ├── \u001b[00mm36_targets.json\u001b[0m\n",
      "│   │       │       │   ├── \u001b[00mm3_targets.json\u001b[0m\n",
      "│   │       │       │   ├── \u001b[00mm6_targets.json\u001b[0m\n",
      "│   │       │       │   └── \u001b[00mm9_targets.json\u001b[0m\n",
      "│   │       │       ├── \u001b[00mMSO_over_time_final.json\u001b[0m\n",
      "│   │       │       ├── \u001b[00mobservations_by_target_window_final.json\u001b[0m\n",
      "│   │       │       ├── \u001b[00mtarget_comparison_final.parquet\u001b[0m\n",
      "│   │       │       ├── \u001b[01;34mtarget_missing_rates_over_time_final\u001b[0m\n",
      "│   │       │       │   ├── \u001b[00mCO_targets.json\u001b[0m\n",
      "│   │       │       │   ├── \u001b[00mDQ30_targets.json\u001b[0m\n",
      "│   │       │       │   ├── \u001b[00mDQ60_targets.json\u001b[0m\n",
      "│   │       │       │   ├── \u001b[00mDQ90_targets.json\u001b[0m\n",
      "│   │       │       │   ├── \u001b[00mfinal_CO_m12.json\u001b[0m\n",
      "│   │       │       │   ├── \u001b[00mfinal_CO_m15.json\u001b[0m\n",
      "│   │       │       │   ├── \u001b[00mfinal_CO_m18.json\u001b[0m\n",
      "│   │       │       │   ├── \u001b[00mfinal_CO_m24.json\u001b[0m\n",
      "│   │       │       │   ├── \u001b[00mfinal_CO_m30.json\u001b[0m\n",
      "│   │       │       │   ├── \u001b[00mfinal_CO_m36.json\u001b[0m\n",
      "│   │       │       │   ├── \u001b[00mfinal_CO_m3.json\u001b[0m\n",
      "│   │       │       │   ├── \u001b[00mfinal_CO_m6.json\u001b[0m\n",
      "│   │       │       │   ├── \u001b[00mfinal_CO_m9.json\u001b[0m\n",
      "│   │       │       │   ├── \u001b[00mfinal_DQ30_m12.json\u001b[0m\n",
      "│   │       │       │   ├── \u001b[00mfinal_DQ30_m15.json\u001b[0m\n",
      "│   │       │       │   ├── \u001b[00mfinal_DQ30_m18.json\u001b[0m\n",
      "│   │       │       │   ├── \u001b[00mfinal_DQ30_m24.json\u001b[0m\n",
      "│   │       │       │   ├── \u001b[00mfinal_DQ30_m30.json\u001b[0m\n",
      "│   │       │       │   ├── \u001b[00mfinal_DQ30_m36.json\u001b[0m\n",
      "│   │       │       │   ├── \u001b[00mfinal_DQ30_m3.json\u001b[0m\n",
      "│   │       │       │   ├── \u001b[00mfinal_DQ30_m6.json\u001b[0m\n",
      "│   │       │       │   ├── \u001b[00mfinal_DQ30_m9.json\u001b[0m\n",
      "│   │       │       │   ├── \u001b[00mfinal_DQ60_m12.json\u001b[0m\n",
      "│   │       │       │   ├── \u001b[00mfinal_DQ60_m15.json\u001b[0m\n",
      "│   │       │       │   ├── \u001b[00mfinal_DQ60_m18.json\u001b[0m\n",
      "│   │       │       │   ├── \u001b[00mfinal_DQ60_m24.json\u001b[0m\n",
      "│   │       │       │   ├── \u001b[00mfinal_DQ60_m30.json\u001b[0m\n",
      "│   │       │       │   ├── \u001b[00mfinal_DQ60_m36.json\u001b[0m\n",
      "│   │       │       │   ├── \u001b[00mfinal_DQ60_m3.json\u001b[0m\n",
      "│   │       │       │   ├── \u001b[00mfinal_DQ60_m6.json\u001b[0m\n",
      "│   │       │       │   ├── \u001b[00mfinal_DQ60_m9.json\u001b[0m\n",
      "│   │       │       │   ├── \u001b[00mfinal_DQ90_m12.json\u001b[0m\n",
      "│   │       │       │   ├── \u001b[00mfinal_DQ90_m15.json\u001b[0m\n",
      "│   │       │       │   ├── \u001b[00mfinal_DQ90_m18.json\u001b[0m\n",
      "│   │       │       │   ├── \u001b[00mfinal_DQ90_m24.json\u001b[0m\n",
      "│   │       │       │   ├── \u001b[00mfinal_DQ90_m30.json\u001b[0m\n",
      "│   │       │       │   ├── \u001b[00mfinal_DQ90_m36.json\u001b[0m\n",
      "│   │       │       │   ├── \u001b[00mfinal_DQ90_m3.json\u001b[0m\n",
      "│   │       │       │   ├── \u001b[00mfinal_DQ90_m6.json\u001b[0m\n",
      "│   │       │       │   ├── \u001b[00mfinal_DQ90_m9.json\u001b[0m\n",
      "│   │       │       │   ├── \u001b[00mm12_targets.json\u001b[0m\n",
      "│   │       │       │   ├── \u001b[00mm15_targets.json\u001b[0m\n",
      "│   │       │       │   ├── \u001b[00mm18_targets.json\u001b[0m\n",
      "│   │       │       │   ├── \u001b[00mm24_targets.json\u001b[0m\n",
      "│   │       │       │   ├── \u001b[00mm30_targets.json\u001b[0m\n",
      "│   │       │       │   ├── \u001b[00mm36_targets.json\u001b[0m\n",
      "│   │       │       │   ├── \u001b[00mm3_targets.json\u001b[0m\n",
      "│   │       │       │   ├── \u001b[00mm6_targets.json\u001b[0m\n",
      "│   │       │       │   └── \u001b[00mm9_targets.json\u001b[0m\n",
      "│   │       │       ├── \u001b[01;34mtarget_rates_by_final_DQ60_m24_source_final\u001b[0m\n",
      "│   │       │       │   ├── \u001b[00mCO_targets.parquet\u001b[0m\n",
      "│   │       │       │   ├── \u001b[00mDQ30_targets.parquet\u001b[0m\n",
      "│   │       │       │   ├── \u001b[00mDQ60_targets.parquet\u001b[0m\n",
      "│   │       │       │   └── \u001b[00mDQ90_targets.parquet\u001b[0m\n",
      "│   │       │       ├── \u001b[01;34mtarget_rates_over_time_by_flgFunded_final\u001b[0m\n",
      "│   │       │       │   ├── \u001b[01;34mflgFunded==0\u001b[0m\n",
      "│   │       │       │   │   ├── \u001b[00mCO_targets.json\u001b[0m\n",
      "│   │       │       │   │   ├── \u001b[00mDQ30_targets.json\u001b[0m\n",
      "│   │       │       │   │   ├── \u001b[00mDQ60_targets.json\u001b[0m\n",
      "│   │       │       │   │   └── \u001b[00mDQ90_targets.json\u001b[0m\n",
      "│   │       │       │   └── \u001b[01;34mflgFunded==1\u001b[0m\n",
      "│   │       │       │       ├── \u001b[00mCO_targets.json\u001b[0m\n",
      "│   │       │       │       ├── \u001b[00mDQ30_targets.json\u001b[0m\n",
      "│   │       │       │       ├── \u001b[00mDQ60_targets.json\u001b[0m\n",
      "│   │       │       │       └── \u001b[00mDQ90_targets.json\u001b[0m\n",
      "│   │       │       └── \u001b[01;34mtarget_rates_over_time_final\u001b[0m\n",
      "│   │       │           ├── \u001b[00mCO_targets.json\u001b[0m\n",
      "│   │       │           ├── \u001b[00mDQ30_targets.json\u001b[0m\n",
      "│   │       │           ├── \u001b[00mDQ60_targets.json\u001b[0m\n",
      "│   │       │           ├── \u001b[00mDQ90_targets.json\u001b[0m\n",
      "│   │       │           ├── \u001b[00mfinal_CO_m12.json\u001b[0m\n",
      "│   │       │           ├── \u001b[00mfinal_CO_m15.json\u001b[0m\n",
      "│   │       │           ├── \u001b[00mfinal_CO_m18.json\u001b[0m\n",
      "│   │       │           ├── \u001b[00mfinal_CO_m24.json\u001b[0m\n",
      "│   │       │           ├── \u001b[00mfinal_CO_m30.json\u001b[0m\n",
      "│   │       │           ├── \u001b[00mfinal_CO_m36.json\u001b[0m\n",
      "│   │       │           ├── \u001b[00mfinal_CO_m3.json\u001b[0m\n",
      "│   │       │           ├── \u001b[00mfinal_CO_m6.json\u001b[0m\n",
      "│   │       │           ├── \u001b[00mfinal_CO_m9.json\u001b[0m\n",
      "│   │       │           ├── \u001b[00mfinal_DQ30_m12.json\u001b[0m\n",
      "│   │       │           ├── \u001b[00mfinal_DQ30_m15.json\u001b[0m\n",
      "│   │       │           ├── \u001b[00mfinal_DQ30_m18.json\u001b[0m\n",
      "│   │       │           ├── \u001b[00mfinal_DQ30_m24.json\u001b[0m\n",
      "│   │       │           ├── \u001b[00mfinal_DQ30_m30.json\u001b[0m\n",
      "│   │       │           ├── \u001b[00mfinal_DQ30_m36.json\u001b[0m\n",
      "│   │       │           ├── \u001b[00mfinal_DQ30_m3.json\u001b[0m\n",
      "│   │       │           ├── \u001b[00mfinal_DQ30_m6.json\u001b[0m\n",
      "│   │       │           ├── \u001b[00mfinal_DQ30_m9.json\u001b[0m\n",
      "│   │       │           ├── \u001b[00mfinal_DQ60_m12.json\u001b[0m\n",
      "│   │       │           ├── \u001b[00mfinal_DQ60_m15.json\u001b[0m\n",
      "│   │       │           ├── \u001b[00mfinal_DQ60_m18.json\u001b[0m\n",
      "│   │       │           ├── \u001b[00mfinal_DQ60_m24.json\u001b[0m\n",
      "│   │       │           ├── \u001b[00mfinal_DQ60_m30.json\u001b[0m\n",
      "│   │       │           ├── \u001b[00mfinal_DQ60_m36.json\u001b[0m\n",
      "│   │       │           ├── \u001b[00mfinal_DQ60_m3.json\u001b[0m\n",
      "│   │       │           ├── \u001b[00mfinal_DQ60_m6.json\u001b[0m\n",
      "│   │       │           ├── \u001b[00mfinal_DQ60_m9.json\u001b[0m\n",
      "│   │       │           ├── \u001b[00mfinal_DQ90_m12.json\u001b[0m\n",
      "│   │       │           ├── \u001b[00mfinal_DQ90_m15.json\u001b[0m\n",
      "│   │       │           ├── \u001b[00mfinal_DQ90_m18.json\u001b[0m\n",
      "│   │       │           ├── \u001b[00mfinal_DQ90_m24.json\u001b[0m\n",
      "│   │       │           ├── \u001b[00mfinal_DQ90_m30.json\u001b[0m\n",
      "│   │       │           ├── \u001b[00mfinal_DQ90_m36.json\u001b[0m\n",
      "│   │       │           ├── \u001b[00mfinal_DQ90_m3.json\u001b[0m\n",
      "│   │       │           ├── \u001b[00mfinal_DQ90_m6.json\u001b[0m\n",
      "│   │       │           ├── \u001b[00mfinal_DQ90_m9.json\u001b[0m\n",
      "│   │       │           ├── \u001b[00mm12_targets.json\u001b[0m\n",
      "│   │       │           ├── \u001b[00mm15_targets.json\u001b[0m\n",
      "│   │       │           ├── \u001b[00mm18_targets.json\u001b[0m\n",
      "│   │       │           ├── \u001b[00mm24_targets.json\u001b[0m\n",
      "│   │       │           ├── \u001b[00mm30_targets.json\u001b[0m\n",
      "│   │       │           ├── \u001b[00mm36_targets.json\u001b[0m\n",
      "│   │       │           ├── \u001b[00mm3_targets.json\u001b[0m\n",
      "│   │       │           ├── \u001b[00mm6_targets.json\u001b[0m\n",
      "│   │       │           └── \u001b[00mm9_targets.json\u001b[0m\n",
      "│   │       └── \u001b[00mtarget_config_autoindirect.json\u001b[0m\n",
      "│   └── \u001b[01;34mraw\u001b[0m\n",
      "│       ├── \u001b[01;34mbureau\u001b[0m\n",
      "│       └── \u001b[01;34mclient\u001b[0m\n",
      "│           ├── \u001b[00marchive_period.json\u001b[0m\n",
      "│           ├── \u001b[00mbureau_config.json\u001b[0m\n",
      "│           ├── \u001b[00mclient_data_config.json\u001b[0m\n",
      "│           ├── \u001b[00mdata_3rd_party_refi_f_sent_20250523183131.csv\u001b[0m\n",
      "│           ├── \u001b[00mdata_3rd_party_refi_f_sent_20250523183131_withhasedappId.csv\u001b[0m\n",
      "│           ├── \u001b[00mflag_config.json\u001b[0m\n",
      "│           ├── \u001b[00mproduct_mapping_asset.json\u001b[0m\n",
      "│           └── \u001b[00mraw_analysis_data.csv\u001b[0m\n",
      "└── \u001b[01;34mexternal_deliverables\u001b[0m\n",
      "    ├── \u001b[01;34m20250612\u001b[0m\n",
      "    │   ├── \u001b[00mdeliverable1_data_3rd_party_refi_f_sent_withunfundedtarget_zestscore_vs4_20250612.csv\u001b[0m\n",
      "    │   ├── \u001b[00mdeliverable2_data_validation_model_evaluation_20250612.ipynb\u001b[0m\n",
      "    │   ├── \u001b[00mdeliverable3_proxy_target_part1_20250612.csv\u001b[0m\n",
      "    │   ├── \u001b[00mdeliverable4_proxy_target_waterfall_part2_20250612.csv\u001b[0m\n",
      "    │   └── \u001b[00mdeliverableList_description_20250612.docx\u001b[0m\n",
      "    ├── \u001b[01;34m20250618\u001b[0m\n",
      "    │   ├── \u001b[00mdeliverable1_data_3rd_party_refi_f_sent_withunfundedtarget_zestscore_vs4_addvar_20250618.csv\u001b[0m\n",
      "    │   ├── \u001b[00mdeliverable2_data_validation_model_evaluation_withliftchart_20250618.ipynb\u001b[0m\n",
      "    │   ├── \u001b[00mdeliverable3_proxy trade summary_20250618.xlsx\u001b[0m\n",
      "    │   ├── \u001b[00mdeliverableList_description_20250618.docx\u001b[0m\n",
      "    │   ├── \u001b[00mfeature_plots.html\u001b[0m\n",
      "    │   └── \u001b[00mmrm.html\u001b[0m\n",
      "    ├── \u001b[01;34m20250623\u001b[0m\n",
      "    │   ├── \u001b[00mdeliverable1_data_validation_model_evaluation_withliftchart_20250623.ipynb\u001b[0m\n",
      "    │   └── \u001b[00mfair_lending_report.html\u001b[0m\n",
      "    └── \u001b[01;34m20250703\u001b[0m\n",
      "        └── \u001b[00mdeliverable1_data_3rd_party_refi_f_sent_withunfundedtarget_zestscore_vs4_addvar_hashedAppID_20250703.csv\u001b[0m\n",
      "\n",
      "27 directories, 259 files\n"
     ]
    }
   ],
   "source": [
    "!tree /d/shared/silver_projects_v2/penfed/autoindirectv1/shared_data"
   ]
  },
  {
   "cell_type": "code",
   "execution_count": 116,
   "id": "118a4c0c-a4b6-4140-a099-dcd3d365d9b7",
   "metadata": {},
   "outputs": [
    {
     "name": "stderr",
     "output_type": "stream",
     "text": [
      "/tmp/ipykernel_8629/2396749495.py:1: DtypeWarning: Columns (25,46,64,65,74,75,76,126) have mixed types. Specify dtype option on import or set low_memory=False.\n",
      "  ana = pd.read_csv('/d/shared/silver_projects_v2/penfed/autoindirectv1/shared_data/equifax/raw/client/raw_analysis_data.csv').set_index('ZEST_KEY')\n"
     ]
    },
    {
     "data": {
      "text/plain": [
       "(651809, 158)"
      ]
     },
     "execution_count": 116,
     "metadata": {},
     "output_type": "execute_result"
    }
   ],
   "source": [
    "ana = pd.read_csv('/d/shared/silver_projects_v2/penfed/autoindirectv1/shared_data/equifax/raw/client/raw_analysis_data.csv').set_index('ZEST_KEY')\n",
    "ana.shape"
   ]
  },
  {
   "cell_type": "code",
   "execution_count": 132,
   "id": "4f19b106-db41-4a20-b8d6-feb5019f47bd",
   "metadata": {},
   "outputs": [
    {
     "data": {
      "text/plain": [
       "(651809, 179)"
      ]
     },
     "execution_count": 132,
     "metadata": {},
     "output_type": "execute_result"
    }
   ],
   "source": [
    "client_data = pd.read_parquet('/d/shared/silver_projects_v2/project_power/shared_data/processed/client_data/penfed_autoindirect/client_data.parquet')\n",
    "client_data.shape"
   ]
  },
  {
   "cell_type": "code",
   "execution_count": 133,
   "id": "f099802a-850e-44b6-ae8e-a46376281155",
   "metadata": {},
   "outputs": [],
   "source": [
    "client_data.loc[:, 'LTV_NORM'] = client_data['Front_End_LTV']"
   ]
  },
  {
   "cell_type": "code",
   "execution_count": 134,
   "id": "3eca98d7-bf89-4a68-a788-cf1336182593",
   "metadata": {},
   "outputs": [
    {
     "data": {
      "text/plain": [
       "(651809, 180)"
      ]
     },
     "execution_count": 134,
     "metadata": {},
     "output_type": "execute_result"
    }
   ],
   "source": [
    "client_data.shape"
   ]
  },
  {
   "cell_type": "code",
   "execution_count": 136,
   "id": "529116f0-346a-4828-b1e1-6cdcc21b4381",
   "metadata": {},
   "outputs": [],
   "source": [
    "client_data.to_parquet('/d/shared/silver_projects_v2/project_power/shared_data/processed/client_data/penfed_autoindirect/client_data_withLTV.parquet')"
   ]
  },
  {
   "cell_type": "code",
   "execution_count": 130,
   "id": "fa1b39ad-8ecb-4c80-9447-d56f8548ff01",
   "metadata": {},
   "outputs": [
    {
     "data": {
      "text/plain": [
       "ZEST_KEY\n",
       "70354826_1_229_22    80.09\n",
       "Name: Front_End_LTV, dtype: float64"
      ]
     },
     "execution_count": 130,
     "metadata": {},
     "output_type": "execute_result"
    }
   ],
   "source": [
    "ana[ana.index =='70354826_1_229_22'].Front_End_LTV"
   ]
  },
  {
   "cell_type": "code",
   "execution_count": 97,
   "id": "e99e971e-48a9-4119-b7d5-7a7ba8882d8e",
   "metadata": {},
   "outputs": [
    {
     "data": {
      "text/plain": [
       "(651813, 12)"
      ]
     },
     "execution_count": 97,
     "metadata": {},
     "output_type": "execute_result"
    }
   ],
   "source": [
    "penfed_target.shape"
   ]
  },
  {
   "cell_type": "code",
   "execution_count": 98,
   "id": "da923739-ca44-401c-b06a-3b5d44710a1a",
   "metadata": {},
   "outputs": [
    {
     "data": {
      "text/plain": [
       "651813"
      ]
     },
     "execution_count": 98,
     "metadata": {},
     "output_type": "execute_result"
    }
   ],
   "source": [
    "penfed_target.index.nunique()"
   ]
  },
  {
   "cell_type": "code",
   "execution_count": null,
   "id": "bfb48236-11a2-434b-ae46-da3b588f39a8",
   "metadata": {},
   "outputs": [],
   "source": []
  }
 ],
 "metadata": {
  "kernelspec": {
   "display_name": "penfed_modeling",
   "language": "python",
   "name": "penfed_modeling"
  },
  "language_info": {
   "codemirror_mode": {
    "name": "ipython",
    "version": 3
   },
   "file_extension": ".py",
   "mimetype": "text/x-python",
   "name": "python",
   "nbconvert_exporter": "python",
   "pygments_lexer": "ipython3",
   "version": "3.10.8"
  },
  "widgets": {
   "application/vnd.jupyter.widget-state+json": {
    "state": {},
    "version_major": 2,
    "version_minor": 0
   }
  }
 },
 "nbformat": 4,
 "nbformat_minor": 5
}
