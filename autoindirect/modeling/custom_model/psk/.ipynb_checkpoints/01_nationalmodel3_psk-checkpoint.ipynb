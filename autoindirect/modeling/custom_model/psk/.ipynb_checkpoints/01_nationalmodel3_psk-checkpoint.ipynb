{
 "cells": [
  {
   "cell_type": "markdown",
   "metadata": {},
   "source": [
    "# National Model 5\n",
    "\n",
    "- Equifax, TU, Experian National model \n",
    "- Features selection on PenFed data + Org data model - clientmodel4a\n",
    "- Updated time split on Equifax\n",
    "    - Training: 2016-04-01 to 2020-12-31\n",
    "    - Valid: 2021-01-01 to 2021-03-31"
   ]
  },
  {
   "cell_type": "markdown",
   "metadata": {},
   "source": [
    "The notebook covers all three steps for creatign a new national model; feature selection, validation model and fold-in model. depending on the applied use case, not each step may be necessary (e.g., if the feature selection does not change compaed to the previous interation, step 1 may be skipped, etc."
   ]
  },
  {
   "cell_type": "code",
   "execution_count": 1,
   "metadata": {},
   "outputs": [
    {
     "data": {
      "text/plain": [
       "'v1.13.1'"
      ]
     },
     "execution_count": 1,
     "metadata": {},
     "output_type": "execute_result"
    }
   ],
   "source": [
    "import pandas as pd\n",
    "import numpy as np\n",
    "\n",
    "import model_engine\n",
    "model_engine.__version__"
   ]
  },
  {
   "cell_type": "code",
   "execution_count": 2,
   "metadata": {},
   "outputs": [
    {
     "name": "stderr",
     "output_type": "stream",
     "text": [
      "WARNING:py.warnings:Setuptools is replacing distutils. Support for replacing an already imported distutils is deprecated. In the future, this condition will fail. Register concerns at https://github.com/pypa/setuptools/issues/new?template=distutils-deprecation.yml\n",
      "\n"
     ]
    }
   ],
   "source": [
    "from model_engine.power.post_sale import NationalModelBuilder\n",
    "from model_engine.io.loaders import load_json\n",
    "\n",
    "import json"
   ]
  },
  {
   "cell_type": "code",
   "execution_count": 3,
   "metadata": {},
   "outputs": [
    {
     "name": "stdout",
     "output_type": "stream",
     "text": [
      "20\n"
     ]
    }
   ],
   "source": [
    "import os\n",
    "import numba as nb\n",
    "n_jobs = os.getenv('CPU_LIMIT', default=-1)\n",
    "n_jobs = 20\n",
    "print(n_jobs)\n",
    "nb.set_num_threads(n_jobs)"
   ]
  },
  {
   "cell_type": "code",
   "execution_count": 4,
   "metadata": {},
   "outputs": [],
   "source": [
    "%load_ext autoreload\n",
    "%autoreload 2"
   ]
  },
  {
   "cell_type": "code",
   "execution_count": 5,
   "metadata": {
    "scrolled": true
   },
   "outputs": [
    {
     "name": "stdout",
     "output_type": "stream",
     "text": [
      "penfed autoloan normalized standard_model_member_data\n"
     ]
    }
   ],
   "source": [
    "input_client_name = 'penfed'\n",
    "input_project_name = 'autoloan'\n",
    "input_bureau_name = 'normalized'\n",
    "model_type = 'standard_model_member_data' # options are 'standard_model', 'mega_model', 'standard_model_member_data', 'standard_model_ln_data', ''- None defaults to 'standard_model'\n",
    "\n",
    "print(input_client_name, input_project_name, input_bureau_name, model_type)\n"
   ]
  },
  {
   "cell_type": "markdown",
   "metadata": {},
   "source": [
    "## Create a national model given pre-selected features"
   ]
  },
  {
   "cell_type": "code",
   "execution_count": 6,
   "metadata": {},
   "outputs": [],
   "source": [
    "# client' feature selection model\n",
    "\n",
    "feature_selection_model_id = 'clientmodel4a'"
   ]
  },
  {
   "cell_type": "code",
   "execution_count": 7,
   "metadata": {},
   "outputs": [
    {
     "data": {
      "text/plain": [
       "'/d/shared/silver_projects_v2/penfed/autoindirectv1/modeling/clientmodel4a'"
      ]
     },
     "execution_count": 7,
     "metadata": {},
     "output_type": "execute_result"
    }
   ],
   "source": [
    "feature_selection_model_output_path = f'/d/shared/silver_projects_v2/penfed/autoindirectv1/modeling/{feature_selection_model_id}'\n",
    "feature_selection_model_output_path"
   ]
  },
  {
   "cell_type": "code",
   "execution_count": 8,
   "metadata": {},
   "outputs": [
    {
     "data": {
      "text/plain": [
       "[]"
      ]
     },
     "execution_count": 8,
     "metadata": {},
     "output_type": "execute_result"
    }
   ],
   "source": [
    "keep_features = json.load(open(os.path.join(feature_selection_model_output_path, 'keep_features.json')))\n",
    "keep_features.pop('client_data')"
   ]
  },
  {
   "cell_type": "code",
   "execution_count": 9,
   "metadata": {},
   "outputs": [
    {
     "data": {
      "text/plain": [
       "dict_keys(['trade', 'inq', 'collec', 'bnkr', 'member'])"
      ]
     },
     "execution_count": 9,
     "metadata": {},
     "output_type": "execute_result"
    }
   ],
   "source": [
    "keep_features.keys()"
   ]
  },
  {
   "cell_type": "code",
   "execution_count": 10,
   "metadata": {},
   "outputs": [],
   "source": [
    "with open(os.path.join(feature_selection_model_output_path, 'keep_features_national_model.json'), \"w\") as json_file:\n",
    "    json.dump(keep_features, json_file, indent=4)"
   ]
  },
  {
   "cell_type": "code",
   "execution_count": 11,
   "metadata": {},
   "outputs": [
    {
     "data": {
      "text/plain": [
       "'/d/shared/silver_projects_v2/penfed/autoindirectv1/modeling/clientmodel4a/keep_features_national_model.json'"
      ]
     },
     "execution_count": 11,
     "metadata": {},
     "output_type": "execute_result"
    }
   ],
   "source": [
    "os.path.join(feature_selection_model_output_path, 'keep_features_national_model.json')"
   ]
  },
  {
   "cell_type": "code",
   "execution_count": 13,
   "metadata": {},
   "outputs": [
    {
     "data": {
      "text/plain": [
       "'/d/shared/silver_projects_v2/penfed/autoindirectv1/modeling/nationalmodels/nationalmodel4'"
      ]
     },
     "execution_count": 13,
     "metadata": {},
     "output_type": "execute_result"
    }
   ],
   "source": [
    "national_model_id = 'nationalmodel4'\n",
    "national_model_output_path = f'/d/shared/silver_projects_v2/penfed/autoindirectv1/modeling/nationalmodels/{national_model_id}'\n",
    "national_model_output_path"
   ]
  },
  {
   "cell_type": "code",
   "execution_count": 14,
   "metadata": {},
   "outputs": [],
   "source": [
    "config = {\n",
    "  \"model_type\": \"standard_model\",\n",
    "  \"storage_location\": \"s3\",\n",
    "  \"lookalike\": {\n",
    "    \"bureau\": \"normalized\",\n",
    "    \"accounts\":[\n",
    "      \"auto\"\n",
    "    ],\n",
    "    \"splits\": [\n",
    "      \"train\",\n",
    "      \"valid\",\n",
    "      \"test\"\n",
    "    ],\n",
    "    \"pull_names\": None,\n",
    "    \"states\": None,\n",
    "    \"max_row\": None,\n",
    "    \"tables\": ['trade', 'inq', 'bnkr', 'collec', 'target', 'app', 'member'],\n",
    "  },\n",
    "  \"model_config\": {\n",
    "      \"data_split\": {\n",
    "          \"train\": {\n",
    "            \"start_date\": \"2016-04-01\",\n",
    "            \"end_date\": \"2021-01-01\"\n",
    "          },\n",
    "          \"valid\": {\n",
    "            \"start_date\": \"2021-01-01\",\n",
    "            \"end_date\": \"2021-04-01\"\n",
    "          },\n",
    "          \"test\": {\n",
    "            \"start_date\": \"2021-04-01\",\n",
    "            \"end_date\": \"2022-01-01\"\n",
    "          }\n",
    "    },\n",
    "    \"target\": \"final_DQ60_m24\",\n",
    "    \"base_features\": f\"/d/shared/silver_projects_v2/penfed/autoindirectv1/modeling/{feature_selection_model_id}/keep_features_national_model.json\",\n",
    "#    \"feature_filter_rules\": \"/home/lyt/CODEBASE/model-engine_penfed/model-engine/model_engine/assets/power/feature_rules/intuitive_features.json\",\n",
    "    \"memory_efficient\": True,\n",
    "    \"pipeline_factory\": None,\n",
    "    \"bivariate_fe_instructions\": [],\n",
    "    \"monotonic_constraints_list\": [],\n",
    "    \"exclusion_list\": [],\n",
    "    \"feature_definition_list\": [],\n",
    "    \"key_factor_mapping_list\": [],\n",
    "    \"fold_valid\": True,\n",
    "    \"mandatory_features\": []\n",
    "  }\n",
    "}"
   ]
  },
  {
   "cell_type": "code",
   "execution_count": null,
   "metadata": {},
   "outputs": [
    {
     "name": "stdout",
     "output_type": "stream",
     "text": [
      "Attempting to create a national model with full data split here /d/shared/silver_projects_v2/penfed/autoindirectv1/modeling/nationalmodels/nationalmodel4/supporting_model\n",
      "Sampling experian, national_1.3\n"
     ]
    }
   ],
   "source": [
    "nmb = NationalModelBuilder(\n",
    "    configuration=config,\n",
    "    model_output_path=national_model_output_path,\n",
    "    overwrite_model_output=True\n",
    ")\n",
    "nmb.run()"
   ]
  },
  {
   "cell_type": "code",
   "execution_count": null,
   "metadata": {},
   "outputs": [],
   "source": [
    "ftr_importance = pd.read_parquet(os.path.join(feature_selection_model_output_path, 'feature_importance.parquet'))\n",
    "ftr_importance.shape"
   ]
  },
  {
   "cell_type": "code",
   "execution_count": null,
   "metadata": {},
   "outputs": [],
   "source": [
    "ftr_importance = pd.read_parquet(os.path.join(national_model_output_path, 'feature_importance.parquet'))\n",
    "ftr_importance.shape"
   ]
  },
  {
   "cell_type": "code",
   "execution_count": null,
   "metadata": {},
   "outputs": [],
   "source": [
    "scoreFiles = []\n",
    "\n",
    "for j in ['_auc.json','_ks.json']:\n",
    "    for i in ['train', 'test']:\n",
    "        scoreFiles.append(i+j)\n",
    "        \n",
    "scoreFiles_model = {}\n",
    "for i in scoreFiles:\n",
    "    name = i.split('.')[0]\n",
    "    # print(name)\n",
    "    scoreFiles_model[name] = json.load(open(os.path.join(national_model_output_path, i), 'rb'))\n",
    "\n",
    "\n",
    "for i in scoreFiles_model:\n",
    "    print(i, scoreFiles_model[i])"
   ]
  },
  {
   "cell_type": "code",
   "execution_count": null,
   "metadata": {},
   "outputs": [],
   "source": []
  }
 ],
 "metadata": {
  "kernelspec": {
   "display_name": "kernel_penfed",
   "language": "python",
   "name": "penfed_env"
  },
  "language_info": {
   "codemirror_mode": {
    "name": "ipython",
    "version": 3
   },
   "file_extension": ".py",
   "mimetype": "text/x-python",
   "name": "python",
   "nbconvert_exporter": "python",
   "pygments_lexer": "ipython3",
   "version": "3.10.8"
  },
  "widgets": {
   "application/vnd.jupyter.widget-state+json": {
    "state": {},
    "version_major": 2,
    "version_minor": 0
   }
  }
 },
 "nbformat": 4,
 "nbformat_minor": 4
}
